{
 "cells": [
  {
   "cell_type": "code",
   "execution_count": 1,
   "metadata": {},
   "outputs": [],
   "source": [
    "import os\n",
    "import sys\n",
    "import pandas as pd\n",
    "sys.path.append(\"../ixf2json/\")\n",
    "import ixf2json\n",
    "\n",
    "import pyodbc\n",
    "import json\n",
    "import sqlalchemy as sa"
   ]
  },
  {
   "cell_type": "code",
   "execution_count": 2,
   "metadata": {},
   "outputs": [
    {
     "data": {
      "text/html": [
       "<style>.container { width:95% !important; }</style>"
      ],
      "text/plain": [
       "<IPython.core.display.HTML object>"
      ]
     },
     "metadata": {},
     "output_type": "display_data"
    }
   ],
   "source": [
    "from IPython.core.display import display, HTML, Markdown\n",
    "display(HTML(\"<style>.container { width:95% !important; }</style>\"))"
   ]
  },
  {
   "cell_type": "code",
   "execution_count": 3,
   "metadata": {},
   "outputs": [],
   "source": [
    "# # Uncomment and run these shell commands to download and extract the sample database files\n",
    "# ! wget ftp://ftp.software.ibm.com/software/data/sample/GSDB_DB2_LUW_ZOS_v2r3.zip -P ../ \n",
    "# ! unzip ../GSDB_DB2_LUW_ZOS_v2r3.zip -d ../"
   ]
  },
  {
   "cell_type": "code",
   "execution_count": 4,
   "metadata": {
    "scrolled": true
   },
   "outputs": [
    {
     "data": {
      "text/plain": [
       "['example_notebooks',\n",
       " 'json_data',\n",
       " 'README.md',\n",
       " '.gitignore',\n",
       " 'ixf2json',\n",
       " '.ipynb_checkpoints',\n",
       " 'DB2',\n",
       " 'environment.yaml',\n",
       " '.git',\n",
       " 'cp4d-mortgage-artifacts',\n",
       " 'creds']"
      ]
     },
     "execution_count": 4,
     "metadata": {},
     "output_type": "execute_result"
    }
   ],
   "source": [
    "os.listdir(\"..\")"
   ]
  },
  {
   "cell_type": "code",
   "execution_count": 4,
   "metadata": {
    "scrolled": true
   },
   "outputs": [],
   "source": [
    "# os.listdir(\"../json_data/\")"
   ]
  },
  {
   "cell_type": "code",
   "execution_count": 22,
   "metadata": {},
   "outputs": [],
   "source": [
    "log = {\n",
    "    \"json_conversion_success\": [],\n",
    "    \"file_name_errors\": [], \n",
    "    \"file_conversion_errors\": [],\n",
    "    \"file_extension_errors\": [],\n",
    "    \"json_read_errors\": [],\n",
    "    \"sql_insert_errors\": []\n",
    "    }\n"
   ]
  },
  {
   "cell_type": "code",
   "execution_count": 5,
   "metadata": {},
   "outputs": [],
   "source": [
    "log = {\n",
    "    \"json_conversion_success\": [],\n",
    "    \"file_name_errors\": [], \n",
    "    \"file_conversion_errors\": [],\n",
    "    \"file_extension_errors\": [],\n",
    "    \"json_read_errors\": [],\n",
    "    \"sql_insert_errors\": []\n",
    "    }\n",
    "\n",
    "def convert_ixf():\n",
    "    for file in sorted(os.listdir(\"../DB2/data\")):\n",
    "        file_list = file.split(\".\")\n",
    "        if len(file_list) > 2:\n",
    "            print(\"file name error: \", file)\n",
    "            log[\"file_name_errors\"].append(file)\n",
    "        else:\n",
    "            filename = file_list[0]\n",
    "            extension = file_list[-1]\n",
    "            if extension != \"ixf\":\n",
    "                print(\"file extension error: \", file)\n",
    "                log[\"file_extension_errors\"].append(file)\n",
    "            else:\n",
    "                try:\n",
    "                    ixf2json.convert(f'../DB2/data/{file}', f'../json_data/{filename}.json')\n",
    "                    log[\"json_conversion_success\"].append(file)\n",
    "                except Exception as e:\n",
    "                    log[\"file_conversion_errors\"].append({\"file\": file, \"error_mssg\": str(e)})\n",
    "                    pass\n",
    "        \n",
    "    with open(\"log.json\", \"w\") as f:\n",
    "        json.dump(log, f)"
   ]
  },
  {
   "cell_type": "code",
   "execution_count": 6,
   "metadata": {
    "scrolled": false
   },
   "outputs": [
    {
     "name": "stdout",
     "output_type": "stream",
     "text": [
      "file extension error:  EXPORT.out\n",
      "file extension error:  GOSALES_VERSION.txt\n",
      "file extension error:  db2move.lst\n",
      "file extension error:  gsdb_constraints.sql\n",
      "file extension error:  gsdb_readme.txt\n",
      "file name error:  tab110a.001.xml\n",
      "file name error:  tab9a.001.lob\n"
     ]
    }
   ],
   "source": [
    "convert_ixf()"
   ]
  },
  {
   "cell_type": "code",
   "execution_count": 15,
   "metadata": {},
   "outputs": [],
   "source": [
    "with open('log.json', 'r') as f:\n",
    "     log = json.load(f)"
   ]
  },
  {
   "cell_type": "code",
   "execution_count": 16,
   "metadata": {
    "scrolled": true
   },
   "outputs": [
    {
     "data": {
      "text/plain": [
       "dict_keys(['json_conversion_success', 'file_name_errors', 'file_conversion_errors', 'file_extension_errors', 'json_read_errors', 'sql_insert_errors'])"
      ]
     },
     "execution_count": 16,
     "metadata": {},
     "output_type": "execute_result"
    }
   ],
   "source": [
    "log.keys()"
   ]
  },
  {
   "cell_type": "code",
   "execution_count": 17,
   "metadata": {},
   "outputs": [
    {
     "data": {
      "text/plain": [
       "[]"
      ]
     },
     "execution_count": 17,
     "metadata": {},
     "output_type": "execute_result"
    }
   ],
   "source": [
    "log[\"file_name_errors\"]"
   ]
  },
  {
   "cell_type": "code",
   "execution_count": 18,
   "metadata": {},
   "outputs": [
    {
     "data": {
      "text/plain": [
       "0"
      ]
     },
     "execution_count": 18,
     "metadata": {},
     "output_type": "execute_result"
    }
   ],
   "source": [
    "len(log[\"json_conversion_success\"])"
   ]
  },
  {
   "cell_type": "code",
   "execution_count": 19,
   "metadata": {},
   "outputs": [
    {
     "data": {
      "text/plain": [
       "[]"
      ]
     },
     "execution_count": 19,
     "metadata": {},
     "output_type": "execute_result"
    }
   ],
   "source": [
    "log[\"file_conversion_errors\"]"
   ]
  },
  {
   "cell_type": "code",
   "execution_count": 20,
   "metadata": {
    "scrolled": true
   },
   "outputs": [],
   "source": [
    "json_tables = os.listdir(\"../json_data/\")"
   ]
  },
  {
   "cell_type": "code",
   "execution_count": 13,
   "metadata": {
    "scrolled": true
   },
   "outputs": [],
   "source": [
    "ixf_tables = os.listdir(\"../DB2/data\")"
   ]
  },
  {
   "cell_type": "code",
   "execution_count": 14,
   "metadata": {},
   "outputs": [
    {
     "data": {
      "text/plain": [
       "158"
      ]
     },
     "execution_count": 14,
     "metadata": {},
     "output_type": "execute_result"
    }
   ],
   "source": [
    "len(ixf_tables)"
   ]
  },
  {
   "cell_type": "code",
   "execution_count": 15,
   "metadata": {
    "scrolled": true
   },
   "outputs": [
    {
     "data": {
      "text/plain": [
       "151"
      ]
     },
     "execution_count": 15,
     "metadata": {},
     "output_type": "execute_result"
    }
   ],
   "source": [
    "len(json_tables)"
   ]
  },
  {
   "cell_type": "code",
   "execution_count": 16,
   "metadata": {
    "scrolled": false
   },
   "outputs": [],
   "source": [
    "for record in log[\"file_conversion_errors\"]:\n",
    "    file_lst = record[\"file\"].split(\".\")\n",
    "    extension = file_lst[-1]\n",
    "\n",
    "    if extension == \"ixf\":\n",
    "        filename = file_lst[0]\n",
    "        print(filename)\n",
    "        with open(f\"../json_data/{filename}.json\", \"r\") as f:\n",
    "            json_obj = json.load(f)\n",
    "        print(filename, len(json_obj))"
   ]
  },
  {
   "cell_type": "markdown",
   "metadata": {},
   "source": [
    "## Parsing list that maps filenames to table/schema names"
   ]
  },
  {
   "cell_type": "code",
   "execution_count": 5,
   "metadata": {},
   "outputs": [],
   "source": [
    "ref_lst = []\n",
    "\n",
    "schema_set = set()\n",
    "\n",
    "with open(\"../DB2/data/db2move.lst\", \"r\") as f:\n",
    "    for line in f.readlines():\n",
    "        lst = line.split(\"!\")\n",
    "        schema, table = lst[1].split(\".\")\n",
    "        schema = schema.replace('\"', '' ).strip()\n",
    "        table = table.replace('\"', '' ).strip()\n",
    "        file = lst[2]\n",
    "        filename = lst[2].split(\".\")[0]\n",
    "        result = dict(\n",
    "            schema=schema,\n",
    "            table=table,\n",
    "            file=file,\n",
    "            filename=filename\n",
    "        )\n",
    "        schema_set.add(schema)\n",
    "        ref_lst.append(result)"
   ]
  },
  {
   "cell_type": "code",
   "execution_count": 6,
   "metadata": {},
   "outputs": [],
   "source": [
    "ref_df = pd.DataFrame(ref_lst)"
   ]
  },
  {
   "cell_type": "code",
   "execution_count": 7,
   "metadata": {},
   "outputs": [
    {
     "data": {
      "text/plain": [
       "(151, 4)"
      ]
     },
     "execution_count": 7,
     "metadata": {},
     "output_type": "execute_result"
    }
   ],
   "source": [
    "ref_df.shape"
   ]
  },
  {
   "cell_type": "code",
   "execution_count": 8,
   "metadata": {
    "scrolled": true
   },
   "outputs": [
    {
     "data": {
      "text/html": [
       "<div>\n",
       "<style scoped>\n",
       "    .dataframe tbody tr th:only-of-type {\n",
       "        vertical-align: middle;\n",
       "    }\n",
       "\n",
       "    .dataframe tbody tr th {\n",
       "        vertical-align: top;\n",
       "    }\n",
       "\n",
       "    .dataframe thead th {\n",
       "        text-align: right;\n",
       "    }\n",
       "</style>\n",
       "<table border=\"1\" class=\"dataframe\">\n",
       "  <thead>\n",
       "    <tr style=\"text-align: right;\">\n",
       "      <th></th>\n",
       "      <th>schema</th>\n",
       "      <th>table</th>\n",
       "      <th>file</th>\n",
       "      <th>filename</th>\n",
       "    </tr>\n",
       "  </thead>\n",
       "  <tbody>\n",
       "    <tr>\n",
       "      <th>0</th>\n",
       "      <td>GOSALESRT</td>\n",
       "      <td>ACTIVITY_STATUS_LOOKUP</td>\n",
       "      <td>tab1.ixf</td>\n",
       "      <td>tab1</td>\n",
       "    </tr>\n",
       "    <tr>\n",
       "      <th>1</th>\n",
       "      <td>GOSALES</td>\n",
       "      <td>BRANCH</td>\n",
       "      <td>tab2.ixf</td>\n",
       "      <td>tab2</td>\n",
       "    </tr>\n",
       "    <tr>\n",
       "      <th>2</th>\n",
       "      <td>GOSALES</td>\n",
       "      <td>CONVERSION_RATE</td>\n",
       "      <td>tab3.ixf</td>\n",
       "      <td>tab3</td>\n",
       "    </tr>\n",
       "    <tr>\n",
       "      <th>3</th>\n",
       "      <td>GOSALES</td>\n",
       "      <td>COUNTRY</td>\n",
       "      <td>tab4.ixf</td>\n",
       "      <td>tab4</td>\n",
       "    </tr>\n",
       "    <tr>\n",
       "      <th>4</th>\n",
       "      <td>GOSALES</td>\n",
       "      <td>CURRENCY_LOOKUP</td>\n",
       "      <td>tab5.ixf</td>\n",
       "      <td>tab5</td>\n",
       "    </tr>\n",
       "  </tbody>\n",
       "</table>\n",
       "</div>"
      ],
      "text/plain": [
       "      schema                   table      file filename\n",
       "0  GOSALESRT  ACTIVITY_STATUS_LOOKUP  tab1.ixf     tab1\n",
       "1    GOSALES                  BRANCH  tab2.ixf     tab2\n",
       "2    GOSALES         CONVERSION_RATE  tab3.ixf     tab3\n",
       "3    GOSALES                 COUNTRY  tab4.ixf     tab4\n",
       "4    GOSALES         CURRENCY_LOOKUP  tab5.ixf     tab5"
      ]
     },
     "execution_count": 8,
     "metadata": {},
     "output_type": "execute_result"
    }
   ],
   "source": [
    "ref_df.head()"
   ]
  },
  {
   "cell_type": "code",
   "execution_count": 9,
   "metadata": {},
   "outputs": [],
   "source": [
    "json_tables = os.listdir(\"../json_data/\")"
   ]
  },
  {
   "cell_type": "code",
   "execution_count": 10,
   "metadata": {
    "scrolled": true
   },
   "outputs": [],
   "source": [
    "json_tables.sort(key=lambda x: int(x.strip(\"tab\").strip(\".json\")))"
   ]
  },
  {
   "cell_type": "code",
   "execution_count": 11,
   "metadata": {},
   "outputs": [
    {
     "data": {
      "text/plain": [
       "151"
      ]
     },
     "execution_count": 11,
     "metadata": {},
     "output_type": "execute_result"
    }
   ],
   "source": [
    "len(json_tables)"
   ]
  },
  {
   "cell_type": "code",
   "execution_count": 12,
   "metadata": {},
   "outputs": [
    {
     "data": {
      "text/plain": [
       "{'GOSALES', 'GOSALESCT', 'GOSALESDW', 'GOSALESHR', 'GOSALESMR', 'GOSALESRT'}"
      ]
     },
     "execution_count": 12,
     "metadata": {},
     "output_type": "execute_result"
    }
   ],
   "source": [
    "schema_set"
   ]
  },
  {
   "cell_type": "code",
   "execution_count": 13,
   "metadata": {},
   "outputs": [
    {
     "data": {
      "text/html": [
       "<div>\n",
       "<style scoped>\n",
       "    .dataframe tbody tr th:only-of-type {\n",
       "        vertical-align: middle;\n",
       "    }\n",
       "\n",
       "    .dataframe tbody tr th {\n",
       "        vertical-align: top;\n",
       "    }\n",
       "\n",
       "    .dataframe thead th {\n",
       "        text-align: right;\n",
       "    }\n",
       "</style>\n",
       "<table border=\"1\" class=\"dataframe\">\n",
       "  <thead>\n",
       "    <tr style=\"text-align: right;\">\n",
       "      <th></th>\n",
       "      <th>schema</th>\n",
       "      <th>table</th>\n",
       "      <th>file</th>\n",
       "      <th>filename</th>\n",
       "    </tr>\n",
       "  </thead>\n",
       "  <tbody>\n",
       "    <tr>\n",
       "      <th>0</th>\n",
       "      <td>GOSALESRT</td>\n",
       "      <td>ACTIVITY_STATUS_LOOKUP</td>\n",
       "      <td>tab1.ixf</td>\n",
       "      <td>tab1</td>\n",
       "    </tr>\n",
       "    <tr>\n",
       "      <th>1</th>\n",
       "      <td>GOSALES</td>\n",
       "      <td>BRANCH</td>\n",
       "      <td>tab2.ixf</td>\n",
       "      <td>tab2</td>\n",
       "    </tr>\n",
       "    <tr>\n",
       "      <th>2</th>\n",
       "      <td>GOSALES</td>\n",
       "      <td>CONVERSION_RATE</td>\n",
       "      <td>tab3.ixf</td>\n",
       "      <td>tab3</td>\n",
       "    </tr>\n",
       "    <tr>\n",
       "      <th>3</th>\n",
       "      <td>GOSALES</td>\n",
       "      <td>COUNTRY</td>\n",
       "      <td>tab4.ixf</td>\n",
       "      <td>tab4</td>\n",
       "    </tr>\n",
       "    <tr>\n",
       "      <th>4</th>\n",
       "      <td>GOSALES</td>\n",
       "      <td>CURRENCY_LOOKUP</td>\n",
       "      <td>tab5.ixf</td>\n",
       "      <td>tab5</td>\n",
       "    </tr>\n",
       "    <tr>\n",
       "      <th>...</th>\n",
       "      <td>...</td>\n",
       "      <td>...</td>\n",
       "      <td>...</td>\n",
       "      <td>...</td>\n",
       "    </tr>\n",
       "    <tr>\n",
       "      <th>146</th>\n",
       "      <td>GOSALES</td>\n",
       "      <td>TIME_QUARTER_LOOKUP</td>\n",
       "      <td>tab147.ixf</td>\n",
       "      <td>tab147</td>\n",
       "    </tr>\n",
       "    <tr>\n",
       "      <th>147</th>\n",
       "      <td>GOSALESHR</td>\n",
       "      <td>TRAINING</td>\n",
       "      <td>tab148.ixf</td>\n",
       "      <td>tab148</td>\n",
       "    </tr>\n",
       "    <tr>\n",
       "      <th>148</th>\n",
       "      <td>GOSALESHR</td>\n",
       "      <td>TRAINING_DETAILS</td>\n",
       "      <td>tab149.ixf</td>\n",
       "      <td>tab149</td>\n",
       "    </tr>\n",
       "    <tr>\n",
       "      <th>149</th>\n",
       "      <td>GOSALES</td>\n",
       "      <td>XGOREV</td>\n",
       "      <td>tab150.ixf</td>\n",
       "      <td>tab150</td>\n",
       "    </tr>\n",
       "    <tr>\n",
       "      <th>150</th>\n",
       "      <td>GOSALESDW</td>\n",
       "      <td>XGOREV</td>\n",
       "      <td>tab151.ixf</td>\n",
       "      <td>tab151</td>\n",
       "    </tr>\n",
       "  </tbody>\n",
       "</table>\n",
       "<p>151 rows × 4 columns</p>\n",
       "</div>"
      ],
      "text/plain": [
       "        schema                   table        file filename\n",
       "0    GOSALESRT  ACTIVITY_STATUS_LOOKUP    tab1.ixf     tab1\n",
       "1      GOSALES                  BRANCH    tab2.ixf     tab2\n",
       "2      GOSALES         CONVERSION_RATE    tab3.ixf     tab3\n",
       "3      GOSALES                 COUNTRY    tab4.ixf     tab4\n",
       "4      GOSALES         CURRENCY_LOOKUP    tab5.ixf     tab5\n",
       "..         ...                     ...         ...      ...\n",
       "146    GOSALES     TIME_QUARTER_LOOKUP  tab147.ixf   tab147\n",
       "147  GOSALESHR                TRAINING  tab148.ixf   tab148\n",
       "148  GOSALESHR        TRAINING_DETAILS  tab149.ixf   tab149\n",
       "149    GOSALES                  XGOREV  tab150.ixf   tab150\n",
       "150  GOSALESDW                  XGOREV  tab151.ixf   tab151\n",
       "\n",
       "[151 rows x 4 columns]"
      ]
     },
     "execution_count": 13,
     "metadata": {},
     "output_type": "execute_result"
    }
   ],
   "source": [
    "ref_df"
   ]
  },
  {
   "cell_type": "markdown",
   "metadata": {},
   "source": [
    "## Read in JSONs into pandas, display and record metadata, log errors"
   ]
  },
  {
   "cell_type": "code",
   "execution_count": 23,
   "metadata": {},
   "outputs": [
    {
     "data": {
      "text/markdown": [
       "#### Error reading file tab110.json"
      ],
      "text/plain": [
       "<IPython.core.display.Markdown object>"
      ]
     },
     "metadata": {},
     "output_type": "display_data"
    }
   ],
   "source": [
    "ref_df[\"col_count\"] = pd.NA\n",
    "ref_df[\"row_count\"] = pd.NA\n",
    "\n",
    "for json_table in json_tables:\n",
    "    filename = json_table.split(\".\")[0]\n",
    "#     display(Markdown(f\"### {filename}\"))\n",
    "    try:\n",
    "        df = pd.read_json(f\"../json_data/{json_table}\", lines=False)\n",
    "        row_ct, col_ct = df.shape\n",
    "#         display(Markdown(f\"#### Size: {df_shape}\"))\n",
    "        ref_df.loc[ref_df[\"filename\"] == filename, [\"row_count\"]] = row_ct\n",
    "        ref_df.loc[ref_df[\"filename\"] == filename, [\"col_count\"]] = col_ct\n",
    "\n",
    "    except:\n",
    "        display(Markdown(f\"#### Error reading file {json_table}\"))\n",
    "        log[\"json_read_errors\"].append(json_table)\n",
    "        pass"
   ]
  },
  {
   "cell_type": "code",
   "execution_count": 24,
   "metadata": {},
   "outputs": [
    {
     "data": {
      "text/html": [
       "<div>\n",
       "<style scoped>\n",
       "    .dataframe tbody tr th:only-of-type {\n",
       "        vertical-align: middle;\n",
       "    }\n",
       "\n",
       "    .dataframe tbody tr th {\n",
       "        vertical-align: top;\n",
       "    }\n",
       "\n",
       "    .dataframe thead th {\n",
       "        text-align: right;\n",
       "    }\n",
       "</style>\n",
       "<table border=\"1\" class=\"dataframe\">\n",
       "  <thead>\n",
       "    <tr style=\"text-align: right;\">\n",
       "      <th></th>\n",
       "      <th>schema</th>\n",
       "      <th>table</th>\n",
       "      <th>file</th>\n",
       "      <th>filename</th>\n",
       "      <th>col_count</th>\n",
       "      <th>row_count</th>\n",
       "    </tr>\n",
       "  </thead>\n",
       "  <tbody>\n",
       "    <tr>\n",
       "      <th>140</th>\n",
       "      <td>GOSALESDW</td>\n",
       "      <td>SLS_SALES_ORDER_DIM</td>\n",
       "      <td>tab141.ixf</td>\n",
       "      <td>tab141</td>\n",
       "      <td>4</td>\n",
       "      <td>446023</td>\n",
       "    </tr>\n",
       "    <tr>\n",
       "      <th>87</th>\n",
       "      <td>GOSALES</td>\n",
       "      <td>ORDER_DETAILS</td>\n",
       "      <td>tab88.ixf</td>\n",
       "      <td>tab88</td>\n",
       "      <td>9</td>\n",
       "      <td>446023</td>\n",
       "    </tr>\n",
       "    <tr>\n",
       "      <th>139</th>\n",
       "      <td>GOSALESDW</td>\n",
       "      <td>SLS_SALES_FACT</td>\n",
       "      <td>tab140.ixf</td>\n",
       "      <td>tab140</td>\n",
       "      <td>17</td>\n",
       "      <td>446023</td>\n",
       "    </tr>\n",
       "    <tr>\n",
       "      <th>141</th>\n",
       "      <td>GOSALESDW</td>\n",
       "      <td>SLS_SALES_TARG_FACT</td>\n",
       "      <td>tab142.ixf</td>\n",
       "      <td>tab142</td>\n",
       "      <td>8</td>\n",
       "      <td>233625</td>\n",
       "    </tr>\n",
       "    <tr>\n",
       "      <th>128</th>\n",
       "      <td>GOSALES</td>\n",
       "      <td>SALES_TARGET</td>\n",
       "      <td>tab129.ixf</td>\n",
       "      <td>tab129</td>\n",
       "      <td>9</td>\n",
       "      <td>233625</td>\n",
       "    </tr>\n",
       "    <tr>\n",
       "      <th>79</th>\n",
       "      <td>GOSALESDW</td>\n",
       "      <td>MRK_PRODUCT_SURVEY_FACT</td>\n",
       "      <td>tab80.ixf</td>\n",
       "      <td>tab80</td>\n",
       "      <td>6</td>\n",
       "      <td>165074</td>\n",
       "    </tr>\n",
       "    <tr>\n",
       "      <th>101</th>\n",
       "      <td>GOSALESMR</td>\n",
       "      <td>PRODUCT_SURVEY_RESULTS</td>\n",
       "      <td>tab102.ixf</td>\n",
       "      <td>tab102</td>\n",
       "      <td>6</td>\n",
       "      <td>165074</td>\n",
       "    </tr>\n",
       "    <tr>\n",
       "      <th>59</th>\n",
       "      <td>GOSALESDW</td>\n",
       "      <td>FIN_FINANCE_FACT</td>\n",
       "      <td>tab60.ixf</td>\n",
       "      <td>tab60</td>\n",
       "      <td>6</td>\n",
       "      <td>164132</td>\n",
       "    </tr>\n",
       "    <tr>\n",
       "      <th>97</th>\n",
       "      <td>GOSALES</td>\n",
       "      <td>PRODUCT_FORECAST</td>\n",
       "      <td>tab98.ixf</td>\n",
       "      <td>tab98</td>\n",
       "      <td>7</td>\n",
       "      <td>129096</td>\n",
       "    </tr>\n",
       "    <tr>\n",
       "      <th>19</th>\n",
       "      <td>GOSALESDW</td>\n",
       "      <td>DIST_PRODUCT_FORECAST_FACT</td>\n",
       "      <td>tab20.ixf</td>\n",
       "      <td>tab20</td>\n",
       "      <td>7</td>\n",
       "      <td>129096</td>\n",
       "    </tr>\n",
       "  </tbody>\n",
       "</table>\n",
       "</div>"
      ],
      "text/plain": [
       "        schema                       table        file filename col_count  \\\n",
       "140  GOSALESDW         SLS_SALES_ORDER_DIM  tab141.ixf   tab141         4   \n",
       "87     GOSALES               ORDER_DETAILS   tab88.ixf    tab88         9   \n",
       "139  GOSALESDW              SLS_SALES_FACT  tab140.ixf   tab140        17   \n",
       "141  GOSALESDW         SLS_SALES_TARG_FACT  tab142.ixf   tab142         8   \n",
       "128    GOSALES                SALES_TARGET  tab129.ixf   tab129         9   \n",
       "79   GOSALESDW     MRK_PRODUCT_SURVEY_FACT   tab80.ixf    tab80         6   \n",
       "101  GOSALESMR      PRODUCT_SURVEY_RESULTS  tab102.ixf   tab102         6   \n",
       "59   GOSALESDW            FIN_FINANCE_FACT   tab60.ixf    tab60         6   \n",
       "97     GOSALES            PRODUCT_FORECAST   tab98.ixf    tab98         7   \n",
       "19   GOSALESDW  DIST_PRODUCT_FORECAST_FACT   tab20.ixf    tab20         7   \n",
       "\n",
       "    row_count  \n",
       "140    446023  \n",
       "87     446023  \n",
       "139    446023  \n",
       "141    233625  \n",
       "128    233625  \n",
       "79     165074  \n",
       "101    165074  \n",
       "59     164132  \n",
       "97     129096  \n",
       "19     129096  "
      ]
     },
     "execution_count": 24,
     "metadata": {},
     "output_type": "execute_result"
    }
   ],
   "source": [
    "ref_df.sort_values(\"row_count\", ascending=False).head(10)"
   ]
  },
  {
   "cell_type": "code",
   "execution_count": 21,
   "metadata": {},
   "outputs": [],
   "source": [
    "bad_jsons = set(log[\"json_read_errors\"])"
   ]
  },
  {
   "cell_type": "code",
   "execution_count": 22,
   "metadata": {
    "scrolled": true
   },
   "outputs": [
    {
     "data": {
      "text/plain": [
       "{'tab110.json'}"
      ]
     },
     "execution_count": 22,
     "metadata": {},
     "output_type": "execute_result"
    }
   ],
   "source": [
    "bad_jsons"
   ]
  },
  {
   "cell_type": "markdown",
   "metadata": {},
   "source": [
    "## Insert data into SQL DB"
   ]
  },
  {
   "cell_type": "markdown",
   "metadata": {},
   "source": [
    "### Make sql connection\n",
    "You will need to change the connection details in `creds.json` in order to connect to your own SQL instance."
   ]
  },
  {
   "cell_type": "code",
   "execution_count": 27,
   "metadata": {
    "scrolled": true
   },
   "outputs": [
    {
     "name": "stdout",
     "output_type": "stream",
     "text": [
      "\u001b[34mDB2\u001b[m\u001b[m                     \u001b[34mcreds\u001b[m\u001b[m                   \u001b[34mixf2json\u001b[m\u001b[m\r\n",
      "README.md               environment.yaml        \u001b[34mjson_data\u001b[m\u001b[m\r\n",
      "\u001b[34mcp4d-mortgage-artifacts\u001b[m\u001b[m \u001b[34mexample_notebooks\u001b[m\u001b[m\r\n"
     ]
    }
   ],
   "source": [
    "! ls ../"
   ]
  },
  {
   "cell_type": "code",
   "execution_count": 45,
   "metadata": {},
   "outputs": [],
   "source": [
    "with open(\"../creds/creds.json\", \"r\") as f:\n",
    "    all_creds = json.load(f)\n",
    "\n",
    "all_creds.keys()\n",
    "\n",
    "creds = all_creds[\"ms-sqlserver-openshift\"]"
   ]
  },
  {
   "cell_type": "code",
   "execution_count": 35,
   "metadata": {},
   "outputs": [],
   "source": [
    "creds = dict(\n",
    "    username=\"sa\",\n",
    "    password=\"P@ssw0rd\",\n",
    "    host=\"127.0.0.1\",\n",
    "    port=1433,\n",
    "    db=\"tempdb\"\n",
    ")"
   ]
  },
  {
   "cell_type": "code",
   "execution_count": 46,
   "metadata": {},
   "outputs": [],
   "source": [
    "drivers = pyodbc.drivers()\n",
    "driver = drivers[0]\n",
    "\n",
    "with open(\"../creds/creds.json\", \"r\") as f:\n",
    "    all_creds = json.load(f)\n",
    "\n",
    "# creds = all_creds[\"ms-sqlserver\"]\n",
    "locals().update(creds)  # Creating local variables from the JSON entries for this database\n",
    "\n",
    "connxn_string = f\"mssql+pyodbc://{username}:{password}@{host}:{port}/{db}?driver={driver}\""
   ]
  },
  {
   "cell_type": "code",
   "execution_count": 47,
   "metadata": {},
   "outputs": [
    {
     "data": {
      "text/plain": [
       "'mssql+pyodbc://sa:P@ssw0rd@mssql-service-mssql.apps.test-dbs.ocp.csplab.local:31433/tempdb?driver=ODBC Driver 17 for SQL Server'"
      ]
     },
     "execution_count": 47,
     "metadata": {},
     "output_type": "execute_result"
    }
   ],
   "source": [
    "connxn_string"
   ]
  },
  {
   "cell_type": "code",
   "execution_count": 48,
   "metadata": {},
   "outputs": [],
   "source": [
    "# import sqlalchemy_utils as sa_utils\n",
    "# sa_utils.functions.drop_database(connxn_string)"
   ]
  },
  {
   "cell_type": "code",
   "execution_count": 49,
   "metadata": {},
   "outputs": [],
   "source": [
    "engine = sa.create_engine(\n",
    "    connxn_string, \n",
    "    connect_args={'autocommit':True},  # This is necessary for some reason.\n",
    "    fast_executemany=True  # This provides a substantial speed-up for query execution.\n",
    ")"
   ]
  },
  {
   "cell_type": "code",
   "execution_count": 50,
   "metadata": {},
   "outputs": [],
   "source": [
    "insp = sa.inspect(engine)\n"
   ]
  },
  {
   "cell_type": "code",
   "execution_count": 51,
   "metadata": {},
   "outputs": [
    {
     "name": "stdout",
     "output_type": "stream",
     "text": [
      "['db_accessadmin', 'db_backupoperator', 'db_datareader', 'db_datawriter', 'db_ddladmin', 'db_denydatareader', 'db_denydatawriter', 'db_owner', 'db_securityadmin', 'dbo', 'guest', 'INFORMATION_SCHEMA', 'sys']\n"
     ]
    }
   ],
   "source": [
    "db_list = insp.get_schema_names()\n",
    "print(db_list)"
   ]
  },
  {
   "cell_type": "code",
   "execution_count": 52,
   "metadata": {},
   "outputs": [],
   "source": [
    "with engine.connect() as con:\n",
    "    con.execute(\"USE master;\") \n",
    "    con.execute(\"CREATE DATABASE GSDB;\")\n",
    "    con.execute(\"USE GSDB;\")"
   ]
  },
  {
   "cell_type": "code",
   "execution_count": 53,
   "metadata": {},
   "outputs": [],
   "source": [
    "# Create Schemata\n",
    "with engine.connect() as con:\n",
    "    for schema in schema_set:  \n",
    "        con.execute(f\"CREATE SCHEMA {schema};\")"
   ]
  },
  {
   "cell_type": "markdown",
   "metadata": {},
   "source": [
    "### Insert data using SQL Alchemy and Pandas"
   ]
  },
  {
   "cell_type": "code",
   "execution_count": 54,
   "metadata": {
    "scrolled": true
   },
   "outputs": [],
   "source": [
    "def insert_tables():\n",
    "    log[\"sql_insert_errors\"] = []\n",
    "    for json_table in json_tables:\n",
    "        # read in JSON into pandas, display metadata\n",
    "        filename = json_table.split(\".\")[0]\n",
    "        display(Markdown(f\"### {filename}\"))\n",
    "        if json_table not in bad_jsons:\n",
    "            df = pd.read_json(f\"../json_data/{json_table}\")\n",
    "        \n",
    "        num_cols = df.shape[1]  \n",
    "        tsql_chunksize = 2097 // num_cols  # limit based on sp_prepexec parameter count\n",
    "        tsql_chunksize = 1000 if tsql_chunksize > 1000 else tsql_chunksize  # cap at 1000\n",
    "\n",
    "        # Lookup table name and schema name from reference df\n",
    "        ref_row = ref_df.query(\"filename == @filename\")\n",
    "        schema = ref_row[\"schema\"].values[0]\n",
    "        table = ref_row[\"table\"].values[0]\n",
    "        print(f\"{schema}.{table}\")\n",
    "        print(df.shape)\n",
    "        \n",
    "        type_mapping = {col : sa.types.NVARCHAR for col in df.select_dtypes(\"O\")}\n",
    "        \n",
    "        # Write df to sql\n",
    "        try:\n",
    "            df.to_sql(\n",
    "                con=engine,\n",
    "                name=table, \n",
    "                schema=schema,\n",
    "                if_exists=\"replace\",\n",
    "                method=\"multi\",\n",
    "                index=False,\n",
    "                dtype=type_mapping,\n",
    "                chunksize=tsql_chunksize\n",
    "                     )\n",
    "        except Exception as e:\n",
    "            display(Markdown(\"# ERROR\"))\n",
    "            log[\"sql_insert_errors\"].append({\"json_table\": json_table, \"error_mssg\": str(e)})\n",
    "            pass\n",
    "\n",
    "        print(\"*\" * 20)\n",
    "\n",
    "    with open(\"log.json\", \"w\") as f:\n",
    "            json.dump(log, f)"
   ]
  },
  {
   "cell_type": "code",
   "execution_count": 55,
   "metadata": {
    "scrolled": true
   },
   "outputs": [
    {
     "data": {
      "text/markdown": [
       "### tab83"
      ],
      "text/plain": [
       "<IPython.core.display.Markdown object>"
      ]
     },
     "metadata": {},
     "output_type": "display_data"
    },
    {
     "name": "stdout",
     "output_type": "stream",
     "text": [
      "GOSALESDW.MRK_PROMOTION_FACT\n",
      "(11034, 13)\n",
      "********************\n"
     ]
    },
    {
     "data": {
      "text/markdown": [
       "### tab101"
      ],
      "text/plain": [
       "<IPython.core.display.Markdown object>"
      ]
     },
     "metadata": {},
     "output_type": "display_data"
    },
    {
     "name": "stdout",
     "output_type": "stream",
     "text": [
      "GOSALES.PRODUCT_SIZE_LOOKUP\n",
      "(55, 24)\n",
      "********************\n"
     ]
    },
    {
     "data": {
      "text/markdown": [
       "### tab140"
      ],
      "text/plain": [
       "<IPython.core.display.Markdown object>"
      ]
     },
     "metadata": {},
     "output_type": "display_data"
    },
    {
     "name": "stdout",
     "output_type": "stream",
     "text": [
      "GOSALESDW.SLS_SALES_FACT\n",
      "(446023, 17)\n",
      "********************\n"
     ]
    },
    {
     "data": {
      "text/markdown": [
       "### tab95"
      ],
      "text/plain": [
       "<IPython.core.display.Markdown object>"
      ]
     },
     "metadata": {},
     "output_type": "display_data"
    },
    {
     "name": "stdout",
     "output_type": "stream",
     "text": [
      "GOSALES.PRODUCT\n",
      "(274, 10)\n",
      "********************\n"
     ]
    },
    {
     "data": {
      "text/markdown": [
       "### tab117"
      ],
      "text/plain": [
       "<IPython.core.display.Markdown object>"
      ]
     },
     "metadata": {},
     "output_type": "display_data"
    },
    {
     "name": "stdout",
     "output_type": "stream",
     "text": [
      "GOSALESRT.RETAILER\n",
      "(562, 5)\n",
      "********************\n"
     ]
    },
    {
     "data": {
      "text/markdown": [
       "### tab4"
      ],
      "text/plain": [
       "<IPython.core.display.Markdown object>"
      ]
     },
     "metadata": {},
     "output_type": "display_data"
    },
    {
     "name": "stdout",
     "output_type": "stream",
     "text": [
      "GOSALES.COUNTRY\n",
      "(21, 30)\n",
      "********************\n"
     ]
    },
    {
     "data": {
      "text/markdown": [
       "### tab56"
      ],
      "text/plain": [
       "<IPython.core.display.Markdown object>"
      ]
     },
     "metadata": {},
     "output_type": "display_data"
    },
    {
     "name": "stdout",
     "output_type": "stream",
     "text": [
      "GOSALESDW.FIN_ACCOUNT_CLASS_LOOKUP\n",
      "(5, 29)\n",
      "********************\n"
     ]
    },
    {
     "data": {
      "text/markdown": [
       "### tab40"
      ],
      "text/plain": [
       "<IPython.core.display.Markdown object>"
      ]
     },
     "metadata": {},
     "output_type": "display_data"
    },
    {
     "name": "stdout",
     "output_type": "stream",
     "text": [
      "GOSALESDW.EMP_RANKING_FACT\n",
      "(1897, 6)\n",
      "********************\n"
     ]
    },
    {
     "data": {
      "text/markdown": [
       "### tab17"
      ],
      "text/plain": [
       "<IPython.core.display.Markdown object>"
      ]
     },
     "metadata": {},
     "output_type": "display_data"
    },
    {
     "name": "stdout",
     "output_type": "stream",
     "text": [
      "GOSALESCT.CUST_PROFESSION\n",
      "(156, 3)\n",
      "********************\n"
     ]
    },
    {
     "data": {
      "text/markdown": [
       "### tab60"
      ],
      "text/plain": [
       "<IPython.core.display.Markdown object>"
      ]
     },
     "metadata": {},
     "output_type": "display_data"
    },
    {
     "name": "stdout",
     "output_type": "stream",
     "text": [
      "GOSALESDW.FIN_FINANCE_FACT\n",
      "(164132, 6)\n",
      "********************\n"
     ]
    },
    {
     "data": {
      "text/markdown": [
       "### tab37"
      ],
      "text/plain": [
       "<IPython.core.display.Markdown object>"
      ]
     },
     "metadata": {},
     "output_type": "display_data"
    },
    {
     "name": "stdout",
     "output_type": "stream",
     "text": [
      "GOSALESDW.EMP_POSITION_LOOKUP\n",
      "(57, 24)\n",
      "********************\n"
     ]
    },
    {
     "data": {
      "text/markdown": [
       "### tab21"
      ],
      "text/plain": [
       "<IPython.core.display.Markdown object>"
      ]
     },
     "metadata": {},
     "output_type": "display_data"
    },
    {
     "name": "stdout",
     "output_type": "stream",
     "text": [
      "GOSALESDW.DIST_RETURNED_ITEMS_FACT\n",
      "(10249, 10)\n",
      "********************\n"
     ]
    },
    {
     "data": {
      "text/markdown": [
       "### tab76"
      ],
      "text/plain": [
       "<IPython.core.display.Markdown object>"
      ]
     },
     "metadata": {},
     "output_type": "display_data"
    },
    {
     "name": "stdout",
     "output_type": "stream",
     "text": [
      "GOSALESDW.MRK_ACTIVITY_STATUS_DIM\n",
      "(2, 24)\n",
      "********************\n"
     ]
    },
    {
     "data": {
      "text/markdown": [
       "### tab99"
      ],
      "text/plain": [
       "<IPython.core.display.Markdown object>"
      ]
     },
     "metadata": {},
     "output_type": "display_data"
    },
    {
     "name": "stdout",
     "output_type": "stream",
     "text": [
      "GOSALES.PRODUCT_LINE\n",
      "(5, 24)\n",
      "********************\n"
     ]
    },
    {
     "data": {
      "text/markdown": [
       "### tab8"
      ],
      "text/plain": [
       "<IPython.core.display.Markdown object>"
      ]
     },
     "metadata": {},
     "output_type": "display_data"
    },
    {
     "name": "stdout",
     "output_type": "stream",
     "text": [
      "GOSALESCT.CUST_CRDT_CHECK\n",
      "(900, 3)\n",
      "********************\n"
     ]
    },
    {
     "data": {
      "text/markdown": [
       "### tab137"
      ],
      "text/plain": [
       "<IPython.core.display.Markdown object>"
      ]
     },
     "metadata": {},
     "output_type": "display_data"
    },
    {
     "name": "stdout",
     "output_type": "stream",
     "text": [
      "GOSALESDW.SLS_PRODUCT_SIZE_LOOKUP\n",
      "(55, 24)\n",
      "********************\n"
     ]
    },
    {
     "data": {
      "text/markdown": [
       "### tab121"
      ],
      "text/plain": [
       "<IPython.core.display.Markdown object>"
      ]
     },
     "metadata": {},
     "output_type": "display_data"
    },
    {
     "name": "stdout",
     "output_type": "stream",
     "text": [
      "GOSALESRT.RETAILER_SITE_MB\n",
      "(847, 9)\n",
      "********************\n"
     ]
    },
    {
     "data": {
      "text/markdown": [
       "### tab120"
      ],
      "text/plain": [
       "<IPython.core.display.Markdown object>"
      ]
     },
     "metadata": {},
     "output_type": "display_data"
    },
    {
     "name": "stdout",
     "output_type": "stream",
     "text": [
      "GOSALESRT.RETAILER_SITE\n",
      "(847, 9)\n",
      "********************\n"
     ]
    },
    {
     "data": {
      "text/markdown": [
       "### tab136"
      ],
      "text/plain": [
       "<IPython.core.display.Markdown object>"
      ]
     },
     "metadata": {},
     "output_type": "display_data"
    },
    {
     "name": "stdout",
     "output_type": "stream",
     "text": [
      "GOSALESDW.SLS_PRODUCT_LOOKUP\n",
      "(6302, 4)\n",
      "********************\n"
     ]
    },
    {
     "data": {
      "text/markdown": [
       "### tab9"
      ],
      "text/plain": [
       "<IPython.core.display.Markdown object>"
      ]
     },
     "metadata": {},
     "output_type": "display_data"
    },
    {
     "name": "stdout",
     "output_type": "stream",
     "text": [
      "GOSALESCT.CUST_CUSTOMER\n",
      "(31255, 22)\n",
      "********************\n"
     ]
    },
    {
     "data": {
      "text/markdown": [
       "### tab77"
      ],
      "text/plain": [
       "<IPython.core.display.Markdown object>"
      ]
     },
     "metadata": {},
     "output_type": "display_data"
    },
    {
     "name": "stdout",
     "output_type": "stream",
     "text": [
      "GOSALESDW.MRK_BUNDLE_GROUP_LOOKUP\n",
      "(15, 24)\n",
      "********************\n"
     ]
    },
    {
     "data": {
      "text/markdown": [
       "### tab98"
      ],
      "text/plain": [
       "<IPython.core.display.Markdown object>"
      ]
     },
     "metadata": {},
     "output_type": "display_data"
    },
    {
     "name": "stdout",
     "output_type": "stream",
     "text": [
      "GOSALES.PRODUCT_FORECAST\n",
      "(129096, 7)\n",
      "********************\n"
     ]
    },
    {
     "data": {
      "text/markdown": [
       "### tab20"
      ],
      "text/plain": [
       "<IPython.core.display.Markdown object>"
      ]
     },
     "metadata": {},
     "output_type": "display_data"
    },
    {
     "name": "stdout",
     "output_type": "stream",
     "text": [
      "GOSALESDW.DIST_PRODUCT_FORECAST_FACT\n",
      "(129096, 7)\n",
      "********************\n"
     ]
    },
    {
     "data": {
      "text/markdown": [
       "### tab36"
      ],
      "text/plain": [
       "<IPython.core.display.Markdown object>"
      ]
     },
     "metadata": {},
     "output_type": "display_data"
    },
    {
     "name": "stdout",
     "output_type": "stream",
     "text": [
      "GOSALESDW.EMP_POSITION_DIM\n",
      "(57, 9)\n",
      "********************\n"
     ]
    },
    {
     "data": {
      "text/markdown": [
       "### tab61"
      ],
      "text/plain": [
       "<IPython.core.display.Markdown object>"
      ]
     },
     "metadata": {},
     "output_type": "display_data"
    },
    {
     "name": "stdout",
     "output_type": "stream",
     "text": [
      "GOSALESDW.FIN_SUBM_CURRENCY_LOOKUP\n",
      "(7, 24)\n",
      "********************\n"
     ]
    },
    {
     "data": {
      "text/markdown": [
       "### tab16"
      ],
      "text/plain": [
       "<IPython.core.display.Markdown object>"
      ]
     },
     "metadata": {},
     "output_type": "display_data"
    },
    {
     "name": "stdout",
     "output_type": "stream",
     "text": [
      "GOSALESCT.CUST_PRICE\n",
      "(8742, 11)\n",
      "********************\n"
     ]
    },
    {
     "data": {
      "text/markdown": [
       "### tab41"
      ],
      "text/plain": [
       "<IPython.core.display.Markdown object>"
      ]
     },
     "metadata": {},
     "output_type": "display_data"
    },
    {
     "name": "stdout",
     "output_type": "stream",
     "text": [
      "GOSALESDW.EMP_RECRUITMENT_DIM\n",
      "(14, 49)\n",
      "********************\n"
     ]
    },
    {
     "data": {
      "text/markdown": [
       "### tab57"
      ],
      "text/plain": [
       "<IPython.core.display.Markdown object>"
      ]
     },
     "metadata": {},
     "output_type": "display_data"
    },
    {
     "name": "stdout",
     "output_type": "stream",
     "text": [
      "GOSALESDW.FIN_ACCOUNT_DIM\n",
      "(242, 24)\n",
      "********************\n"
     ]
    },
    {
     "data": {
      "text/markdown": [
       "### tab5"
      ],
      "text/plain": [
       "<IPython.core.display.Markdown object>"
      ]
     },
     "metadata": {},
     "output_type": "display_data"
    },
    {
     "name": "stdout",
     "output_type": "stream",
     "text": [
      "GOSALES.CURRENCY_LOOKUP\n",
      "(21, 24)\n",
      "********************\n"
     ]
    },
    {
     "data": {
      "text/markdown": [
       "### tab116"
      ],
      "text/plain": [
       "<IPython.core.display.Markdown object>"
      ]
     },
     "metadata": {},
     "output_type": "display_data"
    },
    {
     "name": "stdout",
     "output_type": "stream",
     "text": [
      "GOSALESHR.RECRUITMENT_TYPE\n",
      "(7, 24)\n",
      "********************\n"
     ]
    },
    {
     "data": {
      "text/markdown": [
       "### tab94"
      ],
      "text/plain": [
       "<IPython.core.display.Markdown object>"
      ]
     },
     "metadata": {},
     "output_type": "display_data"
    },
    {
     "name": "stdout",
     "output_type": "stream",
     "text": [
      "GOSALESHR.POSITION_SUMMARY\n",
      "(15050, 9)\n",
      "********************\n"
     ]
    },
    {
     "data": {
      "text/markdown": [
       "### tab141"
      ],
      "text/plain": [
       "<IPython.core.display.Markdown object>"
      ]
     },
     "metadata": {},
     "output_type": "display_data"
    },
    {
     "name": "stdout",
     "output_type": "stream",
     "text": [
      "GOSALESDW.SLS_SALES_ORDER_DIM\n",
      "(446023, 4)\n",
      "********************\n"
     ]
    },
    {
     "data": {
      "text/markdown": [
       "### tab100"
      ],
      "text/plain": [
       "<IPython.core.display.Markdown object>"
      ]
     },
     "metadata": {},
     "output_type": "display_data"
    },
    {
     "name": "stdout",
     "output_type": "stream",
     "text": [
      "GOSALES.PRODUCT_NAME_LOOKUP\n",
      "(6302, 4)\n",
      "********************\n"
     ]
    },
    {
     "data": {
      "text/markdown": [
       "### tab82"
      ],
      "text/plain": [
       "<IPython.core.display.Markdown object>"
      ]
     },
     "metadata": {},
     "output_type": "display_data"
    },
    {
     "name": "stdout",
     "output_type": "stream",
     "text": [
      "GOSALESDW.MRK_PROMOTION_DIM\n",
      "(112, 27)\n",
      "********************\n"
     ]
    },
    {
     "data": {
      "text/markdown": [
       "### tab66"
      ],
      "text/plain": [
       "<IPython.core.display.Markdown object>"
      ]
     },
     "metadata": {},
     "output_type": "display_data"
    },
    {
     "name": "stdout",
     "output_type": "stream",
     "text": [
      "GOSALESCT.GO_CRDT_METHOD\n",
      "(6, 3)\n",
      "********************\n"
     ]
    },
    {
     "data": {
      "text/markdown": [
       "### tab89"
      ],
      "text/plain": [
       "<IPython.core.display.Markdown object>"
      ]
     },
     "metadata": {},
     "output_type": "display_data"
    },
    {
     "name": "stdout",
     "output_type": "stream",
     "text": [
      "GOSALES.ORDER_HEADER\n",
      "(53267, 10)\n",
      "********************\n"
     ]
    },
    {
     "data": {
      "text/markdown": [
       "### tab31"
      ],
      "text/plain": [
       "<IPython.core.display.Markdown object>"
      ]
     },
     "metadata": {},
     "output_type": "display_data"
    },
    {
     "name": "stdout",
     "output_type": "stream",
     "text": [
      "GOSALESDW.EMP_EMPLOYEE_DIM\n",
      "(972, 50)\n",
      "********************\n"
     ]
    },
    {
     "data": {
      "text/markdown": [
       "### tab27"
      ],
      "text/plain": [
       "<IPython.core.display.Markdown object>"
      ]
     },
     "metadata": {},
     "output_type": "display_data"
    },
    {
     "name": "stdout",
     "output_type": "stream",
     "text": [
      "GOSALESHR.EMPLOYEE_SUMMARY\n",
      "(24233, 3)\n",
      "********************\n"
     ]
    },
    {
     "data": {
      "text/markdown": [
       "### tab70"
      ],
      "text/plain": [
       "<IPython.core.display.Markdown object>"
      ]
     },
     "metadata": {},
     "output_type": "display_data"
    },
    {
     "name": "stdout",
     "output_type": "stream",
     "text": [
      "GOSALESDW.GO_REGION_DIM\n",
      "(21, 54)\n",
      "********************\n"
     ]
    },
    {
     "data": {
      "text/markdown": [
       "### tab131"
      ],
      "text/plain": [
       "<IPython.core.display.Markdown object>"
      ]
     },
     "metadata": {},
     "output_type": "display_data"
    },
    {
     "name": "stdout",
     "output_type": "stream",
     "text": [
      "GOSALESDW.SLS_ORDER_METHOD_DIM\n",
      "(7, 25)\n",
      "********************\n"
     ]
    },
    {
     "data": {
      "text/markdown": [
       "### tab127"
      ],
      "text/plain": [
       "<IPython.core.display.Markdown object>"
      ]
     },
     "metadata": {},
     "output_type": "display_data"
    },
    {
     "name": "stdout",
     "output_type": "stream",
     "text": [
      "GOSALES.RETURN_REASON\n",
      "(5, 24)\n",
      "********************\n"
     ]
    },
    {
     "data": {
      "text/markdown": [
       "### tab85"
      ],
      "text/plain": [
       "<IPython.core.display.Markdown object>"
      ]
     },
     "metadata": {},
     "output_type": "display_data"
    },
    {
     "name": "stdout",
     "output_type": "stream",
     "text": [
      "GOSALESDW.MRK_RTL_SURVEY_DIM\n",
      "(9, 25)\n",
      "********************\n"
     ]
    },
    {
     "data": {
      "text/markdown": [
       "### tab107"
      ],
      "text/plain": [
       "<IPython.core.display.Markdown object>"
      ]
     },
     "metadata": {},
     "output_type": "display_data"
    },
    {
     "name": "stdout",
     "output_type": "stream",
     "text": [
      "GOSALESMR.PROMOTION_BUNDLE_GROUP\n",
      "(15, 24)\n",
      "********************\n"
     ]
    },
    {
     "data": {
      "text/markdown": [
       "### tab150"
      ],
      "text/plain": [
       "<IPython.core.display.Markdown object>"
      ]
     },
     "metadata": {},
     "output_type": "display_data"
    },
    {
     "name": "stdout",
     "output_type": "stream",
     "text": [
      "GOSALES.XGOREV\n",
      "(17, 9)\n",
      "********************\n"
     ]
    },
    {
     "data": {
      "text/markdown": [
       "### tab146"
      ],
      "text/plain": [
       "<IPython.core.display.Markdown object>"
      ]
     },
     "metadata": {},
     "output_type": "display_data"
    },
    {
     "name": "stdout",
     "output_type": "stream",
     "text": [
      "GOSALES.TIME_DIMENSION\n",
      "(1465, 50)\n",
      "********************\n"
     ]
    },
    {
     "data": {
      "text/markdown": [
       "### tab93"
      ],
      "text/plain": [
       "<IPython.core.display.Markdown object>"
      ]
     },
     "metadata": {},
     "output_type": "display_data"
    },
    {
     "name": "stdout",
     "output_type": "stream",
     "text": [
      "GOSALESHR.POSITION_LOOKUP\n",
      "(45, 24)\n",
      "********************\n"
     ]
    },
    {
     "data": {
      "text/markdown": [
       "### tab111"
      ],
      "text/plain": [
       "<IPython.core.display.Markdown object>"
      ]
     },
     "metadata": {},
     "output_type": "display_data"
    },
    {
     "name": "stdout",
     "output_type": "stream",
     "text": [
      "GOSALESCT.PTNR_CONTACT\n",
      "(3, 21)\n",
      "********************\n"
     ]
    },
    {
     "data": {
      "text/markdown": [
       "### tab2"
      ],
      "text/plain": [
       "<IPython.core.display.Markdown object>"
      ]
     },
     "metadata": {},
     "output_type": "display_data"
    },
    {
     "name": "stdout",
     "output_type": "stream",
     "text": [
      "GOSALES.BRANCH\n",
      "(29, 13)\n",
      "********************\n"
     ]
    },
    {
     "data": {
      "text/markdown": [
       "### tab50"
      ],
      "text/plain": [
       "<IPython.core.display.Markdown object>"
      ]
     },
     "metadata": {},
     "output_type": "display_data"
    },
    {
     "name": "stdout",
     "output_type": "stream",
     "text": [
      "GOSALESDW.EMP_TRAINING_DIM\n",
      "(42, 26)\n",
      "********************\n"
     ]
    },
    {
     "data": {
      "text/markdown": [
       "### tab46"
      ],
      "text/plain": [
       "<IPython.core.display.Markdown object>"
      ]
     },
     "metadata": {},
     "output_type": "display_data"
    },
    {
     "name": "stdout",
     "output_type": "stream",
     "text": [
      "GOSALESDW.EMP_SURVEY_FACT\n",
      "(5725, 5)\n",
      "********************\n"
     ]
    },
    {
     "data": {
      "text/markdown": [
       "### tab11"
      ],
      "text/plain": [
       "<IPython.core.display.Markdown object>"
      ]
     },
     "metadata": {},
     "output_type": "display_data"
    },
    {
     "name": "stdout",
     "output_type": "stream",
     "text": [
      "GOSALESCT.CUST_INTEREST_LOOKUP\n",
      "(338, 3)\n",
      "********************\n"
     ]
    },
    {
     "data": {
      "text/markdown": [
       "### tab10"
      ],
      "text/plain": [
       "<IPython.core.display.Markdown object>"
      ]
     },
     "metadata": {},
     "output_type": "display_data"
    },
    {
     "name": "stdout",
     "output_type": "stream",
     "text": [
      "GOSALESCT.CUST_INTEREST\n",
      "(31255, 3)\n",
      "********************\n"
     ]
    },
    {
     "data": {
      "text/markdown": [
       "### tab47"
      ],
      "text/plain": [
       "<IPython.core.display.Markdown object>"
      ]
     },
     "metadata": {},
     "output_type": "display_data"
    },
    {
     "name": "stdout",
     "output_type": "stream",
     "text": [
      "GOSALESDW.EMP_SURVEY_TARG_FACT\n",
      "(20, 2)\n",
      "********************\n"
     ]
    },
    {
     "data": {
      "text/markdown": [
       "### tab51"
      ],
      "text/plain": [
       "<IPython.core.display.Markdown object>"
      ]
     },
     "metadata": {},
     "output_type": "display_data"
    },
    {
     "name": "stdout",
     "output_type": "stream",
     "text": [
      "GOSALESDW.EMP_TRAINING_FACT\n",
      "(4465, 7)\n",
      "********************\n"
     ]
    },
    {
     "data": {
      "text/markdown": [
       "### tab3"
      ],
      "text/plain": [
       "<IPython.core.display.Markdown object>"
      ]
     },
     "metadata": {},
     "output_type": "display_data"
    },
    {
     "name": "stdout",
     "output_type": "stream",
     "text": [
      "GOSALES.CONVERSION_RATE\n",
      "(624, 1)\n",
      "********************\n"
     ]
    },
    {
     "data": {
      "text/markdown": [
       "### tab110"
      ],
      "text/plain": [
       "<IPython.core.display.Markdown object>"
      ]
     },
     "metadata": {},
     "output_type": "display_data"
    },
    {
     "name": "stdout",
     "output_type": "stream",
     "text": [
      "GOSALESCT.PTNR_ACTIVITY\n",
      "(624, 1)\n",
      "********************\n"
     ]
    },
    {
     "data": {
      "text/markdown": [
       "### tab92"
      ],
      "text/plain": [
       "<IPython.core.display.Markdown object>"
      ]
     },
     "metadata": {},
     "output_type": "display_data"
    },
    {
     "name": "stdout",
     "output_type": "stream",
     "text": [
      "GOSALESHR.POSITION_DEPARTMENT\n",
      "(45, 5)\n",
      "********************\n"
     ]
    },
    {
     "data": {
      "text/markdown": [
       "### tab147"
      ],
      "text/plain": [
       "<IPython.core.display.Markdown object>"
      ]
     },
     "metadata": {},
     "output_type": "display_data"
    },
    {
     "name": "stdout",
     "output_type": "stream",
     "text": [
      "GOSALES.TIME_QUARTER_LOOKUP\n",
      "(20, 24)\n",
      "********************\n"
     ]
    },
    {
     "data": {
      "text/markdown": [
       "### tab151"
      ],
      "text/plain": [
       "<IPython.core.display.Markdown object>"
      ]
     },
     "metadata": {},
     "output_type": "display_data"
    },
    {
     "name": "stdout",
     "output_type": "stream",
     "text": [
      "GOSALESDW.XGOREV\n",
      "(28, 9)\n",
      "********************\n"
     ]
    },
    {
     "data": {
      "text/markdown": [
       "### tab106"
      ],
      "text/plain": [
       "<IPython.core.display.Markdown object>"
      ]
     },
     "metadata": {},
     "output_type": "display_data"
    },
    {
     "name": "stdout",
     "output_type": "stream",
     "text": [
      "GOSALESMR.PROMOTIONS\n",
      "(112, 26)\n",
      "********************\n"
     ]
    },
    {
     "data": {
      "text/markdown": [
       "### tab84"
      ],
      "text/plain": [
       "<IPython.core.display.Markdown object>"
      ]
     },
     "metadata": {},
     "output_type": "display_data"
    },
    {
     "name": "stdout",
     "output_type": "stream",
     "text": [
      "GOSALESDW.MRK_PROMOTION_PLAN_FACT\n",
      "(8652, 11)\n",
      "********************\n"
     ]
    },
    {
     "data": {
      "text/markdown": [
       "### tab126"
      ],
      "text/plain": [
       "<IPython.core.display.Markdown object>"
      ]
     },
     "metadata": {},
     "output_type": "display_data"
    },
    {
     "name": "stdout",
     "output_type": "stream",
     "text": [
      "GOSALES.RETURNED_ITEM\n",
      "(10249, 9)\n",
      "********************\n"
     ]
    },
    {
     "data": {
      "text/markdown": [
       "### tab130"
      ],
      "text/plain": [
       "<IPython.core.display.Markdown object>"
      ]
     },
     "metadata": {},
     "output_type": "display_data"
    },
    {
     "name": "stdout",
     "output_type": "stream",
     "text": [
      "GOSALESHR.SATISFACTION_INDEX\n",
      "(5, 24)\n",
      "********************\n"
     ]
    },
    {
     "data": {
      "text/markdown": [
       "### tab71"
      ],
      "text/plain": [
       "<IPython.core.display.Markdown object>"
      ]
     },
     "metadata": {},
     "output_type": "display_data"
    },
    {
     "name": "stdout",
     "output_type": "stream",
     "text": [
      "GOSALESCT.GO_SALES_TAX\n",
      "(94, 3)\n",
      "********************\n"
     ]
    },
    {
     "data": {
      "text/markdown": [
       "### tab26"
      ],
      "text/plain": [
       "<IPython.core.display.Markdown object>"
      ]
     },
     "metadata": {},
     "output_type": "display_data"
    },
    {
     "name": "stdout",
     "output_type": "stream",
     "text": [
      "GOSALESHR.EMPLOYEE_HISTORY\n",
      "(972, 12)\n",
      "********************\n"
     ]
    },
    {
     "data": {
      "text/markdown": [
       "### tab30"
      ],
      "text/plain": [
       "<IPython.core.display.Markdown object>"
      ]
     },
     "metadata": {},
     "output_type": "display_data"
    },
    {
     "name": "stdout",
     "output_type": "stream",
     "text": [
      "GOSALESHR.EMPLOYEE_SURVEY_TOPIC\n",
      "(5, 24)\n",
      "********************\n"
     ]
    },
    {
     "data": {
      "text/markdown": [
       "### tab67"
      ],
      "text/plain": [
       "<IPython.core.display.Markdown object>"
      ]
     },
     "metadata": {},
     "output_type": "display_data"
    },
    {
     "name": "stdout",
     "output_type": "stream",
     "text": [
      "GOSALESDW.GO_GENDER_LOOKUP\n",
      "(2, 23)\n",
      "********************\n"
     ]
    },
    {
     "data": {
      "text/markdown": [
       "### tab88"
      ],
      "text/plain": [
       "<IPython.core.display.Markdown object>"
      ]
     },
     "metadata": {},
     "output_type": "display_data"
    },
    {
     "name": "stdout",
     "output_type": "stream",
     "text": [
      "GOSALES.ORDER_DETAILS\n",
      "(446023, 9)\n",
      "********************\n"
     ]
    },
    {
     "data": {
      "text/markdown": [
       "### tab48"
      ],
      "text/plain": [
       "<IPython.core.display.Markdown object>"
      ]
     },
     "metadata": {},
     "output_type": "display_data"
    },
    {
     "name": "stdout",
     "output_type": "stream",
     "text": [
      "GOSALESDW.EMP_SURVEY_TOPIC_DIM\n",
      "(5, 25)\n",
      "********************\n"
     ]
    },
    {
     "data": {
      "text/markdown": [
       "### tab125"
      ],
      "text/plain": [
       "<IPython.core.display.Markdown object>"
      ]
     },
     "metadata": {},
     "output_type": "display_data"
    },
    {
     "name": "stdout",
     "output_type": "stream",
     "text": [
      "GOSALESRT.RETAILER_TYPE\n",
      "(8, 24)\n",
      "********************\n"
     ]
    },
    {
     "data": {
      "text/markdown": [
       "### tab133"
      ],
      "text/plain": [
       "<IPython.core.display.Markdown object>"
      ]
     },
     "metadata": {},
     "output_type": "display_data"
    },
    {
     "name": "stdout",
     "output_type": "stream",
     "text": [
      "GOSALESDW.SLS_PRODUCT_COLOR_LOOKUP\n",
      "(27, 24)\n",
      "********************\n"
     ]
    },
    {
     "data": {
      "text/markdown": [
       "### tab72"
      ],
      "text/plain": [
       "<IPython.core.display.Markdown object>"
      ]
     },
     "metadata": {},
     "output_type": "display_data"
    },
    {
     "name": "stdout",
     "output_type": "stream",
     "text": [
      "GOSALESDW.GO_SATISFACTION_DIM\n",
      "(5, 25)\n",
      "********************\n"
     ]
    },
    {
     "data": {
      "text/markdown": [
       "### tab25"
      ],
      "text/plain": [
       "<IPython.core.display.Markdown object>"
      ]
     },
     "metadata": {},
     "output_type": "display_data"
    },
    {
     "name": "stdout",
     "output_type": "stream",
     "text": [
      "GOSALESHR.EMPLOYEE_EXPENSE_PLAN\n",
      "(37317, 5)\n",
      "********************\n"
     ]
    },
    {
     "data": {
      "text/markdown": [
       "### tab148"
      ],
      "text/plain": [
       "<IPython.core.display.Markdown object>"
      ]
     },
     "metadata": {},
     "output_type": "display_data"
    },
    {
     "name": "stdout",
     "output_type": "stream",
     "text": [
      "GOSALESHR.TRAINING\n",
      "(42, 25)\n",
      "********************\n"
     ]
    },
    {
     "data": {
      "text/markdown": [
       "### tab33"
      ],
      "text/plain": [
       "<IPython.core.display.Markdown object>"
      ]
     },
     "metadata": {},
     "output_type": "display_data"
    },
    {
     "name": "stdout",
     "output_type": "stream",
     "text": [
      "GOSALESDW.EMP_EXPENSE_PLAN_FACT\n",
      "(30150, 5)\n",
      "********************\n"
     ]
    },
    {
     "data": {
      "text/markdown": [
       "### tab64"
      ],
      "text/plain": [
       "<IPython.core.display.Markdown object>"
      ]
     },
     "metadata": {},
     "output_type": "display_data"
    },
    {
     "name": "stdout",
     "output_type": "stream",
     "text": [
      "GOSALESHR.GENDER_LOOKUP\n",
      "(2, 23)\n",
      "********************\n"
     ]
    },
    {
     "data": {
      "text/markdown": [
       "### tab109"
      ],
      "text/plain": [
       "<IPython.core.display.Markdown object>"
      ]
     },
     "metadata": {},
     "output_type": "display_data"
    },
    {
     "name": "stdout",
     "output_type": "stream",
     "text": [
      "GOSALESMR.PROMOTION_PLAN\n",
      "(8652, 12)\n",
      "********************\n"
     ]
    },
    {
     "data": {
      "text/markdown": [
       "### tab13"
      ],
      "text/plain": [
       "<IPython.core.display.Markdown object>"
      ]
     },
     "metadata": {},
     "output_type": "display_data"
    },
    {
     "name": "stdout",
     "output_type": "stream",
     "text": [
      "GOSALESCT.CUST_ORDER_DETAIL\n",
      "(60252, 9)\n",
      "********************\n"
     ]
    },
    {
     "data": {
      "text/markdown": [
       "### tab129"
      ],
      "text/plain": [
       "<IPython.core.display.Markdown object>"
      ]
     },
     "metadata": {},
     "output_type": "display_data"
    },
    {
     "name": "stdout",
     "output_type": "stream",
     "text": [
      "GOSALES.SALES_TARGET\n",
      "(233625, 9)\n",
      "********************\n"
     ]
    },
    {
     "data": {
      "text/markdown": [
       "### tab44"
      ],
      "text/plain": [
       "<IPython.core.display.Markdown object>"
      ]
     },
     "metadata": {},
     "output_type": "display_data"
    },
    {
     "name": "stdout",
     "output_type": "stream",
     "text": [
      "GOSALESDW.EMP_SUCCESSION_STATUS_DIM\n",
      "(5, 25)\n",
      "********************\n"
     ]
    },
    {
     "data": {
      "text/markdown": [
       "### tab52"
      ],
      "text/plain": [
       "<IPython.core.display.Markdown object>"
      ]
     },
     "metadata": {},
     "output_type": "display_data"
    },
    {
     "name": "stdout",
     "output_type": "stream",
     "text": [
      "GOSALES.EURO_CONVERSION\n",
      "(8, 1)\n",
      "********************\n"
     ]
    },
    {
     "data": {
      "text/markdown": [
       "### tab113"
      ],
      "text/plain": [
       "<IPython.core.display.Markdown object>"
      ]
     },
     "metadata": {},
     "output_type": "display_data"
    },
    {
     "name": "stdout",
     "output_type": "stream",
     "text": [
      "GOSALESHR.RANKING_RESULTS\n",
      "(1898, 4)\n",
      "********************\n"
     ]
    },
    {
     "data": {
      "text/markdown": [
       "### tab91"
      ],
      "text/plain": [
       "<IPython.core.display.Markdown object>"
      ]
     },
     "metadata": {},
     "output_type": "display_data"
    },
    {
     "name": "stdout",
     "output_type": "stream",
     "text": [
      "GOSALESHR.ORGANIZATION\n",
      "(123, 25)\n",
      "********************\n"
     ]
    },
    {
     "data": {
      "text/markdown": [
       "### tab144"
      ],
      "text/plain": [
       "<IPython.core.display.Markdown object>"
      ]
     },
     "metadata": {},
     "output_type": "display_data"
    },
    {
     "name": "stdout",
     "output_type": "stream",
     "text": [
      "GOSALESHR.SUCCESSOR_STATUS\n",
      "(5, 24)\n",
      "********************\n"
     ]
    },
    {
     "data": {
      "text/markdown": [
       "### tab29"
      ],
      "text/plain": [
       "<IPython.core.display.Markdown object>"
      ]
     },
     "metadata": {},
     "output_type": "display_data"
    },
    {
     "name": "stdout",
     "output_type": "stream",
     "text": [
      "GOSALESHR.EMPLOYEE_SURVEY_TARGETS\n",
      "(20, 3)\n",
      "********************\n"
     ]
    },
    {
     "data": {
      "text/markdown": [
       "### tab105"
      ],
      "text/plain": [
       "<IPython.core.display.Markdown object>"
      ]
     },
     "metadata": {},
     "output_type": "display_data"
    },
    {
     "name": "stdout",
     "output_type": "stream",
     "text": [
      "GOSALES.PRODUCT_TYPE\n",
      "(21, 25)\n",
      "********************\n"
     ]
    },
    {
     "data": {
      "text/markdown": [
       "### tab87"
      ],
      "text/plain": [
       "<IPython.core.display.Markdown object>"
      ]
     },
     "metadata": {},
     "output_type": "display_data"
    },
    {
     "name": "stdout",
     "output_type": "stream",
     "text": [
      "GOSALESDW.MRK_RTL_SURVEY_TARG_FACT\n",
      "(64, 3)\n",
      "********************\n"
     ]
    },
    {
     "data": {
      "text/markdown": [
       "### tab68"
      ],
      "text/plain": [
       "<IPython.core.display.Markdown object>"
      ]
     },
     "metadata": {},
     "output_type": "display_data"
    },
    {
     "name": "stdout",
     "output_type": "stream",
     "text": [
      "GOSALESDW.GO_ORG_DIM\n",
      "(123, 7)\n",
      "********************\n"
     ]
    },
    {
     "data": {
      "text/markdown": [
       "### tab86"
      ],
      "text/plain": [
       "<IPython.core.display.Markdown object>"
      ]
     },
     "metadata": {},
     "output_type": "display_data"
    },
    {
     "name": "stdout",
     "output_type": "stream",
     "text": [
      "GOSALESDW.MRK_RTL_SURVEY_FACT\n",
      "(22508, 6)\n",
      "********************\n"
     ]
    },
    {
     "data": {
      "text/markdown": [
       "### tab69"
      ],
      "text/plain": [
       "<IPython.core.display.Markdown object>"
      ]
     },
     "metadata": {},
     "output_type": "display_data"
    },
    {
     "name": "stdout",
     "output_type": "stream",
     "text": [
      "GOSALESDW.GO_ORG_NAME_LOOKUP\n",
      "(123, 24)\n",
      "********************\n"
     ]
    },
    {
     "data": {
      "text/markdown": [
       "### tab104"
      ],
      "text/plain": [
       "<IPython.core.display.Markdown object>"
      ]
     },
     "metadata": {},
     "output_type": "display_data"
    },
    {
     "name": "stdout",
     "output_type": "stream",
     "text": [
      "GOSALESMR.PRODUCT_SURVEY_TOPIC\n",
      "(7, 24)\n",
      "********************\n"
     ]
    },
    {
     "data": {
      "text/markdown": [
       "### tab28"
      ],
      "text/plain": [
       "<IPython.core.display.Markdown object>"
      ]
     },
     "metadata": {},
     "output_type": "display_data"
    },
    {
     "name": "stdout",
     "output_type": "stream",
     "text": [
      "GOSALESHR.EMPLOYEE_SURVEY_RESULTS\n",
      "(5725, 5)\n",
      "********************\n"
     ]
    },
    {
     "data": {
      "text/markdown": [
       "### tab145"
      ],
      "text/plain": [
       "<IPython.core.display.Markdown object>"
      ]
     },
     "metadata": {},
     "output_type": "display_data"
    },
    {
     "name": "stdout",
     "output_type": "stream",
     "text": [
      "GOSALESHR.TERMINATION_LOOKUP\n",
      "(6, 24)\n",
      "********************\n"
     ]
    },
    {
     "data": {
      "text/markdown": [
       "### tab90"
      ],
      "text/plain": [
       "<IPython.core.display.Markdown object>"
      ]
     },
     "metadata": {},
     "output_type": "display_data"
    },
    {
     "name": "stdout",
     "output_type": "stream",
     "text": [
      "GOSALES.ORDER_METHOD\n",
      "(7, 24)\n",
      "********************\n"
     ]
    },
    {
     "data": {
      "text/markdown": [
       "### tab112"
      ],
      "text/plain": [
       "<IPython.core.display.Markdown object>"
      ]
     },
     "metadata": {},
     "output_type": "display_data"
    },
    {
     "name": "stdout",
     "output_type": "stream",
     "text": [
      "GOSALESHR.RANKING\n",
      "(5, 24)\n",
      "********************\n"
     ]
    },
    {
     "data": {
      "text/markdown": [
       "### tab1"
      ],
      "text/plain": [
       "<IPython.core.display.Markdown object>"
      ]
     },
     "metadata": {},
     "output_type": "display_data"
    },
    {
     "name": "stdout",
     "output_type": "stream",
     "text": [
      "GOSALESRT.ACTIVITY_STATUS_LOOKUP\n",
      "(2, 23)\n",
      "********************\n"
     ]
    },
    {
     "data": {
      "text/markdown": [
       "### tab53"
      ],
      "text/plain": [
       "<IPython.core.display.Markdown object>"
      ]
     },
     "metadata": {},
     "output_type": "display_data"
    },
    {
     "name": "stdout",
     "output_type": "stream",
     "text": [
      "GOSALESHR.EXPENSE_GROUP\n",
      "(10, 24)\n",
      "********************\n"
     ]
    },
    {
     "data": {
      "text/markdown": [
       "### tab45"
      ],
      "text/plain": [
       "<IPython.core.display.Markdown object>"
      ]
     },
     "metadata": {},
     "output_type": "display_data"
    },
    {
     "name": "stdout",
     "output_type": "stream",
     "text": [
      "GOSALESDW.EMP_SUMMARY_FACT\n",
      "(24233, 5)\n",
      "********************\n"
     ]
    },
    {
     "data": {
      "text/markdown": [
       "### tab128"
      ],
      "text/plain": [
       "<IPython.core.display.Markdown object>"
      ]
     },
     "metadata": {},
     "output_type": "display_data"
    },
    {
     "name": "stdout",
     "output_type": "stream",
     "text": [
      "GOSALES.SALES_REGION\n",
      "(5, 24)\n",
      "********************\n"
     ]
    },
    {
     "data": {
      "text/markdown": [
       "### tab12"
      ],
      "text/plain": [
       "<IPython.core.display.Markdown object>"
      ]
     },
     "metadata": {},
     "output_type": "display_data"
    },
    {
     "name": "stdout",
     "output_type": "stream",
     "text": [
      "GOSALESCT.CUST_MARITAL_STATUS\n",
      "(39, 3)\n",
      "********************\n"
     ]
    },
    {
     "data": {
      "text/markdown": [
       "### tab108"
      ],
      "text/plain": [
       "<IPython.core.display.Markdown object>"
      ]
     },
     "metadata": {},
     "output_type": "display_data"
    },
    {
     "name": "stdout",
     "output_type": "stream",
     "text": [
      "GOSALESMR.PROMOTION_CAMPAIGN\n",
      "(12, 24)\n",
      "********************\n"
     ]
    },
    {
     "data": {
      "text/markdown": [
       "### tab65"
      ],
      "text/plain": [
       "<IPython.core.display.Markdown object>"
      ]
     },
     "metadata": {},
     "output_type": "display_data"
    },
    {
     "name": "stdout",
     "output_type": "stream",
     "text": [
      "GOSALESDW.GO_BRANCH_DIM\n",
      "(29, 13)\n",
      "********************\n"
     ]
    },
    {
     "data": {
      "text/markdown": [
       "### tab32"
      ],
      "text/plain": [
       "<IPython.core.display.Markdown object>"
      ]
     },
     "metadata": {},
     "output_type": "display_data"
    },
    {
     "name": "stdout",
     "output_type": "stream",
     "text": [
      "GOSALESDW.EMP_EXPENSE_FACT\n",
      "(127984, 7)\n",
      "********************\n"
     ]
    },
    {
     "data": {
      "text/markdown": [
       "### tab149"
      ],
      "text/plain": [
       "<IPython.core.display.Markdown object>"
      ]
     },
     "metadata": {},
     "output_type": "display_data"
    },
    {
     "name": "stdout",
     "output_type": "stream",
     "text": [
      "GOSALESHR.TRAINING_DETAILS\n",
      "(4471, 4)\n",
      "********************\n"
     ]
    },
    {
     "data": {
      "text/markdown": [
       "### tab24"
      ],
      "text/plain": [
       "<IPython.core.display.Markdown object>"
      ]
     },
     "metadata": {},
     "output_type": "display_data"
    },
    {
     "name": "stdout",
     "output_type": "stream",
     "text": [
      "GOSALESHR.EMPLOYEE_EXPENSE_DETAIL\n",
      "(127997, 6)\n",
      "********************\n"
     ]
    },
    {
     "data": {
      "text/markdown": [
       "### tab73"
      ],
      "text/plain": [
       "<IPython.core.display.Markdown object>"
      ]
     },
     "metadata": {},
     "output_type": "display_data"
    },
    {
     "name": "stdout",
     "output_type": "stream",
     "text": [
      "GOSALESDW.GO_TIME_DIM\n",
      "(1465, 51)\n",
      "********************\n"
     ]
    },
    {
     "data": {
      "text/markdown": [
       "### tab132"
      ],
      "text/plain": [
       "<IPython.core.display.Markdown object>"
      ]
     },
     "metadata": {},
     "output_type": "display_data"
    },
    {
     "name": "stdout",
     "output_type": "stream",
     "text": [
      "GOSALESDW.SLS_PRODUCT_BRAND_LOOKUP\n",
      "(28, 24)\n",
      "********************\n"
     ]
    },
    {
     "data": {
      "text/markdown": [
       "### tab124"
      ],
      "text/plain": [
       "<IPython.core.display.Markdown object>"
      ]
     },
     "metadata": {},
     "output_type": "display_data"
    },
    {
     "name": "stdout",
     "output_type": "stream",
     "text": [
      "GOSALESMR.RETAILER_SURVEY_TOPIC\n",
      "(9, 24)\n",
      "********************\n"
     ]
    },
    {
     "data": {
      "text/markdown": [
       "### tab49"
      ],
      "text/plain": [
       "<IPython.core.display.Markdown object>"
      ]
     },
     "metadata": {},
     "output_type": "display_data"
    },
    {
     "name": "stdout",
     "output_type": "stream",
     "text": [
      "GOSALESDW.EMP_TERMINATION_LOOKUP\n",
      "(6, 24)\n",
      "********************\n"
     ]
    },
    {
     "data": {
      "text/markdown": [
       "### tab15"
      ],
      "text/plain": [
       "<IPython.core.display.Markdown object>"
      ]
     },
     "metadata": {},
     "output_type": "display_data"
    },
    {
     "name": "stdout",
     "output_type": "stream",
     "text": [
      "GOSALESCT.CUST_ORDER_STATUS\n",
      "(65, 3)\n",
      "********************\n"
     ]
    },
    {
     "data": {
      "text/markdown": [
       "### tab42"
      ],
      "text/plain": [
       "<IPython.core.display.Markdown object>"
      ]
     },
     "metadata": {},
     "output_type": "display_data"
    },
    {
     "name": "stdout",
     "output_type": "stream",
     "text": [
      "GOSALESDW.EMP_RECRUITMENT_FACT\n",
      "(416, 9)\n",
      "********************\n"
     ]
    },
    {
     "data": {
      "text/markdown": [
       "### tab139"
      ],
      "text/plain": [
       "<IPython.core.display.Markdown object>"
      ]
     },
     "metadata": {},
     "output_type": "display_data"
    },
    {
     "name": "stdout",
     "output_type": "stream",
     "text": [
      "GOSALESDW.SLS_RTL_DIM\n",
      "(847, 73)\n",
      "********************\n"
     ]
    },
    {
     "data": {
      "text/markdown": [
       "### tab54"
      ],
      "text/plain": [
       "<IPython.core.display.Markdown object>"
      ]
     },
     "metadata": {},
     "output_type": "display_data"
    },
    {
     "name": "stdout",
     "output_type": "stream",
     "text": [
      "GOSALESHR.EXPENSE_TYPE\n",
      "(39, 27)\n",
      "********************\n"
     ]
    },
    {
     "data": {
      "text/markdown": [
       "### tab6"
      ],
      "text/plain": [
       "<IPython.core.display.Markdown object>"
      ]
     },
     "metadata": {},
     "output_type": "display_data"
    },
    {
     "name": "stdout",
     "output_type": "stream",
     "text": [
      "GOSALESCT.CUST_COUNTRY\n",
      "(23, 30)\n",
      "********************\n"
     ]
    },
    {
     "data": {
      "text/markdown": [
       "### tab115"
      ],
      "text/plain": [
       "<IPython.core.display.Markdown object>"
      ]
     },
     "metadata": {},
     "output_type": "display_data"
    },
    {
     "name": "stdout",
     "output_type": "stream",
     "text": [
      "GOSALESHR.RECRUITMENT_MEDIUM\n",
      "(14, 25)\n",
      "********************\n"
     ]
    },
    {
     "data": {
      "text/markdown": [
       "### tab97"
      ],
      "text/plain": [
       "<IPython.core.display.Markdown object>"
      ]
     },
     "metadata": {},
     "output_type": "display_data"
    },
    {
     "name": "stdout",
     "output_type": "stream",
     "text": [
      "GOSALES.PRODUCT_COLOR_LOOKUP\n",
      "(27, 24)\n",
      "********************\n"
     ]
    },
    {
     "data": {
      "text/markdown": [
       "### tab78"
      ],
      "text/plain": [
       "<IPython.core.display.Markdown object>"
      ]
     },
     "metadata": {},
     "output_type": "display_data"
    },
    {
     "name": "stdout",
     "output_type": "stream",
     "text": [
      "GOSALESDW.MRK_CAMPAIGN_LOOKUP\n",
      "(12, 24)\n",
      "********************\n"
     ]
    },
    {
     "data": {
      "text/markdown": [
       "### tab142"
      ],
      "text/plain": [
       "<IPython.core.display.Markdown object>"
      ]
     },
     "metadata": {},
     "output_type": "display_data"
    },
    {
     "name": "stdout",
     "output_type": "stream",
     "text": [
      "GOSALESDW.SLS_SALES_TARG_FACT\n",
      "(233625, 8)\n",
      "********************\n"
     ]
    },
    {
     "data": {
      "text/markdown": [
       "### tab39"
      ],
      "text/plain": [
       "<IPython.core.display.Markdown object>"
      ]
     },
     "metadata": {},
     "output_type": "display_data"
    },
    {
     "name": "stdout",
     "output_type": "stream",
     "text": [
      "GOSALESDW.EMP_RANKING_DIM\n",
      "(5, 25)\n",
      "********************\n"
     ]
    },
    {
     "data": {
      "text/markdown": [
       "### tab103"
      ],
      "text/plain": [
       "<IPython.core.display.Markdown object>"
      ]
     },
     "metadata": {},
     "output_type": "display_data"
    },
    {
     "name": "stdout",
     "output_type": "stream",
     "text": [
      "GOSALESMR.PRODUCT_SURVEY_TARGETS\n",
      "(5824, 4)\n",
      "********************\n"
     ]
    },
    {
     "data": {
      "text/markdown": [
       "### tab81"
      ],
      "text/plain": [
       "<IPython.core.display.Markdown object>"
      ]
     },
     "metadata": {},
     "output_type": "display_data"
    },
    {
     "name": "stdout",
     "output_type": "stream",
     "text": [
      "GOSALESDW.MRK_PROD_SURVEY_TARG_FACT\n",
      "(5824, 3)\n",
      "********************\n"
     ]
    },
    {
     "data": {
      "text/markdown": [
       "### tab19"
      ],
      "text/plain": [
       "<IPython.core.display.Markdown object>"
      ]
     },
     "metadata": {},
     "output_type": "display_data"
    },
    {
     "name": "stdout",
     "output_type": "stream",
     "text": [
      "GOSALESDW.DIST_INVENTORY_FACT\n",
      "(53837, 10)\n",
      "********************\n"
     ]
    },
    {
     "data": {
      "text/markdown": [
       "### tab123"
      ],
      "text/plain": [
       "<IPython.core.display.Markdown object>"
      ]
     },
     "metadata": {},
     "output_type": "display_data"
    },
    {
     "name": "stdout",
     "output_type": "stream",
     "text": [
      "GOSALESMR.RETAILER_SURVEY_TARGETS\n",
      "(64, 2)\n",
      "********************\n"
     ]
    },
    {
     "data": {
      "text/markdown": [
       "### tab58"
      ],
      "text/plain": [
       "<IPython.core.display.Markdown object>"
      ]
     },
     "metadata": {},
     "output_type": "display_data"
    },
    {
     "name": "stdout",
     "output_type": "stream",
     "text": [
      "GOSALESDW.FIN_ACCOUNT_NAME_LOOKUP\n",
      "(242, 24)\n",
      "********************\n"
     ]
    },
    {
     "data": {
      "text/markdown": [
       "### tab135"
      ],
      "text/plain": [
       "<IPython.core.display.Markdown object>"
      ]
     },
     "metadata": {},
     "output_type": "display_data"
    },
    {
     "name": "stdout",
     "output_type": "stream",
     "text": [
      "GOSALESDW.SLS_PRODUCT_LINE_LOOKUP\n",
      "(5, 24)\n",
      "********************\n"
     ]
    },
    {
     "data": {
      "text/markdown": [
       "### tab74"
      ],
      "text/plain": [
       "<IPython.core.display.Markdown object>"
      ]
     },
     "metadata": {},
     "output_type": "display_data"
    },
    {
     "name": "stdout",
     "output_type": "stream",
     "text": [
      "GOSALESDW.GO_TIME_QUARTER_LOOKUP\n",
      "(20, 24)\n",
      "********************\n"
     ]
    },
    {
     "data": {
      "text/markdown": [
       "### tab119"
      ],
      "text/plain": [
       "<IPython.core.display.Markdown object>"
      ]
     },
     "metadata": {},
     "output_type": "display_data"
    },
    {
     "name": "stdout",
     "output_type": "stream",
     "text": [
      "GOSALESRT.RETAILER_CONTACT\n",
      "(847, 33)\n",
      "********************\n"
     ]
    },
    {
     "data": {
      "text/markdown": [
       "### tab23"
      ],
      "text/plain": [
       "<IPython.core.display.Markdown object>"
      ]
     },
     "metadata": {},
     "output_type": "display_data"
    },
    {
     "name": "stdout",
     "output_type": "stream",
     "text": [
      "GOSALESHR.EMPLOYEE\n",
      "(766, 13)\n",
      "********************\n"
     ]
    },
    {
     "data": {
      "text/markdown": [
       "### tab35"
      ],
      "text/plain": [
       "<IPython.core.display.Markdown object>"
      ]
     },
     "metadata": {},
     "output_type": "display_data"
    },
    {
     "name": "stdout",
     "output_type": "stream",
     "text": [
      "GOSALESDW.EMP_EXPENSE_UNIT_LOOKUP\n",
      "(3, 24)\n",
      "********************\n"
     ]
    },
    {
     "data": {
      "text/markdown": [
       "### tab62"
      ],
      "text/plain": [
       "<IPython.core.display.Markdown object>"
      ]
     },
     "metadata": {},
     "output_type": "display_data"
    },
    {
     "name": "stdout",
     "output_type": "stream",
     "text": [
      "GOSALESDW.FIN_SUBM_DIM\n",
      "(52, 28)\n",
      "********************\n"
     ]
    },
    {
     "data": {
      "text/markdown": [
       "### tab63"
      ],
      "text/plain": [
       "<IPython.core.display.Markdown object>"
      ]
     },
     "metadata": {},
     "output_type": "display_data"
    },
    {
     "name": "stdout",
     "output_type": "stream",
     "text": [
      "GOSALESDW.FIN_SUBM_TYPE_LOOKUP\n",
      "(3, 24)\n",
      "********************\n"
     ]
    },
    {
     "data": {
      "text/markdown": [
       "### tab34"
      ],
      "text/plain": [
       "<IPython.core.display.Markdown object>"
      ]
     },
     "metadata": {},
     "output_type": "display_data"
    },
    {
     "name": "stdout",
     "output_type": "stream",
     "text": [
      "GOSALESDW.EMP_EXPENSE_TYPE_DIM\n",
      "(39, 50)\n",
      "********************\n"
     ]
    },
    {
     "data": {
      "text/markdown": [
       "### tab22"
      ],
      "text/plain": [
       "<IPython.core.display.Markdown object>"
      ]
     },
     "metadata": {},
     "output_type": "display_data"
    },
    {
     "name": "stdout",
     "output_type": "stream",
     "text": [
      "GOSALESDW.DIST_RETURN_REASON_DIM\n",
      "(5, 25)\n",
      "********************\n"
     ]
    },
    {
     "data": {
      "text/markdown": [
       "### tab118"
      ],
      "text/plain": [
       "<IPython.core.display.Markdown object>"
      ]
     },
     "metadata": {},
     "output_type": "display_data"
    },
    {
     "name": "stdout",
     "output_type": "stream",
     "text": [
      "GOSALESRT.RETAILER_ACTIVITY\n",
      "(17754, 2)\n",
      "********************\n"
     ]
    },
    {
     "data": {
      "text/markdown": [
       "### tab75"
      ],
      "text/plain": [
       "<IPython.core.display.Markdown object>"
      ]
     },
     "metadata": {},
     "output_type": "display_data"
    },
    {
     "name": "stdout",
     "output_type": "stream",
     "text": [
      "GOSALES.INVENTORY_LEVELS\n",
      "(53837, 8)\n",
      "********************\n"
     ]
    },
    {
     "data": {
      "text/markdown": [
       "### tab134"
      ],
      "text/plain": [
       "<IPython.core.display.Markdown object>"
      ]
     },
     "metadata": {},
     "output_type": "display_data"
    },
    {
     "name": "stdout",
     "output_type": "stream",
     "text": [
      "GOSALESDW.SLS_PRODUCT_DIM\n",
      "(274, 14)\n",
      "********************\n"
     ]
    },
    {
     "data": {
      "text/markdown": [
       "### tab59"
      ],
      "text/plain": [
       "<IPython.core.display.Markdown object>"
      ]
     },
     "metadata": {},
     "output_type": "display_data"
    },
    {
     "name": "stdout",
     "output_type": "stream",
     "text": [
      "GOSALESDW.FIN_ACCOUNT_TYPE_LOOKUP\n",
      "(4, 29)\n",
      "********************\n"
     ]
    },
    {
     "data": {
      "text/markdown": [
       "### tab122"
      ],
      "text/plain": [
       "<IPython.core.display.Markdown object>"
      ]
     },
     "metadata": {},
     "output_type": "display_data"
    },
    {
     "name": "stdout",
     "output_type": "stream",
     "text": [
      "GOSALESMR.RETAILER_SURVEY_RESULTS\n",
      "(22508, 6)\n",
      "********************\n"
     ]
    },
    {
     "data": {
      "text/markdown": [
       "### tab18"
      ],
      "text/plain": [
       "<IPython.core.display.Markdown object>"
      ]
     },
     "metadata": {},
     "output_type": "display_data"
    },
    {
     "name": "stdout",
     "output_type": "stream",
     "text": [
      "GOSALESHR.DEPARTMENT_LOOKUP\n",
      "(12, 24)\n",
      "********************\n"
     ]
    },
    {
     "data": {
      "text/markdown": [
       "### tab80"
      ],
      "text/plain": [
       "<IPython.core.display.Markdown object>"
      ]
     },
     "metadata": {},
     "output_type": "display_data"
    },
    {
     "name": "stdout",
     "output_type": "stream",
     "text": [
      "GOSALESDW.MRK_PRODUCT_SURVEY_FACT\n",
      "(165074, 6)\n",
      "********************\n"
     ]
    },
    {
     "data": {
      "text/markdown": [
       "### tab102"
      ],
      "text/plain": [
       "<IPython.core.display.Markdown object>"
      ]
     },
     "metadata": {},
     "output_type": "display_data"
    },
    {
     "name": "stdout",
     "output_type": "stream",
     "text": [
      "GOSALESMR.PRODUCT_SURVEY_RESULTS\n",
      "(165074, 6)\n",
      "********************\n"
     ]
    },
    {
     "data": {
      "text/markdown": [
       "### tab38"
      ],
      "text/plain": [
       "<IPython.core.display.Markdown object>"
      ]
     },
     "metadata": {},
     "output_type": "display_data"
    },
    {
     "name": "stdout",
     "output_type": "stream",
     "text": [
      "GOSALESDW.EMP_POSITION_SUMMARY_FACT\n",
      "(15050, 8)\n",
      "********************\n"
     ]
    },
    {
     "data": {
      "text/markdown": [
       "### tab143"
      ],
      "text/plain": [
       "<IPython.core.display.Markdown object>"
      ]
     },
     "metadata": {},
     "output_type": "display_data"
    },
    {
     "name": "stdout",
     "output_type": "stream",
     "text": [
      "GOSALESHR.SUCCESSION_DETAILS\n",
      "(182, 6)\n",
      "********************\n"
     ]
    },
    {
     "data": {
      "text/markdown": [
       "### tab96"
      ],
      "text/plain": [
       "<IPython.core.display.Markdown object>"
      ]
     },
     "metadata": {},
     "output_type": "display_data"
    },
    {
     "name": "stdout",
     "output_type": "stream",
     "text": [
      "GOSALES.PRODUCT_BRAND\n",
      "(28, 24)\n",
      "********************\n"
     ]
    },
    {
     "data": {
      "text/markdown": [
       "### tab79"
      ],
      "text/plain": [
       "<IPython.core.display.Markdown object>"
      ]
     },
     "metadata": {},
     "output_type": "display_data"
    },
    {
     "name": "stdout",
     "output_type": "stream",
     "text": [
      "GOSALESDW.MRK_PRODUCT_SURVEY_DIM\n",
      "(7, 25)\n",
      "********************\n"
     ]
    },
    {
     "data": {
      "text/markdown": [
       "### tab114"
      ],
      "text/plain": [
       "<IPython.core.display.Markdown object>"
      ]
     },
     "metadata": {},
     "output_type": "display_data"
    },
    {
     "name": "stdout",
     "output_type": "stream",
     "text": [
      "GOSALESHR.RECRUITMENT\n",
      "(416, 8)\n",
      "********************\n"
     ]
    },
    {
     "data": {
      "text/markdown": [
       "### tab7"
      ],
      "text/plain": [
       "<IPython.core.display.Markdown object>"
      ]
     },
     "metadata": {},
     "output_type": "display_data"
    },
    {
     "name": "stdout",
     "output_type": "stream",
     "text": [
      "GOSALESCT.CUST_CRDT_CARD\n",
      "(31255, 6)\n",
      "********************\n"
     ]
    },
    {
     "data": {
      "text/markdown": [
       "### tab55"
      ],
      "text/plain": [
       "<IPython.core.display.Markdown object>"
      ]
     },
     "metadata": {},
     "output_type": "display_data"
    },
    {
     "name": "stdout",
     "output_type": "stream",
     "text": [
      "GOSALESHR.EXPENSE_UNIT\n",
      "(3, 24)\n",
      "********************\n"
     ]
    },
    {
     "data": {
      "text/markdown": [
       "### tab138"
      ],
      "text/plain": [
       "<IPython.core.display.Markdown object>"
      ]
     },
     "metadata": {},
     "output_type": "display_data"
    },
    {
     "name": "stdout",
     "output_type": "stream",
     "text": [
      "GOSALESDW.SLS_PRODUCT_TYPE_LOOKUP\n",
      "(21, 24)\n",
      "********************\n"
     ]
    },
    {
     "data": {
      "text/markdown": [
       "### tab43"
      ],
      "text/plain": [
       "<IPython.core.display.Markdown object>"
      ]
     },
     "metadata": {},
     "output_type": "display_data"
    },
    {
     "name": "stdout",
     "output_type": "stream",
     "text": [
      "GOSALESDW.EMP_SUCCESSION_FACT\n",
      "(181, 7)\n",
      "********************\n"
     ]
    },
    {
     "data": {
      "text/markdown": [
       "### tab14"
      ],
      "text/plain": [
       "<IPython.core.display.Markdown object>"
      ]
     },
     "metadata": {},
     "output_type": "display_data"
    },
    {
     "name": "stdout",
     "output_type": "stream",
     "text": [
      "GOSALESCT.CUST_ORDER_HEADER\n",
      "(39389, 13)\n",
      "********************\n"
     ]
    }
   ],
   "source": [
    "insert_tables()"
   ]
  },
  {
   "cell_type": "markdown",
   "metadata": {},
   "source": [
    "## Check to make sure it worked"
   ]
  },
  {
   "cell_type": "code",
   "execution_count": 56,
   "metadata": {
    "scrolled": false
   },
   "outputs": [
    {
     "data": {
      "text/markdown": [
       "#### tab83"
      ],
      "text/plain": [
       "<IPython.core.display.Markdown object>"
      ]
     },
     "metadata": {},
     "output_type": "display_data"
    },
    {
     "name": "stdout",
     "output_type": "stream",
     "text": [
      "GOSALESDW.MRK_PROMOTION_FACT\n"
     ]
    },
    {
     "ename": "OperationalError",
     "evalue": "(pyodbc.OperationalError) ('08S01', '[08S01] [Microsoft][ODBC Driver 17 for SQL Server]Communication link failure (0) (SQLPrepare)')\n[SQL: SELECT [INFORMATION_SCHEMA].[TABLES].[TABLE_NAME] \nFROM [INFORMATION_SCHEMA].[TABLES] \nWHERE [INFORMATION_SCHEMA].[TABLES].[TABLE_SCHEMA] = CAST(? AS NVARCHAR(max)) AND [INFORMATION_SCHEMA].[TABLES].[TABLE_TYPE] = CAST(? AS NVARCHAR(max)) ORDER BY [INFORMATION_SCHEMA].[TABLES].[TABLE_NAME]]\n[parameters: ('GOSALESDW', 'BASE TABLE')]\n(Background on this error at: http://sqlalche.me/e/13/e3q8)",
     "output_type": "error",
     "traceback": [
      "\u001b[0;31m---------------------------------------------------------------------------\u001b[0m",
      "\u001b[0;31mOperationalError\u001b[0m                          Traceback (most recent call last)",
      "\u001b[0;32m~/miniconda3/envs/connection/lib/python3.8/site-packages/sqlalchemy/engine/base.py\u001b[0m in \u001b[0;36m_execute_context\u001b[0;34m(self, dialect, constructor, statement, parameters, *args)\u001b[0m\n\u001b[1;32m   1275\u001b[0m                 \u001b[0;32mif\u001b[0m \u001b[0;32mnot\u001b[0m \u001b[0mevt_handled\u001b[0m\u001b[0;34m:\u001b[0m\u001b[0;34m\u001b[0m\u001b[0;34m\u001b[0m\u001b[0m\n\u001b[0;32m-> 1276\u001b[0;31m                     self.dialect.do_execute(\n\u001b[0m\u001b[1;32m   1277\u001b[0m                         \u001b[0mcursor\u001b[0m\u001b[0;34m,\u001b[0m \u001b[0mstatement\u001b[0m\u001b[0;34m,\u001b[0m \u001b[0mparameters\u001b[0m\u001b[0;34m,\u001b[0m \u001b[0mcontext\u001b[0m\u001b[0;34m\u001b[0m\u001b[0;34m\u001b[0m\u001b[0m\n",
      "\u001b[0;32m~/miniconda3/envs/connection/lib/python3.8/site-packages/sqlalchemy/engine/default.py\u001b[0m in \u001b[0;36mdo_execute\u001b[0;34m(self, cursor, statement, parameters, context)\u001b[0m\n\u001b[1;32m    592\u001b[0m     \u001b[0;32mdef\u001b[0m \u001b[0mdo_execute\u001b[0m\u001b[0;34m(\u001b[0m\u001b[0mself\u001b[0m\u001b[0;34m,\u001b[0m \u001b[0mcursor\u001b[0m\u001b[0;34m,\u001b[0m \u001b[0mstatement\u001b[0m\u001b[0;34m,\u001b[0m \u001b[0mparameters\u001b[0m\u001b[0;34m,\u001b[0m \u001b[0mcontext\u001b[0m\u001b[0;34m=\u001b[0m\u001b[0;32mNone\u001b[0m\u001b[0;34m)\u001b[0m\u001b[0;34m:\u001b[0m\u001b[0;34m\u001b[0m\u001b[0;34m\u001b[0m\u001b[0m\n\u001b[0;32m--> 593\u001b[0;31m         \u001b[0mcursor\u001b[0m\u001b[0;34m.\u001b[0m\u001b[0mexecute\u001b[0m\u001b[0;34m(\u001b[0m\u001b[0mstatement\u001b[0m\u001b[0;34m,\u001b[0m \u001b[0mparameters\u001b[0m\u001b[0;34m)\u001b[0m\u001b[0;34m\u001b[0m\u001b[0;34m\u001b[0m\u001b[0m\n\u001b[0m\u001b[1;32m    594\u001b[0m \u001b[0;34m\u001b[0m\u001b[0m\n",
      "\u001b[0;31mOperationalError\u001b[0m: ('08S01', '[08S01] [Microsoft][ODBC Driver 17 for SQL Server]Communication link failure (0) (SQLPrepare)')",
      "\nThe above exception was the direct cause of the following exception:\n",
      "\u001b[0;31mOperationalError\u001b[0m                          Traceback (most recent call last)",
      "\u001b[0;32m<ipython-input-56-e2514f42ed90>\u001b[0m in \u001b[0;36m<module>\u001b[0;34m\u001b[0m\n\u001b[1;32m     10\u001b[0m     \u001b[0mprint\u001b[0m\u001b[0;34m(\u001b[0m\u001b[0;34mf\"{schema}.{table}\"\u001b[0m\u001b[0;34m)\u001b[0m\u001b[0;34m\u001b[0m\u001b[0;34m\u001b[0m\u001b[0m\n\u001b[1;32m     11\u001b[0m     \u001b[0;32mif\u001b[0m \u001b[0mjson_table\u001b[0m \u001b[0;32mnot\u001b[0m \u001b[0;32min\u001b[0m \u001b[0mbad_jsons\u001b[0m\u001b[0;34m:\u001b[0m\u001b[0;34m\u001b[0m\u001b[0;34m\u001b[0m\u001b[0m\n\u001b[0;32m---> 12\u001b[0;31m         \u001b[0mdf\u001b[0m \u001b[0;34m=\u001b[0m \u001b[0mpd\u001b[0m\u001b[0;34m.\u001b[0m\u001b[0mread_sql_table\u001b[0m\u001b[0;34m(\u001b[0m\u001b[0mtable\u001b[0m\u001b[0;34m,\u001b[0m \u001b[0mcon\u001b[0m\u001b[0;34m=\u001b[0m\u001b[0mengine\u001b[0m\u001b[0;34m,\u001b[0m \u001b[0mschema\u001b[0m\u001b[0;34m=\u001b[0m\u001b[0mschema\u001b[0m\u001b[0;34m)\u001b[0m\u001b[0;34m\u001b[0m\u001b[0;34m\u001b[0m\u001b[0m\n\u001b[0m\u001b[1;32m     13\u001b[0m         \u001b[0mprint\u001b[0m\u001b[0;34m(\u001b[0m\u001b[0mdf\u001b[0m\u001b[0;34m.\u001b[0m\u001b[0mshape\u001b[0m\u001b[0;34m)\u001b[0m\u001b[0;34m\u001b[0m\u001b[0;34m\u001b[0m\u001b[0m\n\u001b[1;32m     14\u001b[0m         \u001b[0mdisplay\u001b[0m\u001b[0;34m(\u001b[0m\u001b[0mdf\u001b[0m\u001b[0;34m.\u001b[0m\u001b[0mhead\u001b[0m\u001b[0;34m(\u001b[0m\u001b[0;34m)\u001b[0m\u001b[0;34m)\u001b[0m\u001b[0;34m\u001b[0m\u001b[0;34m\u001b[0m\u001b[0m\n",
      "\u001b[0;32m~/miniconda3/envs/connection/lib/python3.8/site-packages/pandas/io/sql.py\u001b[0m in \u001b[0;36mread_sql_table\u001b[0;34m(table_name, con, schema, index_col, coerce_float, parse_dates, columns, chunksize)\u001b[0m\n\u001b[1;32m    267\u001b[0m     \u001b[0mmeta\u001b[0m \u001b[0;34m=\u001b[0m \u001b[0mMetaData\u001b[0m\u001b[0;34m(\u001b[0m\u001b[0mcon\u001b[0m\u001b[0;34m,\u001b[0m \u001b[0mschema\u001b[0m\u001b[0;34m=\u001b[0m\u001b[0mschema\u001b[0m\u001b[0;34m)\u001b[0m\u001b[0;34m\u001b[0m\u001b[0;34m\u001b[0m\u001b[0m\n\u001b[1;32m    268\u001b[0m     \u001b[0;32mtry\u001b[0m\u001b[0;34m:\u001b[0m\u001b[0;34m\u001b[0m\u001b[0;34m\u001b[0m\u001b[0m\n\u001b[0;32m--> 269\u001b[0;31m         \u001b[0mmeta\u001b[0m\u001b[0;34m.\u001b[0m\u001b[0mreflect\u001b[0m\u001b[0;34m(\u001b[0m\u001b[0monly\u001b[0m\u001b[0;34m=\u001b[0m\u001b[0;34m[\u001b[0m\u001b[0mtable_name\u001b[0m\u001b[0;34m]\u001b[0m\u001b[0;34m,\u001b[0m \u001b[0mviews\u001b[0m\u001b[0;34m=\u001b[0m\u001b[0;32mTrue\u001b[0m\u001b[0;34m)\u001b[0m\u001b[0;34m\u001b[0m\u001b[0;34m\u001b[0m\u001b[0m\n\u001b[0m\u001b[1;32m    270\u001b[0m     \u001b[0;32mexcept\u001b[0m \u001b[0msqlalchemy\u001b[0m\u001b[0;34m.\u001b[0m\u001b[0mexc\u001b[0m\u001b[0;34m.\u001b[0m\u001b[0mInvalidRequestError\u001b[0m \u001b[0;32mas\u001b[0m \u001b[0merr\u001b[0m\u001b[0;34m:\u001b[0m\u001b[0;34m\u001b[0m\u001b[0;34m\u001b[0m\u001b[0m\n\u001b[1;32m    271\u001b[0m         \u001b[0;32mraise\u001b[0m \u001b[0mValueError\u001b[0m\u001b[0;34m(\u001b[0m\u001b[0;34mf\"Table {table_name} not found\"\u001b[0m\u001b[0;34m)\u001b[0m \u001b[0;32mfrom\u001b[0m \u001b[0merr\u001b[0m\u001b[0;34m\u001b[0m\u001b[0;34m\u001b[0m\u001b[0m\n",
      "\u001b[0;32m~/miniconda3/envs/connection/lib/python3.8/site-packages/sqlalchemy/sql/schema.py\u001b[0m in \u001b[0;36mreflect\u001b[0;34m(self, bind, schema, views, only, extend_existing, autoload_replace, resolve_fks, **dialect_kwargs)\u001b[0m\n\u001b[1;32m   4465\u001b[0m \u001b[0;34m\u001b[0m\u001b[0m\n\u001b[1;32m   4466\u001b[0m             available = util.OrderedSet(\n\u001b[0;32m-> 4467\u001b[0;31m                 \u001b[0mbind\u001b[0m\u001b[0;34m.\u001b[0m\u001b[0mengine\u001b[0m\u001b[0;34m.\u001b[0m\u001b[0mtable_names\u001b[0m\u001b[0;34m(\u001b[0m\u001b[0mschema\u001b[0m\u001b[0;34m,\u001b[0m \u001b[0mconnection\u001b[0m\u001b[0;34m=\u001b[0m\u001b[0mconn\u001b[0m\u001b[0;34m)\u001b[0m\u001b[0;34m\u001b[0m\u001b[0;34m\u001b[0m\u001b[0m\n\u001b[0m\u001b[1;32m   4468\u001b[0m             )\n\u001b[1;32m   4469\u001b[0m             \u001b[0;32mif\u001b[0m \u001b[0mviews\u001b[0m\u001b[0;34m:\u001b[0m\u001b[0;34m\u001b[0m\u001b[0;34m\u001b[0m\u001b[0m\n",
      "\u001b[0;32m~/miniconda3/envs/connection/lib/python3.8/site-packages/sqlalchemy/engine/base.py\u001b[0m in \u001b[0;36mtable_names\u001b[0;34m(self, schema, connection)\u001b[0m\n\u001b[1;32m   2317\u001b[0m \u001b[0;34m\u001b[0m\u001b[0m\n\u001b[1;32m   2318\u001b[0m         \u001b[0;32mwith\u001b[0m \u001b[0mself\u001b[0m\u001b[0;34m.\u001b[0m\u001b[0m_optional_conn_ctx_manager\u001b[0m\u001b[0;34m(\u001b[0m\u001b[0mconnection\u001b[0m\u001b[0;34m)\u001b[0m \u001b[0;32mas\u001b[0m \u001b[0mconn\u001b[0m\u001b[0;34m:\u001b[0m\u001b[0;34m\u001b[0m\u001b[0;34m\u001b[0m\u001b[0m\n\u001b[0;32m-> 2319\u001b[0;31m             \u001b[0;32mreturn\u001b[0m \u001b[0mself\u001b[0m\u001b[0;34m.\u001b[0m\u001b[0mdialect\u001b[0m\u001b[0;34m.\u001b[0m\u001b[0mget_table_names\u001b[0m\u001b[0;34m(\u001b[0m\u001b[0mconn\u001b[0m\u001b[0;34m,\u001b[0m \u001b[0mschema\u001b[0m\u001b[0;34m)\u001b[0m\u001b[0;34m\u001b[0m\u001b[0;34m\u001b[0m\u001b[0m\n\u001b[0m\u001b[1;32m   2320\u001b[0m \u001b[0;34m\u001b[0m\u001b[0m\n\u001b[1;32m   2321\u001b[0m     \u001b[0;32mdef\u001b[0m \u001b[0mhas_table\u001b[0m\u001b[0;34m(\u001b[0m\u001b[0mself\u001b[0m\u001b[0;34m,\u001b[0m \u001b[0mtable_name\u001b[0m\u001b[0;34m,\u001b[0m \u001b[0mschema\u001b[0m\u001b[0;34m=\u001b[0m\u001b[0;32mNone\u001b[0m\u001b[0;34m)\u001b[0m\u001b[0;34m:\u001b[0m\u001b[0;34m\u001b[0m\u001b[0;34m\u001b[0m\u001b[0m\n",
      "\u001b[0;32m<string>\u001b[0m in \u001b[0;36mget_table_names\u001b[0;34m(dialect, connection, schema, **kw)\u001b[0m\n",
      "\u001b[0;32m~/miniconda3/envs/connection/lib/python3.8/site-packages/sqlalchemy/engine/reflection.py\u001b[0m in \u001b[0;36mcache\u001b[0;34m(fn, self, con, *args, **kw)\u001b[0m\n\u001b[1;32m     42\u001b[0m     \u001b[0minfo_cache\u001b[0m \u001b[0;34m=\u001b[0m \u001b[0mkw\u001b[0m\u001b[0;34m.\u001b[0m\u001b[0mget\u001b[0m\u001b[0;34m(\u001b[0m\u001b[0;34m\"info_cache\"\u001b[0m\u001b[0;34m,\u001b[0m \u001b[0;32mNone\u001b[0m\u001b[0;34m)\u001b[0m\u001b[0;34m\u001b[0m\u001b[0;34m\u001b[0m\u001b[0m\n\u001b[1;32m     43\u001b[0m     \u001b[0;32mif\u001b[0m \u001b[0minfo_cache\u001b[0m \u001b[0;32mis\u001b[0m \u001b[0;32mNone\u001b[0m\u001b[0;34m:\u001b[0m\u001b[0;34m\u001b[0m\u001b[0;34m\u001b[0m\u001b[0m\n\u001b[0;32m---> 44\u001b[0;31m         \u001b[0;32mreturn\u001b[0m \u001b[0mfn\u001b[0m\u001b[0;34m(\u001b[0m\u001b[0mself\u001b[0m\u001b[0;34m,\u001b[0m \u001b[0mcon\u001b[0m\u001b[0;34m,\u001b[0m \u001b[0;34m*\u001b[0m\u001b[0margs\u001b[0m\u001b[0;34m,\u001b[0m \u001b[0;34m**\u001b[0m\u001b[0mkw\u001b[0m\u001b[0;34m)\u001b[0m\u001b[0;34m\u001b[0m\u001b[0;34m\u001b[0m\u001b[0m\n\u001b[0m\u001b[1;32m     45\u001b[0m     key = (\n\u001b[1;32m     46\u001b[0m         \u001b[0mfn\u001b[0m\u001b[0;34m.\u001b[0m\u001b[0m__name__\u001b[0m\u001b[0;34m,\u001b[0m\u001b[0;34m\u001b[0m\u001b[0;34m\u001b[0m\u001b[0m\n",
      "\u001b[0;32m~/miniconda3/envs/connection/lib/python3.8/site-packages/sqlalchemy/dialects/mssql/base.py\u001b[0m in \u001b[0;36mwrap\u001b[0;34m(dialect, connection, schema, **kw)\u001b[0m\n\u001b[1;32m   2177\u001b[0m     \u001b[0;32mdef\u001b[0m \u001b[0mwrap\u001b[0m\u001b[0;34m(\u001b[0m\u001b[0mdialect\u001b[0m\u001b[0;34m,\u001b[0m \u001b[0mconnection\u001b[0m\u001b[0;34m,\u001b[0m \u001b[0mschema\u001b[0m\u001b[0;34m=\u001b[0m\u001b[0;32mNone\u001b[0m\u001b[0;34m,\u001b[0m \u001b[0;34m**\u001b[0m\u001b[0mkw\u001b[0m\u001b[0;34m)\u001b[0m\u001b[0;34m:\u001b[0m\u001b[0;34m\u001b[0m\u001b[0;34m\u001b[0m\u001b[0m\n\u001b[1;32m   2178\u001b[0m         \u001b[0mdbname\u001b[0m\u001b[0;34m,\u001b[0m \u001b[0mowner\u001b[0m \u001b[0;34m=\u001b[0m \u001b[0m_owner_plus_db\u001b[0m\u001b[0;34m(\u001b[0m\u001b[0mdialect\u001b[0m\u001b[0;34m,\u001b[0m \u001b[0mschema\u001b[0m\u001b[0;34m)\u001b[0m\u001b[0;34m\u001b[0m\u001b[0;34m\u001b[0m\u001b[0m\n\u001b[0;32m-> 2179\u001b[0;31m         return _switch_db(\n\u001b[0m\u001b[1;32m   2180\u001b[0m             \u001b[0mdbname\u001b[0m\u001b[0;34m,\u001b[0m\u001b[0;34m\u001b[0m\u001b[0;34m\u001b[0m\u001b[0m\n\u001b[1;32m   2181\u001b[0m             \u001b[0mconnection\u001b[0m\u001b[0;34m,\u001b[0m\u001b[0;34m\u001b[0m\u001b[0;34m\u001b[0m\u001b[0m\n",
      "\u001b[0;32m~/miniconda3/envs/connection/lib/python3.8/site-packages/sqlalchemy/dialects/mssql/base.py\u001b[0m in \u001b[0;36m_switch_db\u001b[0;34m(dbname, connection, fn, *arg, **kw)\u001b[0m\n\u001b[1;32m   2219\u001b[0m             )\n\u001b[1;32m   2220\u001b[0m     \u001b[0;32mtry\u001b[0m\u001b[0;34m:\u001b[0m\u001b[0;34m\u001b[0m\u001b[0;34m\u001b[0m\u001b[0m\n\u001b[0;32m-> 2221\u001b[0;31m         \u001b[0;32mreturn\u001b[0m \u001b[0mfn\u001b[0m\u001b[0;34m(\u001b[0m\u001b[0;34m*\u001b[0m\u001b[0marg\u001b[0m\u001b[0;34m,\u001b[0m \u001b[0;34m**\u001b[0m\u001b[0mkw\u001b[0m\u001b[0;34m)\u001b[0m\u001b[0;34m\u001b[0m\u001b[0;34m\u001b[0m\u001b[0m\n\u001b[0m\u001b[1;32m   2222\u001b[0m     \u001b[0;32mfinally\u001b[0m\u001b[0;34m:\u001b[0m\u001b[0;34m\u001b[0m\u001b[0;34m\u001b[0m\u001b[0m\n\u001b[1;32m   2223\u001b[0m         \u001b[0;32mif\u001b[0m \u001b[0mdbname\u001b[0m \u001b[0;32mand\u001b[0m \u001b[0mcurrent_db\u001b[0m \u001b[0;34m!=\u001b[0m \u001b[0mdbname\u001b[0m\u001b[0;34m:\u001b[0m\u001b[0;34m\u001b[0m\u001b[0;34m\u001b[0m\u001b[0m\n",
      "\u001b[0;32m~/miniconda3/envs/connection/lib/python3.8/site-packages/sqlalchemy/dialects/mssql/base.py\u001b[0m in \u001b[0;36mget_table_names\u001b[0;34m(self, connection, dbname, owner, schema, **kw)\u001b[0m\n\u001b[1;32m   2532\u001b[0m             \u001b[0morder_by\u001b[0m\u001b[0;34m=\u001b[0m\u001b[0;34m[\u001b[0m\u001b[0mtables\u001b[0m\u001b[0;34m.\u001b[0m\u001b[0mc\u001b[0m\u001b[0;34m.\u001b[0m\u001b[0mtable_name\u001b[0m\u001b[0;34m]\u001b[0m\u001b[0;34m,\u001b[0m\u001b[0;34m\u001b[0m\u001b[0;34m\u001b[0m\u001b[0m\n\u001b[1;32m   2533\u001b[0m         )\n\u001b[0;32m-> 2534\u001b[0;31m         \u001b[0mtable_names\u001b[0m \u001b[0;34m=\u001b[0m \u001b[0;34m[\u001b[0m\u001b[0mr\u001b[0m\u001b[0;34m[\u001b[0m\u001b[0;36m0\u001b[0m\u001b[0;34m]\u001b[0m \u001b[0;32mfor\u001b[0m \u001b[0mr\u001b[0m \u001b[0;32min\u001b[0m \u001b[0mconnection\u001b[0m\u001b[0;34m.\u001b[0m\u001b[0mexecute\u001b[0m\u001b[0;34m(\u001b[0m\u001b[0ms\u001b[0m\u001b[0;34m)\u001b[0m\u001b[0;34m]\u001b[0m\u001b[0;34m\u001b[0m\u001b[0;34m\u001b[0m\u001b[0m\n\u001b[0m\u001b[1;32m   2535\u001b[0m         \u001b[0;32mreturn\u001b[0m \u001b[0mtable_names\u001b[0m\u001b[0;34m\u001b[0m\u001b[0;34m\u001b[0m\u001b[0m\n\u001b[1;32m   2536\u001b[0m \u001b[0;34m\u001b[0m\u001b[0m\n",
      "\u001b[0;32m~/miniconda3/envs/connection/lib/python3.8/site-packages/sqlalchemy/engine/base.py\u001b[0m in \u001b[0;36mexecute\u001b[0;34m(self, object_, *multiparams, **params)\u001b[0m\n\u001b[1;32m   1009\u001b[0m             )\n\u001b[1;32m   1010\u001b[0m         \u001b[0;32melse\u001b[0m\u001b[0;34m:\u001b[0m\u001b[0;34m\u001b[0m\u001b[0;34m\u001b[0m\u001b[0m\n\u001b[0;32m-> 1011\u001b[0;31m             \u001b[0;32mreturn\u001b[0m \u001b[0mmeth\u001b[0m\u001b[0;34m(\u001b[0m\u001b[0mself\u001b[0m\u001b[0;34m,\u001b[0m \u001b[0mmultiparams\u001b[0m\u001b[0;34m,\u001b[0m \u001b[0mparams\u001b[0m\u001b[0;34m)\u001b[0m\u001b[0;34m\u001b[0m\u001b[0;34m\u001b[0m\u001b[0m\n\u001b[0m\u001b[1;32m   1012\u001b[0m \u001b[0;34m\u001b[0m\u001b[0m\n\u001b[1;32m   1013\u001b[0m     \u001b[0;32mdef\u001b[0m \u001b[0m_execute_function\u001b[0m\u001b[0;34m(\u001b[0m\u001b[0mself\u001b[0m\u001b[0;34m,\u001b[0m \u001b[0mfunc\u001b[0m\u001b[0;34m,\u001b[0m \u001b[0mmultiparams\u001b[0m\u001b[0;34m,\u001b[0m \u001b[0mparams\u001b[0m\u001b[0;34m)\u001b[0m\u001b[0;34m:\u001b[0m\u001b[0;34m\u001b[0m\u001b[0;34m\u001b[0m\u001b[0m\n",
      "\u001b[0;32m~/miniconda3/envs/connection/lib/python3.8/site-packages/sqlalchemy/sql/elements.py\u001b[0m in \u001b[0;36m_execute_on_connection\u001b[0;34m(self, connection, multiparams, params)\u001b[0m\n\u001b[1;32m    296\u001b[0m     \u001b[0;32mdef\u001b[0m \u001b[0m_execute_on_connection\u001b[0m\u001b[0;34m(\u001b[0m\u001b[0mself\u001b[0m\u001b[0;34m,\u001b[0m \u001b[0mconnection\u001b[0m\u001b[0;34m,\u001b[0m \u001b[0mmultiparams\u001b[0m\u001b[0;34m,\u001b[0m \u001b[0mparams\u001b[0m\u001b[0;34m)\u001b[0m\u001b[0;34m:\u001b[0m\u001b[0;34m\u001b[0m\u001b[0;34m\u001b[0m\u001b[0m\n\u001b[1;32m    297\u001b[0m         \u001b[0;32mif\u001b[0m \u001b[0mself\u001b[0m\u001b[0;34m.\u001b[0m\u001b[0msupports_execution\u001b[0m\u001b[0;34m:\u001b[0m\u001b[0;34m\u001b[0m\u001b[0;34m\u001b[0m\u001b[0m\n\u001b[0;32m--> 298\u001b[0;31m             \u001b[0;32mreturn\u001b[0m \u001b[0mconnection\u001b[0m\u001b[0;34m.\u001b[0m\u001b[0m_execute_clauseelement\u001b[0m\u001b[0;34m(\u001b[0m\u001b[0mself\u001b[0m\u001b[0;34m,\u001b[0m \u001b[0mmultiparams\u001b[0m\u001b[0;34m,\u001b[0m \u001b[0mparams\u001b[0m\u001b[0;34m)\u001b[0m\u001b[0;34m\u001b[0m\u001b[0;34m\u001b[0m\u001b[0m\n\u001b[0m\u001b[1;32m    299\u001b[0m         \u001b[0;32melse\u001b[0m\u001b[0;34m:\u001b[0m\u001b[0;34m\u001b[0m\u001b[0;34m\u001b[0m\u001b[0m\n\u001b[1;32m    300\u001b[0m             \u001b[0;32mraise\u001b[0m \u001b[0mexc\u001b[0m\u001b[0;34m.\u001b[0m\u001b[0mObjectNotExecutableError\u001b[0m\u001b[0;34m(\u001b[0m\u001b[0mself\u001b[0m\u001b[0;34m)\u001b[0m\u001b[0;34m\u001b[0m\u001b[0;34m\u001b[0m\u001b[0m\n",
      "\u001b[0;32m~/miniconda3/envs/connection/lib/python3.8/site-packages/sqlalchemy/engine/base.py\u001b[0m in \u001b[0;36m_execute_clauseelement\u001b[0;34m(self, elem, multiparams, params)\u001b[0m\n\u001b[1;32m   1122\u001b[0m             )\n\u001b[1;32m   1123\u001b[0m \u001b[0;34m\u001b[0m\u001b[0m\n\u001b[0;32m-> 1124\u001b[0;31m         ret = self._execute_context(\n\u001b[0m\u001b[1;32m   1125\u001b[0m             \u001b[0mdialect\u001b[0m\u001b[0;34m,\u001b[0m\u001b[0;34m\u001b[0m\u001b[0;34m\u001b[0m\u001b[0m\n\u001b[1;32m   1126\u001b[0m             \u001b[0mdialect\u001b[0m\u001b[0;34m.\u001b[0m\u001b[0mexecution_ctx_cls\u001b[0m\u001b[0;34m.\u001b[0m\u001b[0m_init_compiled\u001b[0m\u001b[0;34m,\u001b[0m\u001b[0;34m\u001b[0m\u001b[0;34m\u001b[0m\u001b[0m\n",
      "\u001b[0;32m~/miniconda3/envs/connection/lib/python3.8/site-packages/sqlalchemy/engine/base.py\u001b[0m in \u001b[0;36m_execute_context\u001b[0;34m(self, dialect, constructor, statement, parameters, *args)\u001b[0m\n\u001b[1;32m   1314\u001b[0m \u001b[0;34m\u001b[0m\u001b[0m\n\u001b[1;32m   1315\u001b[0m         \u001b[0;32mexcept\u001b[0m \u001b[0mBaseException\u001b[0m \u001b[0;32mas\u001b[0m \u001b[0me\u001b[0m\u001b[0;34m:\u001b[0m\u001b[0;34m\u001b[0m\u001b[0;34m\u001b[0m\u001b[0m\n\u001b[0;32m-> 1316\u001b[0;31m             self._handle_dbapi_exception(\n\u001b[0m\u001b[1;32m   1317\u001b[0m                 \u001b[0me\u001b[0m\u001b[0;34m,\u001b[0m \u001b[0mstatement\u001b[0m\u001b[0;34m,\u001b[0m \u001b[0mparameters\u001b[0m\u001b[0;34m,\u001b[0m \u001b[0mcursor\u001b[0m\u001b[0;34m,\u001b[0m \u001b[0mcontext\u001b[0m\u001b[0;34m\u001b[0m\u001b[0;34m\u001b[0m\u001b[0m\n\u001b[1;32m   1318\u001b[0m             )\n",
      "\u001b[0;32m~/miniconda3/envs/connection/lib/python3.8/site-packages/sqlalchemy/engine/base.py\u001b[0m in \u001b[0;36m_handle_dbapi_exception\u001b[0;34m(self, e, statement, parameters, cursor, context)\u001b[0m\n\u001b[1;32m   1508\u001b[0m                 \u001b[0mutil\u001b[0m\u001b[0;34m.\u001b[0m\u001b[0mraise_\u001b[0m\u001b[0;34m(\u001b[0m\u001b[0mnewraise\u001b[0m\u001b[0;34m,\u001b[0m \u001b[0mwith_traceback\u001b[0m\u001b[0;34m=\u001b[0m\u001b[0mexc_info\u001b[0m\u001b[0;34m[\u001b[0m\u001b[0;36m2\u001b[0m\u001b[0;34m]\u001b[0m\u001b[0;34m,\u001b[0m \u001b[0mfrom_\u001b[0m\u001b[0;34m=\u001b[0m\u001b[0me\u001b[0m\u001b[0;34m)\u001b[0m\u001b[0;34m\u001b[0m\u001b[0;34m\u001b[0m\u001b[0m\n\u001b[1;32m   1509\u001b[0m             \u001b[0;32melif\u001b[0m \u001b[0mshould_wrap\u001b[0m\u001b[0;34m:\u001b[0m\u001b[0;34m\u001b[0m\u001b[0;34m\u001b[0m\u001b[0m\n\u001b[0;32m-> 1510\u001b[0;31m                 util.raise_(\n\u001b[0m\u001b[1;32m   1511\u001b[0m                     \u001b[0msqlalchemy_exception\u001b[0m\u001b[0;34m,\u001b[0m \u001b[0mwith_traceback\u001b[0m\u001b[0;34m=\u001b[0m\u001b[0mexc_info\u001b[0m\u001b[0;34m[\u001b[0m\u001b[0;36m2\u001b[0m\u001b[0;34m]\u001b[0m\u001b[0;34m,\u001b[0m \u001b[0mfrom_\u001b[0m\u001b[0;34m=\u001b[0m\u001b[0me\u001b[0m\u001b[0;34m\u001b[0m\u001b[0;34m\u001b[0m\u001b[0m\n\u001b[1;32m   1512\u001b[0m                 )\n",
      "\u001b[0;32m~/miniconda3/envs/connection/lib/python3.8/site-packages/sqlalchemy/util/compat.py\u001b[0m in \u001b[0;36mraise_\u001b[0;34m(***failed resolving arguments***)\u001b[0m\n\u001b[1;32m    180\u001b[0m \u001b[0;34m\u001b[0m\u001b[0m\n\u001b[1;32m    181\u001b[0m         \u001b[0;32mtry\u001b[0m\u001b[0;34m:\u001b[0m\u001b[0;34m\u001b[0m\u001b[0;34m\u001b[0m\u001b[0m\n\u001b[0;32m--> 182\u001b[0;31m             \u001b[0;32mraise\u001b[0m \u001b[0mexception\u001b[0m\u001b[0;34m\u001b[0m\u001b[0;34m\u001b[0m\u001b[0m\n\u001b[0m\u001b[1;32m    183\u001b[0m         \u001b[0;32mfinally\u001b[0m\u001b[0;34m:\u001b[0m\u001b[0;34m\u001b[0m\u001b[0;34m\u001b[0m\u001b[0m\n\u001b[1;32m    184\u001b[0m             \u001b[0;31m# credit to\u001b[0m\u001b[0;34m\u001b[0m\u001b[0;34m\u001b[0m\u001b[0;34m\u001b[0m\u001b[0m\n",
      "\u001b[0;32m~/miniconda3/envs/connection/lib/python3.8/site-packages/sqlalchemy/engine/base.py\u001b[0m in \u001b[0;36m_execute_context\u001b[0;34m(self, dialect, constructor, statement, parameters, *args)\u001b[0m\n\u001b[1;32m   1274\u001b[0m                             \u001b[0;32mbreak\u001b[0m\u001b[0;34m\u001b[0m\u001b[0;34m\u001b[0m\u001b[0m\n\u001b[1;32m   1275\u001b[0m                 \u001b[0;32mif\u001b[0m \u001b[0;32mnot\u001b[0m \u001b[0mevt_handled\u001b[0m\u001b[0;34m:\u001b[0m\u001b[0;34m\u001b[0m\u001b[0;34m\u001b[0m\u001b[0m\n\u001b[0;32m-> 1276\u001b[0;31m                     self.dialect.do_execute(\n\u001b[0m\u001b[1;32m   1277\u001b[0m                         \u001b[0mcursor\u001b[0m\u001b[0;34m,\u001b[0m \u001b[0mstatement\u001b[0m\u001b[0;34m,\u001b[0m \u001b[0mparameters\u001b[0m\u001b[0;34m,\u001b[0m \u001b[0mcontext\u001b[0m\u001b[0;34m\u001b[0m\u001b[0;34m\u001b[0m\u001b[0m\n\u001b[1;32m   1278\u001b[0m                     )\n",
      "\u001b[0;32m~/miniconda3/envs/connection/lib/python3.8/site-packages/sqlalchemy/engine/default.py\u001b[0m in \u001b[0;36mdo_execute\u001b[0;34m(self, cursor, statement, parameters, context)\u001b[0m\n\u001b[1;32m    591\u001b[0m \u001b[0;34m\u001b[0m\u001b[0m\n\u001b[1;32m    592\u001b[0m     \u001b[0;32mdef\u001b[0m \u001b[0mdo_execute\u001b[0m\u001b[0;34m(\u001b[0m\u001b[0mself\u001b[0m\u001b[0;34m,\u001b[0m \u001b[0mcursor\u001b[0m\u001b[0;34m,\u001b[0m \u001b[0mstatement\u001b[0m\u001b[0;34m,\u001b[0m \u001b[0mparameters\u001b[0m\u001b[0;34m,\u001b[0m \u001b[0mcontext\u001b[0m\u001b[0;34m=\u001b[0m\u001b[0;32mNone\u001b[0m\u001b[0;34m)\u001b[0m\u001b[0;34m:\u001b[0m\u001b[0;34m\u001b[0m\u001b[0;34m\u001b[0m\u001b[0m\n\u001b[0;32m--> 593\u001b[0;31m         \u001b[0mcursor\u001b[0m\u001b[0;34m.\u001b[0m\u001b[0mexecute\u001b[0m\u001b[0;34m(\u001b[0m\u001b[0mstatement\u001b[0m\u001b[0;34m,\u001b[0m \u001b[0mparameters\u001b[0m\u001b[0;34m)\u001b[0m\u001b[0;34m\u001b[0m\u001b[0;34m\u001b[0m\u001b[0m\n\u001b[0m\u001b[1;32m    594\u001b[0m \u001b[0;34m\u001b[0m\u001b[0m\n\u001b[1;32m    595\u001b[0m     \u001b[0;32mdef\u001b[0m \u001b[0mdo_execute_no_params\u001b[0m\u001b[0;34m(\u001b[0m\u001b[0mself\u001b[0m\u001b[0;34m,\u001b[0m \u001b[0mcursor\u001b[0m\u001b[0;34m,\u001b[0m \u001b[0mstatement\u001b[0m\u001b[0;34m,\u001b[0m \u001b[0mcontext\u001b[0m\u001b[0;34m=\u001b[0m\u001b[0;32mNone\u001b[0m\u001b[0;34m)\u001b[0m\u001b[0;34m:\u001b[0m\u001b[0;34m\u001b[0m\u001b[0;34m\u001b[0m\u001b[0m\n",
      "\u001b[0;31mOperationalError\u001b[0m: (pyodbc.OperationalError) ('08S01', '[08S01] [Microsoft][ODBC Driver 17 for SQL Server]Communication link failure (0) (SQLPrepare)')\n[SQL: SELECT [INFORMATION_SCHEMA].[TABLES].[TABLE_NAME] \nFROM [INFORMATION_SCHEMA].[TABLES] \nWHERE [INFORMATION_SCHEMA].[TABLES].[TABLE_SCHEMA] = CAST(? AS NVARCHAR(max)) AND [INFORMATION_SCHEMA].[TABLES].[TABLE_TYPE] = CAST(? AS NVARCHAR(max)) ORDER BY [INFORMATION_SCHEMA].[TABLES].[TABLE_NAME]]\n[parameters: ('GOSALESDW', 'BASE TABLE')]\n(Background on this error at: http://sqlalche.me/e/13/e3q8)"
     ]
    }
   ],
   "source": [
    "for json_table in json_tables:\n",
    "    # read in JSON into pandas, display metadata\n",
    "    filename = json_table.split(\".\")[0]\n",
    "    display(Markdown(f\"#### {filename}\"))\n",
    "    # if json_table not in bad_jsons:\n",
    "    # Lookup table name and schema name from reference df\n",
    "    ref_row = ref_df.query(\"filename == @filename\")\n",
    "    schema = ref_row[\"schema\"].values[0]\n",
    "    table = ref_row[\"table\"].values[0]\n",
    "    print(f\"{schema}.{table}\")\n",
    "    if json_table not in bad_jsons:\n",
    "        df = pd.read_sql_table(table, con=engine, schema=schema)\n",
    "        print(df.shape)\n",
    "        display(df.head())\n",
    "    print(\"*\" * 90)"
   ]
  },
  {
   "cell_type": "markdown",
   "metadata": {},
   "source": [
    "## Troubleshooting"
   ]
  },
  {
   "cell_type": "code",
   "execution_count": 61,
   "metadata": {
    "scrolled": false
   },
   "outputs": [
    {
     "data": {
      "text/plain": [
       "dict_keys(['json_conversion_success', 'file_name_errors', 'file_conversion_errors', 'file_extension_errors', 'json_read_errors', 'sql_insert_errors'])"
      ]
     },
     "execution_count": 61,
     "metadata": {},
     "output_type": "execute_result"
    }
   ],
   "source": [
    "log.keys()"
   ]
  },
  {
   "cell_type": "code",
   "execution_count": 62,
   "metadata": {},
   "outputs": [],
   "source": [
    "for record in log[\"sql_insert_errors\"]:\n",
    "    print(record[\"json_table\"], record[\"error_mssg\"][:200])\n",
    "    print(\"\\n\")"
   ]
  },
  {
   "cell_type": "code",
   "execution_count": 63,
   "metadata": {},
   "outputs": [
    {
     "data": {
      "text/plain": [
       "[]"
      ]
     },
     "execution_count": 63,
     "metadata": {},
     "output_type": "execute_result"
    }
   ],
   "source": [
    "log[\"file_conversion_errors\"]"
   ]
  },
  {
   "cell_type": "code",
   "execution_count": 170,
   "metadata": {},
   "outputs": [],
   "source": [
    "filename = \"tab129\""
   ]
  },
  {
   "cell_type": "code",
   "execution_count": 171,
   "metadata": {},
   "outputs": [],
   "source": [
    "json_table = filename + \".json\""
   ]
  },
  {
   "cell_type": "code",
   "execution_count": 156,
   "metadata": {},
   "outputs": [],
   "source": [
    "df = pd.read_json(f\"../json_data/{json_table}\")"
   ]
  },
  {
   "cell_type": "code",
   "execution_count": 78,
   "metadata": {
    "scrolled": true
   },
   "outputs": [
    {
     "data": {
      "text/html": [
       "<div>\n",
       "<style scoped>\n",
       "    .dataframe tbody tr th:only-of-type {\n",
       "        vertical-align: middle;\n",
       "    }\n",
       "\n",
       "    .dataframe tbody tr th {\n",
       "        vertical-align: top;\n",
       "    }\n",
       "\n",
       "    .dataframe thead th {\n",
       "        text-align: right;\n",
       "    }\n",
       "</style>\n",
       "<table border=\"1\" class=\"dataframe\">\n",
       "  <thead>\n",
       "    <tr style=\"text-align: right;\">\n",
       "      <th></th>\n",
       "      <th>PRODUCT_LINE_CODE</th>\n",
       "      <th>PRODUCT_LINE_EN</th>\n",
       "      <th>PRODUCT_LINE_FR</th>\n",
       "      <th>PRODUCT_LINE_DE</th>\n",
       "      <th>PRODUCT_LINE_NL</th>\n",
       "      <th>PRODUCT_LINE_SC</th>\n",
       "      <th>PRODUCT_LINE_KO</th>\n",
       "      <th>PRODUCT_LINE_JA</th>\n",
       "      <th>PRODUCT_LINE_CS</th>\n",
       "      <th>PRODUCT_LINE_HU</th>\n",
       "      <th>...</th>\n",
       "      <th>PRODUCT_LINE_FI</th>\n",
       "      <th>PRODUCT_LINE_IT</th>\n",
       "      <th>PRODUCT_LINE_NO</th>\n",
       "      <th>PRODUCT_LINE_PL</th>\n",
       "      <th>PRODUCT_LINE_RU</th>\n",
       "      <th>PRODUCT_LINE_SV</th>\n",
       "      <th>PRODUCT_LINE_ES</th>\n",
       "      <th>PRODUCT_LINE_TH</th>\n",
       "      <th>PRODUCT_LINE_MS</th>\n",
       "      <th>PRODUCT_LINE_ID</th>\n",
       "    </tr>\n",
       "  </thead>\n",
       "  <tbody>\n",
       "    <tr>\n",
       "      <th>0</th>\n",
       "      <td>994</td>\n",
       "      <td>Outdoor Protection</td>\n",
       "      <td>Articles de protection</td>\n",
       "      <td>Outdoor-Schutzausrüstung</td>\n",
       "      <td>Buitensport - preventie</td>\n",
       "      <td>户外防护用品</td>\n",
       "      <td>야외 보호 장비</td>\n",
       "      <td>アウトドア用保護用品</td>\n",
       "      <td>Vybavení do přírody</td>\n",
       "      <td>Védőfelszerelés</td>\n",
       "      <td>...</td>\n",
       "      <td>Ulkoiluvarusteet</td>\n",
       "      <td>Protezione personale</td>\n",
       "      <td>Utendørs beskyttelse</td>\n",
       "      <td>Wyposażenie ochronne</td>\n",
       "      <td>Средства защиты</td>\n",
       "      <td>Skyddsartiklar</td>\n",
       "      <td>Protección aire libre</td>\n",
       "      <td>สิ่งป้องกันเมื่ออยู่กลางแจ้ง</td>\n",
       "      <td>Perlindungan Luar Bangunan</td>\n",
       "      <td>Perlindungan Luar Ruang</td>\n",
       "    </tr>\n",
       "    <tr>\n",
       "      <th>1</th>\n",
       "      <td>991</td>\n",
       "      <td>Camping Equipment</td>\n",
       "      <td>Matériel de camping</td>\n",
       "      <td>Campingausrüstung</td>\n",
       "      <td>Kampeerbenodigdheden</td>\n",
       "      <td>露营装备</td>\n",
       "      <td>캠핑 장비</td>\n",
       "      <td>キャンプ用品</td>\n",
       "      <td>Vybavení pro kempování</td>\n",
       "      <td>Kempingfelszerelés</td>\n",
       "      <td>...</td>\n",
       "      <td>Retkeilyvarusteet</td>\n",
       "      <td>Attrezzatura per campeggio</td>\n",
       "      <td>Campingutstyr</td>\n",
       "      <td>Ekwipunek kempingowy</td>\n",
       "      <td>Снаряжение для туризма</td>\n",
       "      <td>Campingutrustning</td>\n",
       "      <td>Equipo de acampada</td>\n",
       "      <td>อุปกรณ์ตั้งแคมป์</td>\n",
       "      <td>Kelengkapan Berkhemah</td>\n",
       "      <td>Perlengkapan Berkemah</td>\n",
       "    </tr>\n",
       "    <tr>\n",
       "      <th>2</th>\n",
       "      <td>995</td>\n",
       "      <td>Golf Equipment</td>\n",
       "      <td>Matériel de golf</td>\n",
       "      <td>Golfausrüstung</td>\n",
       "      <td>Golfartikelen</td>\n",
       "      <td>高尔夫球装备</td>\n",
       "      <td>골프 장비</td>\n",
       "      <td>ゴルフ用品</td>\n",
       "      <td>Golfové potřeby</td>\n",
       "      <td>Golffelszerelés</td>\n",
       "      <td>...</td>\n",
       "      <td>Golf-varusteet</td>\n",
       "      <td>Attrezzatura da golf</td>\n",
       "      <td>Golfutstyr</td>\n",
       "      <td>Ekwipunek golfowy</td>\n",
       "      <td>Снаряжение для гольфа</td>\n",
       "      <td>Golfutrustning</td>\n",
       "      <td>Equipo de golf</td>\n",
       "      <td>อุปกรณ์กอล์ฟ</td>\n",
       "      <td>Kelengkapan Golf</td>\n",
       "      <td>Perlengkapan Golf</td>\n",
       "    </tr>\n",
       "    <tr>\n",
       "      <th>3</th>\n",
       "      <td>993</td>\n",
       "      <td>Personal Accessories</td>\n",
       "      <td>Accessoires personnels</td>\n",
       "      <td>Accessoires</td>\n",
       "      <td>Persoonlijke accessoires</td>\n",
       "      <td>个人附件</td>\n",
       "      <td>개인 용품</td>\n",
       "      <td>個人装備</td>\n",
       "      <td>Věci osobní potřeby</td>\n",
       "      <td>Személyes kiegészítők</td>\n",
       "      <td>...</td>\n",
       "      <td>Henkilökohtaiset tarvikkeet</td>\n",
       "      <td>Accessori personali</td>\n",
       "      <td>Personlig utrustning</td>\n",
       "      <td>Akcesoria osobiste</td>\n",
       "      <td>Личные принадлежности</td>\n",
       "      <td>Personliga tillbehör</td>\n",
       "      <td>Accesorios personales</td>\n",
       "      <td>อุปกรณ์ส่วนตัว</td>\n",
       "      <td>Aksesori Diri</td>\n",
       "      <td>Aksesori pribadi</td>\n",
       "    </tr>\n",
       "    <tr>\n",
       "      <th>4</th>\n",
       "      <td>992</td>\n",
       "      <td>Mountaineering Equipment</td>\n",
       "      <td>Matériel de montagne</td>\n",
       "      <td>Bergsteigerausrüstung</td>\n",
       "      <td>Bergsportartikelen</td>\n",
       "      <td>登山装备</td>\n",
       "      <td>등산 장비</td>\n",
       "      <td>登山用品</td>\n",
       "      <td>Horolezecké vybavení</td>\n",
       "      <td>Hegymászó-felszerelés</td>\n",
       "      <td>...</td>\n",
       "      <td>Vuorikiipeilyvarusteet</td>\n",
       "      <td>Attrezzatura per alpinismo</td>\n",
       "      <td>Klatreutstyr</td>\n",
       "      <td>Sprzęt wspinaczkowy</td>\n",
       "      <td>Горное снаряжение</td>\n",
       "      <td>Klätterutrustning</td>\n",
       "      <td>Equipo de montañismo</td>\n",
       "      <td>อุปกรณ์ปีนเขา</td>\n",
       "      <td>Kelengkapan Mendaki Gunung</td>\n",
       "      <td>Perlengkapan Pendaki Gunung</td>\n",
       "    </tr>\n",
       "  </tbody>\n",
       "</table>\n",
       "<p>5 rows × 24 columns</p>\n",
       "</div>"
      ],
      "text/plain": [
       "   PRODUCT_LINE_CODE           PRODUCT_LINE_EN         PRODUCT_LINE_FR  \\\n",
       "0                994        Outdoor Protection  Articles de protection   \n",
       "1                991         Camping Equipment     Matériel de camping   \n",
       "2                995            Golf Equipment        Matériel de golf   \n",
       "3                993      Personal Accessories  Accessoires personnels   \n",
       "4                992  Mountaineering Equipment    Matériel de montagne   \n",
       "\n",
       "            PRODUCT_LINE_DE           PRODUCT_LINE_NL PRODUCT_LINE_SC  \\\n",
       "0  Outdoor-Schutzausrüstung   Buitensport - preventie          户外防护用品   \n",
       "1         Campingausrüstung      Kampeerbenodigdheden            露营装备   \n",
       "2            Golfausrüstung             Golfartikelen          高尔夫球装备   \n",
       "3               Accessoires  Persoonlijke accessoires            个人附件   \n",
       "4     Bergsteigerausrüstung        Bergsportartikelen            登山装备   \n",
       "\n",
       "  PRODUCT_LINE_KO PRODUCT_LINE_JA         PRODUCT_LINE_CS  \\\n",
       "0        야외 보호 장비      アウトドア用保護用品     Vybavení do přírody   \n",
       "1           캠핑 장비          キャンプ用品  Vybavení pro kempování   \n",
       "2           골프 장비           ゴルフ用品         Golfové potřeby   \n",
       "3           개인 용품            個人装備     Věci osobní potřeby   \n",
       "4           등산 장비            登山用品    Horolezecké vybavení   \n",
       "\n",
       "         PRODUCT_LINE_HU  ...              PRODUCT_LINE_FI  \\\n",
       "0        Védőfelszerelés  ...             Ulkoiluvarusteet   \n",
       "1     Kempingfelszerelés  ...            Retkeilyvarusteet   \n",
       "2        Golffelszerelés  ...               Golf-varusteet   \n",
       "3  Személyes kiegészítők  ...  Henkilökohtaiset tarvikkeet   \n",
       "4  Hegymászó-felszerelés  ...       Vuorikiipeilyvarusteet   \n",
       "\n",
       "              PRODUCT_LINE_IT       PRODUCT_LINE_NO       PRODUCT_LINE_PL  \\\n",
       "0        Protezione personale  Utendørs beskyttelse  Wyposażenie ochronne   \n",
       "1  Attrezzatura per campeggio         Campingutstyr  Ekwipunek kempingowy   \n",
       "2        Attrezzatura da golf            Golfutstyr     Ekwipunek golfowy   \n",
       "3         Accessori personali  Personlig utrustning    Akcesoria osobiste   \n",
       "4  Attrezzatura per alpinismo          Klatreutstyr   Sprzęt wspinaczkowy   \n",
       "\n",
       "          PRODUCT_LINE_RU       PRODUCT_LINE_SV        PRODUCT_LINE_ES  \\\n",
       "0         Средства защиты        Skyddsartiklar  Protección aire libre   \n",
       "1  Снаряжение для туризма     Campingutrustning     Equipo de acampada   \n",
       "2   Снаряжение для гольфа        Golfutrustning         Equipo de golf   \n",
       "3   Личные принадлежности  Personliga tillbehör  Accesorios personales   \n",
       "4       Горное снаряжение     Klätterutrustning   Equipo de montañismo   \n",
       "\n",
       "                PRODUCT_LINE_TH             PRODUCT_LINE_MS  \\\n",
       "0  สิ่งป้องกันเมื่ออยู่กลางแจ้ง  Perlindungan Luar Bangunan   \n",
       "1              อุปกรณ์ตั้งแคมป์       Kelengkapan Berkhemah   \n",
       "2                  อุปกรณ์กอล์ฟ            Kelengkapan Golf   \n",
       "3                อุปกรณ์ส่วนตัว               Aksesori Diri   \n",
       "4                 อุปกรณ์ปีนเขา  Kelengkapan Mendaki Gunung   \n",
       "\n",
       "               PRODUCT_LINE_ID  \n",
       "0      Perlindungan Luar Ruang  \n",
       "1        Perlengkapan Berkemah  \n",
       "2            Perlengkapan Golf  \n",
       "3             Aksesori pribadi  \n",
       "4  Perlengkapan Pendaki Gunung  \n",
       "\n",
       "[5 rows x 24 columns]"
      ]
     },
     "execution_count": 78,
     "metadata": {},
     "output_type": "execute_result"
    }
   ],
   "source": [
    "df.head()"
   ]
  },
  {
   "cell_type": "code",
   "execution_count": 174,
   "metadata": {},
   "outputs": [
    {
     "data": {
      "text/plain": [
       "(233625, 9)"
      ]
     },
     "execution_count": 174,
     "metadata": {},
     "output_type": "execute_result"
    }
   ],
   "source": [
    "df.shape"
   ]
  },
  {
   "cell_type": "code",
   "execution_count": 176,
   "metadata": {},
   "outputs": [
    {
     "data": {
      "text/markdown": [
       "#### Schema: GOSALES"
      ],
      "text/plain": [
       "<IPython.core.display.Markdown object>"
      ]
     },
     "metadata": {},
     "output_type": "display_data"
    },
    {
     "data": {
      "text/markdown": [
       "#### Table Name: SALES_TARGET"
      ],
      "text/plain": [
       "<IPython.core.display.Markdown object>"
      ]
     },
     "metadata": {},
     "output_type": "display_data"
    }
   ],
   "source": [
    "ref_row = ref_df.query(\"filename == @filename\")\n",
    "schema = ref_row[\"schema\"].values[0]\n",
    "display(Markdown(f\"#### Schema: {schema}\"))\n",
    "table = ref_row[\"table\"].values[0]\n",
    "display(Markdown(f\"#### Table Name: {table}\"))"
   ]
  },
  {
   "cell_type": "code",
   "execution_count": null,
   "metadata": {},
   "outputs": [],
   "source": []
  }
 ],
 "metadata": {
  "kernelspec": {
   "display_name": "Python 3",
   "language": "python",
   "name": "python3"
  },
  "language_info": {
   "codemirror_mode": {
    "name": "ipython",
    "version": 3
   },
   "file_extension": ".py",
   "mimetype": "text/x-python",
   "name": "python",
   "nbconvert_exporter": "python",
   "pygments_lexer": "ipython3",
   "version": "3.8.5"
  }
 },
 "nbformat": 4,
 "nbformat_minor": 4
}
