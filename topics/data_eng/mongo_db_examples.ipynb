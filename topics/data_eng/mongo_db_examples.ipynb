{
 "cells": [
  {
   "cell_type": "markdown",
   "metadata": {},
   "source": [
    "# MongoDB"
   ]
  },
  {
   "cell_type": "code",
   "execution_count": 1,
   "metadata": {},
   "outputs": [],
   "source": [
    "from pymongo import MongoClient\n",
    "import requests"
   ]
  },
  {
   "cell_type": "markdown",
   "metadata": {},
   "source": [
    "## Part I: Basics\n",
    "- example doc\n",
    "- count *\n",
    "- basic filtering"
   ]
  },
  {
   "cell_type": "code",
   "execution_count": 2,
   "metadata": {},
   "outputs": [],
   "source": [
    "# client is a dictionary of databases\n",
    "# database is a dictionary of collections\n",
    "# databases are attributes of a client\n",
    "# collections are attributes of databases"
   ]
  },
  {
   "cell_type": "code",
   "execution_count": 3,
   "metadata": {},
   "outputs": [],
   "source": [
    "client = MongoClient() # client is a dictionary of databases\n",
    "# client.drop_database('nobel') # drop db. If it already exists, we keep inserting documents into the same db\n",
    "db = client[\"nobel\"] # create local db on the fly "
   ]
  },
  {
   "cell_type": "code",
   "execution_count": 4,
   "metadata": {},
   "outputs": [],
   "source": [
    "collections = [\"prizes\", \"laureates\"]"
   ]
  },
  {
   "cell_type": "code",
   "execution_count": 5,
   "metadata": {},
   "outputs": [
    {
     "name": "stdout",
     "output_type": "stream",
     "text": [
      "prize\n",
      "laureate\n"
     ]
    }
   ],
   "source": [
    "for collection in collections:\n",
    "    print(f\"{collection.strip('s')}\")\n",
    "    response = requests.get(f\"http://api.nobelprize.org/v1/{collection.strip('s')}.json\") # ping the api\n",
    "    documents = response.json()[collection] # convert data to json\n",
    "    db[collection].insert_many(documents) # create colletions on the fly"
   ]
  },
  {
   "cell_type": "code",
   "execution_count": 6,
   "metadata": {
    "scrolled": true
   },
   "outputs": [
    {
     "data": {
      "text/plain": [
       "{'_id': ObjectId('5eb5d046b426c1f9fd9f82e3'),\n",
       " 'year': '2019',\n",
       " 'category': 'chemistry',\n",
       " 'laureates': [{'id': '976',\n",
       "   'firstname': 'John',\n",
       "   'surname': 'Goodenough',\n",
       "   'motivation': '\"for the development of lithium-ion batteries\"',\n",
       "   'share': '3'},\n",
       "  {'id': '977',\n",
       "   'firstname': 'M. Stanley',\n",
       "   'surname': 'Whittingham',\n",
       "   'motivation': '\"for the development of lithium-ion batteries\"',\n",
       "   'share': '3'},\n",
       "  {'id': '978',\n",
       "   'firstname': 'Akira',\n",
       "   'surname': 'Yoshino',\n",
       "   'motivation': '\"for the development of lithium-ion batteries\"',\n",
       "   'share': '3'}]}"
      ]
     },
     "execution_count": 6,
     "metadata": {},
     "output_type": "execute_result"
    }
   ],
   "source": [
    "db.prizes.find_one() # see an example \"record\""
   ]
  },
  {
   "cell_type": "code",
   "execution_count": 7,
   "metadata": {},
   "outputs": [
    {
     "data": {
      "text/plain": [
       "1898"
      ]
     },
     "execution_count": 7,
     "metadata": {},
     "output_type": "execute_result"
    }
   ],
   "source": [
    "db.laureates.count_documents({}) #count number of documents. Need to pass empty filter `{}` to count all"
   ]
  },
  {
   "cell_type": "code",
   "execution_count": 8,
   "metadata": {},
   "outputs": [
    {
     "data": {
      "text/plain": [
       "1298"
      ]
     },
     "execution_count": 8,
     "metadata": {},
     "output_type": "execute_result"
    }
   ],
   "source": [
    "# Cout documents\n",
    "db.prizes.count_documents({})"
   ]
  },
  {
   "cell_type": "code",
   "execution_count": 9,
   "metadata": {},
   "outputs": [
    {
     "data": {
      "text/plain": [
       "['female', 'male', 'org']"
      ]
     },
     "execution_count": 9,
     "metadata": {},
     "output_type": "execute_result"
    }
   ],
   "source": [
    "# Unique values\n",
    "db.laureates.distinct(\"gender\")"
   ]
  },
  {
   "cell_type": "code",
   "execution_count": 10,
   "metadata": {},
   "outputs": [
    {
     "data": {
      "text/plain": [
       "110"
      ]
     },
     "execution_count": 10,
     "metadata": {},
     "output_type": "execute_result"
    }
   ],
   "source": [
    "# count with a filter applied\n",
    "db.laureates.count_documents({'gender': 'female'})"
   ]
  },
  {
   "cell_type": "code",
   "execution_count": 11,
   "metadata": {
    "scrolled": true
   },
   "outputs": [
    {
     "data": {
      "text/plain": [
       "1739"
      ]
     },
     "execution_count": 11,
     "metadata": {},
     "output_type": "execute_result"
    }
   ],
   "source": [
    "db.laureates.count_documents({'gender': 'male'})"
   ]
  },
  {
   "cell_type": "code",
   "execution_count": 12,
   "metadata": {
    "scrolled": true
   },
   "outputs": [
    {
     "data": {
      "text/plain": [
       "49"
      ]
     },
     "execution_count": 12,
     "metadata": {},
     "output_type": "execute_result"
    }
   ],
   "source": [
    "db.laureates.count_documents({'gender': 'org'})"
   ]
  },
  {
   "cell_type": "markdown",
   "metadata": {},
   "source": [
    "## Dot notation: reach into substructure"
   ]
  },
  {
   "cell_type": "markdown",
   "metadata": {},
   "source": [
    "#### Use a filter document (criteria) to find a document for a laureate with at least two elements in its \"prizes\" (note zero-based indexing)."
   ]
  },
  {
   "cell_type": "code",
   "execution_count": 13,
   "metadata": {},
   "outputs": [
    {
     "name": "stdout",
     "output_type": "stream",
     "text": [
      "{'_id': ObjectId('5eb5d04cb426c1f9fd9f856e'), 'id': '6', 'firstname': 'Marie', 'surname': 'Curie', 'born': '1867-11-07', 'died': '1934-07-04', 'bornCountry': 'Russian Empire (now Poland)', 'bornCountryCode': 'PL', 'bornCity': 'Warsaw', 'diedCountry': 'France', 'diedCountryCode': 'FR', 'diedCity': 'Sallanches', 'gender': 'female', 'prizes': [{'year': '1903', 'category': 'physics', 'share': '4', 'motivation': '\"in recognition of the extraordinary services they have rendered by their joint researches on the radiation phenomena discovered by Professor Henri Becquerel\"', 'affiliations': [[]]}, {'year': '1911', 'category': 'chemistry', 'share': '1', 'motivation': '\"in recognition of her services to the advancement of chemistry by the discovery of the elements radium and polonium, by the isolation of radium and the study of the nature and compounds of this remarkable element\"', 'affiliations': [{'name': 'Sorbonne University', 'city': 'Paris', 'country': 'France'}]}]}\n"
     ]
    },
    {
     "data": {
      "text/plain": [
       "{'_id': ObjectId('5eb5d04cb426c1f9fd9f856e'),\n",
       " 'id': '6',\n",
       " 'firstname': 'Marie',\n",
       " 'surname': 'Curie',\n",
       " 'born': '1867-11-07',\n",
       " 'died': '1934-07-04',\n",
       " 'bornCountry': 'Russian Empire (now Poland)',\n",
       " 'bornCountryCode': 'PL',\n",
       " 'bornCity': 'Warsaw',\n",
       " 'diedCountry': 'France',\n",
       " 'diedCountryCode': 'FR',\n",
       " 'diedCity': 'Sallanches',\n",
       " 'gender': 'female',\n",
       " 'prizes': [{'year': '1903',\n",
       "   'category': 'physics',\n",
       "   'share': '4',\n",
       "   'motivation': '\"in recognition of the extraordinary services they have rendered by their joint researches on the radiation phenomena discovered by Professor Henri Becquerel\"',\n",
       "   'affiliations': [[]]},\n",
       "  {'year': '1911',\n",
       "   'category': 'chemistry',\n",
       "   'share': '1',\n",
       "   'motivation': '\"in recognition of her services to the advancement of chemistry by the discovery of the elements radium and polonium, by the isolation of radium and the study of the nature and compounds of this remarkable element\"',\n",
       "   'affiliations': [{'name': 'Sorbonne University',\n",
       "     'city': 'Paris',\n",
       "     'country': 'France'}]}]}"
      ]
     },
     "execution_count": 13,
     "metadata": {},
     "output_type": "execute_result"
    }
   ],
   "source": [
    "# Filter for laureates with at least two prizes\n",
    "criteria = {\"prizes.1\": {\"$exists\": True}} # a second item exists the list of laureate's prizes\n",
    "\n",
    "# Find one laureate with at least two prizes\n",
    "doc = db.laureates.find_one(criteria)\n",
    "\n",
    "# Print the document\n",
    "print(doc)\n",
    "\n",
    "doc"
   ]
  },
  {
   "cell_type": "code",
   "execution_count": 14,
   "metadata": {},
   "outputs": [
    {
     "data": {
      "text/plain": [
       "12"
      ]
     },
     "execution_count": 14,
     "metadata": {},
     "output_type": "execute_result"
    }
   ],
   "source": [
    "db.laureates.count_documents(criteria)"
   ]
  },
  {
   "cell_type": "markdown",
   "metadata": {},
   "source": [
    "## Part II: Distinct Values"
   ]
  },
  {
   "cell_type": "markdown",
   "metadata": {},
   "source": [
    "### Pre-filtering distinct values"
   ]
  },
  {
   "cell_type": "markdown",
   "metadata": {},
   "source": [
    "Prizes can be shared among multiple people. Only the literature prize category has no prizes shared by three or more laureates."
   ]
  },
  {
   "cell_type": "code",
   "execution_count": 15,
   "metadata": {},
   "outputs": [
    {
     "name": "stdout",
     "output_type": "stream",
     "text": [
      "{'peace', 'physics', 'medicine', 'chemistry', 'economics'}\n"
     ]
    }
   ],
   "source": [
    "# Save a filter for prize documents with three or more laureates\n",
    "criteria = {\"laureates.2\": {\"$exists\": True}}\n",
    "\n",
    "# Save the set of distinct prize categories in documents satisfying the criteria\n",
    "triple_play_categories = set(db.prizes.distinct(\"category\", criteria))\n",
    "print(triple_play_categories)\n",
    "# Confirm literature as the only category not satisfying the criteria.\n",
    "assert set(db.prizes.distinct(\"category\")) - triple_play_categories == {\"literature\"}\n",
    "# print(triple_play_categories)"
   ]
  },
  {
   "cell_type": "markdown",
   "metadata": {},
   "source": [
    "### Array fields and operators"
   ]
  },
  {
   "cell_type": "code",
   "execution_count": 16,
   "metadata": {
    "scrolled": true
   },
   "outputs": [
    {
     "data": {
      "text/plain": [
       "['chemistry', 'economics', 'literature', 'medicine', 'peace', 'physics']"
      ]
     },
     "execution_count": 16,
     "metadata": {},
     "output_type": "execute_result"
    }
   ],
   "source": [
    "db.prizes.distinct(\"category\")"
   ]
  },
  {
   "cell_type": "code",
   "execution_count": 17,
   "metadata": {
    "scrolled": true
   },
   "outputs": [
    {
     "data": {
      "text/plain": [
       "1898"
      ]
     },
     "execution_count": 17,
     "metadata": {},
     "output_type": "execute_result"
    }
   ],
   "source": [
    "db.laureates.count_documents({})"
   ]
  },
  {
   "cell_type": "code",
   "execution_count": 18,
   "metadata": {},
   "outputs": [
    {
     "data": {
      "text/plain": [
       "427"
      ]
     },
     "execution_count": 18,
     "metadata": {},
     "output_type": "execute_result"
    }
   ],
   "source": [
    "db.laureates.count_documents({\"prizes.category\": \"physics\"})"
   ]
  },
  {
   "cell_type": "code",
   "execution_count": 19,
   "metadata": {
    "scrolled": true
   },
   "outputs": [
    {
     "data": {
      "text/plain": [
       "1471"
      ]
     },
     "execution_count": 19,
     "metadata": {},
     "output_type": "execute_result"
    }
   ],
   "source": [
    "db.laureates.count_documents({\"prizes.category\": {\"$ne\": \"physics\"}})"
   ]
  },
  {
   "cell_type": "code",
   "execution_count": 20,
   "metadata": {},
   "outputs": [
    {
     "data": {
      "text/plain": [
       "1234"
      ]
     },
     "execution_count": 20,
     "metadata": {},
     "output_type": "execute_result"
    }
   ],
   "source": [
    "# number of laureates documents whose prizes are  in physics, chemistry, or medicine\n",
    "db.laureates.count_documents({\n",
    "\"prizes.category\": {\n",
    "\"$in\": [\"physics\", \"chemistry\", \"medicine\"]}})"
   ]
  },
  {
   "cell_type": "code",
   "execution_count": 21,
   "metadata": {},
   "outputs": [
    {
     "data": {
      "text/plain": [
       "664"
      ]
     },
     "execution_count": 21,
     "metadata": {},
     "output_type": "execute_result"
    }
   ],
   "source": [
    "# number laureates documents whose prizes are NOT in physics, chemistry, or medicine\n",
    "db.laureates.count_documents({\n",
    "\"prizes.category\": {\n",
    "\"$nin\": [\"physics\", \"chemistry\", \"medicine\"]}})"
   ]
  },
  {
   "cell_type": "markdown",
   "metadata": {},
   "source": [
    "### $elemMatch"
   ]
  },
  {
   "cell_type": "code",
   "execution_count": 22,
   "metadata": {},
   "outputs": [
    {
     "data": {
      "text/plain": [
       "0"
      ]
     },
     "execution_count": 22,
     "metadata": {},
     "output_type": "execute_result"
    }
   ],
   "source": [
    "db.laureates.count_documents({\n",
    "\"prizes\": {\n",
    "\"category\": \"physics\", \"share\": \"1\"}})"
   ]
  },
  {
   "cell_type": "code",
   "execution_count": 23,
   "metadata": {},
   "outputs": [
    {
     "data": {
      "text/plain": [
       "96"
      ]
     },
     "execution_count": 23,
     "metadata": {},
     "output_type": "execute_result"
    }
   ],
   "source": [
    "db.laureates.count_documents({\n",
    "\"prizes.category\": \"physics\", \"prizes.share\": \"1\"})"
   ]
  },
  {
   "cell_type": "code",
   "execution_count": 24,
   "metadata": {},
   "outputs": [
    {
     "data": {
      "text/plain": [
       "94"
      ]
     },
     "execution_count": 24,
     "metadata": {},
     "output_type": "execute_result"
    }
   ],
   "source": [
    "db.laureates.count_documents({\n",
    "\"prizes\": {\"$elemMatch\":\n",
    "{\"category\": \"physics\", \"share\": \"1\"}}})"
   ]
  },
  {
   "cell_type": "code",
   "execution_count": 25,
   "metadata": {},
   "outputs": [
    {
     "data": {
      "text/plain": [
       "58"
      ]
     },
     "execution_count": 25,
     "metadata": {},
     "output_type": "execute_result"
    }
   ],
   "source": [
    "db.laureates.count_documents({\n",
    "\"prizes\": {\"$elemMatch\": {\n",
    "\"category\": \"physics\",\n",
    "\"share\": \"1\",\n",
    "\"year\": {\"$lt\": \"1945\"},}}})"
   ]
  },
  {
   "cell_type": "markdown",
   "metadata": {},
   "source": [
    "### Filtering with Regular Expressions"
   ]
  },
  {
   "cell_type": "code",
   "execution_count": 26,
   "metadata": {},
   "outputs": [
    {
     "data": {
      "text/plain": [
       "['Austria-Hungary (now Poland)',\n",
       " 'Free City of Danzig (now Poland)',\n",
       " 'German-occupied Poland (now Poland)',\n",
       " 'Germany (now Poland)',\n",
       " 'Poland',\n",
       " 'Poland (now Belarus)',\n",
       " 'Poland (now Lithuania)',\n",
       " 'Poland (now Ukraine)',\n",
       " 'Prussia (now Poland)',\n",
       " 'Russian Empire (now Poland)']"
      ]
     },
     "execution_count": 26,
     "metadata": {},
     "output_type": "execute_result"
    }
   ],
   "source": [
    "# Finding a substring with $regex\n",
    "db.laureates.distinct(\"bornCountry\",\n",
    "{\"bornCountry\": {\"$regex\": \"Poland\"}})"
   ]
  },
  {
   "cell_type": "code",
   "execution_count": 27,
   "metadata": {},
   "outputs": [
    {
     "data": {
      "text/plain": [
       "['Poland',\n",
       " 'Poland (now Belarus)',\n",
       " 'Poland (now Lithuania)',\n",
       " 'Poland (now Ukraine)']"
      ]
     },
     "execution_count": 27,
     "metadata": {},
     "output_type": "execute_result"
    }
   ],
   "source": [
    "from bson.regex import Regex\n",
    "db.laureates.distinct(\"bornCountry\",\n",
    "{\"bornCountry\": Regex(\"^Poland\")})"
   ]
  },
  {
   "cell_type": "code",
   "execution_count": 28,
   "metadata": {},
   "outputs": [
    {
     "data": {
      "text/plain": [
       "['Poland (now Belarus)', 'Poland (now Lithuania)', 'Poland (now Ukraine)']"
      ]
     },
     "execution_count": 28,
     "metadata": {},
     "output_type": "execute_result"
    }
   ],
   "source": [
    "db.laureates.distinct(\n",
    "\"bornCountry\",\n",
    "{\"bornCountry\": Regex(\"^Poland \\(now\")})"
   ]
  },
  {
   "cell_type": "code",
   "execution_count": 29,
   "metadata": {},
   "outputs": [
    {
     "data": {
      "text/plain": [
       "['Austria-Hungary (now Poland)',\n",
       " 'Free City of Danzig (now Poland)',\n",
       " 'German-occupied Poland (now Poland)',\n",
       " 'Germany (now Poland)',\n",
       " 'Prussia (now Poland)',\n",
       " 'Russian Empire (now Poland)']"
      ]
     },
     "execution_count": 29,
     "metadata": {},
     "output_type": "execute_result"
    }
   ],
   "source": [
    "# Ends wih 'now Poland'\n",
    "db.laureates.distinct(\n",
    "\"bornCountry\",\n",
    "{\"bornCountry\": Regex(\"now Poland\\)$\")})"
   ]
  },
  {
   "cell_type": "markdown",
   "metadata": {},
   "source": [
    "## Part III: The Business\n",
    "- Projections\n",
    "- Sorting\n",
    "- Indexes\n",
    "- Limits, Skips, and Sorts"
   ]
  },
  {
   "cell_type": "markdown",
   "metadata": {},
   "source": [
    "### Projections"
   ]
  },
  {
   "cell_type": "code",
   "execution_count": 30,
   "metadata": {},
   "outputs": [
    {
     "data": {
      "text/plain": [
       "pymongo.cursor.Cursor"
      ]
     },
     "execution_count": 30,
     "metadata": {},
     "output_type": "execute_result"
    }
   ],
   "source": [
    "docs = db.laureates.find(\n",
    "        filter={},\n",
    "        projection={\"prizes.affiliations\": 1,\n",
    "                    \"_id\": 0})\n",
    "type(docs)"
   ]
  },
  {
   "cell_type": "code",
   "execution_count": 31,
   "metadata": {},
   "outputs": [
    {
     "data": {
      "text/plain": [
       "[{'prizes': [{'affiliations': [{'name': 'Munich University',\n",
       "      'city': 'Munich',\n",
       "      'country': 'Germany'}]}]},\n",
       " {'prizes': [{'affiliations': [{'name': 'Leiden University',\n",
       "      'city': 'Leiden',\n",
       "      'country': 'the Netherlands'}]}]},\n",
       " {'prizes': [{'affiliations': [{'name': 'Amsterdam University',\n",
       "      'city': 'Amsterdam',\n",
       "      'country': 'the Netherlands'}]}]}]"
      ]
     },
     "execution_count": 31,
     "metadata": {},
     "output_type": "execute_result"
    }
   ],
   "source": [
    "# convert to list and slice\n",
    "list(docs)[:3]"
   ]
  },
  {
   "cell_type": "markdown",
   "metadata": {},
   "source": [
    "### Sorting"
   ]
  },
  {
   "cell_type": "markdown",
   "metadata": {},
   "source": [
    "#### Sorting post-query with Python"
   ]
  },
  {
   "cell_type": "code",
   "execution_count": 32,
   "metadata": {},
   "outputs": [
    {
     "name": "stdout",
     "output_type": "stream",
     "text": [
      "['2019', '2018', '2017', '2016', '2015']\n"
     ]
    }
   ],
   "source": [
    "docs = list(db.prizes.find({\"category\": \"physics\"}, [\"year\"]))\n",
    "print([doc[\"year\"] for doc in docs][:5])"
   ]
  },
  {
   "cell_type": "code",
   "execution_count": 33,
   "metadata": {},
   "outputs": [
    {
     "name": "stdout",
     "output_type": "stream",
     "text": [
      "['1901', '1901', '1902', '1902', '1903']\n"
     ]
    }
   ],
   "source": [
    "from operator import itemgetter\n",
    "docs = sorted(docs, key=itemgetter(\"year\"))\n",
    "print([doc[\"year\"] for doc in docs][:5])"
   ]
  },
  {
   "cell_type": "code",
   "execution_count": 34,
   "metadata": {},
   "outputs": [
    {
     "name": "stdout",
     "output_type": "stream",
     "text": [
      "['2020', '2019', '2019', '2018', '2018']\n"
     ]
    }
   ],
   "source": [
    "docs = sorted(docs, key=itemgetter(\"year\"), reverse=True)\n",
    "print([doc[\"year\"] for doc in docs][:5])"
   ]
  },
  {
   "cell_type": "markdown",
   "metadata": {},
   "source": [
    "#### Sorting in-query with MongoDB"
   ]
  },
  {
   "cell_type": "code",
   "execution_count": 35,
   "metadata": {},
   "outputs": [
    {
     "name": "stdout",
     "output_type": "stream",
     "text": [
      "['1901', '1901', '1902', '1902', '1903']\n"
     ]
    }
   ],
   "source": [
    "cursor = db.prizes.find({\"category\": \"physics\"}, [\"year\"],\n",
    "                        sort=[(\"year\", 1)])\n",
    "print([doc[\"year\"] for doc in cursor][:5])"
   ]
  },
  {
   "cell_type": "code",
   "execution_count": 36,
   "metadata": {},
   "outputs": [
    {
     "name": "stdout",
     "output_type": "stream",
     "text": [
      "['2020', '2019', '2019', '2018', '2018']\n"
     ]
    }
   ],
   "source": [
    "cursor = db.prizes.find({\"category\": \"physics\"}, [\"year\"],\n",
    "                        sort=[(\"year\", -1)])\n",
    "print([doc[\"year\"] for doc in cursor][:5])"
   ]
  },
  {
   "cell_type": "markdown",
   "metadata": {},
   "source": [
    "#### Primary and secondary sorting"
   ]
  },
  {
   "cell_type": "code",
   "execution_count": 37,
   "metadata": {},
   "outputs": [
    {
     "name": "stdout",
     "output_type": "stream",
     "text": [
      "1967 physics\n",
      "1967 physics\n",
      "1967 peace\n",
      "1967 peace\n",
      "1967 medicine\n",
      "1967 medicine\n",
      "1967 literature\n",
      "1967 literature\n",
      "1967 chemistry\n",
      "1967 chemistry\n",
      "1968 physics\n",
      "1968 physics\n",
      "1968 peace\n",
      "1968 peace\n",
      "1968 medicine\n",
      "1968 medicine\n",
      "1968 literature\n",
      "1968 literature\n",
      "1968 chemistry\n",
      "1968 chemistry\n",
      "1969 physics\n",
      "1969 physics\n",
      "1969 peace\n",
      "1969 peace\n",
      "1969 medicine\n",
      "1969 medicine\n",
      "1969 literature\n",
      "1969 literature\n",
      "1969 economics\n",
      "1969 economics\n",
      "1969 chemistry\n",
      "1969 chemistry\n"
     ]
    }
   ],
   "source": [
    "for doc in db.prizes.find(\n",
    "    {\"year\": {\"$gt\": \"1966\", \"$lt\": \"1970\"}},\n",
    "    [\"category\", \"year\"],\n",
    "    sort=[(\"year\", 1), (\"category\", -1)]):\n",
    "    \n",
    "    print(\"{year} {category}\".format(**doc))"
   ]
  },
  {
   "cell_type": "markdown",
   "metadata": {},
   "source": [
    "### When to use indexes?\n",
    "- Queries with high specicity\n",
    "- Large documents\n",
    "- Large collections"
   ]
  },
  {
   "cell_type": "markdown",
   "metadata": {},
   "source": [
    "### Skips and paging through results"
   ]
  },
  {
   "cell_type": "code",
   "execution_count": 38,
   "metadata": {},
   "outputs": [
    {
     "name": "stdout",
     "output_type": "stream",
     "text": [
      "2019 chemistry\n",
      "2019 economics\n",
      "2019 medicine\n"
     ]
    }
   ],
   "source": [
    "for doc in db.prizes.find({\"laureates.share\": \"3\"}, limit=3):\n",
    "    print(\"{year} {category}\".format(**doc))"
   ]
  },
  {
   "cell_type": "code",
   "execution_count": 40,
   "metadata": {},
   "outputs": [
    {
     "name": "stdout",
     "output_type": "stream",
     "text": [
      "2017 chemistry\n",
      "2017 medicine\n",
      "2016 chemistry\n"
     ]
    }
   ],
   "source": [
    "for doc in db.prizes.find({\"laureates.share\": \"3\"}, skip=3, limit=3):\n",
    "    print(\"{year} {category}\".format(**doc))"
   ]
  },
  {
   "cell_type": "code",
   "execution_count": 41,
   "metadata": {},
   "outputs": [
    {
     "name": "stdout",
     "output_type": "stream",
     "text": [
      "2015 chemistry\n",
      "2014 chemistry\n",
      "2014 physics\n"
     ]
    }
   ],
   "source": [
    "for doc in db.prizes.find({\"laureates.share\": \"3\"}, skip=6, limit=3):\n",
    "    print(\"{year} {category}\".format(**doc))"
   ]
  },
  {
   "cell_type": "markdown",
   "metadata": {},
   "source": [
    "### Using cursor methods for {sort, skip, limit}"
   ]
  },
  {
   "cell_type": "code",
   "execution_count": 42,
   "metadata": {},
   "outputs": [
    {
     "name": "stdout",
     "output_type": "stream",
     "text": [
      "2019 chemistry\n",
      "2019 economics\n",
      "2019 medicine\n",
      "2017 chemistry\n",
      "2017 medicine\n",
      "2016 chemistry\n",
      "2015 chemistry\n",
      "2014 chemistry\n",
      "2014 physics\n",
      "2013 chemistry\n"
     ]
    }
   ],
   "source": [
    "for doc in db.prizes.find({\"laureates.share\": \"3\"}).limit(10):\n",
    "    print(\"{year} {category}\".format(**doc))"
   ]
  },
  {
   "cell_type": "code",
   "execution_count": 43,
   "metadata": {},
   "outputs": [
    {
     "name": "stdout",
     "output_type": "stream",
     "text": [
      "2017 chemistry\n",
      "2017 medicine\n",
      "2016 chemistry\n"
     ]
    }
   ],
   "source": [
    "for doc in (db.prizes.find({\"laureates.share\": \"3\"}).skip(3).limit(3)):\n",
    "    print(\"{year} {category}\".format(**doc))"
   ]
  },
  {
   "cell_type": "code",
   "execution_count": 44,
   "metadata": {},
   "outputs": [
    {
     "name": "stdout",
     "output_type": "stream",
     "text": [
      "1945 medicine\n",
      "1950 medicine\n",
      "1950 medicine\n"
     ]
    }
   ],
   "source": [
    "for doc in (db.prizes.find({\"laureates.share\": \"3\"})\n",
    "            .sort([(\"year\", 1)])\n",
    "            .skip(3)\n",
    "            .limit(3)):\n",
    "    print(\"{year} {category}\".format(**doc))"
   ]
  },
  {
   "cell_type": "markdown",
   "metadata": {},
   "source": [
    "## Part IV:  Aggregation Pipelines\n",
    "Let the Server Do It For You"
   ]
  },
  {
   "cell_type": "code",
   "execution_count": 45,
   "metadata": {},
   "outputs": [
    {
     "name": "stdout",
     "output_type": "stream",
     "text": [
      "[{'year': '1923'}]\n",
      "[{'year': '1927'}]\n",
      "[{'year': '1936'}]\n"
     ]
    }
   ],
   "source": [
    "cursor = db.laureates.find(\n",
    "    filter={\"bornCountry\": \"USA\"},\n",
    "    projection={\"prizes.year\": 1},\n",
    "    limit=3\n",
    "    )\n",
    "for doc in cursor:\n",
    "    print(doc[\"prizes\"])"
   ]
  },
  {
   "cell_type": "code",
   "execution_count": 46,
   "metadata": {},
   "outputs": [
    {
     "name": "stdout",
     "output_type": "stream",
     "text": [
      "[{'year': '1923'}]\n",
      "[{'year': '1927'}]\n",
      "[{'year': '1936'}]\n"
     ]
    }
   ],
   "source": [
    "cursor = db.laureates.aggregate([\n",
    "    {\"$match\": {\"bornCountry\": \"USA\"}},\n",
    "    {\"$project\": {\"prizes.year\": 1}},\n",
    "    {\"$limit\": 3}\n",
    "    ])\n",
    "for doc in cursor:\n",
    "    print(doc[\"prizes\"])"
   ]
  },
  {
   "cell_type": "code",
   "execution_count": 47,
   "metadata": {},
   "outputs": [
    {
     "data": {
      "text/plain": [
       "[{'n_USA-born-laureates': 551}]"
      ]
     },
     "execution_count": 47,
     "metadata": {},
     "output_type": "execute_result"
    }
   ],
   "source": [
    "list(db.laureates.aggregate([\n",
    "{\"$match\": {\"bornCountry\": \"USA\"}},\n",
    "{\"$count\": \"n_USA-born-laureates\"}\n",
    "]))\n"
   ]
  },
  {
   "cell_type": "code",
   "execution_count": 48,
   "metadata": {},
   "outputs": [
    {
     "data": {
      "text/plain": [
       "551"
      ]
     },
     "execution_count": 48,
     "metadata": {},
     "output_type": "execute_result"
    }
   ],
   "source": [
    "db.laureates.count_documents({\"bornCountry\": \"USA\"})"
   ]
  },
  {
   "cell_type": "code",
   "execution_count": 49,
   "metadata": {},
   "outputs": [],
   "source": [
    "cursor = db.laureates.aggregate([\n",
    "        {\"$project\": {\"solo_winner\": {\"$in\": [\"1\",\"$prizes.share\"]}}}\n",
    "        ])"
   ]
  },
  {
   "cell_type": "code",
   "execution_count": 50,
   "metadata": {
    "scrolled": true
   },
   "outputs": [
    {
     "data": {
      "text/plain": [
       "{'_id': ObjectId('5eb5d04cb426c1f9fd9f8569'), 'solo_winner': True}"
      ]
     },
     "execution_count": 50,
     "metadata": {},
     "output_type": "execute_result"
    }
   ],
   "source": [
    "cursor.next()"
   ]
  },
  {
   "cell_type": "code",
   "execution_count": 51,
   "metadata": {},
   "outputs": [
    {
     "data": {
      "text/plain": [
       "[{'_id': None, 'n_prizes_total': 1912}]"
      ]
     },
     "execution_count": 51,
     "metadata": {},
     "output_type": "execute_result"
    }
   ],
   "source": [
    "list(db.laureates.aggregate([\n",
    "{\"$project\": {\"n_prizes\": {\"$size\": [\"$prizes\"]}}},\n",
    "{\"$group\": {\"_id\": None,\n",
    "\"n_prizes_total\": {\"$sum\": \"$n_prizes\"}}}\n",
    "]))"
   ]
  },
  {
   "cell_type": "code",
   "execution_count": 52,
   "metadata": {},
   "outputs": [
    {
     "data": {
      "text/plain": [
       "{'$ifNull': ['$myFieldArray', []]}"
      ]
     },
     "execution_count": 52,
     "metadata": {},
     "output_type": "execute_result"
    }
   ],
   "source": [
    "{ \"$ifNull\": [ \"$myFieldArray\", [] ] }"
   ]
  },
  {
   "cell_type": "markdown",
   "metadata": {},
   "source": [
    "### Sizing and Summing"
   ]
  },
  {
   "cell_type": "code",
   "execution_count": 53,
   "metadata": {},
   "outputs": [
    {
     "data": {
      "text/plain": [
       "[{'year': '2019', 'category': 'chemistry', 'n_laureates': 3},\n",
       " {'year': '2019', 'category': 'economics', 'n_laureates': 3},\n",
       " {'year': '2019', 'category': 'literature', 'n_laureates': 1},\n",
       " {'year': '2019', 'category': 'peace', 'n_laureates': 1},\n",
       " {'year': '2019', 'category': 'physics', 'n_laureates': 3}]"
      ]
     },
     "execution_count": 53,
     "metadata": {},
     "output_type": "execute_result"
    }
   ],
   "source": [
    "list(db.prizes.aggregate([\n",
    "{\"$project\": {\"n_laureates\": {\"$size\": {\"$ifNull\": [\"$laureates\", []]}},\n",
    "\"year\": 1, \"category\": 1, \"_id\": 0}}\n",
    "]))[:5]"
   ]
  },
  {
   "cell_type": "code",
   "execution_count": 54,
   "metadata": {},
   "outputs": [],
   "source": [
    "result = \\\n",
    "list(db.prizes.aggregate([\n",
    "    {\"$project\": {\"n_laureates\": {\"$size\": {\"$ifNull\": [\"$laureates\", []]}},\n",
    "                  \"category\": 1}},\n",
    "    {\"$group\": {\"_id\": \"$category\", \"n_laureates\":\n",
    "    {\"$sum\": \"$n_laureates\"}}},\n",
    "    {\"$sort\": {\"n_laureates\": -1}},\n",
    "]))\n"
   ]
  },
  {
   "cell_type": "code",
   "execution_count": 55,
   "metadata": {},
   "outputs": [
    {
     "data": {
      "text/plain": [
       "[{'_id': 'medicine', 'n_laureates': 441},\n",
       " {'_id': 'physics', 'n_laureates': 429},\n",
       " {'_id': 'chemistry', 'n_laureates': 370},\n",
       " {'_id': 'peace', 'n_laureates': 269},\n",
       " {'_id': 'literature', 'n_laureates': 233},\n",
       " {'_id': 'economics', 'n_laureates': 170}]"
      ]
     },
     "execution_count": 55,
     "metadata": {},
     "output_type": "execute_result"
    }
   ],
   "source": [
    "result"
   ]
  },
  {
   "cell_type": "code",
   "execution_count": 56,
   "metadata": {},
   "outputs": [],
   "source": [
    "import pandas as pd"
   ]
  },
  {
   "cell_type": "code",
   "execution_count": 57,
   "metadata": {},
   "outputs": [
    {
     "data": {
      "text/html": [
       "<div>\n",
       "<style scoped>\n",
       "    .dataframe tbody tr th:only-of-type {\n",
       "        vertical-align: middle;\n",
       "    }\n",
       "\n",
       "    .dataframe tbody tr th {\n",
       "        vertical-align: top;\n",
       "    }\n",
       "\n",
       "    .dataframe thead th {\n",
       "        text-align: right;\n",
       "    }\n",
       "</style>\n",
       "<table border=\"1\" class=\"dataframe\">\n",
       "  <thead>\n",
       "    <tr style=\"text-align: right;\">\n",
       "      <th></th>\n",
       "      <th>_id</th>\n",
       "      <th>n_laureates</th>\n",
       "    </tr>\n",
       "  </thead>\n",
       "  <tbody>\n",
       "    <tr>\n",
       "      <th>0</th>\n",
       "      <td>medicine</td>\n",
       "      <td>441</td>\n",
       "    </tr>\n",
       "    <tr>\n",
       "      <th>1</th>\n",
       "      <td>physics</td>\n",
       "      <td>429</td>\n",
       "    </tr>\n",
       "    <tr>\n",
       "      <th>2</th>\n",
       "      <td>chemistry</td>\n",
       "      <td>370</td>\n",
       "    </tr>\n",
       "    <tr>\n",
       "      <th>3</th>\n",
       "      <td>peace</td>\n",
       "      <td>269</td>\n",
       "    </tr>\n",
       "    <tr>\n",
       "      <th>4</th>\n",
       "      <td>literature</td>\n",
       "      <td>233</td>\n",
       "    </tr>\n",
       "    <tr>\n",
       "      <th>5</th>\n",
       "      <td>economics</td>\n",
       "      <td>170</td>\n",
       "    </tr>\n",
       "  </tbody>\n",
       "</table>\n",
       "</div>"
      ],
      "text/plain": [
       "          _id  n_laureates\n",
       "0    medicine          441\n",
       "1     physics          429\n",
       "2   chemistry          370\n",
       "3       peace          269\n",
       "4  literature          233\n",
       "5   economics          170"
      ]
     },
     "execution_count": 57,
     "metadata": {},
     "output_type": "execute_result"
    }
   ],
   "source": [
    "pd.DataFrame(result)"
   ]
  },
  {
   "cell_type": "markdown",
   "metadata": {},
   "source": [
    "### Zoom into Array Fields with  `$unwind`"
   ]
  },
  {
   "cell_type": "markdown",
   "metadata": {},
   "source": [
    "### How many prizes were awarded to immigrants?\n",
    "How many prizes were awarded to people who had no affiliation in their country of birth at the time of the award?"
   ]
  },
  {
   "cell_type": "code",
   "execution_count": 58,
   "metadata": {},
   "outputs": [],
   "source": [
    "pipeline = [\n",
    "    # Limit results to people; project needed fields; unwind prizes\n",
    "    {\"$match\": {\"gender\": {\"$ne\": \"org\"}}},\n",
    "    {\"$project\": {\"bornCountry\": 1, \"prizes.affiliations.country\": 1}},\n",
    "    {\"$unwind\": \"$prizes\"},\n",
    "  \n",
    "    # Count prizes with no country-of-birth affiliation\n",
    "    {\"$addFields\": {\"bornCountryInAffiliations\": {\"$in\": [\"$bornCountry\", \"$prizes.affiliations.country\"]}}},\n",
    "    {\"$match\": {\"bornCountryInAffiliations\": False}},\n",
    "    {\"$count\": \"awardedElsewhere\"},\n",
    "]"
   ]
  },
  {
   "cell_type": "code",
   "execution_count": 59,
   "metadata": {},
   "outputs": [
    {
     "name": "stdout",
     "output_type": "stream",
     "text": [
      "[{'awardedElsewhere': 935}]\n"
     ]
    }
   ],
   "source": [
    "print(list(db.laureates.aggregate(pipeline)))"
   ]
  },
  {
   "cell_type": "code",
   "execution_count": 60,
   "metadata": {},
   "outputs": [
    {
     "data": {
      "text/plain": [
       "{'_id': ObjectId('5eb5d04cb426c1f9fd9f8569'),\n",
       " 'id': '1',\n",
       " 'firstname': 'Wilhelm Conrad',\n",
       " 'surname': 'Röntgen',\n",
       " 'born': '1845-03-27',\n",
       " 'died': '1923-02-10',\n",
       " 'bornCountry': 'Prussia (now Germany)',\n",
       " 'bornCountryCode': 'DE',\n",
       " 'bornCity': 'Lennep (now Remscheid)',\n",
       " 'diedCountry': 'Germany',\n",
       " 'diedCountryCode': 'DE',\n",
       " 'diedCity': 'Munich',\n",
       " 'gender': 'male',\n",
       " 'prizes': [{'year': '1901',\n",
       "   'category': 'physics',\n",
       "   'share': '1',\n",
       "   'motivation': '\"in recognition of the extraordinary services he has rendered by the discovery of the remarkable rays subsequently named after him\"',\n",
       "   'affiliations': [{'name': 'Munich University',\n",
       "     'city': 'Munich',\n",
       "     'country': 'Germany'}]}]}"
      ]
     },
     "execution_count": 60,
     "metadata": {},
     "output_type": "execute_result"
    }
   ],
   "source": [
    "db.laureates.find_one()"
   ]
  },
  {
   "cell_type": "markdown",
   "metadata": {},
   "source": [
    "# The End."
   ]
  }
 ],
 "metadata": {
  "kernelspec": {
   "display_name": "Python 3",
   "language": "python",
   "name": "python3"
  },
  "language_info": {
   "codemirror_mode": {
    "name": "ipython",
    "version": 3
   },
   "file_extension": ".py",
   "mimetype": "text/x-python",
   "name": "python",
   "nbconvert_exporter": "python",
   "pygments_lexer": "ipython3",
   "version": "3.9.1"
  }
 },
 "nbformat": 4,
 "nbformat_minor": 2
}
