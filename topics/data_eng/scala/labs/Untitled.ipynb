{
 "cells": [
  {
   "cell_type": "markdown",
   "metadata": {},
   "source": [
    "# For expressions"
   ]
  },
  {
   "cell_type": "markdown",
   "metadata": {},
   "source": [
    "After completing this lesson, you should be able to:\n",
    "  - Understand the relationship between for expressions and higher order functions\n",
    "  - Describe the usage of for expressions\n",
    "\n",
    "\n",
    "For expressions are syntactic sugar that simplifies the work of programming a multistage transformation\n",
    "\n",
    "Let's take an example:\n"
   ]
  },
  {
   "cell_type": "code",
   "execution_count": 2,
   "metadata": {},
   "outputs": [
    {
     "data": {
      "text/plain": [
       "myNums = Range(1, 2, 3)\n"
      ]
     },
     "metadata": {},
     "output_type": "display_data"
    },
    {
     "data": {
      "text/plain": [
       "Vector(Vector(1), Vector(2, 4), Vector(3, 6, 9))"
      ]
     },
     "execution_count": 2,
     "metadata": {},
     "output_type": "execute_result"
    }
   ],
   "source": [
    "val myNums = 1 to 3\n",
    "myNums.map(i => (1 to i).map(j => i * j))"
   ]
  },
  {
   "cell_type": "markdown",
   "metadata": {},
   "source": [
    "The following two examples show the same but in Java and Python.\n",
    "\n",
    "\n",
    "#### Java:\n",
    "```java\n",
    "import java.util.ArrayList;\n",
    "\n",
    "class test {\n",
    "    public static void main(String[] args) {\n",
    "        ArrayList<Integer> lst = new ArrayList<>();\n",
    "        lst.add(1);\n",
    "        lst.add(2);\n",
    "        lst.add(3);\n",
    "\n",
    "        ArrayList<ArrayList<Integer>> result = new ArrayList<>();\n",
    "        ArrayList<Integer> subLst;\n",
    "\n",
    "\n",
    "        for(int s=0; s < lst.size(); s++) {\n",
    "            subLst = new ArrayList<>();\n",
    "            int sValue = lst.get(s);\n",
    "\n",
    "            for(int t=0; t < s+1; t++) {\n",
    "                int tValue = sValue * (t + 1);\n",
    "                subLst.add(tValue);\n",
    "            }\n",
    "            result.add(subLst);\n",
    "        }\n",
    "\n",
    "        System.out.println(result);\n",
    "    }\n",
    "}\n",
    "```\n",
    "\n",
    "#### Python:\n",
    "```python\n",
    "lst = range(1, 4) # python range is not inclusive\n",
    "\n",
    "result = []\n",
    "for i in lst:\n",
    "    sub_result = [j * i for j in range(1, i+1)]\n",
    "    result.append(sub_result)\n",
    "\n",
    "print(result)\n",
    "```"
   ]
  },
  {
   "cell_type": "markdown",
   "metadata": {},
   "source": [
    "Since, we want a collections of integers rather than a collection of collections, we start the processing with `flatMap` instead of `map`."
   ]
  },
  {
   "cell_type": "code",
   "execution_count": 6,
   "metadata": {},
   "outputs": [
    {
     "data": {
      "text/plain": [
       "Vector(1, 2, 4, 3, 6, 9)"
      ]
     },
     "execution_count": 6,
     "metadata": {},
     "output_type": "execute_result"
    }
   ],
   "source": [
    "myNums.flatMap(i => (1 to i).map(j => i * j))"
   ]
  },
  {
   "cell_type": "markdown",
   "metadata": {},
   "source": [
    "We can simplify the appearance of the code in the example above by using for-expressions. "
   ]
  },
  {
   "cell_type": "code",
   "execution_count": 5,
   "metadata": {},
   "outputs": [
    {
     "data": {
      "text/plain": [
       "myNums = Vector(1, 2, 3)\n",
       "result = Vector(1, 2, 4, 3, 6, 9)\n"
      ]
     },
     "metadata": {},
     "output_type": "display_data"
    },
    {
     "data": {
      "text/plain": [
       "Vector(1, 2, 4, 3, 6, 9)"
      ]
     },
     "execution_count": 5,
     "metadata": {},
     "output_type": "execute_result"
    }
   ],
   "source": [
    "val myNums = (1 to 3).toVector\n",
    "val result: Vector[Int] = for {\n",
    "  i <- myNums\n",
    "  j <- 1 to i\n",
    "} yield i * j"
   ]
  },
  {
   "cell_type": "code",
   "execution_count": null,
   "metadata": {},
   "outputs": [],
   "source": []
  },
  {
   "cell_type": "markdown",
   "metadata": {},
   "source": [
    "# Patterns Matching\n",
    "\n",
    "\n",
    "Pattern matching is a powerful construct that improves on the familiar `switch`/`case` syntax (which is absent in Scala). It is best to start with a simple example:\n",
    "\n",
    "```scala\n",
    "\n",
    "val result: Int = 10\n",
    "\n",
    "result match {\n",
    "  case 1 => println(\"found 1\")\n",
    "  case someInteger: Int => println(\"found some value of type Int\")\n",
    "  // the compiler will issue a warning because this code is acutally impossible to reach. Any value of type Int will match the second condition\n",
    "  case _ => println(\"found something that is not 1 or some other integer\")\n",
    "}\n",
    "```\n",
    "\n",
    "Matching is started with the keyword `match` which is followed by a block of case statements. The left-hand side of the `=>` in the `case` statement supports several varieties of syntax. The right-hand side can contain arbitrary code.\n",
    "\n",
    "In the first `case` statement, we've checking if the `result` we're trying to find a match for is an integer 1. If it is not, the pattern matching moves on to the next `case` statement. In the following statement, if the value of `result` has a type of `Int`. If that is true, the value of `result` is stored in the name `someInteger`, this is known as a `type` pattern. If this pattern match is not successful, ie if `result` is not of type `Int`, the next case is evaluated. This last statement is a catch-all that will successfully match anything. When it matches, the string `\"found something that is not 1 or some other integer\"` will be printed to the screen.\n",
    "We can wrap this pattern matching expressions into a function and experiment with it.\n",
    "\n",
    "```scala\n",
    "def isOneOrInteger(value: Int): Unit =\n",
    "  value match {\n",
    "    case 1 => println(\"found 1\")\n",
    "    case someInteger: Int => println(\"found some value of type Int\")\n",
    "    case _ => println(\"found something that is not 1 or some other integer\")\n",
    "  }\n",
    "\n",
    "isOneOrInteger(1)\n",
    "isOneOrInteger(22)\n",
    "```\n",
    "\n",
    "With this definition of the function the compiler will not actually allow us to pass anything other than integers as parameters to the function. In order to get around this, we have to relax the type of `value` to `Any`. Make this change and pass parameters of other types into the function. Observe the output.\n",
    "\n",
    "Pattern matching is very useful when you want to act on specific values of some case class or a hierarchy of types that represents a set of alternatives (also known as an Algebraic Data Type).\n",
    "\n",
    "As a reminder, an Algebraic Data Type is a way to encode the fact that a certain type is represented by a finite set of alternatives. For instance, in Scala the Boolean type contains two values, `true` and `false`. We could represent these as distinct types. This is shown below:\n",
    "\n",
    "```scala\n",
    "sealed trait MyBoolean {\n",
    "  def value: Boolean\n",
    "}\n",
    "case class True(value: Boolean = true) extends MyBoolean\n",
    "case class False(value: Boolean = false) extends MyBoolean\n",
    "```\n",
    "\n",
    "This the typical representation of an ADT in Scala. Closing the `trait` with `sealed` means that all of the definitions that are inherit from this trait are are defined in the same Scala file where this definition is located.\n",
    "\n",
    "\n",
    "As another example, we could model the behavior of a light switch with an ADT. This is shown below:\n",
    "\n",
    "```scala\n",
    "sealed trait LightSwitch\n",
    "case object On extends LightSwitch\n",
    "case object Off extends LightSwitch\n",
    "```\n",
    "\n",
    "Since we've notified the compiler, by using `sealed`, that all of the subtypes of `LightSwitch` are in this file, it (the compiler) will verify that we have covered all of the cases when we pattern match on a value of type `LightSwitch`. Assign a value to `light` and observe the behavior.\n",
    "\n",
    "```scala\n",
    "sealed trait LightSwitch\n",
    "case object On extends LightSwitch\n",
    "case object Off extends LightSwitch\n",
    "\n",
    "val light: LightSwitch = Off\n",
    "\n",
    "def status(value: LightSwitch): Unit = \n",
    "  value match {\n",
    "    case On => println(\"the switch is on\")\n",
    "    case Off => println(\"this switch is off\")\n",
    "  }\n",
    "\n",
    "status(light)\n",
    "```\n",
    "\n",
    "We can write something similar to the above for our custom `Boolean` type. These values are little bit more complex in that they actually carry some values. However, using pattern matching we can de-compose or `unapply` case class into its components. Set value of `b` to one of the possible alternatives and observe the difference.\n",
    "\n",
    "```scala\n",
    "sealed trait MyBoolean {\n",
    "  def value: Boolean\n",
    "}\n",
    "\n",
    "case class True(override val value: Boolean = true) extends MyBoolean\n",
    "case class False(override val value: Boolean = false) extends MyBoolean\n",
    "\n",
    "\n",
    "val b: MyBoolean = False()\n",
    "\n",
    "def isItActuallyTrue(value: MyBoolean): Unit =\n",
    "  value match {\n",
    "    case True(true) => println(\"it is actually true!\")\n",
    "    case True(false) => println(\"it is pretending to be true!\")\n",
    "    case False(true) => println(\"it is pretending to be false, but is actually true!\")\n",
    "    case False(false) => println(\"it is really false!\")\n",
    "  }\n",
    "```"
   ]
  },
  {
   "cell_type": "code",
   "execution_count": null,
   "metadata": {},
   "outputs": [],
   "source": []
  }
 ],
 "metadata": {
  "kernelspec": {
   "display_name": "Apache Toree - Scala",
   "language": "scala",
   "name": "apache_toree_scala"
  },
  "language_info": {
   "codemirror_mode": "text/x-scala",
   "file_extension": ".scala",
   "mimetype": "text/x-scala",
   "name": "scala",
   "pygments_lexer": "scala",
   "version": "2.11.12"
  }
 },
 "nbformat": 4,
 "nbformat_minor": 4
}
