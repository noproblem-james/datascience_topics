{
 "cells": [
  {
   "cell_type": "code",
   "execution_count": 1,
   "metadata": {},
   "outputs": [],
   "source": [
    "import numpy as np\n",
    "import pandas as pd\n",
    "import sqlite3\n",
    "import kaggle\n",
    "\n",
    "from IPython.display import display\n",
    "\n",
    "pd.options.display.max_rows = 200"
   ]
  },
  {
   "cell_type": "code",
   "execution_count": 2,
   "metadata": {},
   "outputs": [],
   "source": [
    "kaggle.api.authenticate()"
   ]
  },
  {
   "cell_type": "code",
   "execution_count": 3,
   "metadata": {},
   "outputs": [],
   "source": [
    "path = \"../../../data/sql_data/\""
   ]
  },
  {
   "cell_type": "code",
   "execution_count": 4,
   "metadata": {},
   "outputs": [],
   "source": [
    "kaggle.api.dataset_download_files(\n",
    "    'hugomathien/soccer', \n",
    "    path=path, \n",
    "    unzip=True\n",
    ")"
   ]
  },
  {
   "cell_type": "code",
   "execution_count": 5,
   "metadata": {
    "scrolled": false
   },
   "outputs": [
    {
     "name": "stdout",
     "output_type": "stream",
     "text": [
      "database.sqlite\r\n"
     ]
    }
   ],
   "source": [
    "ls ../../../data/sql_data"
   ]
  },
  {
   "cell_type": "code",
   "execution_count": 6,
   "metadata": {},
   "outputs": [],
   "source": [
    "database = path + 'database.sqlite'"
   ]
  },
  {
   "cell_type": "code",
   "execution_count": 7,
   "metadata": {},
   "outputs": [],
   "source": [
    "def create_connection(db_file):\n",
    "    \"\"\" create a database connection to the SQLite database\n",
    "        specified by db_file\n",
    "    \"\"\"\n",
    "    conn = None\n",
    "    try:\n",
    "        conn = sqlite3.connect(db_file)\n",
    "        return conn\n",
    "    except Error as e:\n",
    "        print(e)\n",
    "    return conn"
   ]
  },
  {
   "cell_type": "code",
   "execution_count": 8,
   "metadata": {},
   "outputs": [],
   "source": [
    "conn = create_connection(database)"
   ]
  },
  {
   "cell_type": "code",
   "execution_count": 9,
   "metadata": {},
   "outputs": [],
   "source": [
    "def make_metadata_df(con):\n",
    "    cur = conn.cursor()\n",
    "    tablename_statement = \"SELECT * FROM sqlite_master WHERE type='table';\"\n",
    "    res = []\n",
    "    cur.execute(tablename_statement)\n",
    "    meta_cols = {row[0]: num for num, row in enumerate(cur.description)}\n",
    "    for row in cur:\n",
    "        table_name = row[meta_cols[\"name\"]]\n",
    "        print(table_name)\n",
    "        cols_statement = f\"SELECT * from {table_name} LIMIT 1\"\n",
    "        new_cur = conn.cursor()\n",
    "        new_cur.execute(cols_statement)\n",
    "        for row in new_cur.description:\n",
    "            res.append(dict(table_name=table_name,\n",
    "                            col=row[0]))\n",
    "        new_cur.close()\n",
    "    cur.close()\n",
    "    df = pd.DataFrame(res)\n",
    "    return df"
   ]
  },
  {
   "cell_type": "code",
   "execution_count": 10,
   "metadata": {},
   "outputs": [
    {
     "name": "stdout",
     "output_type": "stream",
     "text": [
      "sqlite_sequence\n",
      "Player_Attributes\n",
      "Player\n",
      "Match\n",
      "League\n",
      "Country\n",
      "Team\n",
      "Team_Attributes\n"
     ]
    }
   ],
   "source": [
    "meta_df = make_metadata_df(conn)"
   ]
  },
  {
   "cell_type": "code",
   "execution_count": 11,
   "metadata": {},
   "outputs": [
    {
     "data": {
      "text/plain": [
       "array(['id', 'country_id', 'league_id', 'season', 'stage', 'date',\n",
       "       'match_api_id', 'home_team_api_id', 'away_team_api_id',\n",
       "       'home_team_goal', 'away_team_goal', 'home_player_X1',\n",
       "       'home_player_X2', 'home_player_X3', 'home_player_X4',\n",
       "       'home_player_X5', 'home_player_X6', 'home_player_X7',\n",
       "       'home_player_X8', 'home_player_X9', 'home_player_X10',\n",
       "       'home_player_X11', 'away_player_X1', 'away_player_X2',\n",
       "       'away_player_X3', 'away_player_X4', 'away_player_X5',\n",
       "       'away_player_X6', 'away_player_X7', 'away_player_X8',\n",
       "       'away_player_X9', 'away_player_X10', 'away_player_X11',\n",
       "       'home_player_Y1', 'home_player_Y2', 'home_player_Y3',\n",
       "       'home_player_Y4', 'home_player_Y5', 'home_player_Y6',\n",
       "       'home_player_Y7', 'home_player_Y8', 'home_player_Y9',\n",
       "       'home_player_Y10', 'home_player_Y11', 'away_player_Y1',\n",
       "       'away_player_Y2', 'away_player_Y3', 'away_player_Y4',\n",
       "       'away_player_Y5', 'away_player_Y6', 'away_player_Y7',\n",
       "       'away_player_Y8', 'away_player_Y9', 'away_player_Y10',\n",
       "       'away_player_Y11', 'home_player_1', 'home_player_2',\n",
       "       'home_player_3', 'home_player_4', 'home_player_5', 'home_player_6',\n",
       "       'home_player_7', 'home_player_8', 'home_player_9',\n",
       "       'home_player_10', 'home_player_11', 'away_player_1',\n",
       "       'away_player_2', 'away_player_3', 'away_player_4', 'away_player_5',\n",
       "       'away_player_6', 'away_player_7', 'away_player_8', 'away_player_9',\n",
       "       'away_player_10', 'away_player_11', 'goal', 'shoton', 'shotoff',\n",
       "       'foulcommit', 'card', 'cross', 'corner', 'possession', 'B365H',\n",
       "       'B365D', 'B365A', 'BWH', 'BWD', 'BWA', 'IWH', 'IWD', 'IWA', 'LBH',\n",
       "       'LBD', 'LBA', 'PSH', 'PSD', 'PSA', 'WHH', 'WHD', 'WHA', 'SJH',\n",
       "       'SJD', 'SJA', 'VCH', 'VCD', 'VCA', 'GBH', 'GBD', 'GBA', 'BSH',\n",
       "       'BSD', 'BSA'], dtype=object)"
      ]
     },
     "execution_count": 11,
     "metadata": {},
     "output_type": "execute_result"
    }
   ],
   "source": [
    "meta_df.query(\"table_name == 'Match'\")[\"col\"].unique()"
   ]
  },
  {
   "cell_type": "code",
   "execution_count": 12,
   "metadata": {
    "scrolled": true
   },
   "outputs": [
    {
     "data": {
      "text/plain": [
       "array(['sqlite_sequence', 'Player_Attributes', 'Player', 'Match',\n",
       "       'League', 'Country', 'Team', 'Team_Attributes'], dtype=object)"
      ]
     },
     "execution_count": 12,
     "metadata": {},
     "output_type": "execute_result"
    }
   ],
   "source": [
    "meta_df.table_name.unique()"
   ]
  },
  {
   "cell_type": "code",
   "execution_count": 13,
   "metadata": {},
   "outputs": [],
   "source": [
    "def peek_sql_res(statement, con=conn):\n",
    "    res_df = pd.read_sql(statement, con=conn)\n",
    "    print(f\"shape: {res_df.shape}\")\n",
    "    display(res_df.head(10))"
   ]
  },
  {
   "cell_type": "markdown",
   "metadata": {},
   "source": [
    "## CASE"
   ]
  },
  {
   "cell_type": "markdown",
   "metadata": {},
   "source": [
    "#### Retrieve information about matches played between Barcelona (id = 8634) and Real Madrid (id = 8633)"
   ]
  },
  {
   "cell_type": "code",
   "execution_count": 14,
   "metadata": {},
   "outputs": [],
   "source": [
    "statement = \\\n",
    "\"\"\"\n",
    "SELECT  \n",
    "    m.date,\n",
    "    t.team_long_name AS opponent,\n",
    "    CASE WHEN m.home_team_goal < m.away_team_goal THEN 'Barcelona win'\n",
    "        WHEN m.home_team_goal > m.away_team_goal THEN 'Barcelona loss' \n",
    "        ELSE 'Tie' END AS outcome\n",
    "FROM Match AS m\n",
    "-- Join team to match\n",
    "LEFT JOIN Team AS t \n",
    "ON m.home_team_api_id = t.team_api_id\n",
    "WHERE m.away_team_api_id = 8634;\n",
    "\"\"\""
   ]
  },
  {
   "cell_type": "code",
   "execution_count": 15,
   "metadata": {
    "scrolled": false
   },
   "outputs": [],
   "source": [
    "# pd.read_sql(\"select * from Match limit 2\", con=conn).T"
   ]
  },
  {
   "cell_type": "code",
   "execution_count": 16,
   "metadata": {},
   "outputs": [
    {
     "name": "stdout",
     "output_type": "stream",
     "text": [
      "shape: (152, 3)\n"
     ]
    },
    {
     "data": {
      "text/html": [
       "<div>\n",
       "<style scoped>\n",
       "    .dataframe tbody tr th:only-of-type {\n",
       "        vertical-align: middle;\n",
       "    }\n",
       "\n",
       "    .dataframe tbody tr th {\n",
       "        vertical-align: top;\n",
       "    }\n",
       "\n",
       "    .dataframe thead th {\n",
       "        text-align: right;\n",
       "    }\n",
       "</style>\n",
       "<table border=\"1\" class=\"dataframe\">\n",
       "  <thead>\n",
       "    <tr style=\"text-align: right;\">\n",
       "      <th></th>\n",
       "      <th>date</th>\n",
       "      <th>opponent</th>\n",
       "      <th>outcome</th>\n",
       "    </tr>\n",
       "  </thead>\n",
       "  <tbody>\n",
       "    <tr>\n",
       "      <th>0</th>\n",
       "      <td>2008-08-31 00:00:00</td>\n",
       "      <td>CD Numancia</td>\n",
       "      <td>Barcelona loss</td>\n",
       "    </tr>\n",
       "    <tr>\n",
       "      <th>1</th>\n",
       "      <td>2008-11-16 00:00:00</td>\n",
       "      <td>RC Recreativo</td>\n",
       "      <td>Barcelona win</td>\n",
       "    </tr>\n",
       "    <tr>\n",
       "      <th>2</th>\n",
       "      <td>2008-11-29 00:00:00</td>\n",
       "      <td>Sevilla FC</td>\n",
       "      <td>Barcelona win</td>\n",
       "    </tr>\n",
       "    <tr>\n",
       "      <th>3</th>\n",
       "      <td>2008-12-21 00:00:00</td>\n",
       "      <td>Villarreal CF</td>\n",
       "      <td>Barcelona win</td>\n",
       "    </tr>\n",
       "    <tr>\n",
       "      <th>4</th>\n",
       "      <td>2009-01-11 00:00:00</td>\n",
       "      <td>CA Osasuna</td>\n",
       "      <td>Barcelona win</td>\n",
       "    </tr>\n",
       "    <tr>\n",
       "      <th>5</th>\n",
       "      <td>2009-02-01 00:00:00</td>\n",
       "      <td>Racing Santander</td>\n",
       "      <td>Barcelona win</td>\n",
       "    </tr>\n",
       "    <tr>\n",
       "      <th>6</th>\n",
       "      <td>2009-02-14 00:00:00</td>\n",
       "      <td>Real Betis Balompié</td>\n",
       "      <td>Tie</td>\n",
       "    </tr>\n",
       "    <tr>\n",
       "      <th>7</th>\n",
       "      <td>2009-03-01 00:00:00</td>\n",
       "      <td>Atlético Madrid</td>\n",
       "      <td>Barcelona loss</td>\n",
       "    </tr>\n",
       "    <tr>\n",
       "      <th>8</th>\n",
       "      <td>2009-03-15 00:00:00</td>\n",
       "      <td>UD Almería</td>\n",
       "      <td>Barcelona win</td>\n",
       "    </tr>\n",
       "    <tr>\n",
       "      <th>9</th>\n",
       "      <td>2009-04-04 00:00:00</td>\n",
       "      <td>Real Valladolid</td>\n",
       "      <td>Barcelona win</td>\n",
       "    </tr>\n",
       "  </tbody>\n",
       "</table>\n",
       "</div>"
      ],
      "text/plain": [
       "                  date             opponent         outcome\n",
       "0  2008-08-31 00:00:00          CD Numancia  Barcelona loss\n",
       "1  2008-11-16 00:00:00        RC Recreativo   Barcelona win\n",
       "2  2008-11-29 00:00:00           Sevilla FC   Barcelona win\n",
       "3  2008-12-21 00:00:00        Villarreal CF   Barcelona win\n",
       "4  2009-01-11 00:00:00           CA Osasuna   Barcelona win\n",
       "5  2009-02-01 00:00:00     Racing Santander   Barcelona win\n",
       "6  2009-02-14 00:00:00  Real Betis Balompié             Tie\n",
       "7  2009-03-01 00:00:00      Atlético Madrid  Barcelona loss\n",
       "8  2009-03-15 00:00:00           UD Almería   Barcelona win\n",
       "9  2009-04-04 00:00:00      Real Valladolid   Barcelona win"
      ]
     },
     "metadata": {},
     "output_type": "display_data"
    }
   ],
   "source": [
    "peek_sql_res(statement)"
   ]
  },
  {
   "cell_type": "code",
   "execution_count": 17,
   "metadata": {},
   "outputs": [],
   "source": [
    "statement = \\\n",
    "\"\"\"\n",
    "SELECT\n",
    "    date,\n",
    "    CASE WHEN m.home_team_api_id = 8634 THEN 'Barcelona' ELSE 'Madrid' END AS HOME,\n",
    "    CASE WHEN m.away_team_api_id = 8634 THEN 'Barcelona' ELSE 'Madrid' END AS AWAY,\n",
    "    CASE WHEN m.home_team_goal > m.away_team_goal THEN 'Home team win'\n",
    "         WHEN m.away_team_goal > m.home_team_goal THEN 'Away team win'\n",
    "         ELSE 'tie'\n",
    "         END\n",
    "    AS OUTCOME\n",
    "FROM Match as m\n",
    "WHERE (m.home_team_api_id = 8634 AND m.away_team_api_id = 8633)\n",
    "OR\n",
    "(m.home_team_api_id = 8633 AND m.away_team_api_id = 8634)\n",
    "\"\"\""
   ]
  },
  {
   "cell_type": "code",
   "execution_count": 18,
   "metadata": {},
   "outputs": [
    {
     "name": "stdout",
     "output_type": "stream",
     "text": [
      "shape: (16, 4)\n"
     ]
    },
    {
     "data": {
      "text/html": [
       "<div>\n",
       "<style scoped>\n",
       "    .dataframe tbody tr th:only-of-type {\n",
       "        vertical-align: middle;\n",
       "    }\n",
       "\n",
       "    .dataframe tbody tr th {\n",
       "        vertical-align: top;\n",
       "    }\n",
       "\n",
       "    .dataframe thead th {\n",
       "        text-align: right;\n",
       "    }\n",
       "</style>\n",
       "<table border=\"1\" class=\"dataframe\">\n",
       "  <thead>\n",
       "    <tr style=\"text-align: right;\">\n",
       "      <th></th>\n",
       "      <th>date</th>\n",
       "      <th>HOME</th>\n",
       "      <th>AWAY</th>\n",
       "      <th>OUTCOME</th>\n",
       "    </tr>\n",
       "  </thead>\n",
       "  <tbody>\n",
       "    <tr>\n",
       "      <th>0</th>\n",
       "      <td>2008-12-13 00:00:00</td>\n",
       "      <td>Barcelona</td>\n",
       "      <td>Madrid</td>\n",
       "      <td>Home team win</td>\n",
       "    </tr>\n",
       "    <tr>\n",
       "      <th>1</th>\n",
       "      <td>2009-05-02 00:00:00</td>\n",
       "      <td>Madrid</td>\n",
       "      <td>Barcelona</td>\n",
       "      <td>Away team win</td>\n",
       "    </tr>\n",
       "    <tr>\n",
       "      <th>2</th>\n",
       "      <td>2009-11-29 00:00:00</td>\n",
       "      <td>Barcelona</td>\n",
       "      <td>Madrid</td>\n",
       "      <td>Home team win</td>\n",
       "    </tr>\n",
       "    <tr>\n",
       "      <th>3</th>\n",
       "      <td>2010-04-10 00:00:00</td>\n",
       "      <td>Madrid</td>\n",
       "      <td>Barcelona</td>\n",
       "      <td>Away team win</td>\n",
       "    </tr>\n",
       "    <tr>\n",
       "      <th>4</th>\n",
       "      <td>2010-11-29 00:00:00</td>\n",
       "      <td>Barcelona</td>\n",
       "      <td>Madrid</td>\n",
       "      <td>Home team win</td>\n",
       "    </tr>\n",
       "    <tr>\n",
       "      <th>5</th>\n",
       "      <td>2011-04-16 00:00:00</td>\n",
       "      <td>Madrid</td>\n",
       "      <td>Barcelona</td>\n",
       "      <td>tie</td>\n",
       "    </tr>\n",
       "    <tr>\n",
       "      <th>6</th>\n",
       "      <td>2011-12-10 00:00:00</td>\n",
       "      <td>Madrid</td>\n",
       "      <td>Barcelona</td>\n",
       "      <td>Away team win</td>\n",
       "    </tr>\n",
       "    <tr>\n",
       "      <th>7</th>\n",
       "      <td>2012-04-21 00:00:00</td>\n",
       "      <td>Barcelona</td>\n",
       "      <td>Madrid</td>\n",
       "      <td>Away team win</td>\n",
       "    </tr>\n",
       "    <tr>\n",
       "      <th>8</th>\n",
       "      <td>2013-03-02 00:00:00</td>\n",
       "      <td>Madrid</td>\n",
       "      <td>Barcelona</td>\n",
       "      <td>Home team win</td>\n",
       "    </tr>\n",
       "    <tr>\n",
       "      <th>9</th>\n",
       "      <td>2012-10-07 00:00:00</td>\n",
       "      <td>Barcelona</td>\n",
       "      <td>Madrid</td>\n",
       "      <td>tie</td>\n",
       "    </tr>\n",
       "  </tbody>\n",
       "</table>\n",
       "</div>"
      ],
      "text/plain": [
       "                  date       HOME       AWAY        OUTCOME\n",
       "0  2008-12-13 00:00:00  Barcelona     Madrid  Home team win\n",
       "1  2009-05-02 00:00:00     Madrid  Barcelona  Away team win\n",
       "2  2009-11-29 00:00:00  Barcelona     Madrid  Home team win\n",
       "3  2010-04-10 00:00:00     Madrid  Barcelona  Away team win\n",
       "4  2010-11-29 00:00:00  Barcelona     Madrid  Home team win\n",
       "5  2011-04-16 00:00:00     Madrid  Barcelona            tie\n",
       "6  2011-12-10 00:00:00     Madrid  Barcelona  Away team win\n",
       "7  2012-04-21 00:00:00  Barcelona     Madrid  Away team win\n",
       "8  2013-03-02 00:00:00     Madrid  Barcelona  Home team win\n",
       "9  2012-10-07 00:00:00  Barcelona     Madrid            tie"
      ]
     },
     "metadata": {},
     "output_type": "display_data"
    }
   ],
   "source": [
    "peek_sql_res(statement)"
   ]
  },
  {
   "cell_type": "code",
   "execution_count": 19,
   "metadata": {},
   "outputs": [],
   "source": [
    "statement = \\\n",
    "\"\"\"\n",
    "SELECT\n",
    "    date,\n",
    "    CASE WHEN m.home_team_api_id = 8634 THEN 'Barcelona' ELSE 'Madrid' END AS HOME,\n",
    "    CASE WHEN m.away_team_api_id = 8634 THEN 'Barcelona' ELSE 'Madrid' END AS AWAY,\n",
    "    CASE WHEN m.home_team_api_id = 8634 AND m.home_team_goal > m.away_team_goal THEN 'Barcelona win'\n",
    "         WHEN m.home_team_api_id = 8634 AND m.home_team_goal < m.away_team_goal THEN 'Madrid win'\n",
    "         WHEN m.away_team_api_id = 8634 AND m.home_team_goal > m.away_team_goal THEN 'Madrid win'\n",
    "         WHEN m.away_team_api_id = 8634 AND m.home_team_goal < m.away_team_goal THEN 'Barcelona win'\n",
    "         ELSE 'tie'\n",
    "         END\n",
    "         AS OUTCOME\n",
    "    \n",
    "FROM Match as m\n",
    "WHERE (m.home_team_api_id = 8634 AND m.away_team_api_id = 8633)\n",
    "OR\n",
    "(m.home_team_api_id = 8633 AND m.away_team_api_id = 8634)\n",
    "\"\"\""
   ]
  },
  {
   "cell_type": "code",
   "execution_count": 20,
   "metadata": {
    "scrolled": true
   },
   "outputs": [
    {
     "name": "stdout",
     "output_type": "stream",
     "text": [
      "shape: (16, 4)\n"
     ]
    },
    {
     "data": {
      "text/html": [
       "<div>\n",
       "<style scoped>\n",
       "    .dataframe tbody tr th:only-of-type {\n",
       "        vertical-align: middle;\n",
       "    }\n",
       "\n",
       "    .dataframe tbody tr th {\n",
       "        vertical-align: top;\n",
       "    }\n",
       "\n",
       "    .dataframe thead th {\n",
       "        text-align: right;\n",
       "    }\n",
       "</style>\n",
       "<table border=\"1\" class=\"dataframe\">\n",
       "  <thead>\n",
       "    <tr style=\"text-align: right;\">\n",
       "      <th></th>\n",
       "      <th>date</th>\n",
       "      <th>HOME</th>\n",
       "      <th>AWAY</th>\n",
       "      <th>OUTCOME</th>\n",
       "    </tr>\n",
       "  </thead>\n",
       "  <tbody>\n",
       "    <tr>\n",
       "      <th>0</th>\n",
       "      <td>2008-12-13 00:00:00</td>\n",
       "      <td>Barcelona</td>\n",
       "      <td>Madrid</td>\n",
       "      <td>Barcelona win</td>\n",
       "    </tr>\n",
       "    <tr>\n",
       "      <th>1</th>\n",
       "      <td>2009-05-02 00:00:00</td>\n",
       "      <td>Madrid</td>\n",
       "      <td>Barcelona</td>\n",
       "      <td>Barcelona win</td>\n",
       "    </tr>\n",
       "    <tr>\n",
       "      <th>2</th>\n",
       "      <td>2009-11-29 00:00:00</td>\n",
       "      <td>Barcelona</td>\n",
       "      <td>Madrid</td>\n",
       "      <td>Barcelona win</td>\n",
       "    </tr>\n",
       "    <tr>\n",
       "      <th>3</th>\n",
       "      <td>2010-04-10 00:00:00</td>\n",
       "      <td>Madrid</td>\n",
       "      <td>Barcelona</td>\n",
       "      <td>Barcelona win</td>\n",
       "    </tr>\n",
       "    <tr>\n",
       "      <th>4</th>\n",
       "      <td>2010-11-29 00:00:00</td>\n",
       "      <td>Barcelona</td>\n",
       "      <td>Madrid</td>\n",
       "      <td>Barcelona win</td>\n",
       "    </tr>\n",
       "    <tr>\n",
       "      <th>5</th>\n",
       "      <td>2011-04-16 00:00:00</td>\n",
       "      <td>Madrid</td>\n",
       "      <td>Barcelona</td>\n",
       "      <td>tie</td>\n",
       "    </tr>\n",
       "    <tr>\n",
       "      <th>6</th>\n",
       "      <td>2011-12-10 00:00:00</td>\n",
       "      <td>Madrid</td>\n",
       "      <td>Barcelona</td>\n",
       "      <td>Barcelona win</td>\n",
       "    </tr>\n",
       "    <tr>\n",
       "      <th>7</th>\n",
       "      <td>2012-04-21 00:00:00</td>\n",
       "      <td>Barcelona</td>\n",
       "      <td>Madrid</td>\n",
       "      <td>Madrid win</td>\n",
       "    </tr>\n",
       "    <tr>\n",
       "      <th>8</th>\n",
       "      <td>2013-03-02 00:00:00</td>\n",
       "      <td>Madrid</td>\n",
       "      <td>Barcelona</td>\n",
       "      <td>Madrid win</td>\n",
       "    </tr>\n",
       "    <tr>\n",
       "      <th>9</th>\n",
       "      <td>2012-10-07 00:00:00</td>\n",
       "      <td>Barcelona</td>\n",
       "      <td>Madrid</td>\n",
       "      <td>tie</td>\n",
       "    </tr>\n",
       "  </tbody>\n",
       "</table>\n",
       "</div>"
      ],
      "text/plain": [
       "                  date       HOME       AWAY        OUTCOME\n",
       "0  2008-12-13 00:00:00  Barcelona     Madrid  Barcelona win\n",
       "1  2009-05-02 00:00:00     Madrid  Barcelona  Barcelona win\n",
       "2  2009-11-29 00:00:00  Barcelona     Madrid  Barcelona win\n",
       "3  2010-04-10 00:00:00     Madrid  Barcelona  Barcelona win\n",
       "4  2010-11-29 00:00:00  Barcelona     Madrid  Barcelona win\n",
       "5  2011-04-16 00:00:00     Madrid  Barcelona            tie\n",
       "6  2011-12-10 00:00:00     Madrid  Barcelona  Barcelona win\n",
       "7  2012-04-21 00:00:00  Barcelona     Madrid     Madrid win\n",
       "8  2013-03-02 00:00:00     Madrid  Barcelona     Madrid win\n",
       "9  2012-10-07 00:00:00  Barcelona     Madrid            tie"
      ]
     },
     "metadata": {},
     "output_type": "display_data"
    }
   ],
   "source": [
    "peek_sql_res(statement)"
   ]
  },
  {
   "cell_type": "code",
   "execution_count": null,
   "metadata": {},
   "outputs": [],
   "source": []
  }
 ],
 "metadata": {
  "kernelspec": {
   "display_name": "Python 3",
   "language": "python",
   "name": "python3"
  },
  "language_info": {
   "codemirror_mode": {
    "name": "ipython",
    "version": 3
   },
   "file_extension": ".py",
   "mimetype": "text/x-python",
   "name": "python",
   "nbconvert_exporter": "python",
   "pygments_lexer": "ipython3",
   "version": "3.9.1"
  }
 },
 "nbformat": 4,
 "nbformat_minor": 4
}
