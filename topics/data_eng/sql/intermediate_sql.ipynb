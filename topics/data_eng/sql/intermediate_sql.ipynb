{
 "cells": [
  {
   "cell_type": "markdown",
   "metadata": {},
   "source": [
    "# SQL"
   ]
  },
  {
   "cell_type": "markdown",
   "metadata": {},
   "source": [
    "## Table of Contents\n",
    "- Conditionals (CASE)\n",
    "- Subqueries\n",
    "- Correlated Queries\n",
    "- Nested Queries\n",
    "- Common Table Expressions\n",
    "- Window Functions"
   ]
  },
  {
   "cell_type": "markdown",
   "metadata": {},
   "source": [
    "## Setup"
   ]
  },
  {
   "cell_type": "code",
   "execution_count": 1,
   "metadata": {},
   "outputs": [],
   "source": [
    "import numpy as np\n",
    "import pandas as pd\n",
    "import sqlite3\n",
    "import kaggle\n",
    "\n",
    "from IPython.display import display\n",
    "\n",
    "pd.options.display.max_rows = 200"
   ]
  },
  {
   "cell_type": "code",
   "execution_count": 2,
   "metadata": {},
   "outputs": [],
   "source": [
    "kaggle.api.authenticate()"
   ]
  },
  {
   "cell_type": "code",
   "execution_count": 3,
   "metadata": {},
   "outputs": [],
   "source": [
    "path = \"../../../data/sql_data/\""
   ]
  },
  {
   "cell_type": "code",
   "execution_count": 4,
   "metadata": {},
   "outputs": [],
   "source": [
    "kaggle.api.dataset_download_files(\n",
    "    'hugomathien/soccer', \n",
    "    path=path, \n",
    "    unzip=True\n",
    ")"
   ]
  },
  {
   "cell_type": "code",
   "execution_count": 5,
   "metadata": {
    "scrolled": false
   },
   "outputs": [
    {
     "name": "stdout",
     "output_type": "stream",
     "text": [
      "database.sqlite\r\n"
     ]
    }
   ],
   "source": [
    "ls ../../../data/sql_data"
   ]
  },
  {
   "cell_type": "code",
   "execution_count": 6,
   "metadata": {},
   "outputs": [],
   "source": [
    "database = path + 'database.sqlite'"
   ]
  },
  {
   "cell_type": "code",
   "execution_count": 7,
   "metadata": {},
   "outputs": [],
   "source": [
    "def create_connection(db_file):\n",
    "    \"\"\" create a database connection to the SQLite database\n",
    "        specified by db_file\n",
    "    \"\"\"\n",
    "    conn = None\n",
    "    try:\n",
    "        conn = sqlite3.connect(db_file)\n",
    "        return conn\n",
    "    except Error as e:\n",
    "        print(e)\n",
    "    return conn"
   ]
  },
  {
   "cell_type": "code",
   "execution_count": 8,
   "metadata": {},
   "outputs": [],
   "source": [
    "conn = create_connection(database)"
   ]
  },
  {
   "cell_type": "code",
   "execution_count": 24,
   "metadata": {},
   "outputs": [],
   "source": [
    "def make_metadata_df(con):\n",
    "    cur = conn.cursor()\n",
    "    tablename_statement = \"SELECT * FROM sqlite_master WHERE type='table';\"\n",
    "    cur.execute(tablename_statement)\n",
    "    meta_cols = {row[0]: num for num, row in enumerate(cur.description)}\n",
    "    res = []\n",
    "    print(\"** Tables in DB: \\n\")\n",
    "    for row in cur:\n",
    "        table_name = row[meta_cols[\"name\"]]\n",
    "        print(table_name)\n",
    "        cols_statement = f\"SELECT * from {table_name} LIMIT 1\"\n",
    "        new_cur = conn.cursor()\n",
    "        new_cur.execute(cols_statement)\n",
    "        for row in new_cur.description:\n",
    "            res.append(dict(table_name=table_name,\n",
    "                            col=row[0]))\n",
    "        new_cur.close()\n",
    "    cur.close()\n",
    "    df = pd.DataFrame(res)\n",
    "    return df"
   ]
  },
  {
   "cell_type": "code",
   "execution_count": 25,
   "metadata": {
    "scrolled": true
   },
   "outputs": [
    {
     "name": "stdout",
     "output_type": "stream",
     "text": [
      "** Tables in DB: \n",
      "\n",
      "sqlite_sequence\n",
      "Player_Attributes\n",
      "Player\n",
      "Match\n",
      "League\n",
      "Country\n",
      "Team\n",
      "Team_Attributes\n"
     ]
    }
   ],
   "source": [
    "meta_df = make_metadata_df(conn)"
   ]
  },
  {
   "cell_type": "code",
   "execution_count": 26,
   "metadata": {
    "scrolled": true
   },
   "outputs": [
    {
     "data": {
      "text/html": [
       "<div>\n",
       "<style scoped>\n",
       "    .dataframe tbody tr th:only-of-type {\n",
       "        vertical-align: middle;\n",
       "    }\n",
       "\n",
       "    .dataframe tbody tr th {\n",
       "        vertical-align: top;\n",
       "    }\n",
       "\n",
       "    .dataframe thead th {\n",
       "        text-align: right;\n",
       "    }\n",
       "</style>\n",
       "<table border=\"1\" class=\"dataframe\">\n",
       "  <thead>\n",
       "    <tr style=\"text-align: right;\">\n",
       "      <th></th>\n",
       "      <th>table_name</th>\n",
       "      <th>col</th>\n",
       "    </tr>\n",
       "  </thead>\n",
       "  <tbody>\n",
       "    <tr>\n",
       "      <th>0</th>\n",
       "      <td>sqlite_sequence</td>\n",
       "      <td>name</td>\n",
       "    </tr>\n",
       "    <tr>\n",
       "      <th>1</th>\n",
       "      <td>sqlite_sequence</td>\n",
       "      <td>seq</td>\n",
       "    </tr>\n",
       "    <tr>\n",
       "      <th>2</th>\n",
       "      <td>Player_Attributes</td>\n",
       "      <td>id</td>\n",
       "    </tr>\n",
       "    <tr>\n",
       "      <th>3</th>\n",
       "      <td>Player_Attributes</td>\n",
       "      <td>player_fifa_api_id</td>\n",
       "    </tr>\n",
       "    <tr>\n",
       "      <th>4</th>\n",
       "      <td>Player_Attributes</td>\n",
       "      <td>player_api_id</td>\n",
       "    </tr>\n",
       "  </tbody>\n",
       "</table>\n",
       "</div>"
      ],
      "text/plain": [
       "          table_name                 col\n",
       "0    sqlite_sequence                name\n",
       "1    sqlite_sequence                 seq\n",
       "2  Player_Attributes                  id\n",
       "3  Player_Attributes  player_fifa_api_id\n",
       "4  Player_Attributes       player_api_id"
      ]
     },
     "execution_count": 26,
     "metadata": {},
     "output_type": "execute_result"
    }
   ],
   "source": [
    "meta_df.head()"
   ]
  },
  {
   "cell_type": "code",
   "execution_count": 12,
   "metadata": {
    "scrolled": false
   },
   "outputs": [
    {
     "data": {
      "text/plain": [
       "array(['sqlite_sequence', 'Player_Attributes', 'Player', 'Match',\n",
       "       'League', 'Country', 'Team', 'Team_Attributes'], dtype=object)"
      ]
     },
     "execution_count": 12,
     "metadata": {},
     "output_type": "execute_result"
    }
   ],
   "source": [
    "meta_df.table_name.unique()"
   ]
  },
  {
   "cell_type": "code",
   "execution_count": 27,
   "metadata": {
    "scrolled": false
   },
   "outputs": [
    {
     "data": {
      "text/plain": [
       "Match                115\n",
       "Player_Attributes     42\n",
       "Team_Attributes       25\n",
       "Player                 7\n",
       "Team                   5\n",
       "League                 3\n",
       "sqlite_sequence        2\n",
       "Country                2\n",
       "Name: table_name, dtype: int64"
      ]
     },
     "execution_count": 27,
     "metadata": {},
     "output_type": "execute_result"
    }
   ],
   "source": [
    "meta_df.table_name.value_counts()"
   ]
  },
  {
   "cell_type": "code",
   "execution_count": 11,
   "metadata": {},
   "outputs": [
    {
     "data": {
      "text/plain": [
       "array(['id', 'country_id', 'league_id', 'season', 'stage', 'date',\n",
       "       'match_api_id', 'home_team_api_id', 'away_team_api_id',\n",
       "       'home_team_goal', 'away_team_goal', 'home_player_X1',\n",
       "       'home_player_X2', 'home_player_X3', 'home_player_X4',\n",
       "       'home_player_X5', 'home_player_X6', 'home_player_X7',\n",
       "       'home_player_X8', 'home_player_X9', 'home_player_X10',\n",
       "       'home_player_X11', 'away_player_X1', 'away_player_X2',\n",
       "       'away_player_X3', 'away_player_X4', 'away_player_X5',\n",
       "       'away_player_X6', 'away_player_X7', 'away_player_X8',\n",
       "       'away_player_X9', 'away_player_X10', 'away_player_X11',\n",
       "       'home_player_Y1', 'home_player_Y2', 'home_player_Y3',\n",
       "       'home_player_Y4', 'home_player_Y5', 'home_player_Y6',\n",
       "       'home_player_Y7', 'home_player_Y8', 'home_player_Y9',\n",
       "       'home_player_Y10', 'home_player_Y11', 'away_player_Y1',\n",
       "       'away_player_Y2', 'away_player_Y3', 'away_player_Y4',\n",
       "       'away_player_Y5', 'away_player_Y6', 'away_player_Y7',\n",
       "       'away_player_Y8', 'away_player_Y9', 'away_player_Y10',\n",
       "       'away_player_Y11', 'home_player_1', 'home_player_2',\n",
       "       'home_player_3', 'home_player_4', 'home_player_5', 'home_player_6',\n",
       "       'home_player_7', 'home_player_8', 'home_player_9',\n",
       "       'home_player_10', 'home_player_11', 'away_player_1',\n",
       "       'away_player_2', 'away_player_3', 'away_player_4', 'away_player_5',\n",
       "       'away_player_6', 'away_player_7', 'away_player_8', 'away_player_9',\n",
       "       'away_player_10', 'away_player_11', 'goal', 'shoton', 'shotoff',\n",
       "       'foulcommit', 'card', 'cross', 'corner', 'possession', 'B365H',\n",
       "       'B365D', 'B365A', 'BWH', 'BWD', 'BWA', 'IWH', 'IWD', 'IWA', 'LBH',\n",
       "       'LBD', 'LBA', 'PSH', 'PSD', 'PSA', 'WHH', 'WHD', 'WHA', 'SJH',\n",
       "       'SJD', 'SJA', 'VCH', 'VCD', 'VCA', 'GBH', 'GBD', 'GBA', 'BSH',\n",
       "       'BSD', 'BSA'], dtype=object)"
      ]
     },
     "execution_count": 11,
     "metadata": {},
     "output_type": "execute_result"
    }
   ],
   "source": [
    "meta_df.query(\"table_name == 'Match'\")[\"col\"].unique()"
   ]
  },
  {
   "cell_type": "code",
   "execution_count": 13,
   "metadata": {},
   "outputs": [],
   "source": [
    "def peek_sql_res(statement, con=conn):\n",
    "    res_df = pd.read_sql(statement, con=conn)\n",
    "    print(f\"shape: {res_df.shape}\")\n",
    "    display(res_df.head(10))"
   ]
  },
  {
   "cell_type": "markdown",
   "metadata": {},
   "source": [
    "## CASE"
   ]
  },
  {
   "cell_type": "markdown",
   "metadata": {},
   "source": [
    "- When you have multiple logical conditions in a CASE statement, you may quickly end up with a large number of WHEN clauses to logically test every outcome you are interested in. \n",
    "- It's important to make sure you don't accidentally exclude key information in your ELSE clause."
   ]
  },
  {
   "cell_type": "markdown",
   "metadata": {},
   "source": [
    "#### Retrieve information about matches played between Barcelona (id = 8634) and Real Madrid (id = 8633)"
   ]
  },
  {
   "cell_type": "code",
   "execution_count": 14,
   "metadata": {},
   "outputs": [],
   "source": [
    "statement = \\\n",
    "\"\"\"\n",
    "SELECT  \n",
    "    m.date,\n",
    "    t.team_long_name AS opponent,\n",
    "    CASE WHEN m.home_team_goal < m.away_team_goal THEN 'Barcelona win'\n",
    "        WHEN m.home_team_goal > m.away_team_goal THEN 'Barcelona loss' \n",
    "        ELSE 'Tie' END AS outcome\n",
    "FROM Match AS m\n",
    "-- Join team to match\n",
    "LEFT JOIN Team AS t \n",
    "ON m.home_team_api_id = t.team_api_id\n",
    "WHERE m.away_team_api_id = 8634;\n",
    "\"\"\""
   ]
  },
  {
   "cell_type": "code",
   "execution_count": 15,
   "metadata": {
    "scrolled": false
   },
   "outputs": [],
   "source": [
    "# pd.read_sql(\"select * from Match limit 2\", con=conn).T"
   ]
  },
  {
   "cell_type": "code",
   "execution_count": 16,
   "metadata": {},
   "outputs": [
    {
     "name": "stdout",
     "output_type": "stream",
     "text": [
      "shape: (152, 3)\n"
     ]
    },
    {
     "data": {
      "text/html": [
       "<div>\n",
       "<style scoped>\n",
       "    .dataframe tbody tr th:only-of-type {\n",
       "        vertical-align: middle;\n",
       "    }\n",
       "\n",
       "    .dataframe tbody tr th {\n",
       "        vertical-align: top;\n",
       "    }\n",
       "\n",
       "    .dataframe thead th {\n",
       "        text-align: right;\n",
       "    }\n",
       "</style>\n",
       "<table border=\"1\" class=\"dataframe\">\n",
       "  <thead>\n",
       "    <tr style=\"text-align: right;\">\n",
       "      <th></th>\n",
       "      <th>date</th>\n",
       "      <th>opponent</th>\n",
       "      <th>outcome</th>\n",
       "    </tr>\n",
       "  </thead>\n",
       "  <tbody>\n",
       "    <tr>\n",
       "      <th>0</th>\n",
       "      <td>2008-08-31 00:00:00</td>\n",
       "      <td>CD Numancia</td>\n",
       "      <td>Barcelona loss</td>\n",
       "    </tr>\n",
       "    <tr>\n",
       "      <th>1</th>\n",
       "      <td>2008-11-16 00:00:00</td>\n",
       "      <td>RC Recreativo</td>\n",
       "      <td>Barcelona win</td>\n",
       "    </tr>\n",
       "    <tr>\n",
       "      <th>2</th>\n",
       "      <td>2008-11-29 00:00:00</td>\n",
       "      <td>Sevilla FC</td>\n",
       "      <td>Barcelona win</td>\n",
       "    </tr>\n",
       "    <tr>\n",
       "      <th>3</th>\n",
       "      <td>2008-12-21 00:00:00</td>\n",
       "      <td>Villarreal CF</td>\n",
       "      <td>Barcelona win</td>\n",
       "    </tr>\n",
       "    <tr>\n",
       "      <th>4</th>\n",
       "      <td>2009-01-11 00:00:00</td>\n",
       "      <td>CA Osasuna</td>\n",
       "      <td>Barcelona win</td>\n",
       "    </tr>\n",
       "    <tr>\n",
       "      <th>5</th>\n",
       "      <td>2009-02-01 00:00:00</td>\n",
       "      <td>Racing Santander</td>\n",
       "      <td>Barcelona win</td>\n",
       "    </tr>\n",
       "    <tr>\n",
       "      <th>6</th>\n",
       "      <td>2009-02-14 00:00:00</td>\n",
       "      <td>Real Betis Balompié</td>\n",
       "      <td>Tie</td>\n",
       "    </tr>\n",
       "    <tr>\n",
       "      <th>7</th>\n",
       "      <td>2009-03-01 00:00:00</td>\n",
       "      <td>Atlético Madrid</td>\n",
       "      <td>Barcelona loss</td>\n",
       "    </tr>\n",
       "    <tr>\n",
       "      <th>8</th>\n",
       "      <td>2009-03-15 00:00:00</td>\n",
       "      <td>UD Almería</td>\n",
       "      <td>Barcelona win</td>\n",
       "    </tr>\n",
       "    <tr>\n",
       "      <th>9</th>\n",
       "      <td>2009-04-04 00:00:00</td>\n",
       "      <td>Real Valladolid</td>\n",
       "      <td>Barcelona win</td>\n",
       "    </tr>\n",
       "  </tbody>\n",
       "</table>\n",
       "</div>"
      ],
      "text/plain": [
       "                  date             opponent         outcome\n",
       "0  2008-08-31 00:00:00          CD Numancia  Barcelona loss\n",
       "1  2008-11-16 00:00:00        RC Recreativo   Barcelona win\n",
       "2  2008-11-29 00:00:00           Sevilla FC   Barcelona win\n",
       "3  2008-12-21 00:00:00        Villarreal CF   Barcelona win\n",
       "4  2009-01-11 00:00:00           CA Osasuna   Barcelona win\n",
       "5  2009-02-01 00:00:00     Racing Santander   Barcelona win\n",
       "6  2009-02-14 00:00:00  Real Betis Balompié             Tie\n",
       "7  2009-03-01 00:00:00      Atlético Madrid  Barcelona loss\n",
       "8  2009-03-15 00:00:00           UD Almería   Barcelona win\n",
       "9  2009-04-04 00:00:00      Real Valladolid   Barcelona win"
      ]
     },
     "metadata": {},
     "output_type": "display_data"
    }
   ],
   "source": [
    "peek_sql_res(statement)"
   ]
  },
  {
   "cell_type": "code",
   "execution_count": 17,
   "metadata": {},
   "outputs": [],
   "source": [
    "statement = \\\n",
    "\"\"\"\n",
    "SELECT\n",
    "    date,\n",
    "    CASE WHEN m.home_team_api_id = 8634 THEN 'Barcelona' ELSE 'Madrid' END AS HOME,\n",
    "    CASE WHEN m.away_team_api_id = 8634 THEN 'Barcelona' ELSE 'Madrid' END AS AWAY,\n",
    "    CASE WHEN m.home_team_goal > m.away_team_goal THEN 'Home team win'\n",
    "         WHEN m.away_team_goal > m.home_team_goal THEN 'Away team win'\n",
    "         ELSE 'tie'\n",
    "         END\n",
    "    AS OUTCOME\n",
    "FROM Match as m\n",
    "WHERE (m.home_team_api_id = 8634 AND m.away_team_api_id = 8633)\n",
    "OR\n",
    "(m.home_team_api_id = 8633 AND m.away_team_api_id = 8634)\n",
    "\"\"\""
   ]
  },
  {
   "cell_type": "code",
   "execution_count": 18,
   "metadata": {},
   "outputs": [
    {
     "name": "stdout",
     "output_type": "stream",
     "text": [
      "shape: (16, 4)\n"
     ]
    },
    {
     "data": {
      "text/html": [
       "<div>\n",
       "<style scoped>\n",
       "    .dataframe tbody tr th:only-of-type {\n",
       "        vertical-align: middle;\n",
       "    }\n",
       "\n",
       "    .dataframe tbody tr th {\n",
       "        vertical-align: top;\n",
       "    }\n",
       "\n",
       "    .dataframe thead th {\n",
       "        text-align: right;\n",
       "    }\n",
       "</style>\n",
       "<table border=\"1\" class=\"dataframe\">\n",
       "  <thead>\n",
       "    <tr style=\"text-align: right;\">\n",
       "      <th></th>\n",
       "      <th>date</th>\n",
       "      <th>HOME</th>\n",
       "      <th>AWAY</th>\n",
       "      <th>OUTCOME</th>\n",
       "    </tr>\n",
       "  </thead>\n",
       "  <tbody>\n",
       "    <tr>\n",
       "      <th>0</th>\n",
       "      <td>2008-12-13 00:00:00</td>\n",
       "      <td>Barcelona</td>\n",
       "      <td>Madrid</td>\n",
       "      <td>Home team win</td>\n",
       "    </tr>\n",
       "    <tr>\n",
       "      <th>1</th>\n",
       "      <td>2009-05-02 00:00:00</td>\n",
       "      <td>Madrid</td>\n",
       "      <td>Barcelona</td>\n",
       "      <td>Away team win</td>\n",
       "    </tr>\n",
       "    <tr>\n",
       "      <th>2</th>\n",
       "      <td>2009-11-29 00:00:00</td>\n",
       "      <td>Barcelona</td>\n",
       "      <td>Madrid</td>\n",
       "      <td>Home team win</td>\n",
       "    </tr>\n",
       "    <tr>\n",
       "      <th>3</th>\n",
       "      <td>2010-04-10 00:00:00</td>\n",
       "      <td>Madrid</td>\n",
       "      <td>Barcelona</td>\n",
       "      <td>Away team win</td>\n",
       "    </tr>\n",
       "    <tr>\n",
       "      <th>4</th>\n",
       "      <td>2010-11-29 00:00:00</td>\n",
       "      <td>Barcelona</td>\n",
       "      <td>Madrid</td>\n",
       "      <td>Home team win</td>\n",
       "    </tr>\n",
       "    <tr>\n",
       "      <th>5</th>\n",
       "      <td>2011-04-16 00:00:00</td>\n",
       "      <td>Madrid</td>\n",
       "      <td>Barcelona</td>\n",
       "      <td>tie</td>\n",
       "    </tr>\n",
       "    <tr>\n",
       "      <th>6</th>\n",
       "      <td>2011-12-10 00:00:00</td>\n",
       "      <td>Madrid</td>\n",
       "      <td>Barcelona</td>\n",
       "      <td>Away team win</td>\n",
       "    </tr>\n",
       "    <tr>\n",
       "      <th>7</th>\n",
       "      <td>2012-04-21 00:00:00</td>\n",
       "      <td>Barcelona</td>\n",
       "      <td>Madrid</td>\n",
       "      <td>Away team win</td>\n",
       "    </tr>\n",
       "    <tr>\n",
       "      <th>8</th>\n",
       "      <td>2013-03-02 00:00:00</td>\n",
       "      <td>Madrid</td>\n",
       "      <td>Barcelona</td>\n",
       "      <td>Home team win</td>\n",
       "    </tr>\n",
       "    <tr>\n",
       "      <th>9</th>\n",
       "      <td>2012-10-07 00:00:00</td>\n",
       "      <td>Barcelona</td>\n",
       "      <td>Madrid</td>\n",
       "      <td>tie</td>\n",
       "    </tr>\n",
       "  </tbody>\n",
       "</table>\n",
       "</div>"
      ],
      "text/plain": [
       "                  date       HOME       AWAY        OUTCOME\n",
       "0  2008-12-13 00:00:00  Barcelona     Madrid  Home team win\n",
       "1  2009-05-02 00:00:00     Madrid  Barcelona  Away team win\n",
       "2  2009-11-29 00:00:00  Barcelona     Madrid  Home team win\n",
       "3  2010-04-10 00:00:00     Madrid  Barcelona  Away team win\n",
       "4  2010-11-29 00:00:00  Barcelona     Madrid  Home team win\n",
       "5  2011-04-16 00:00:00     Madrid  Barcelona            tie\n",
       "6  2011-12-10 00:00:00     Madrid  Barcelona  Away team win\n",
       "7  2012-04-21 00:00:00  Barcelona     Madrid  Away team win\n",
       "8  2013-03-02 00:00:00     Madrid  Barcelona  Home team win\n",
       "9  2012-10-07 00:00:00  Barcelona     Madrid            tie"
      ]
     },
     "metadata": {},
     "output_type": "display_data"
    }
   ],
   "source": [
    "peek_sql_res(statement)"
   ]
  },
  {
   "cell_type": "code",
   "execution_count": 19,
   "metadata": {},
   "outputs": [],
   "source": [
    "statement = \\\n",
    "\"\"\"\n",
    "SELECT\n",
    "    date,\n",
    "    CASE WHEN m.home_team_api_id = 8634 THEN 'Barcelona' ELSE 'Madrid' END AS HOME,\n",
    "    CASE WHEN m.away_team_api_id = 8634 THEN 'Barcelona' ELSE 'Madrid' END AS AWAY,\n",
    "    CASE WHEN m.home_team_api_id = 8634 AND m.home_team_goal > m.away_team_goal THEN 'Barcelona win'\n",
    "         WHEN m.home_team_api_id = 8634 AND m.home_team_goal < m.away_team_goal THEN 'Madrid win'\n",
    "         WHEN m.away_team_api_id = 8634 AND m.home_team_goal > m.away_team_goal THEN 'Madrid win'\n",
    "         WHEN m.away_team_api_id = 8634 AND m.home_team_goal < m.away_team_goal THEN 'Barcelona win'\n",
    "         ELSE 'tie'\n",
    "         END\n",
    "         AS OUTCOME\n",
    "    \n",
    "FROM Match as m\n",
    "WHERE (m.home_team_api_id = 8634 AND m.away_team_api_id = 8633)\n",
    "    OR\n",
    "    (m.home_team_api_id = 8633 AND m.away_team_api_id = 8634)\n",
    "\"\"\""
   ]
  },
  {
   "cell_type": "code",
   "execution_count": 20,
   "metadata": {
    "scrolled": true
   },
   "outputs": [
    {
     "name": "stdout",
     "output_type": "stream",
     "text": [
      "shape: (16, 4)\n"
     ]
    },
    {
     "data": {
      "text/html": [
       "<div>\n",
       "<style scoped>\n",
       "    .dataframe tbody tr th:only-of-type {\n",
       "        vertical-align: middle;\n",
       "    }\n",
       "\n",
       "    .dataframe tbody tr th {\n",
       "        vertical-align: top;\n",
       "    }\n",
       "\n",
       "    .dataframe thead th {\n",
       "        text-align: right;\n",
       "    }\n",
       "</style>\n",
       "<table border=\"1\" class=\"dataframe\">\n",
       "  <thead>\n",
       "    <tr style=\"text-align: right;\">\n",
       "      <th></th>\n",
       "      <th>date</th>\n",
       "      <th>HOME</th>\n",
       "      <th>AWAY</th>\n",
       "      <th>OUTCOME</th>\n",
       "    </tr>\n",
       "  </thead>\n",
       "  <tbody>\n",
       "    <tr>\n",
       "      <th>0</th>\n",
       "      <td>2008-12-13 00:00:00</td>\n",
       "      <td>Barcelona</td>\n",
       "      <td>Madrid</td>\n",
       "      <td>Barcelona win</td>\n",
       "    </tr>\n",
       "    <tr>\n",
       "      <th>1</th>\n",
       "      <td>2009-05-02 00:00:00</td>\n",
       "      <td>Madrid</td>\n",
       "      <td>Barcelona</td>\n",
       "      <td>Barcelona win</td>\n",
       "    </tr>\n",
       "    <tr>\n",
       "      <th>2</th>\n",
       "      <td>2009-11-29 00:00:00</td>\n",
       "      <td>Barcelona</td>\n",
       "      <td>Madrid</td>\n",
       "      <td>Barcelona win</td>\n",
       "    </tr>\n",
       "    <tr>\n",
       "      <th>3</th>\n",
       "      <td>2010-04-10 00:00:00</td>\n",
       "      <td>Madrid</td>\n",
       "      <td>Barcelona</td>\n",
       "      <td>Barcelona win</td>\n",
       "    </tr>\n",
       "    <tr>\n",
       "      <th>4</th>\n",
       "      <td>2010-11-29 00:00:00</td>\n",
       "      <td>Barcelona</td>\n",
       "      <td>Madrid</td>\n",
       "      <td>Barcelona win</td>\n",
       "    </tr>\n",
       "    <tr>\n",
       "      <th>5</th>\n",
       "      <td>2011-04-16 00:00:00</td>\n",
       "      <td>Madrid</td>\n",
       "      <td>Barcelona</td>\n",
       "      <td>tie</td>\n",
       "    </tr>\n",
       "    <tr>\n",
       "      <th>6</th>\n",
       "      <td>2011-12-10 00:00:00</td>\n",
       "      <td>Madrid</td>\n",
       "      <td>Barcelona</td>\n",
       "      <td>Barcelona win</td>\n",
       "    </tr>\n",
       "    <tr>\n",
       "      <th>7</th>\n",
       "      <td>2012-04-21 00:00:00</td>\n",
       "      <td>Barcelona</td>\n",
       "      <td>Madrid</td>\n",
       "      <td>Madrid win</td>\n",
       "    </tr>\n",
       "    <tr>\n",
       "      <th>8</th>\n",
       "      <td>2013-03-02 00:00:00</td>\n",
       "      <td>Madrid</td>\n",
       "      <td>Barcelona</td>\n",
       "      <td>Madrid win</td>\n",
       "    </tr>\n",
       "    <tr>\n",
       "      <th>9</th>\n",
       "      <td>2012-10-07 00:00:00</td>\n",
       "      <td>Barcelona</td>\n",
       "      <td>Madrid</td>\n",
       "      <td>tie</td>\n",
       "    </tr>\n",
       "  </tbody>\n",
       "</table>\n",
       "</div>"
      ],
      "text/plain": [
       "                  date       HOME       AWAY        OUTCOME\n",
       "0  2008-12-13 00:00:00  Barcelona     Madrid  Barcelona win\n",
       "1  2009-05-02 00:00:00     Madrid  Barcelona  Barcelona win\n",
       "2  2009-11-29 00:00:00  Barcelona     Madrid  Barcelona win\n",
       "3  2010-04-10 00:00:00     Madrid  Barcelona  Barcelona win\n",
       "4  2010-11-29 00:00:00  Barcelona     Madrid  Barcelona win\n",
       "5  2011-04-16 00:00:00     Madrid  Barcelona            tie\n",
       "6  2011-12-10 00:00:00     Madrid  Barcelona  Barcelona win\n",
       "7  2012-04-21 00:00:00  Barcelona     Madrid     Madrid win\n",
       "8  2013-03-02 00:00:00     Madrid  Barcelona     Madrid win\n",
       "9  2012-10-07 00:00:00  Barcelona     Madrid            tie"
      ]
     },
     "metadata": {},
     "output_type": "display_data"
    }
   ],
   "source": [
    "peek_sql_res(statement)"
   ]
  },
  {
   "cell_type": "markdown",
   "metadata": {},
   "source": [
    "### Using `CASE` within a `WHERE` clause\n",
    "\n",
    "- Can use a CASE statement as a filter in the WHERE statement to remove output you don't want to see"
   ]
  },
  {
   "cell_type": "code",
   "execution_count": 82,
   "metadata": {},
   "outputs": [
    {
     "data": {
      "text/html": [
       "<div>\n",
       "<style scoped>\n",
       "    .dataframe tbody tr th:only-of-type {\n",
       "        vertical-align: middle;\n",
       "    }\n",
       "\n",
       "    .dataframe tbody tr th {\n",
       "        vertical-align: top;\n",
       "    }\n",
       "\n",
       "    .dataframe thead th {\n",
       "        text-align: right;\n",
       "    }\n",
       "</style>\n",
       "<table border=\"1\" class=\"dataframe\">\n",
       "  <thead>\n",
       "    <tr style=\"text-align: right;\">\n",
       "      <th></th>\n",
       "      <th>table_name</th>\n",
       "      <th>col</th>\n",
       "    </tr>\n",
       "  </thead>\n",
       "  <tbody>\n",
       "    <tr>\n",
       "      <th>0</th>\n",
       "      <td>sqlite_sequence</td>\n",
       "      <td>name</td>\n",
       "    </tr>\n",
       "    <tr>\n",
       "      <th>1</th>\n",
       "      <td>sqlite_sequence</td>\n",
       "      <td>seq</td>\n",
       "    </tr>\n",
       "    <tr>\n",
       "      <th>2</th>\n",
       "      <td>Player_Attributes</td>\n",
       "      <td>id</td>\n",
       "    </tr>\n",
       "    <tr>\n",
       "      <th>3</th>\n",
       "      <td>Player_Attributes</td>\n",
       "      <td>player_fifa_api_id</td>\n",
       "    </tr>\n",
       "    <tr>\n",
       "      <th>4</th>\n",
       "      <td>Player_Attributes</td>\n",
       "      <td>player_api_id</td>\n",
       "    </tr>\n",
       "  </tbody>\n",
       "</table>\n",
       "</div>"
      ],
      "text/plain": [
       "          table_name                 col\n",
       "0    sqlite_sequence                name\n",
       "1    sqlite_sequence                 seq\n",
       "2  Player_Attributes                  id\n",
       "3  Player_Attributes  player_fifa_api_id\n",
       "4  Player_Attributes       player_api_id"
      ]
     },
     "execution_count": 82,
     "metadata": {},
     "output_type": "execute_result"
    }
   ],
   "source": [
    "meta_df.head()"
   ]
  },
  {
   "cell_type": "code",
   "execution_count": 60,
   "metadata": {},
   "outputs": [
    {
     "data": {
      "text/html": [
       "<div>\n",
       "<style scoped>\n",
       "    .dataframe tbody tr th:only-of-type {\n",
       "        vertical-align: middle;\n",
       "    }\n",
       "\n",
       "    .dataframe tbody tr th {\n",
       "        vertical-align: top;\n",
       "    }\n",
       "\n",
       "    .dataframe thead th {\n",
       "        text-align: right;\n",
       "    }\n",
       "</style>\n",
       "<table border=\"1\" class=\"dataframe\">\n",
       "  <thead>\n",
       "    <tr style=\"text-align: right;\">\n",
       "      <th></th>\n",
       "      <th>table_name</th>\n",
       "      <th>col</th>\n",
       "    </tr>\n",
       "  </thead>\n",
       "  <tbody>\n",
       "    <tr>\n",
       "      <th>171</th>\n",
       "      <td>Team</td>\n",
       "      <td>id</td>\n",
       "    </tr>\n",
       "    <tr>\n",
       "      <th>172</th>\n",
       "      <td>Team</td>\n",
       "      <td>team_api_id</td>\n",
       "    </tr>\n",
       "    <tr>\n",
       "      <th>173</th>\n",
       "      <td>Team</td>\n",
       "      <td>team_fifa_api_id</td>\n",
       "    </tr>\n",
       "    <tr>\n",
       "      <th>174</th>\n",
       "      <td>Team</td>\n",
       "      <td>team_long_name</td>\n",
       "    </tr>\n",
       "    <tr>\n",
       "      <th>175</th>\n",
       "      <td>Team</td>\n",
       "      <td>team_short_name</td>\n",
       "    </tr>\n",
       "  </tbody>\n",
       "</table>\n",
       "</div>"
      ],
      "text/plain": [
       "    table_name               col\n",
       "171       Team                id\n",
       "172       Team       team_api_id\n",
       "173       Team  team_fifa_api_id\n",
       "174       Team    team_long_name\n",
       "175       Team   team_short_name"
      ]
     },
     "execution_count": 60,
     "metadata": {},
     "output_type": "execute_result"
    }
   ],
   "source": [
    "meta_df.query(\"table_name == 'Team'\")"
   ]
  },
  {
   "cell_type": "code",
   "execution_count": 85,
   "metadata": {},
   "outputs": [],
   "source": [
    "statement = \\\n",
    "\"\"\"\n",
    "SELECT team_api_id, team_short_name, team_long_name \n",
    "FROM Team \n",
    "WHERE team_long_name = 'Bologna'\n",
    "\"\"\""
   ]
  },
  {
   "cell_type": "code",
   "execution_count": 86,
   "metadata": {
    "scrolled": true
   },
   "outputs": [
    {
     "name": "stdout",
     "output_type": "stream",
     "text": [
      "shape: (1, 3)\n"
     ]
    },
    {
     "data": {
      "text/html": [
       "<div>\n",
       "<style scoped>\n",
       "    .dataframe tbody tr th:only-of-type {\n",
       "        vertical-align: middle;\n",
       "    }\n",
       "\n",
       "    .dataframe tbody tr th {\n",
       "        vertical-align: top;\n",
       "    }\n",
       "\n",
       "    .dataframe thead th {\n",
       "        text-align: right;\n",
       "    }\n",
       "</style>\n",
       "<table border=\"1\" class=\"dataframe\">\n",
       "  <thead>\n",
       "    <tr style=\"text-align: right;\">\n",
       "      <th></th>\n",
       "      <th>team_api_id</th>\n",
       "      <th>team_short_name</th>\n",
       "      <th>team_long_name</th>\n",
       "    </tr>\n",
       "  </thead>\n",
       "  <tbody>\n",
       "    <tr>\n",
       "      <th>0</th>\n",
       "      <td>9857</td>\n",
       "      <td>BOL</td>\n",
       "      <td>Bologna</td>\n",
       "    </tr>\n",
       "  </tbody>\n",
       "</table>\n",
       "</div>"
      ],
      "text/plain": [
       "   team_api_id team_short_name team_long_name\n",
       "0         9857             BOL        Bologna"
      ]
     },
     "metadata": {},
     "output_type": "display_data"
    }
   ],
   "source": [
    "peek_sql_res(statement)"
   ]
  },
  {
   "cell_type": "code",
   "execution_count": 99,
   "metadata": {},
   "outputs": [],
   "source": [
    "statement = \\\n",
    "\"\"\"\n",
    "-- Select the season, date, home_team_goal, and away_team_goal columns\n",
    "SELECT \n",
    "    m.season,\n",
    "    m.date,\n",
    "    m.home_team_goal,\n",
    "    m.away_team_goal,\n",
    "    t.team_long_name as home_team_name,\n",
    "    t2.team_long_name as away_team_name\n",
    "FROM match as m\n",
    "LEFT JOIN Team as t\n",
    "ON t.team_api_id = m.home_team_api_id\n",
    "LEFT JOIN Team as t2\n",
    "ON t2.team_api_id = m.away_team_api_id\n",
    "WHERE \n",
    "-- Exclude games not won by Bologna\n",
    "    CASE WHEN home_team_api_id = 9857 AND home_team_goal > away_team_goal THEN 'Bologna Win'\n",
    "        WHEN away_team_api_id = 9857 AND away_team_goal > home_team_goal THEN 'Bologna Win' \n",
    "        END IS NOT NULL;\n",
    "\"\"\""
   ]
  },
  {
   "cell_type": "code",
   "execution_count": 100,
   "metadata": {
    "scrolled": true
   },
   "outputs": [
    {
     "name": "stdout",
     "output_type": "stream",
     "text": [
      "shape: (68, 6)\n"
     ]
    },
    {
     "data": {
      "text/html": [
       "<div>\n",
       "<style scoped>\n",
       "    .dataframe tbody tr th:only-of-type {\n",
       "        vertical-align: middle;\n",
       "    }\n",
       "\n",
       "    .dataframe tbody tr th {\n",
       "        vertical-align: top;\n",
       "    }\n",
       "\n",
       "    .dataframe thead th {\n",
       "        text-align: right;\n",
       "    }\n",
       "</style>\n",
       "<table border=\"1\" class=\"dataframe\">\n",
       "  <thead>\n",
       "    <tr style=\"text-align: right;\">\n",
       "      <th></th>\n",
       "      <th>season</th>\n",
       "      <th>date</th>\n",
       "      <th>home_team_goal</th>\n",
       "      <th>away_team_goal</th>\n",
       "      <th>home_team_name</th>\n",
       "      <th>away_team_name</th>\n",
       "    </tr>\n",
       "  </thead>\n",
       "  <tbody>\n",
       "    <tr>\n",
       "      <th>0</th>\n",
       "      <td>2008/2009</td>\n",
       "      <td>2008-08-31 00:00:00</td>\n",
       "      <td>1</td>\n",
       "      <td>2</td>\n",
       "      <td>Milan</td>\n",
       "      <td>Bologna</td>\n",
       "    </tr>\n",
       "    <tr>\n",
       "      <th>1</th>\n",
       "      <td>2008/2009</td>\n",
       "      <td>2008-12-13 00:00:00</td>\n",
       "      <td>5</td>\n",
       "      <td>2</td>\n",
       "      <td>Bologna</td>\n",
       "      <td>Torino</td>\n",
       "    </tr>\n",
       "    <tr>\n",
       "      <th>2</th>\n",
       "      <td>2008/2009</td>\n",
       "      <td>2009-01-18 00:00:00</td>\n",
       "      <td>1</td>\n",
       "      <td>2</td>\n",
       "      <td>Catania</td>\n",
       "      <td>Bologna</td>\n",
       "    </tr>\n",
       "    <tr>\n",
       "      <th>3</th>\n",
       "      <td>2008/2009</td>\n",
       "      <td>2009-01-28 00:00:00</td>\n",
       "      <td>0</td>\n",
       "      <td>1</td>\n",
       "      <td>Atalanta</td>\n",
       "      <td>Bologna</td>\n",
       "    </tr>\n",
       "    <tr>\n",
       "      <th>4</th>\n",
       "      <td>2008/2009</td>\n",
       "      <td>2009-03-08 00:00:00</td>\n",
       "      <td>3</td>\n",
       "      <td>0</td>\n",
       "      <td>Bologna</td>\n",
       "      <td>Sampdoria</td>\n",
       "    </tr>\n",
       "    <tr>\n",
       "      <th>5</th>\n",
       "      <td>2008/2009</td>\n",
       "      <td>2009-04-26 00:00:00</td>\n",
       "      <td>2</td>\n",
       "      <td>0</td>\n",
       "      <td>Bologna</td>\n",
       "      <td>Genoa</td>\n",
       "    </tr>\n",
       "    <tr>\n",
       "      <th>6</th>\n",
       "      <td>2008/2009</td>\n",
       "      <td>2009-05-17 00:00:00</td>\n",
       "      <td>2</td>\n",
       "      <td>1</td>\n",
       "      <td>Bologna</td>\n",
       "      <td>Lecce</td>\n",
       "    </tr>\n",
       "    <tr>\n",
       "      <th>7</th>\n",
       "      <td>2008/2009</td>\n",
       "      <td>2009-05-31 00:00:00</td>\n",
       "      <td>3</td>\n",
       "      <td>1</td>\n",
       "      <td>Bologna</td>\n",
       "      <td>Catania</td>\n",
       "    </tr>\n",
       "    <tr>\n",
       "      <th>8</th>\n",
       "      <td>2008/2009</td>\n",
       "      <td>2008-10-19 00:00:00</td>\n",
       "      <td>3</td>\n",
       "      <td>1</td>\n",
       "      <td>Bologna</td>\n",
       "      <td>Lazio</td>\n",
       "    </tr>\n",
       "    <tr>\n",
       "      <th>9</th>\n",
       "      <td>2009/2010</td>\n",
       "      <td>2009-10-28 00:00:00</td>\n",
       "      <td>2</td>\n",
       "      <td>1</td>\n",
       "      <td>Bologna</td>\n",
       "      <td>Siena</td>\n",
       "    </tr>\n",
       "  </tbody>\n",
       "</table>\n",
       "</div>"
      ],
      "text/plain": [
       "      season                 date  home_team_goal  away_team_goal  \\\n",
       "0  2008/2009  2008-08-31 00:00:00               1               2   \n",
       "1  2008/2009  2008-12-13 00:00:00               5               2   \n",
       "2  2008/2009  2009-01-18 00:00:00               1               2   \n",
       "3  2008/2009  2009-01-28 00:00:00               0               1   \n",
       "4  2008/2009  2009-03-08 00:00:00               3               0   \n",
       "5  2008/2009  2009-04-26 00:00:00               2               0   \n",
       "6  2008/2009  2009-05-17 00:00:00               2               1   \n",
       "7  2008/2009  2009-05-31 00:00:00               3               1   \n",
       "8  2008/2009  2008-10-19 00:00:00               3               1   \n",
       "9  2009/2010  2009-10-28 00:00:00               2               1   \n",
       "\n",
       "  home_team_name away_team_name  \n",
       "0          Milan        Bologna  \n",
       "1        Bologna         Torino  \n",
       "2        Catania        Bologna  \n",
       "3       Atalanta        Bologna  \n",
       "4        Bologna      Sampdoria  \n",
       "5        Bologna          Genoa  \n",
       "6        Bologna          Lecce  \n",
       "7        Bologna        Catania  \n",
       "8        Bologna          Lazio  \n",
       "9        Bologna          Siena  "
      ]
     },
     "metadata": {},
     "output_type": "display_data"
    }
   ],
   "source": [
    "peek_sql_res(statement)"
   ]
  },
  {
   "cell_type": "markdown",
   "metadata": {},
   "source": [
    "#### Calculating percent with CASE and AVG\n",
    "CASE statements will return any value you specify in your THEN clause. \n",
    "\n",
    "This is an incredibly powerful tool for robust calculations and data manipulation when used in conjunction with an aggregate statement. \n",
    "\n",
    "One key task you can perform is using CASE inside an AVG function to calculate a percentage of information in your database."
   ]
  },
  {
   "cell_type": "code",
   "execution_count": 49,
   "metadata": {},
   "outputs": [
    {
     "data": {
      "text/html": [
       "<div>\n",
       "<style scoped>\n",
       "    .dataframe tbody tr th:only-of-type {\n",
       "        vertical-align: middle;\n",
       "    }\n",
       "\n",
       "    .dataframe tbody tr th {\n",
       "        vertical-align: top;\n",
       "    }\n",
       "\n",
       "    .dataframe thead th {\n",
       "        text-align: right;\n",
       "    }\n",
       "</style>\n",
       "<table border=\"1\" class=\"dataframe\">\n",
       "  <thead>\n",
       "    <tr style=\"text-align: right;\">\n",
       "      <th></th>\n",
       "      <th>table_name</th>\n",
       "      <th>col</th>\n",
       "    </tr>\n",
       "  </thead>\n",
       "  <tbody>\n",
       "    <tr>\n",
       "      <th>169</th>\n",
       "      <td>Country</td>\n",
       "      <td>id</td>\n",
       "    </tr>\n",
       "    <tr>\n",
       "      <th>170</th>\n",
       "      <td>Country</td>\n",
       "      <td>name</td>\n",
       "    </tr>\n",
       "  </tbody>\n",
       "</table>\n",
       "</div>"
      ],
      "text/plain": [
       "    table_name   col\n",
       "169    Country    id\n",
       "170    Country  name"
      ]
     },
     "execution_count": 49,
     "metadata": {},
     "output_type": "execute_result"
    }
   ],
   "source": [
    "meta_df.query(\"table_name == 'Country'\")"
   ]
  },
  {
   "cell_type": "code",
   "execution_count": 46,
   "metadata": {},
   "outputs": [],
   "source": [
    "statement = \\\n",
    "\"\"\"\n",
    "SELECT \n",
    "    c.name AS country,\n",
    "    -- Round the percentage of tied games to 2 decimal points\n",
    "    ROUND(AVG(CASE \n",
    "             WHEN m.season='2013/2014' AND m.home_team_goal = m.away_team_goal THEN 1\n",
    "             WHEN m.season='2013/2014' AND m.home_team_goal != m.away_team_goal THEN 0\n",
    "             END),2) AS pct_ties_2013_2014,\n",
    "    ROUND(AVG(CASE \n",
    "             WHEN m.season='2014/2015' AND m.home_team_goal = m.away_team_goal THEN 1\n",
    "             WHEN m.season='2014/2015' AND m.home_team_goal != m.away_team_goal THEN 0\n",
    "             END),2) AS pct_ties_2014_2015\n",
    "FROM Country AS c\n",
    "LEFT JOIN match AS m\n",
    "ON c.id = m.country_id\n",
    "GROUP BY country;\n",
    "\"\"\""
   ]
  },
  {
   "cell_type": "code",
   "execution_count": 47,
   "metadata": {},
   "outputs": [
    {
     "name": "stdout",
     "output_type": "stream",
     "text": [
      "shape: (11, 3)\n"
     ]
    },
    {
     "data": {
      "text/html": [
       "<div>\n",
       "<style scoped>\n",
       "    .dataframe tbody tr th:only-of-type {\n",
       "        vertical-align: middle;\n",
       "    }\n",
       "\n",
       "    .dataframe tbody tr th {\n",
       "        vertical-align: top;\n",
       "    }\n",
       "\n",
       "    .dataframe thead th {\n",
       "        text-align: right;\n",
       "    }\n",
       "</style>\n",
       "<table border=\"1\" class=\"dataframe\">\n",
       "  <thead>\n",
       "    <tr style=\"text-align: right;\">\n",
       "      <th></th>\n",
       "      <th>country</th>\n",
       "      <th>pct_ties_2013_2014</th>\n",
       "      <th>pct_ties_2014_2015</th>\n",
       "    </tr>\n",
       "  </thead>\n",
       "  <tbody>\n",
       "    <tr>\n",
       "      <th>0</th>\n",
       "      <td>Belgium</td>\n",
       "      <td>0.17</td>\n",
       "      <td>0.25</td>\n",
       "    </tr>\n",
       "    <tr>\n",
       "      <th>1</th>\n",
       "      <td>England</td>\n",
       "      <td>0.21</td>\n",
       "      <td>0.24</td>\n",
       "    </tr>\n",
       "    <tr>\n",
       "      <th>2</th>\n",
       "      <td>France</td>\n",
       "      <td>0.28</td>\n",
       "      <td>0.23</td>\n",
       "    </tr>\n",
       "    <tr>\n",
       "      <th>3</th>\n",
       "      <td>Germany</td>\n",
       "      <td>0.21</td>\n",
       "      <td>0.27</td>\n",
       "    </tr>\n",
       "    <tr>\n",
       "      <th>4</th>\n",
       "      <td>Italy</td>\n",
       "      <td>0.24</td>\n",
       "      <td>0.32</td>\n",
       "    </tr>\n",
       "    <tr>\n",
       "      <th>5</th>\n",
       "      <td>Netherlands</td>\n",
       "      <td>0.27</td>\n",
       "      <td>0.24</td>\n",
       "    </tr>\n",
       "    <tr>\n",
       "      <th>6</th>\n",
       "      <td>Poland</td>\n",
       "      <td>0.30</td>\n",
       "      <td>0.28</td>\n",
       "    </tr>\n",
       "    <tr>\n",
       "      <th>7</th>\n",
       "      <td>Portugal</td>\n",
       "      <td>0.25</td>\n",
       "      <td>0.28</td>\n",
       "    </tr>\n",
       "    <tr>\n",
       "      <th>8</th>\n",
       "      <td>Scotland</td>\n",
       "      <td>0.22</td>\n",
       "      <td>0.19</td>\n",
       "    </tr>\n",
       "    <tr>\n",
       "      <th>9</th>\n",
       "      <td>Spain</td>\n",
       "      <td>0.23</td>\n",
       "      <td>0.24</td>\n",
       "    </tr>\n",
       "  </tbody>\n",
       "</table>\n",
       "</div>"
      ],
      "text/plain": [
       "       country  pct_ties_2013_2014  pct_ties_2014_2015\n",
       "0      Belgium                0.17                0.25\n",
       "1      England                0.21                0.24\n",
       "2       France                0.28                0.23\n",
       "3      Germany                0.21                0.27\n",
       "4        Italy                0.24                0.32\n",
       "5  Netherlands                0.27                0.24\n",
       "6       Poland                0.30                0.28\n",
       "7     Portugal                0.25                0.28\n",
       "8     Scotland                0.22                0.19\n",
       "9        Spain                0.23                0.24"
      ]
     },
     "metadata": {},
     "output_type": "display_data"
    }
   ],
   "source": [
    "peek_sql_res(statement)"
   ]
  },
  {
   "cell_type": "code",
   "execution_count": null,
   "metadata": {},
   "outputs": [],
   "source": []
  }
 ],
 "metadata": {
  "kernelspec": {
   "display_name": "Python 3",
   "language": "python",
   "name": "python3"
  },
  "language_info": {
   "codemirror_mode": {
    "name": "ipython",
    "version": 3
   },
   "file_extension": ".py",
   "mimetype": "text/x-python",
   "name": "python",
   "nbconvert_exporter": "python",
   "pygments_lexer": "ipython3",
   "version": "3.9.1"
  }
 },
 "nbformat": 4,
 "nbformat_minor": 4
}
