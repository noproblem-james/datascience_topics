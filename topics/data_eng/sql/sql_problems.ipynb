{
 "cells": [
  {
   "cell_type": "markdown",
   "id": "every-blowing",
   "metadata": {},
   "source": [
    "# Weather Observation Station 20\n",
    "https://www.hackerrank.com/challenges/weather-observation-station-20/problem\n",
    "\n",
    "A median is defined as a number separating the higher half of a data set from the lower half. Query the median of the Northern Latitudes (LAT_N) from STATION and round your answer to 4 decimal places.\n",
    "\n",
    "The STATION table is described as follows:\n",
    "\n",
    "| Field | Type |\n",
    "|----|-----|\n",
    "| ID  | NUMBER   |\n",
    "| CITY  | VARCHAR2(21)   |\n",
    "| STATE  | VARCHAR2(2)   |\n",
    "| LAT_N  | NUMBER   |\n",
    "| LONG_W  | NUMBER   |\n",
    "\n"
   ]
  },
  {
   "cell_type": "code",
   "execution_count": 1,
   "id": "joint-defense",
   "metadata": {},
   "outputs": [],
   "source": [
    "import re\n",
    "import pandas as pd"
   ]
  },
  {
   "cell_type": "code",
   "execution_count": 2,
   "id": "respiratory-houston",
   "metadata": {},
   "outputs": [],
   "source": [
    "path_to_file = \"../../../data/sql_data/median_problem_input.txt\""
   ]
  },
  {
   "cell_type": "code",
   "execution_count": 3,
   "id": "timely-mongolia",
   "metadata": {},
   "outputs": [],
   "source": [
    "def read_in_txt(filepath):\n",
    "    pattern = \"(?<=\\\\d)*(?=[A-Z]{2})\"\n",
    "    columns = [\"id\", \"city\", \"state\", \"n_lat\", \"w_long\"]\n",
    "    records = []\n",
    "    with open(path_to_file, \"r\") as f:\n",
    "        for line in f:\n",
    "            if line == \"\\n\":\n",
    "                pass\n",
    "            else:\n",
    "                split_str = re.split(pattern, line)\n",
    "                first_part = split_str[0].strip().split(\" \", 1)\n",
    "                record = {k: v.strip() for k, v in zip(columns, first_part)}\n",
    "                record[\"id\"]= int(record[\"id\"])\n",
    "                record_2 = {k: v for k, v in zip(columns[2:], split_str[1].split())}\n",
    "                record_2[\"w_long\"] = float(record_2[\"w_long\"])\n",
    "                record_2[\"n_lat\"] = float(record_2[\"n_lat\"])\n",
    "                record.update(record_2)\n",
    "                records.append(record)\n",
    "    return records"
   ]
  },
  {
   "cell_type": "code",
   "execution_count": 4,
   "id": "specialized-kennedy",
   "metadata": {},
   "outputs": [],
   "source": [
    "records = read_in_txt(filepath=path_to_file)"
   ]
  },
  {
   "cell_type": "code",
   "execution_count": 5,
   "id": "tamil-institute",
   "metadata": {},
   "outputs": [],
   "source": [
    "df = pd.DataFrame(records)"
   ]
  },
  {
   "cell_type": "code",
   "execution_count": 6,
   "id": "statewide-dayton",
   "metadata": {},
   "outputs": [
    {
     "data": {
      "text/html": [
       "<div>\n",
       "<style scoped>\n",
       "    .dataframe tbody tr th:only-of-type {\n",
       "        vertical-align: middle;\n",
       "    }\n",
       "\n",
       "    .dataframe tbody tr th {\n",
       "        vertical-align: top;\n",
       "    }\n",
       "\n",
       "    .dataframe thead th {\n",
       "        text-align: right;\n",
       "    }\n",
       "</style>\n",
       "<table border=\"1\" class=\"dataframe\">\n",
       "  <thead>\n",
       "    <tr style=\"text-align: right;\">\n",
       "      <th></th>\n",
       "      <th>id</th>\n",
       "      <th>city</th>\n",
       "      <th>state</th>\n",
       "      <th>n_lat</th>\n",
       "      <th>w_long</th>\n",
       "    </tr>\n",
       "  </thead>\n",
       "  <tbody>\n",
       "    <tr>\n",
       "      <th>0</th>\n",
       "      <td>794</td>\n",
       "      <td>Kissee Mills</td>\n",
       "      <td>MO</td>\n",
       "      <td>139.650365</td>\n",
       "      <td>73.416099</td>\n",
       "    </tr>\n",
       "    <tr>\n",
       "      <th>1</th>\n",
       "      <td>824</td>\n",
       "      <td>Loma Mar</td>\n",
       "      <td>CA</td>\n",
       "      <td>48.697886</td>\n",
       "      <td>130.539354</td>\n",
       "    </tr>\n",
       "    <tr>\n",
       "      <th>2</th>\n",
       "      <td>603</td>\n",
       "      <td>Sandy Hook</td>\n",
       "      <td>CT</td>\n",
       "      <td>72.337480</td>\n",
       "      <td>148.240077</td>\n",
       "    </tr>\n",
       "    <tr>\n",
       "      <th>3</th>\n",
       "      <td>478</td>\n",
       "      <td>Tipton</td>\n",
       "      <td>IN</td>\n",
       "      <td>33.547927</td>\n",
       "      <td>97.942860</td>\n",
       "    </tr>\n",
       "    <tr>\n",
       "      <th>4</th>\n",
       "      <td>619</td>\n",
       "      <td>Arlington</td>\n",
       "      <td>CO</td>\n",
       "      <td>75.179931</td>\n",
       "      <td>92.946159</td>\n",
       "    </tr>\n",
       "  </tbody>\n",
       "</table>\n",
       "</div>"
      ],
      "text/plain": [
       "    id          city state       n_lat      w_long\n",
       "0  794  Kissee Mills    MO  139.650365   73.416099\n",
       "1  824      Loma Mar    CA   48.697886  130.539354\n",
       "2  603    Sandy Hook    CT   72.337480  148.240077\n",
       "3  478        Tipton    IN   33.547927   97.942860\n",
       "4  619     Arlington    CO   75.179931   92.946159"
      ]
     },
     "execution_count": 6,
     "metadata": {},
     "output_type": "execute_result"
    }
   ],
   "source": [
    "df.head()"
   ]
  },
  {
   "cell_type": "code",
   "execution_count": 7,
   "id": "proper-approval",
   "metadata": {},
   "outputs": [
    {
     "data": {
      "text/plain": [
       "85.7613"
      ]
     },
     "execution_count": 7,
     "metadata": {},
     "output_type": "execute_result"
    }
   ],
   "source": [
    "df.n_lat.median().round(4)"
   ]
  },
  {
   "cell_type": "code",
   "execution_count": 8,
   "id": "timely-lobby",
   "metadata": {},
   "outputs": [],
   "source": [
    "statement = \\\n",
    "\"\"\"\n",
    "SELECT CAST(ROUND(ordered.LAT_N, 4) AS DECIMAL(8, 4))\n",
    "FROM \n",
    "    (SELECT LAT_N, ROW_NUMBER() OVER (ORDER BY LAT_N ASC) AS Row\n",
    "     FROM STATION) AS ordered\n",
    "WHERE ordered.Row =  (SELECT \n",
    "                      CASE WHEN COUNT\n",
    "                      COUNT(*)/2 + 1 FROM STATION)\n",
    "\"\"\""
   ]
  },
  {
   "cell_type": "markdown",
   "id": "fatal-wilderness",
   "metadata": {},
   "source": [
    "# Consecutive numbers\n",
    "\n",
    "https://leetcode.com/problems/consecutive-numbers/"
   ]
  },
  {
   "cell_type": "markdown",
   "id": "automatic-trash",
   "metadata": {},
   "source": [
    "SQL Schema\n",
    "Table: Logs\n",
    "\n",
    "| Column Name | Type    |\n",
    "|-------------|---------|\n",
    "| id          | int     |\n",
    "| num         | varchar |\n",
    "\n",
    "\n",
    "id is the primary key for this table.\n",
    " \n",
    "\n",
    "Write an SQL query to find all numbers that appear at least three times consecutively.\n",
    "\n",
    "Return the result table in any order.\n",
    "\n",
    "The query result format is in the following example:\n",
    "\n",
    " \n",
    "\n",
    "Logs table:\n",
    "\n",
    "| Id | Num |\n",
    "|----|-----|\n",
    "| 1  | 1   |\n",
    "| 2  | 1   |\n",
    "| 3  | 1   |\n",
    "| 4  | 2   |\n",
    "| 5  | 1   |\n",
    "| 6  | 2   |\n",
    "| 7  | 2   |\n",
    "\n",
    "\n",
    "Result table:\n",
    "\n",
    "| ConsecutiveNums |\n",
    "|-----------------|\n",
    "| 1               |\n",
    "\n",
    "1 is the only number that appears consecutively for at least three times."
   ]
  },
  {
   "cell_type": "code",
   "execution_count": 10,
   "id": "above-walker",
   "metadata": {},
   "outputs": [],
   "source": [
    "create_table_statment = \\\n",
    "\"\"\"\n",
    "Create table If Not Exists Logs (Id int, Num int)\n",
    "Truncate table Logs\n",
    "insert into Logs (Id, Num) values ('1', '1')\n",
    "insert into Logs (Id, Num) values ('2', '1')\n",
    "insert into Logs (Id, Num) values ('3', '1')\n",
    "insert into Logs (Id, Num) values ('4', '2')\n",
    "insert into Logs (Id, Num) values ('5', '1')\n",
    "insert into Logs (Id, Num) values ('6', '2')\n",
    "insert into Logs (Id, Num) values ('7', '2')\n",
    "\"\"\""
   ]
  },
  {
   "cell_type": "code",
   "execution_count": 12,
   "id": "confirmed-commissioner",
   "metadata": {},
   "outputs": [],
   "source": [
    "statement = \\\n",
    "\"\"\"\n",
    "select distinct a.num as ConsecutiveNums \n",
    "from logs a \n",
    "inner join logs b on a.id = b.id-1\n",
    "inner join logs c on b.id = c.id-1\n",
    "where a.num = b.num and b.num = c.num\n",
    "\"\"\""
   ]
  },
  {
   "cell_type": "code",
   "execution_count": null,
   "id": "great-lender",
   "metadata": {},
   "outputs": [],
   "source": []
  },
  {
   "cell_type": "code",
   "execution_count": null,
   "id": "anticipated-fishing",
   "metadata": {},
   "outputs": [],
   "source": []
  }
 ],
 "metadata": {
  "kernelspec": {
   "display_name": "Python 3",
   "language": "python",
   "name": "python3"
  },
  "language_info": {
   "codemirror_mode": {
    "name": "ipython",
    "version": 3
   },
   "file_extension": ".py",
   "mimetype": "text/x-python",
   "name": "python",
   "nbconvert_exporter": "python",
   "pygments_lexer": "ipython3",
   "version": "3.9.1"
  }
 },
 "nbformat": 4,
 "nbformat_minor": 5
}
