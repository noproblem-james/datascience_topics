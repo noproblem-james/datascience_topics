{
 "cells": [
  {
   "cell_type": "code",
   "execution_count": 1,
   "metadata": {},
   "outputs": [
    {
     "data": {
      "text/html": [
       "<style>.container { width:100% !important; }</style>"
      ],
      "text/plain": [
       "<IPython.core.display.HTML object>"
      ]
     },
     "metadata": {},
     "output_type": "display_data"
    }
   ],
   "source": [
    "from IPython.core.display import display, HTML\n",
    "display(HTML(\"<style>.container { width:100% !important; }</style>\"))"
   ]
  },
  {
   "cell_type": "markdown",
   "metadata": {},
   "source": [
    "# Gradient Boosted Trees versus Random Forests\n",
    "\n",
    "Individual trees are super overfit (high variance, low bias)\n",
    "Ensemble methods, like Random Forests and Gradient Boosted Trees, attempt to correct this.\n",
    "\n",
    "## Differences between RFs and GBTs:\n",
    "\n",
    "\n",
    "### Random Forests\n",
    "* Predictions of each tree are sort of independent. Each tree has a \"mind of its own.\"\n",
    "  * How do we make trees independent of each other?\n",
    "   * Bootstrap samples randomly select observations.\n",
    "   * Subset features randomly at each node\n",
    "* Uses bushy trees\n",
    "\n",
    "### Gradient Boosted Trees\n",
    "* Predictions of each tree are not independent. Trees are grown sequentially. \n",
    "  * Instead of simply averaging trees as in a random forest, you are taking something like a weighted average, wherein each observation is weighting the points based on how far off from the actual value the prediction from the previous tree was.\n",
    "* Uses stumpy trees\n",
    "  * Limited depth is what makes learners weak."
   ]
  },
  {
   "cell_type": "markdown",
   "metadata": {},
   "source": [
    "## Why Gradient Boosting can Outperform Random Forests\n"
   ]
  },
  {
   "cell_type": "markdown",
   "metadata": {},
   "source": [
    "Random Forest model is the 'average' of a collection of deep decision trees   \n",
    "* Each tree is low bias, high variance\n",
    "* Variance **mostly** 'drops out' when all the trees averaged\n",
    "\n",
    "    \n",
    "Gradient Boosted Trees model results from a series of shallow decision trees, each of which learns from its immediate predecessor\n",
    "* Each tree (stump) is high bias, low variance\n",
    "* Each step reduces the bias\n",
    "* Slow learning of GBT model allows the model to get an extremely low bias   \n",
    "    * As long as you don't allow to go too long and overfit"
   ]
  },
  {
   "cell_type": "markdown",
   "metadata": {},
   "source": [
    "### Tradeoffs:\n",
    "* Gradient Boosted Trees require much more extensive parameter tuning than random forests.\n",
    "\n",
    "* GBTs are not inherently parallelizable, whereas RFs are.\n",
    "\n",
    "* GBTs can overfit (albeit slowly), whereas RFs cannot."
   ]
  },
  {
   "cell_type": "markdown",
   "metadata": {},
   "source": [
    "# Gradient Descent versus Gradient Boosting"
   ]
  },
  {
   "cell_type": "markdown",
   "metadata": {},
   "source": [
    "## Gradients\n",
    "\n",
    "### The gradient is a vector of the partial derivatives of a function. It is the n-dimensional generalization of the derivative.  \n",
    "\n",
    "### The direction of the gradient vector, at a given point, will naturally point in the steepest direction."
   ]
  },
  {
   "cell_type": "markdown",
   "metadata": {},
   "source": [
    "### Let's break that down a bit:\n",
    "\n",
    "* Suppose we have two variables, X and Y, and we also have Z, which is a function of both X and Y.\n",
    "* The change in Z divided by the change in Y is what we refer to as the partial derivative of Z with respect to Y.\n",
    "* The change in Z divided by the change in X is what we refer to as the partial derivative of Z with respect to X.\n",
    "* Suppose we represent the slope of this line with an arrow (vector). \n",
    "* The length and direction of the arrow indicates if the slope is positive or negative and by how much.\n",
    "* Every point has an arrow that represents the partial derivative of Z with respect to X.\n",
    "* Every point also has an arrow that respresents the partial derivateve of Z with respect to Y.\n",
    "* If we add these two vectors together, we get a new vector, which is called the gradient. It always indicates the direction in which Z is increasing by the largest amount."
   ]
  },
  {
   "cell_type": "code",
   "execution_count": 1,
   "metadata": {},
   "outputs": [
    {
     "data": {
      "image/jpeg": "[encoded data removed]",
      "text/html": [
       "\n",
       "        <iframe\n",
       "            width=\"400\"\n",
       "            height=\"300\"\n",
       "            src=\"https://www.youtube.com/embed/GkB4vW16QHI\"\n",
       "            frameborder=\"0\"\n",
       "            allowfullscreen\n",
       "        ></iframe>\n",
       "        "
      ],
      "text/plain": [
       "<IPython.lib.display.YouTubeVideo at 0x10d0fc908>"
      ]
     },
     "execution_count": 1,
     "metadata": {},
     "output_type": "execute_result"
    }
   ],
   "source": [
    "from IPython.display import YouTubeVideo\n",
    "YouTubeVideo(\"GkB4vW16QHI\")\n"
   ]
  },
  {
   "cell_type": "markdown",
   "metadata": {},
   "source": [
    "## Gradient Descent\n",
    "\n",
    "### General Optimization Algorithm\n",
    "\n",
    "\n",
    "* It comes up a lot in machine learning.  \n",
    "\n",
    "\n",
    "* It finds a local minimum of a (cost) function by repeatedly taking steps proportional to the negative of the gradient (or an approximate gradient) of the function at the current point\n",
    "\n",
    "\n",
    "* Intuitively, you can think of this as repeatedly taking steps in the direction of the steepest descent. Doing so will eventually lead to a local minimum.\n"
   ]
  },
  {
   "cell_type": "markdown",
   "metadata": {},
   "source": [
    "## Gradient Boosting:\n",
    "\n",
    "### Sequential Weak Learners\n",
    "\n",
    "* Like bagging, boosting is a general approach that can be applied to many statistical learning methods for regression or classification. Gradient Boosting is typically applied to trees  <br> <br>\n",
    "\n",
    " Definition of Gradient Boosting:\n",
    "\n",
    "* Given the current model, we fit a decision tree to the residuals from the model. We then add this new decision tree into the fitted function in order to update the residuals. <br> <br>\n",
    "\n",
    "* Each of these trees can be rather small, with just a few terminal nodes, determined by a parameter in the algorithm. <br> <br>\n",
    "\n",
    "* By fitting small trees to the residuals, we slowly improve in areas where it does not perform well. <br> <br>\n",
    "\n",
    "* The shrinkage parameter (λ) slows the process down even further, allowing more and different shaped trees to attack the residuals.<br> <br>\n",
    "\n",
    "* Boosting for classification is similar in spirit to boosting for regression, but is a bit more complex.\n",
    "\n",
    "\n",
    "* Can also do stochastic gradient boosting, which applies applies the same principle as bagging (fitting each tree to a subset of the data)."
   ]
  },
  {
   "cell_type": "markdown",
   "metadata": {},
   "source": [
    "## Comparison of Gradient Descent and Gradient Boosting\n",
    "\n",
    "Gradient descent is a generic optimization algorithm for differentiable functions, whereas gradient boosting is a stagewise prediction algorithm.\n",
    "\n",
    "They're similar in spirit, but they're used for different things:\n",
    "\n",
    "* Gradient descent updates the parameters of a function step by step to reach a local minimum for a loss function.\n",
    "\n",
    "* Gradient boosting adds new function to existing one in each step to reach a local minimum for a loss function.\n",
    "\n",
    "Gradient boosting is just gradient descent, except instead of optimizing over the coefficient space, we optimize over the error space. \n",
    "\n",
    "In the end, the result of gradient descent is still the same function as at the beginning, just with a better parameters. But gradient boosting will end with a totally different functions (additions of multiple functions)."
   ]
  },
  {
   "cell_type": "code",
   "execution_count": null,
   "metadata": {},
   "outputs": [],
   "source": []
  }
 ],
 "metadata": {
  "anaconda-cloud": {},
  "kernelspec": {
   "display_name": "Python 3",
   "language": "python",
   "name": "python3"
  },
  "language_info": {
   "codemirror_mode": {
    "name": "ipython",
    "version": 3
   },
   "file_extension": ".py",
   "mimetype": "text/x-python",
   "name": "python",
   "nbconvert_exporter": "python",
   "pygments_lexer": "ipython3",
   "version": "3.7.2"
  }
 },
 "nbformat": 4,
 "nbformat_minor": 2
}
