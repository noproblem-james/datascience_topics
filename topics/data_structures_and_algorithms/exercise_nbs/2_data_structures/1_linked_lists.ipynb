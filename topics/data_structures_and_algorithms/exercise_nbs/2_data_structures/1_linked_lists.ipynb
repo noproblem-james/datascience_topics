{
 "cells": [
  {
   "cell_type": "markdown",
   "id": "unable-stadium",
   "metadata": {},
   "source": [
    "# Linked Lists\n",
    "\n",
    "Three types: \n",
    "- singly linked lists\n",
    "- doubly linked lists\n",
    "- circular lists.\n",
    "\n"
   ]
  },
  {
   "cell_type": "markdown",
   "id": "rapid-torture",
   "metadata": {},
   "source": [
    "## Singly Linked Lists\n",
    "\n",
    "In this linked list, each node in the list is connected only to the next node in the list. \n",
    "\n",
    "This connection is typically implemented by setting the `next` attribute on a node object itself."
   ]
  },
  {
   "cell_type": "code",
   "execution_count": 12,
   "id": "special-aluminum",
   "metadata": {},
   "outputs": [],
   "source": [
    "class Node:\n",
    "    def __init__(self, val):\n",
    "        self.val = val\n",
    "        self.next = None"
   ]
  },
  {
   "cell_type": "code",
   "execution_count": 82,
   "id": "approved-uncertainty",
   "metadata": {},
   "outputs": [],
   "source": [
    "class LinkedList:\n",
    "    def __init__(self):\n",
    "        self.head = None\n",
    "        \n",
    "    def __repr__(self):\n",
    "        lst = self.to_list()\n",
    "        string = \"-->\".join([str(x) for x in lst]).strip(\"-->\")\n",
    "        return string\n",
    "        \n",
    "    def append(self, val):\n",
    "        if self.head is None:\n",
    "            self.head = Node(val)\n",
    "            return\n",
    "        \n",
    "        # Move to the tail (the last node)\n",
    "        node = self.head\n",
    "        while node.next:\n",
    "            node = node.next\n",
    "        \n",
    "        node.next = Node(val)\n",
    "        return\n",
    "    \n",
    "    def to_list(self):\n",
    "        '''\n",
    "        Converts a linked list back into a Python list.\n",
    "        '''\n",
    "        lst = []\n",
    "        node = self.head\n",
    "        while node:\n",
    "            lst.append(node.val)\n",
    "            node = node.next\n",
    "        return lst"
   ]
  },
  {
   "cell_type": "code",
   "execution_count": 83,
   "id": "detected-alaska",
   "metadata": {},
   "outputs": [],
   "source": [
    "obj = LinkedList()"
   ]
  },
  {
   "cell_type": "code",
   "execution_count": 84,
   "id": "romance-sailing",
   "metadata": {},
   "outputs": [],
   "source": [
    "for x in [3, 2, 1, 4, 5]:\n",
    "    obj.append(x)"
   ]
  },
  {
   "cell_type": "code",
   "execution_count": 85,
   "id": "exterior-runner",
   "metadata": {},
   "outputs": [
    {
     "data": {
      "text/plain": [
       "3-->2-->1-->4-->5"
      ]
     },
     "execution_count": 85,
     "metadata": {},
     "output_type": "execute_result"
    }
   ],
   "source": [
    "obj"
   ]
  },
  {
   "cell_type": "code",
   "execution_count": 68,
   "id": "positive-kruger",
   "metadata": {},
   "outputs": [],
   "source": [
    "# Add a method `to_list()` to `LinkedList` that converts a linked list back into a Python list."
   ]
  },
  {
   "cell_type": "code",
   "execution_count": 62,
   "id": "present-boards",
   "metadata": {},
   "outputs": [],
   "source": [
    "class MyLinkedList:\n",
    "\n",
    "    def __init__(self):\n",
    "        \"\"\"\n",
    "        Initialize your data structure here.\n",
    "        \"\"\"\n",
    "        self.head = None\n",
    "\n",
    "\n",
    "    def get(self, index: int) -> int:\n",
    "        \"\"\"\n",
    "        Get the value of the index-th node in the linked list. If the index is invalid, return -1.\n",
    "        \"\"\"\n",
    "        node = self.head\n",
    "        idx = 0\n",
    "        while node:\n",
    "            if idx == index:\n",
    "                return node.val\n",
    "            node = node.next\n",
    "            idx += 1\n",
    "        \n",
    "\n",
    "    def addAtHead(self, val: int) -> None:\n",
    "        \"\"\"\n",
    "        Add a node of value val before the first element of the linked list. \n",
    "        After the insertion, the new node will be the first node of the linked list.\n",
    "        \"\"\"\n",
    "        new_head = Node(val)\n",
    "        new_head.next = self.head\n",
    "        self.head = new_head\n",
    "        return\n",
    "    \n",
    "\n",
    "    def addAtTail(self, val: int) -> None:\n",
    "        \"\"\"\n",
    "        Append a node of value val to the last element of the linked list.\n",
    "        \"\"\"\n",
    "        if not self.head:\n",
    "            self.head = Node(val)\n",
    "            return\n",
    "        node = self.head\n",
    "        while node.next:\n",
    "            node = node.next\n",
    "        node.next = Node(val)\n",
    "        \n",
    "    def addAtIndex(self, index: int, val: int) -> None:\n",
    "        \"\"\"\n",
    "        Add a node of value val before the index-th node in the linked list. \n",
    "        If index equals to the length of linked list, the node will be appended to the end of linked list. \n",
    "        If index is greater than the length, the node will not be inserted.\n",
    "        \"\"\"\n",
    "    \n",
    "        idx = 0\n",
    "        node = self.head\n",
    "        \n",
    "        while node:\n",
    "            if idx == index - 1:\n",
    "                \n",
    "                \n",
    "            node = node.next\n",
    "            idx += 1\n",
    "        \n",
    "\n",
    "    def deleteAtIndex(self, index: int) -> None:\n",
    "        \"\"\"\n",
    "        Delete the index-th node in the linked list, if the index is valid.\n",
    "        \"\"\"\n",
    "        \n",
    "\n",
    "\n"
   ]
  },
  {
   "cell_type": "code",
   "execution_count": 65,
   "id": "significant-disease",
   "metadata": {},
   "outputs": [],
   "source": [
    "obj = MyLinkedList()"
   ]
  },
  {
   "cell_type": "code",
   "execution_count": 64,
   "id": "adjusted-gabriel",
   "metadata": {},
   "outputs": [],
   "source": [
    "obj.addAtTail(6)"
   ]
  },
  {
   "cell_type": "code",
   "execution_count": null,
   "id": "removable-swedish",
   "metadata": {},
   "outputs": [],
   "source": [
    "obj.addAt"
   ]
  },
  {
   "cell_type": "code",
   "execution_count": 48,
   "id": "optional-anime",
   "metadata": {},
   "outputs": [],
   "source": [
    "for x in [3, 2, 1, 4, 5]:\n",
    "    obj.addAtHead(x)"
   ]
  },
  {
   "cell_type": "code",
   "execution_count": 49,
   "id": "seventh-newspaper",
   "metadata": {},
   "outputs": [
    {
     "data": {
      "text/plain": [
       "<__main__.MyLinkedList at 0x7f96792e6e80>"
      ]
     },
     "execution_count": 49,
     "metadata": {},
     "output_type": "execute_result"
    }
   ],
   "source": [
    "obj"
   ]
  },
  {
   "cell_type": "code",
   "execution_count": 50,
   "id": "demanding-partnership",
   "metadata": {},
   "outputs": [
    {
     "name": "stdout",
     "output_type": "stream",
     "text": [
      "6\n"
     ]
    }
   ],
   "source": [
    "obj.addAtTail(6)"
   ]
  },
  {
   "cell_type": "code",
   "execution_count": 66,
   "id": "bizarre-kenya",
   "metadata": {
    "scrolled": false
   },
   "outputs": [],
   "source": [
    "for x in [3, 2, 1, 4, 5]:\n",
    "    obj.addAtTail(x)"
   ]
  },
  {
   "cell_type": "code",
   "execution_count": 67,
   "id": "eastern-bermuda",
   "metadata": {},
   "outputs": [
    {
     "data": {
      "text/plain": [
       "2"
      ]
     },
     "execution_count": 67,
     "metadata": {},
     "output_type": "execute_result"
    }
   ],
   "source": [
    "obj.get(1)"
   ]
  },
  {
   "cell_type": "code",
   "execution_count": null,
   "id": "supreme-involvement",
   "metadata": {},
   "outputs": [],
   "source": [
    "# Your MyLinkedList object will be instantiated and called as such:\n",
    "# obj = MyLinkedList()\n",
    "# param_1 = obj.get(index)\n",
    "# obj.addAtHead(val)\n",
    "# obj.addAtTail(val)\n",
    "# obj.addAtIndex(index,val)\n",
    "# obj.deleteAtIndex(index)"
   ]
  },
  {
   "cell_type": "code",
   "execution_count": null,
   "id": "responsible-lebanon",
   "metadata": {},
   "outputs": [],
   "source": []
  },
  {
   "cell_type": "code",
   "execution_count": null,
   "id": "specialized-philadelphia",
   "metadata": {},
   "outputs": [],
   "source": [
    "obj = MyLinkedList()\n",
    "# param_1 = obj.get(index)"
   ]
  },
  {
   "cell_type": "code",
   "execution_count": 11,
   "id": "turned-novel",
   "metadata": {},
   "outputs": [
    {
     "name": "stdout",
     "output_type": "stream",
     "text": [
      "Pass\n"
     ]
    }
   ],
   "source": [
    "# Test your method here\n",
    "linked_list = MyLinkedList()\n",
    "linked_list.append(3)\n",
    "linked_list.append(2)\n",
    "linked_list.append(-1)\n",
    "linked_list.append(0.2)\n",
    "\n",
    "print (\"Pass\" if  (linked_list.to_list() == [3, 2, -1, 0.2]) else \"Fail\")"
   ]
  },
  {
   "cell_type": "markdown",
   "id": "painful-danger",
   "metadata": {},
   "source": [
    "## Doubly Linked Lists\n",
    "\n",
    "This type of list has connections backwards and forwards through the list.\n",
    "\n",
    "![Doubly Linked List](assets/doubly_linked_list.png)\n",
    "\n",
    "Now that we have backwards connections it makes sense to track the tail of the linked list as well as the head.\n",
    "\n",
    ">**Exercise:** Implement a doubly linked list that can append to the tail in constant time. Make sure to include forward and backward connections when adding a new node to the list."
   ]
  },
  {
   "cell_type": "markdown",
   "id": "injured-chassis",
   "metadata": {},
   "source": [
    "## Doubly Linked Lists\n",
    "\n",
    "This type of list has connections backwards and forwards through the list.\n",
    "\n",
    "![Doubly Linked List](assets/doubly_linked_list.png)\n",
    "\n",
    "Now that we have backwards connections it makes sense to track the tail of the linked list as well as the head.\n",
    "\n",
    ">**Exercise:** Implement a doubly linked list that can append to the tail in constant time. Make sure to include forward and backward connections when adding a new node to the list."
   ]
  },
  {
   "cell_type": "code",
   "execution_count": null,
   "id": "brazilian-wireless",
   "metadata": {},
   "outputs": [],
   "source": [
    "class DoubleNode:\n",
    "    def __init__(self, value):\n",
    "        self.value = value\n",
    "        self.next = None\n",
    "        self.previous = None\n",
    "\n",
    "class DoublyLinkedList:\n",
    "    def __init__(self):\n",
    "        self.head = None\n",
    "        self.tail = None\n",
    "    \n",
    "    def append(self, value):\n",
    "        \n",
    "        # TODO: Implement this method to append to the tail of the list\n",
    "        \n",
    "        pass"
   ]
  },
  {
   "cell_type": "code",
   "execution_count": null,
   "id": "combined-sharing",
   "metadata": {},
   "outputs": [],
   "source": [
    "# Test your class here\n",
    "\n",
    "linked_list = DoublyLinkedList()\n",
    "linked_list.append(1)\n",
    "linked_list.append(-2)\n",
    "linked_list.append(4)\n",
    "\n",
    "print(\"Going forward through the list, should print 1, -2, 4\")\n",
    "node = linked_list.head\n",
    "while node:\n",
    "    print(node.value)\n",
    "    node = node.next\n",
    "\n",
    "print(\"\\nGoing backward through the list, should print 4, -2, 1\")\n",
    "node = linked_list.tail\n",
    "while node:\n",
    "    print(node.value)\n",
    "    node = node.previous"
   ]
  }
 ],
 "metadata": {
  "kernelspec": {
   "display_name": "Python 3",
   "language": "python",
   "name": "python3"
  },
  "language_info": {
   "codemirror_mode": {
    "name": "ipython",
    "version": 3
   },
   "file_extension": ".py",
   "mimetype": "text/x-python",
   "name": "python",
   "nbconvert_exporter": "python",
   "pygments_lexer": "ipython3",
   "version": "3.9.1"
  }
 },
 "nbformat": 4,
 "nbformat_minor": 5
}
