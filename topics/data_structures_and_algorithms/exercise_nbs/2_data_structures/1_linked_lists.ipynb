{
 "cells": [
  {
   "cell_type": "markdown",
   "id": "unable-stadium",
   "metadata": {},
   "source": [
    "# Linked Lists\n",
    "\n",
    "Three types: \n",
    "- singly linked lists\n",
    "- doubly linked lists\n",
    "- circular lists.\n",
    "\n"
   ]
  },
  {
   "cell_type": "markdown",
   "id": "rapid-torture",
   "metadata": {},
   "source": [
    "## Singly Linked Lists\n",
    "\n",
    "In this linked list, each node in the list is connected only to the next node in the list. \n",
    "\n",
    "This connection is typically implemented by setting the `next` attribute on a node object itself."
   ]
  },
  {
   "cell_type": "code",
   "execution_count": 1,
   "id": "special-aluminum",
   "metadata": {},
   "outputs": [],
   "source": [
    "class Node:\n",
    "    def __init__(self, val):\n",
    "        self.val = val\n",
    "        self.next = None"
   ]
  },
  {
   "cell_type": "code",
   "execution_count": 2,
   "id": "approved-uncertainty",
   "metadata": {},
   "outputs": [],
   "source": [
    "class LinkedList:\n",
    "    \n",
    "    def __init__(self, init_list=None):\n",
    "        self.head = None\n",
    "        self.size = 0\n",
    "        if init_list:\n",
    "            for value in init_list:\n",
    "                self.append(value)\n",
    "        \n",
    "        \n",
    "    def __repr__(self):\n",
    "        lst = self.to_list()\n",
    "        string = \"-->\".join([str(x) for x in lst]).strip(\"-->\")\n",
    "        return string\n",
    "\n",
    "    \n",
    "    def to_list(self):\n",
    "        '''\n",
    "        Converts a linked list back into a Python list.\n",
    "        '''\n",
    "        lst = []\n",
    "        node = self.head\n",
    "        while node:\n",
    "            lst.append(node.val)\n",
    "            node = node.next\n",
    "        return lst\n",
    "    \n",
    "    \n",
    "    def prepend(self, val: int) -> None:\n",
    "        \"\"\"\n",
    "        Add a node of value val before the first element of the linked list. \n",
    "        After the insertion, the new node will be the first node of the linked list.\n",
    "        \"\"\"\n",
    "        new_head = Node(val)\n",
    "        new_head.next = self.head\n",
    "        self.head = new_head\n",
    "        self.size += 1\n",
    "        return\n",
    "    \n",
    "    \n",
    "    def append(self, val):\n",
    "        if self.head is None:\n",
    "            self.head = Node(val)\n",
    "            return\n",
    "        \n",
    "        # Move to the tail (the last node)\n",
    "        node = self.head\n",
    "        while node.next:\n",
    "            node = node.next\n",
    "        \n",
    "        node.next = Node(val)\n",
    "        self.size += 1\n",
    "        return\n",
    "    \n",
    "    \n",
    "    def get(self, index: int) -> int:\n",
    "        \"\"\"\n",
    "        Get the value of the index-th node in the linked list. If the index is invalid, return -1.\n",
    "        \"\"\"\n",
    "        if index < 0 or index > self.size - 1:\n",
    "            print(\"fail\")\n",
    "            return -1\n",
    "        node = self.head\n",
    "        idx = 0\n",
    "        while node:\n",
    "            if idx == index:\n",
    "                return node.val\n",
    "            node = node.next\n",
    "            idx += 1\n",
    "    \n",
    "    \n",
    "    def insert(self, index: int, val: int) -> None:\n",
    "        \"\"\"\n",
    "        Add a node of value val before the index-th node in the linked list. \n",
    "        If index equals to the length of linked list, the node will be appended to the end of linked list. \n",
    "        If index is greater than the length, the node will not be inserted.\n",
    "        \"\"\"\n",
    "        if index < 0 or index > self.size:\n",
    "            print(\"fail\")\n",
    "            return -1\n",
    "        elif index == self.size:\n",
    "            self.addAtTail(val)\n",
    "        else:\n",
    "            idx = 0\n",
    "            node = self.head\n",
    "            while node:\n",
    "                if idx == index - 1:\n",
    "                    new_node = Node(val)\n",
    "                    next_node = node.next\n",
    "                    node.next = new_node\n",
    "                    new_node.next = next_node\n",
    "                    self.size += 1\n",
    "                    return\n",
    "                else:\n",
    "                    node = node.next\n",
    "                    idx += 1\n",
    "        \n",
    "        \n",
    "    def delete(self, index: int) -> None:\n",
    "        \"\"\"\n",
    "        Delete the index-th node in the linked list, if the index is valid.\n",
    "        \"\"\"\n",
    "        if index < 0 or index > self.size + 1:\n",
    "            print(\"fail\")\n",
    "            return -1\n",
    "        else:\n",
    "            node = self.head\n",
    "            idx = 0\n",
    "            while node:\n",
    "                if idx == index - 1:\n",
    "                    node.next = node.next.next\n",
    "                    self.size -= 1\n",
    "                    return\n",
    "                else:\n",
    "                    node = node.next\n",
    "                    idx += 1"
   ]
  },
  {
   "cell_type": "code",
   "execution_count": 3,
   "id": "detected-alaska",
   "metadata": {},
   "outputs": [],
   "source": [
    "obj = LinkedList([3, 2, 1, 4, 5])"
   ]
  },
  {
   "cell_type": "code",
   "execution_count": 4,
   "id": "cleared-complexity",
   "metadata": {
    "scrolled": true
   },
   "outputs": [
    {
     "data": {
      "text/plain": [
       "3-->2-->1-->4-->5"
      ]
     },
     "execution_count": 4,
     "metadata": {},
     "output_type": "execute_result"
    }
   ],
   "source": [
    "obj"
   ]
  },
  {
   "cell_type": "code",
   "execution_count": 5,
   "id": "professional-proof",
   "metadata": {},
   "outputs": [],
   "source": [
    "obj.append(11)"
   ]
  },
  {
   "cell_type": "code",
   "execution_count": 6,
   "id": "civilian-meter",
   "metadata": {},
   "outputs": [
    {
     "data": {
      "text/plain": [
       "3-->2-->1-->4-->5-->11"
      ]
     },
     "execution_count": 6,
     "metadata": {},
     "output_type": "execute_result"
    }
   ],
   "source": [
    "obj"
   ]
  },
  {
   "cell_type": "code",
   "execution_count": 7,
   "id": "requested-methodology",
   "metadata": {},
   "outputs": [],
   "source": [
    "obj.insert(index=2, val=9)"
   ]
  },
  {
   "cell_type": "code",
   "execution_count": 8,
   "id": "engaging-response",
   "metadata": {},
   "outputs": [
    {
     "data": {
      "text/plain": [
       "3-->2-->9-->1-->4-->5-->11"
      ]
     },
     "execution_count": 8,
     "metadata": {},
     "output_type": "execute_result"
    }
   ],
   "source": [
    "obj"
   ]
  },
  {
   "cell_type": "code",
   "execution_count": 9,
   "id": "signed-vermont",
   "metadata": {
    "scrolled": true
   },
   "outputs": [
    {
     "name": "stdout",
     "output_type": "stream",
     "text": [
      "fail\n"
     ]
    },
    {
     "data": {
      "text/plain": [
       "-1"
      ]
     },
     "execution_count": 9,
     "metadata": {},
     "output_type": "execute_result"
    }
   ],
   "source": [
    "obj.get(6)"
   ]
  },
  {
   "cell_type": "code",
   "execution_count": 10,
   "id": "respiratory-bunny",
   "metadata": {},
   "outputs": [],
   "source": [
    "obj.delete(4)"
   ]
  },
  {
   "cell_type": "code",
   "execution_count": 11,
   "id": "tired-campaign",
   "metadata": {},
   "outputs": [
    {
     "data": {
      "text/plain": [
       "3-->2-->9-->1-->5-->11"
      ]
     },
     "execution_count": 11,
     "metadata": {},
     "output_type": "execute_result"
    }
   ],
   "source": [
    "obj"
   ]
  },
  {
   "cell_type": "code",
   "execution_count": 12,
   "id": "herbal-newton",
   "metadata": {},
   "outputs": [
    {
     "data": {
      "text/plain": [
       "5"
      ]
     },
     "execution_count": 12,
     "metadata": {},
     "output_type": "execute_result"
    }
   ],
   "source": [
    "obj.size"
   ]
  },
  {
   "cell_type": "code",
   "execution_count": 14,
   "id": "turned-novel",
   "metadata": {},
   "outputs": [
    {
     "name": "stdout",
     "output_type": "stream",
     "text": [
      "Pass\n"
     ]
    }
   ],
   "source": [
    "# Test your method here\n",
    "linked_list = LinkedList()\n",
    "linked_list.append(3)\n",
    "linked_list.append(2)\n",
    "linked_list.append(-1)\n",
    "linked_list.append(2)\n",
    "\n",
    "print (\"Pass\" if  (linked_list.to_list() == [3, 2, -1, 2]) else \"Fail\")"
   ]
  },
  {
   "cell_type": "markdown",
   "id": "painful-danger",
   "metadata": {},
   "source": [
    "## Doubly Linked Lists\n",
    "\n",
    "This type of list has connections backwards and forwards through the list.\n",
    "\n",
    "![Doubly Linked List](assets/doubly_linked_list.png)\n",
    "\n",
    "Now that we have backwards connections it makes sense to track the tail of the linked list as well as the head.\n",
    "\n",
    ">**Exercise:** Implement a doubly linked list that can append to the tail in constant time. Make sure to include forward and backward connections when adding a new node to the list."
   ]
  },
  {
   "cell_type": "markdown",
   "id": "injured-chassis",
   "metadata": {},
   "source": [
    "## Doubly Linked Lists\n",
    "\n",
    "This type of list has connections backwards and forwards through the list.\n",
    "\n",
    "![Doubly Linked List](assets/doubly_linked_list.png)\n",
    "\n",
    "Now that we have backwards connections it makes sense to track the tail of the linked list as well as the head.\n",
    "\n",
    ">**Exercise:** Implement a doubly linked list that can append to the tail in constant time. Make sure to include forward and backward connections when adding a new node to the list."
   ]
  },
  {
   "cell_type": "code",
   "execution_count": 15,
   "id": "brazilian-wireless",
   "metadata": {},
   "outputs": [],
   "source": [
    "class DoubleNode:\n",
    "    def __init__(self, value):\n",
    "        self.value = value\n",
    "        self.next = None\n",
    "        self.previous = None\n",
    "\n",
    "class DoublyLinkedList:\n",
    "    def __init__(self):\n",
    "        self.head = None\n",
    "        self.tail = None\n",
    "    \n",
    "    def append(self, value):\n",
    "        \n",
    "        # TODO: Implement this method to append to the tail of the list\n",
    "        \n",
    "        pass"
   ]
  },
  {
   "cell_type": "code",
   "execution_count": 16,
   "id": "combined-sharing",
   "metadata": {},
   "outputs": [
    {
     "name": "stdout",
     "output_type": "stream",
     "text": [
      "Going forward through the list, should print 1, -2, 4\n",
      "\n",
      "Going backward through the list, should print 4, -2, 1\n"
     ]
    }
   ],
   "source": [
    "# Test your class here\n",
    "\n",
    "linked_list = DoublyLinkedList()\n",
    "linked_list.append(1)\n",
    "linked_list.append(-2)\n",
    "linked_list.append(4)\n",
    "\n",
    "print(\"Going forward through the list, should print 1, -2, 4\")\n",
    "node = linked_list.head\n",
    "while node:\n",
    "    print(node.value)\n",
    "    node = node.next\n",
    "\n",
    "print(\"\\nGoing backward through the list, should print 4, -2, 1\")\n",
    "node = linked_list.tail\n",
    "while node:\n",
    "    print(node.value)\n",
    "    node = node.previous"
   ]
  },
  {
   "cell_type": "code",
   "execution_count": null,
   "id": "amino-combat",
   "metadata": {},
   "outputs": [],
   "source": []
  }
 ],
 "metadata": {
  "kernelspec": {
   "display_name": "Python 3",
   "language": "python",
   "name": "python3"
  },
  "language_info": {
   "codemirror_mode": {
    "name": "ipython",
    "version": 3
   },
   "file_extension": ".py",
   "mimetype": "text/x-python",
   "name": "python",
   "nbconvert_exporter": "python",
   "pygments_lexer": "ipython3",
   "version": "3.9.1"
  }
 },
 "nbformat": 4,
 "nbformat_minor": 5
}
