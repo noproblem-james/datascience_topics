{
 "cells": [
  {
   "cell_type": "markdown",
   "id": "unable-stadium",
   "metadata": {},
   "source": [
    "# Linked Lists\n",
    "\n",
    "Three types: \n",
    "- singly linked lists\n",
    "- doubly linked lists\n",
    "- circular lists\n",
    "\n"
   ]
  },
  {
   "cell_type": "markdown",
   "id": "rapid-torture",
   "metadata": {},
   "source": [
    "## Singly Linked Lists\n",
    "\n",
    "In this linked list, each node in the list is connected only to the next node in the list. \n",
    "This connection is typically implemented by setting the `next` attribute on a node object itself.\n",
    "\n",
    "The LinkedList class below is able to:\n",
    "\n",
    "+ Append data to the tail of the list and prepend to the head\n",
    "+ Search the linked list for a value and return the node\n",
    "+ Remove a node\n",
    "+ Pop, which means to return the first node's value and delete the node from the list\n",
    "+ Insert data at some position in the list"
   ]
  },
  {
   "cell_type": "code",
   "execution_count": 1,
   "id": "special-aluminum",
   "metadata": {},
   "outputs": [],
   "source": [
    "class Node:\n",
    "    def __init__(self, val):\n",
    "        self.val = val\n",
    "        self.next = None"
   ]
  },
  {
   "cell_type": "code",
   "execution_count": 2,
   "id": "approved-uncertainty",
   "metadata": {},
   "outputs": [],
   "source": [
    "class LinkedList:\n",
    "    \n",
    "    def __init__(self, init_list=None):\n",
    "        self.head = None\n",
    "        self.size = 0\n",
    "        if init_list:\n",
    "            for value in init_list:\n",
    "                self.append(value)\n",
    "        \n",
    "        \n",
    "    def __repr__(self):\n",
    "        lst = self.to_list()\n",
    "        string = \"-->\".join([str(x) for x in lst]).strip(\"-->\")\n",
    "        return string\n",
    "\n",
    "    \n",
    "    def to_list(self):\n",
    "        '''\n",
    "        Converts a linked list back into a Python list.\n",
    "        '''\n",
    "        lst = []\n",
    "        node = self.head\n",
    "        while node:\n",
    "            lst.append(node.val)\n",
    "            node = node.next\n",
    "        return lst\n",
    "    \n",
    "    \n",
    "    def prepend(self, val: int) -> None:\n",
    "        \"\"\"\n",
    "        Add a node of value val before the first element of the linked list. \n",
    "        After the insertion, the new node will be the first node of the linked list.\n",
    "        \"\"\"\n",
    "        new_head = Node(val)\n",
    "        new_head.next = self.head\n",
    "        self.head = new_head\n",
    "        self.size += 1\n",
    "        return\n",
    "    \n",
    "    \n",
    "    def append(self, val):\n",
    "        if self.head is None:\n",
    "            self.head = Node(val)\n",
    "            return\n",
    "        \n",
    "        # Move to the tail (the last node)\n",
    "        node = self.head\n",
    "        while node.next:\n",
    "            node = node.next\n",
    "        \n",
    "        node.next = Node(val)\n",
    "        self.size += 1\n",
    "        return\n",
    "    \n",
    "    \n",
    "    def pop(self):\n",
    "        \"\"\" Return the first node's value and remove it from the list. \"\"\"\n",
    "        if self.head is None:\n",
    "            return None\n",
    "        node = self.head\n",
    "        self.head = self.head.next\n",
    "        return node.val\n",
    "    \n",
    "    \n",
    "    def get(self, index: int) -> int:\n",
    "        \"\"\"\n",
    "        Get the value of the index-th node in the linked list. If the index is invalid, return -1.\n",
    "        \"\"\"\n",
    "        if index < 0 or index > self.size - 1:\n",
    "            print(\"fail\")\n",
    "            return -1\n",
    "        node = self.head\n",
    "        idx = 0\n",
    "        while node:\n",
    "            if idx == index:\n",
    "                return node.val\n",
    "            node = node.next\n",
    "            idx += 1\n",
    "    \n",
    "    \n",
    "    def insert(self, index: int, val: int) -> None:\n",
    "        \"\"\"\n",
    "        Add a node of value val before the index-th node in the linked list. \n",
    "        If index equals to the length of linked list, the node will be appended to the end of linked list. \n",
    "        If index is greater than the length, the node will not be inserted.\n",
    "        \"\"\"\n",
    "        if index < 0 or index > self.size:\n",
    "            print(\"fail\")\n",
    "            return -1\n",
    "        elif index == 0:\n",
    "            self.prepend(val)\n",
    "        elif index == self.size:\n",
    "            self.append(val)\n",
    "        else:\n",
    "            idx = 0\n",
    "            node = self.head\n",
    "            while node:\n",
    "                if idx == index - 1:\n",
    "                    new_node = Node(val)\n",
    "                    next_node = node.next\n",
    "                    node.next = new_node\n",
    "                    new_node.next = next_node\n",
    "                    self.size += 1\n",
    "                    return\n",
    "                else:\n",
    "                    node = node.next\n",
    "                    idx += 1\n",
    "        \n",
    "        \n",
    "    def delete(self, index: int) -> None:\n",
    "        \"\"\"\n",
    "        Delete the index-th node in the linked list, if the index is valid.\n",
    "        \"\"\"\n",
    "        if index < 0 or index > self.size + 1:\n",
    "            print(\"fail\")\n",
    "            return -1\n",
    "        else:\n",
    "            node = self.head\n",
    "            idx = 0\n",
    "            while node:\n",
    "                if idx == index - 1:\n",
    "                    node.next = node.next.next\n",
    "                    self.size -= 1\n",
    "                    return\n",
    "                else:\n",
    "                    node = node.next\n",
    "                    idx += 1\n",
    "                    \n",
    "                    \n",
    "    def search(self, val):\n",
    "        \"\"\" Search the linked list for a node with the requested value and return the node. \"\"\"\n",
    "        if self.head is None:\n",
    "            return None\n",
    "        node = self.head\n",
    "        while node:\n",
    "            if node.val == val:\n",
    "                return node\n",
    "            node = node.next\n",
    "        raise ValueError(\"Value not found in the list.\")\n",
    "\n",
    "\n",
    "    def remove(self, val):\n",
    "        \"\"\" Delete the first node with the desired data. \"\"\"\n",
    "        if self.head is None:\n",
    "            return\n",
    "        if self.head.val == val:\n",
    "            self.head = self.head.next\n",
    "            return\n",
    "        node = self.head\n",
    "        while node.next:\n",
    "            if node.next.val == val:\n",
    "                node.next = node.next.next\n",
    "                return\n",
    "            node = node.next\n",
    "\n",
    "        raise ValueError(\"Value not found in the list.\")"
   ]
  },
  {
   "cell_type": "code",
   "execution_count": 3,
   "id": "detected-alaska",
   "metadata": {},
   "outputs": [],
   "source": [
    "obj = LinkedList([3, 2, 1, 4, 5])"
   ]
  },
  {
   "cell_type": "code",
   "execution_count": 4,
   "id": "twelve-craft",
   "metadata": {
    "scrolled": true
   },
   "outputs": [
    {
     "data": {
      "text/plain": [
       "3-->2-->1-->4-->5"
      ]
     },
     "execution_count": 4,
     "metadata": {},
     "output_type": "execute_result"
    }
   ],
   "source": [
    "obj"
   ]
  },
  {
   "cell_type": "code",
   "execution_count": 5,
   "id": "underlying-contest",
   "metadata": {},
   "outputs": [],
   "source": [
    "obj.append(11)"
   ]
  },
  {
   "cell_type": "code",
   "execution_count": 6,
   "id": "brave-registrar",
   "metadata": {},
   "outputs": [
    {
     "data": {
      "text/plain": [
       "3-->2-->1-->4-->5-->11"
      ]
     },
     "execution_count": 6,
     "metadata": {},
     "output_type": "execute_result"
    }
   ],
   "source": [
    "obj"
   ]
  },
  {
   "cell_type": "code",
   "execution_count": 7,
   "id": "increased-ballet",
   "metadata": {},
   "outputs": [],
   "source": [
    "obj.insert(index=2, val=9)"
   ]
  },
  {
   "cell_type": "code",
   "execution_count": 8,
   "id": "uniform-flash",
   "metadata": {},
   "outputs": [
    {
     "data": {
      "text/plain": [
       "3-->2-->9-->1-->4-->5-->11"
      ]
     },
     "execution_count": 8,
     "metadata": {},
     "output_type": "execute_result"
    }
   ],
   "source": [
    "obj"
   ]
  },
  {
   "cell_type": "code",
   "execution_count": 9,
   "id": "perfect-cooking",
   "metadata": {
    "scrolled": true
   },
   "outputs": [
    {
     "name": "stdout",
     "output_type": "stream",
     "text": [
      "fail\n"
     ]
    },
    {
     "data": {
      "text/plain": [
       "-1"
      ]
     },
     "execution_count": 9,
     "metadata": {},
     "output_type": "execute_result"
    }
   ],
   "source": [
    "obj.get(6)"
   ]
  },
  {
   "cell_type": "code",
   "execution_count": 10,
   "id": "elegant-chuck",
   "metadata": {},
   "outputs": [],
   "source": [
    "obj.delete(4)"
   ]
  },
  {
   "cell_type": "code",
   "execution_count": 11,
   "id": "rocky-alabama",
   "metadata": {},
   "outputs": [
    {
     "data": {
      "text/plain": [
       "3-->2-->9-->1-->5-->11"
      ]
     },
     "execution_count": 11,
     "metadata": {},
     "output_type": "execute_result"
    }
   ],
   "source": [
    "obj"
   ]
  },
  {
   "cell_type": "code",
   "execution_count": 12,
   "id": "phantom-chemical",
   "metadata": {},
   "outputs": [
    {
     "data": {
      "text/plain": [
       "5"
      ]
     },
     "execution_count": 12,
     "metadata": {},
     "output_type": "execute_result"
    }
   ],
   "source": [
    "obj.size"
   ]
  },
  {
   "cell_type": "code",
   "execution_count": 13,
   "id": "dominant-government",
   "metadata": {},
   "outputs": [],
   "source": [
    "obj.insert(0, 12)"
   ]
  },
  {
   "cell_type": "code",
   "execution_count": 14,
   "id": "sexual-strip",
   "metadata": {},
   "outputs": [
    {
     "data": {
      "text/plain": [
       "12-->3-->2-->9-->1-->5-->11"
      ]
     },
     "execution_count": 14,
     "metadata": {},
     "output_type": "execute_result"
    }
   ],
   "source": [
    "obj"
   ]
  },
  {
   "cell_type": "code",
   "execution_count": 15,
   "id": "curious-valve",
   "metadata": {},
   "outputs": [
    {
     "data": {
      "text/plain": [
       "3"
      ]
     },
     "execution_count": 15,
     "metadata": {},
     "output_type": "execute_result"
    }
   ],
   "source": [
    "obj.search(3).val"
   ]
  },
  {
   "cell_type": "markdown",
   "id": "mysterious-exercise",
   "metadata": {},
   "source": [
    "### Test"
   ]
  },
  {
   "cell_type": "code",
   "execution_count": 16,
   "id": "turned-novel",
   "metadata": {},
   "outputs": [
    {
     "name": "stdout",
     "output_type": "stream",
     "text": [
      "Pass\n"
     ]
    }
   ],
   "source": [
    "# Test your method here\n",
    "linked_list = LinkedList()\n",
    "linked_list.append(3)\n",
    "linked_list.append(2)\n",
    "linked_list.append(-1)\n",
    "linked_list.append(2)\n",
    "\n",
    "print (\"Pass\" if  (linked_list.to_list() == [3, 2, -1, 2]) else \"Fail\")"
   ]
  },
  {
   "cell_type": "code",
   "execution_count": 17,
   "id": "exact-science",
   "metadata": {
    "scrolled": true
   },
   "outputs": [],
   "source": [
    "# Test prepend\n",
    "linked_list = LinkedList()\n",
    "linked_list.prepend(1)\n",
    "assert linked_list.to_list() == [1]\n",
    "linked_list.append(3)\n",
    "linked_list.prepend(2)\n",
    "assert linked_list.to_list() == [2, 1, 3]"
   ]
  },
  {
   "cell_type": "code",
   "execution_count": 18,
   "id": "extra-staff",
   "metadata": {},
   "outputs": [],
   "source": [
    "# Test append\n",
    "linked_list = LinkedList()\n",
    "linked_list.append(1)\n",
    "assert linked_list.to_list() == [1]\n",
    "linked_list.append(3)\n",
    "assert linked_list.to_list() == [1, 3]"
   ]
  },
  {
   "cell_type": "code",
   "execution_count": 19,
   "id": "fundamental-extent",
   "metadata": {},
   "outputs": [],
   "source": [
    "# Test search\n",
    "linked_list.prepend(2)\n",
    "linked_list.prepend(1)\n",
    "linked_list.append(4)\n",
    "linked_list.append(3)\n",
    "assert linked_list.search(1).val == 1\n",
    "assert linked_list.search(4).val == 4"
   ]
  },
  {
   "cell_type": "code",
   "execution_count": 20,
   "id": "animated-circulation",
   "metadata": {},
   "outputs": [],
   "source": [
    "# Test remove\n",
    "linked_list.remove(1)\n",
    "assert linked_list.to_list() == [2, 1, 3, 4, 3]\n",
    "linked_list.remove(3)\n",
    "assert linked_list.to_list() == [2, 1, 4, 3]\n",
    "linked_list.remove(3)\n",
    "assert linked_list.to_list() == [2, 1, 4]"
   ]
  },
  {
   "cell_type": "code",
   "execution_count": 21,
   "id": "vulnerable-flavor",
   "metadata": {},
   "outputs": [],
   "source": [
    "# Test pop\n",
    "val = linked_list.pop()\n",
    "assert val == 2\n",
    "assert linked_list.head.val == 1"
   ]
  },
  {
   "cell_type": "code",
   "execution_count": 22,
   "id": "desirable-celebration",
   "metadata": {
    "scrolled": true
   },
   "outputs": [],
   "source": [
    "# Test insert\n",
    "linked_list.insert(val=5, index=0)\n",
    "assert linked_list.to_list() == [5, 1, 4]\n",
    "linked_list.insert(val=2, index=1)\n",
    "assert linked_list.to_list() == [5, 2, 1, 4]\n",
    "linked_list.insert(val=3, index=2)\n",
    "assert linked_list.to_list() == [5, 2, 3, 1, 4]"
   ]
  },
  {
   "cell_type": "markdown",
   "id": "injured-chassis",
   "metadata": {},
   "source": [
    "## Doubly Linked Lists\n",
    "\n",
    "This type of list has connections backwards and forwards through the list.\n",
    "\n",
    "![Doubly Linked List](assets/doubly_linked_list.png)\n",
    "\n",
    "Now that we have backwards connections it makes sense to track the tail of the linked list as well as the head.\n",
    "\n",
    ">**Exercise:** Implement a doubly linked list that can append to the tail in constant time. Make sure to include forward and backward connections when adding a new node to the list."
   ]
  },
  {
   "cell_type": "code",
   "execution_count": 23,
   "id": "brazilian-wireless",
   "metadata": {},
   "outputs": [],
   "source": [
    "class DoubleNode:\n",
    "    def __init__(self, value):\n",
    "        self.value = value\n",
    "        self.next = None\n",
    "        self.previous = None\n",
    "\n",
    "class DoublyLinkedList:\n",
    "    def __init__(self):\n",
    "        self.head = None\n",
    "        self.tail = None\n",
    "    \n",
    "    def append(self, value):\n",
    "        \n",
    "        # TODO: Implement this method to append to the tail of the list\n",
    "        \n",
    "        pass"
   ]
  },
  {
   "cell_type": "code",
   "execution_count": 24,
   "id": "combined-sharing",
   "metadata": {},
   "outputs": [
    {
     "name": "stdout",
     "output_type": "stream",
     "text": [
      "Going forward through the list, should print 1, -2, 4\n",
      "\n",
      "Going backward through the list, should print 4, -2, 1\n"
     ]
    }
   ],
   "source": [
    "# Test your class here\n",
    "\n",
    "linked_list = DoublyLinkedList()\n",
    "linked_list.append(1)\n",
    "linked_list.append(-2)\n",
    "linked_list.append(4)\n",
    "\n",
    "print(\"Going forward through the list, should print 1, -2, 4\")\n",
    "node = linked_list.head\n",
    "while node:\n",
    "    print(node.value)\n",
    "    node = node.next\n",
    "\n",
    "print(\"\\nGoing backward through the list, should print 4, -2, 1\")\n",
    "node = linked_list.tail\n",
    "while node:\n",
    "    print(node.value)\n",
    "    node = node.previous"
   ]
  },
  {
   "cell_type": "markdown",
   "id": "modified-number",
   "metadata": {},
   "source": [
    "## Circular Linked Lists\n",
    "\n",
    "Circular linked lists occur when the chain of nodes links back to itself somewhere. For example `NodeA -> NodeB -> NodeC -> NodeD -> NodeB` is a circular list because `NodeD` points back to `NodeB` creating a loop `NodeB -> NodeC -> NodeD -> NodeB`. \n",
    "\n",
    "A circular linked list is typically considered pathological because when you try to iterate through it, you'll never find the end. We usually want to detect if there is a loop in our linked lists to avoid these problems. You'll get a chance to implement a solution for detecting loops later in the lesson."
   ]
  },
  {
   "cell_type": "markdown",
   "id": "prompt-democrat",
   "metadata": {},
   "source": [
    "### Detecting Loops in Linked Lists\n",
    "\n",
    "This notebook implements two methods for detecting a loop in a linked list.\n",
    "\n",
    "**Problem 1**: Detect a loop  \n",
    "**Solution 1**: \n",
    "- two pointers, called \"runners\", moving through the list at different rates, a \"slow\" runner moving at one node per step and a \"fast\" runner moving at two nodes per step.\n",
    "- If a loop exists in the list, the fast runner will eventually move behind the slow runner as it moves to the beginning of the loop. Eventually it will catch up to the slow runner and both runners will be pointing to the same node at the same time. If this happens then you know there is a loop in the linked list.\n",
    "\n",
    "**Problem 2**: Return the node where a cycle begins  \n",
    "**Solution 2**:\n",
    "- Iterate through list\n",
    "- If node in a set of seen nodes return the node; else, keep going\n"
   ]
  },
  {
   "cell_type": "code",
   "execution_count": 25,
   "id": "banner-winner",
   "metadata": {},
   "outputs": [],
   "source": [
    "list_with_loop = LinkedList([2, -1, 3, 0, 5])\n",
    "\n",
    "# Creating a loop where the last node points back to the second node\n",
    "loop_start = list_with_loop.head.next\n",
    "\n",
    "node = list_with_loop.head\n",
    "while node.next: \n",
    "    node = node.next   \n",
    "node.next = loop_start"
   ]
  },
  {
   "cell_type": "code",
   "execution_count": 26,
   "id": "worldwide-valley",
   "metadata": {},
   "outputs": [],
   "source": [
    "def is_circular(ll: LinkedList) -> bool:\n",
    "    \"\"\"\n",
    "    Determine whether the Linked List is circular or not\n",
    "\n",
    "    Args:\n",
    "       ll(obj): Linked List to be checked\n",
    "    Returns:\n",
    "       bool: Return True if the linked list is circular, return False otherwise\n",
    "    \"\"\"\n",
    "    \n",
    "    if ll.head is None:\n",
    "        return False\n",
    "    runner_1 = ll.head\n",
    "    runner_2 = ll.head.next\n",
    "\n",
    "    while runner_2 and runner_2.next:\n",
    "        if runner_1 == runner_2:\n",
    "            return True\n",
    "        else:\n",
    "            runner_1 = runner_1.next\n",
    "            runner_2 = runner_2.next.next\n",
    "    return False"
   ]
  },
  {
   "cell_type": "code",
   "execution_count": 27,
   "id": "functional-ordinance",
   "metadata": {},
   "outputs": [
    {
     "name": "stdout",
     "output_type": "stream",
     "text": [
      "Pass\n",
      "Pass\n",
      "Pass\n",
      "Pass\n",
      "Pass\n"
     ]
    }
   ],
   "source": [
    "# Test Cases\n",
    "small_loop = LinkedList([0])\n",
    "small_loop.head.next = small_loop.head\n",
    "print (\"Pass\" if is_circular(list_with_loop) else \"Fail\")\n",
    "print (\"Pass\" if not is_circular(LinkedList([-4, 7, 2, 5, -1])) else \"Fail\")\n",
    "print (\"Pass\" if not is_circular(LinkedList([1])) else \"Fail\")\n",
    "print (\"Pass\" if is_circular(small_loop) else \"Fail\")\n",
    "print (\"Pass\" if not is_circular(LinkedList([])) else \"Fail\")"
   ]
  },
  {
   "cell_type": "code",
   "execution_count": 28,
   "id": "collected-assurance",
   "metadata": {},
   "outputs": [],
   "source": [
    "def detect_cycle(ll: LinkedList) -> Node:\n",
    "    if ll.head is None:\n",
    "        return\n",
    "    seen = set()\n",
    "    node = ll.head\n",
    "    while node:\n",
    "        if node in seen:\n",
    "            return node\n",
    "        else:\n",
    "            seen.add(node)\n",
    "            node = node.next"
   ]
  },
  {
   "cell_type": "code",
   "execution_count": 29,
   "id": "conscious-roulette",
   "metadata": {},
   "outputs": [
    {
     "name": "stdout",
     "output_type": "stream",
     "text": [
      "Pass\n",
      "Pass\n",
      "Pass\n",
      "Pass\n",
      "Pass\n"
     ]
    }
   ],
   "source": [
    "# Test Cases\n",
    "small_loop = LinkedList([0])\n",
    "small_loop.head.next = small_loop.head\n",
    "print (\"Pass\" if detect_cycle(list_with_loop) else \"Fail\")\n",
    "print (\"Pass\" if not detect_cycle(LinkedList([-4, 7, 2, 5, -1])) else \"Fail\")\n",
    "print (\"Pass\" if not detect_cycle(LinkedList([1])) else \"Fail\")\n",
    "print (\"Pass\" if detect_cycle(small_loop) else \"Fail\")\n",
    "print (\"Pass\" if not detect_cycle(LinkedList([])) else \"Fail\")"
   ]
  }
 ],
 "metadata": {
  "kernelspec": {
   "display_name": "Python 3",
   "language": "python",
   "name": "python3"
  },
  "language_info": {
   "codemirror_mode": {
    "name": "ipython",
    "version": 3
   },
   "file_extension": ".py",
   "mimetype": "text/x-python",
   "name": "python",
   "nbconvert_exporter": "python",
   "pygments_lexer": "ipython3",
   "version": "3.9.1"
  }
 },
 "nbformat": 4,
 "nbformat_minor": 5
}
