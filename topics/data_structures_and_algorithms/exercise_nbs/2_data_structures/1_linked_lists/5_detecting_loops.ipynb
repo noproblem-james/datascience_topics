{
 "cells": [
  {
   "cell_type": "markdown",
   "metadata": {
    "graffitiCellId": "id_0d6ntqj"
   },
   "source": [
    "# Detecting Loops in Linked Lists\n",
    "\n",
    "This notebook implements two methods for detecting a loop in a linked list.\n",
    "\n",
    "**Problem 1**: Detect a loop  \n",
    "**Solution 1**: \n",
    "- two pointers, called \"runners\", moving through the list at different rates, a \"slow\" runner moving at one node per step and a \"fast\" runner moving at two nodes per step.\n",
    "- If a loop exists in the list, the fast runner will eventually move behind the slow runner as it moves to the beginning of the loop. Eventually it will catch up to the slow runner and both runners will be pointing to the same node at the same time. If this happens then you know there is a loop in the linked list.\n",
    "\n",
    "**Problem 2**: Return the node where a cycle begins  \n",
    "**Solution 2**:\n",
    "- Iterate through list\n",
    "- If node in a set of seen nodes return the node; else, keep going\n"
   ]
  },
  {
   "cell_type": "code",
   "execution_count": 1,
   "metadata": {
    "graffitiCellId": "id_kqi6rp6"
   },
   "outputs": [],
   "source": [
    "class Node:\n",
    "    def __init__(self, value):\n",
    "        self.value = value\n",
    "        self.next = None\n",
    "        \n",
    "class LinkedList:\n",
    "    def __init__(self, init_list=None):\n",
    "        self.head = None\n",
    "        if init_list:\n",
    "            for value in init_list:\n",
    "                self.append(value)\n",
    "        \n",
    "    def append(self, value):\n",
    "        if self.head is None:\n",
    "            self.head = Node(value)\n",
    "            return\n",
    "        \n",
    "        # Move to the tail (the last node)\n",
    "        node = self.head\n",
    "        while node.next:\n",
    "            node = node.next\n",
    "        \n",
    "        node.next = Node(value)\n",
    "        return"
   ]
  },
  {
   "cell_type": "code",
   "execution_count": 2,
   "metadata": {
    "graffitiCellId": "id_17pg09d"
   },
   "outputs": [],
   "source": [
    "list_with_loop = LinkedList([2, -1, 3, 0, 5])\n",
    "\n",
    "# Creating a loop where the last node points back to the second node\n",
    "loop_start = list_with_loop.head.next\n",
    "\n",
    "node = list_with_loop.head\n",
    "while node.next: \n",
    "    node = node.next   \n",
    "node.next = loop_start"
   ]
  },
  {
   "cell_type": "markdown",
   "metadata": {
    "graffitiCellId": "id_kwwwkfx"
   },
   "source": [
    "**Problem 1:** Given a linked list, implement a function `is_circular` that returns `True` if a loop exists in the list and `False` otherwise."
   ]
  },
  {
   "cell_type": "code",
   "execution_count": 3,
   "metadata": {
    "graffitiCellId": "id_bgz20kt"
   },
   "outputs": [],
   "source": [
    "def is_circular(ll: LinkedList) -> bool:\n",
    "    \"\"\"\n",
    "    Determine whether the Linked List is circular or not\n",
    "\n",
    "    Args:\n",
    "       ll(obj): Linked List to be checked\n",
    "    Returns:\n",
    "       bool: Return True if the linked list is circular, return False otherwise\n",
    "    \"\"\"\n",
    "    \n",
    "    if ll.head is None:\n",
    "        return False\n",
    "    runner_1 = ll.head\n",
    "    runner_2 = ll.head.next\n",
    "\n",
    "    while runner_2 and runner_2.next:\n",
    "        if runner_1 == runner_2:\n",
    "            return True\n",
    "        else:\n",
    "            runner_1 = runner_1.next\n",
    "            runner_2 = runner_2.next.next\n",
    "    return False"
   ]
  },
  {
   "cell_type": "code",
   "execution_count": 4,
   "metadata": {
    "graffitiCellId": "id_fob6797"
   },
   "outputs": [
    {
     "name": "stdout",
     "output_type": "stream",
     "text": [
      "Pass\n",
      "Pass\n",
      "Pass\n",
      "Pass\n",
      "Pass\n"
     ]
    }
   ],
   "source": [
    "# Test Cases\n",
    "small_loop = LinkedList([0])\n",
    "small_loop.head.next = small_loop.head\n",
    "print (\"Pass\" if is_circular(list_with_loop) else \"Fail\")\n",
    "print (\"Pass\" if not is_circular(LinkedList([-4, 7, 2, 5, -1])) else \"Fail\")\n",
    "print (\"Pass\" if not is_circular(LinkedList([1])) else \"Fail\")\n",
    "print (\"Pass\" if is_circular(small_loop) else \"Fail\")\n",
    "print (\"Pass\" if not is_circular(LinkedList([])) else \"Fail\")\n"
   ]
  },
  {
   "cell_type": "markdown",
   "metadata": {},
   "source": [
    "**Problem 2:** Given a linked list, return the node where the cycle begins. If there is no cycle, return null."
   ]
  },
  {
   "cell_type": "code",
   "execution_count": 5,
   "metadata": {},
   "outputs": [],
   "source": [
    "def detect_cycle(ll: LinkedList) -> Node:\n",
    "    if ll.head is None:\n",
    "        return\n",
    "    seen = set()\n",
    "    node = ll.head\n",
    "    while node:\n",
    "        if node in seen:\n",
    "            return node\n",
    "        else:\n",
    "            seen.add(node)\n",
    "            node = node.next"
   ]
  },
  {
   "cell_type": "code",
   "execution_count": 6,
   "metadata": {},
   "outputs": [
    {
     "name": "stdout",
     "output_type": "stream",
     "text": [
      "Pass\n",
      "Pass\n",
      "Pass\n",
      "Pass\n",
      "Pass\n"
     ]
    }
   ],
   "source": [
    "# Test Cases\n",
    "small_loop = LinkedList([0])\n",
    "small_loop.head.next = small_loop.head\n",
    "print (\"Pass\" if detect_cycle(list_with_loop) else \"Fail\")\n",
    "print (\"Pass\" if not detect_cycle(LinkedList([-4, 7, 2, 5, -1])) else \"Fail\")\n",
    "print (\"Pass\" if not detect_cycle(LinkedList([1])) else \"Fail\")\n",
    "print (\"Pass\" if detect_cycle(small_loop) else \"Fail\")\n",
    "print (\"Pass\" if not detect_cycle(LinkedList([])) else \"Fail\")"
   ]
  },
  {
   "cell_type": "code",
   "execution_count": 7,
   "metadata": {},
   "outputs": [],
   "source": [
    "detect_cycle(LinkedList([-4, 7, 2, 5, -1]))"
   ]
  }
 ],
 "metadata": {
  "graffiti": {
   "firstAuthorId": "10694620118",
   "id": "id_ao3gp0i",
   "language": "EN"
  },
  "kernelspec": {
   "display_name": "Python 3",
   "language": "python",
   "name": "python3"
  },
  "language_info": {
   "codemirror_mode": {
    "name": "ipython",
    "version": 3
   },
   "file_extension": ".py",
   "mimetype": "text/x-python",
   "name": "python",
   "nbconvert_exporter": "python",
   "pygments_lexer": "ipython3",
   "version": "3.9.1"
  }
 },
 "nbformat": 4,
 "nbformat_minor": 2
}
