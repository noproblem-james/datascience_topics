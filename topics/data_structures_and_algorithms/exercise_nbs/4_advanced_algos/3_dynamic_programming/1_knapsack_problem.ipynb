{
 "cells": [
  {
   "cell_type": "markdown",
   "metadata": {
    "graffitiCellId": "id_afkw8pd"
   },
   "source": [
    "# Knapsack Problem\n",
    "Now that you saw the dynamic programming solution for the knapsack problem, it's time to implement it. Implement the function `max_value` to return the maximum value given the items (`items`) and the maximum weight of the knapsack (`knapsack_max_weight`). The `items` variable is the type `Item`, which is a [named tuple](https://docs.python.org/3/library/collections.html#collections.namedtuple)."
   ]
  },
  {
   "cell_type": "code",
   "execution_count": null,
   "metadata": {
    "graffitiCellId": "id_p48fhwc"
   },
   "outputs": [],
   "source": [
    "import collections\n",
    "\n",
    "Item = collections.namedtuple('Item', ['weight', 'value'])\n",
    "\n",
    "\n",
    "def max_value(knapsack_max_weight, items):\n",
    "    \"\"\"\n",
    "    Get the maximum value of the knapsack.\n",
    "    \"\"\"\n",
    "    pass\n",
    "\n",
    "\n",
    "\n",
    "tests = [\n",
    "    {\n",
    "        'correct_output': 14,\n",
    "        'input':\n",
    "            {\n",
    "                'knapsack_max_weight': 15,\n",
    "                'items': [Item(10, 7), Item(9, 8), Item(5, 6)]}},\n",
    "    {\n",
    "        'correct_output': 13,\n",
    "        'input':\n",
    "            {\n",
    "                'knapsack_max_weight': 25,\n",
    "                'items': [Item(10, 2), Item(29, 10), Item(5, 7), Item(5, 3), Item(5, 1), Item(24, 12)]}}]\n",
    "for test in tests:\n",
    "    assert test['correct_output'] == max_value(**test['input'])"
   ]
  },
  {
   "cell_type": "markdown",
   "metadata": {
    "graffitiCellId": "id_sczu399"
   },
   "source": [
    "<span class=\"graffiti-highlight graffiti-id_sczu399-id_vljhmf7\"><i></i><button>Show Solution</button></span>"
   ]
  }
 ],
 "metadata": {
  "graffiti": {
   "firstAuthorId": "dev",
   "id": "id_c8cwdgc",
   "language": "EN"
  },
  "kernelspec": {
   "display_name": "Python 3",
   "language": "python",
   "name": "python3"
  },
  "language_info": {
   "codemirror_mode": {
    "name": "ipython",
    "version": 3
   },
   "file_extension": ".py",
   "mimetype": "text/x-python",
   "name": "python",
   "nbconvert_exporter": "python",
   "pygments_lexer": "ipython3",
   "version": "3.6.3"
  }
 },
 "nbformat": 4,
 "nbformat_minor": 2
}
