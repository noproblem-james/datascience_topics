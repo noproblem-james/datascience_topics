{
 "cells": [
  {
   "cell_type": "code",
   "execution_count": 1,
   "metadata": {},
   "outputs": [],
   "source": [
    "import pandas as pd"
   ]
  },
  {
   "cell_type": "code",
   "execution_count": 2,
   "metadata": {},
   "outputs": [],
   "source": [
    "texts_col_names = [\"calling\", \"receiving\", \"timestamp\"]"
   ]
  },
  {
   "cell_type": "code",
   "execution_count": 3,
   "metadata": {},
   "outputs": [],
   "source": [
    "texts_df = pd.read_csv(\"texts.csv\", names=texts_col_names, parse_dates=[\"timestamp\"])"
   ]
  },
  {
   "cell_type": "code",
   "execution_count": 4,
   "metadata": {
    "scrolled": false
   },
   "outputs": [
    {
     "data": {
      "text/html": [
       "<div>\n",
       "<style scoped>\n",
       "    .dataframe tbody tr th:only-of-type {\n",
       "        vertical-align: middle;\n",
       "    }\n",
       "\n",
       "    .dataframe tbody tr th {\n",
       "        vertical-align: top;\n",
       "    }\n",
       "\n",
       "    .dataframe thead th {\n",
       "        text-align: right;\n",
       "    }\n",
       "</style>\n",
       "<table border=\"1\" class=\"dataframe\">\n",
       "  <thead>\n",
       "    <tr style=\"text-align: right;\">\n",
       "      <th></th>\n",
       "      <th>calling</th>\n",
       "      <th>receiving</th>\n",
       "      <th>timestamp</th>\n",
       "    </tr>\n",
       "  </thead>\n",
       "  <tbody>\n",
       "    <tr>\n",
       "      <th>0</th>\n",
       "      <td>97424 22395</td>\n",
       "      <td>90365 06212</td>\n",
       "      <td>2016-01-09 06:03:22</td>\n",
       "    </tr>\n",
       "    <tr>\n",
       "      <th>1</th>\n",
       "      <td>94489 72078</td>\n",
       "      <td>92415 91418</td>\n",
       "      <td>2016-01-09 06:05:35</td>\n",
       "    </tr>\n",
       "    <tr>\n",
       "      <th>2</th>\n",
       "      <td>81520 43406</td>\n",
       "      <td>92421 64236</td>\n",
       "      <td>2016-01-09 06:09:34</td>\n",
       "    </tr>\n",
       "    <tr>\n",
       "      <th>3</th>\n",
       "      <td>97389 12538</td>\n",
       "      <td>90352 50054</td>\n",
       "      <td>2016-01-09 06:09:39</td>\n",
       "    </tr>\n",
       "    <tr>\n",
       "      <th>4</th>\n",
       "      <td>81515 42171</td>\n",
       "      <td>98440 02823</td>\n",
       "      <td>2016-01-09 06:13:30</td>\n",
       "    </tr>\n",
       "  </tbody>\n",
       "</table>\n",
       "</div>"
      ],
      "text/plain": [
       "       calling    receiving           timestamp\n",
       "0  97424 22395  90365 06212 2016-01-09 06:03:22\n",
       "1  94489 72078  92415 91418 2016-01-09 06:05:35\n",
       "2  81520 43406  92421 64236 2016-01-09 06:09:34\n",
       "3  97389 12538  90352 50054 2016-01-09 06:09:39\n",
       "4  81515 42171  98440 02823 2016-01-09 06:13:30"
      ]
     },
     "execution_count": 4,
     "metadata": {},
     "output_type": "execute_result"
    }
   ],
   "source": [
    "texts_df.head()"
   ]
  },
  {
   "cell_type": "code",
   "execution_count": 5,
   "metadata": {},
   "outputs": [
    {
     "data": {
      "text/plain": [
       "'First record of texts, 97424 22395, texts 90365 06212 at time 01-09-2016 06:03:22'"
      ]
     },
     "execution_count": 5,
     "metadata": {},
     "output_type": "execute_result"
    }
   ],
   "source": [
    "\"First record of texts, 97424 22395, texts 90365 06212 at time 01-09-2016 06:03:22\""
   ]
  },
  {
   "cell_type": "code",
   "execution_count": 6,
   "metadata": {},
   "outputs": [
    {
     "data": {
      "text/plain": [
       "calling              object\n",
       "receiving            object\n",
       "timestamp    datetime64[ns]\n",
       "dtype: object"
      ]
     },
     "execution_count": 6,
     "metadata": {},
     "output_type": "execute_result"
    }
   ],
   "source": [
    "texts_df.dtypes"
   ]
  },
  {
   "cell_type": "code",
   "execution_count": 7,
   "metadata": {},
   "outputs": [
    {
     "data": {
      "text/plain": [
       "(9072, 3)"
      ]
     },
     "execution_count": 7,
     "metadata": {},
     "output_type": "execute_result"
    }
   ],
   "source": [
    "texts_df.shape"
   ]
  },
  {
   "cell_type": "code",
   "execution_count": 8,
   "metadata": {},
   "outputs": [
    {
     "data": {
      "text/html": [
       "<div>\n",
       "<style scoped>\n",
       "    .dataframe tbody tr th:only-of-type {\n",
       "        vertical-align: middle;\n",
       "    }\n",
       "\n",
       "    .dataframe tbody tr th {\n",
       "        vertical-align: top;\n",
       "    }\n",
       "\n",
       "    .dataframe thead th {\n",
       "        text-align: right;\n",
       "    }\n",
       "</style>\n",
       "<table border=\"1\" class=\"dataframe\">\n",
       "  <thead>\n",
       "    <tr style=\"text-align: right;\">\n",
       "      <th></th>\n",
       "      <th>calling</th>\n",
       "      <th>receiving</th>\n",
       "      <th>timestamp</th>\n",
       "    </tr>\n",
       "  </thead>\n",
       "  <tbody>\n",
       "    <tr>\n",
       "      <th>count</th>\n",
       "      <td>9072</td>\n",
       "      <td>9072</td>\n",
       "      <td>9072</td>\n",
       "    </tr>\n",
       "    <tr>\n",
       "      <th>unique</th>\n",
       "      <td>237</td>\n",
       "      <td>230</td>\n",
       "      <td>9044</td>\n",
       "    </tr>\n",
       "    <tr>\n",
       "      <th>top</th>\n",
       "      <td>92411 96415</td>\n",
       "      <td>92411 96415</td>\n",
       "      <td>2016-09-27 07:34:54</td>\n",
       "    </tr>\n",
       "    <tr>\n",
       "      <th>freq</th>\n",
       "      <td>151</td>\n",
       "      <td>135</td>\n",
       "      <td>2</td>\n",
       "    </tr>\n",
       "    <tr>\n",
       "      <th>first</th>\n",
       "      <td>NaN</td>\n",
       "      <td>NaN</td>\n",
       "      <td>2016-01-09 06:03:22</td>\n",
       "    </tr>\n",
       "    <tr>\n",
       "      <th>last</th>\n",
       "      <td>NaN</td>\n",
       "      <td>NaN</td>\n",
       "      <td>2016-12-09 23:58:09</td>\n",
       "    </tr>\n",
       "  </tbody>\n",
       "</table>\n",
       "</div>"
      ],
      "text/plain": [
       "            calling    receiving            timestamp\n",
       "count          9072         9072                 9072\n",
       "unique          237          230                 9044\n",
       "top     92411 96415  92411 96415  2016-09-27 07:34:54\n",
       "freq            151          135                    2\n",
       "first           NaN          NaN  2016-01-09 06:03:22\n",
       "last            NaN          NaN  2016-12-09 23:58:09"
      ]
     },
     "execution_count": 8,
     "metadata": {},
     "output_type": "execute_result"
    }
   ],
   "source": [
    "texts_df.describe()"
   ]
  },
  {
   "cell_type": "markdown",
   "metadata": {},
   "source": [
    "### Calls"
   ]
  },
  {
   "cell_type": "code",
   "execution_count": 9,
   "metadata": {},
   "outputs": [],
   "source": [
    "calls_col_names = [\"calling\", \"receiving\", \"timestamp\", \"duration\"]"
   ]
  },
  {
   "cell_type": "code",
   "execution_count": 10,
   "metadata": {},
   "outputs": [],
   "source": [
    "calls_df = pd.read_csv(\"calls.csv\", names=calls_col_names, parse_dates=[\"timestamp\"])"
   ]
  },
  {
   "cell_type": "code",
   "execution_count": 11,
   "metadata": {},
   "outputs": [
    {
     "data": {
      "text/html": [
       "<div>\n",
       "<style scoped>\n",
       "    .dataframe tbody tr th:only-of-type {\n",
       "        vertical-align: middle;\n",
       "    }\n",
       "\n",
       "    .dataframe tbody tr th {\n",
       "        vertical-align: top;\n",
       "    }\n",
       "\n",
       "    .dataframe thead th {\n",
       "        text-align: right;\n",
       "    }\n",
       "</style>\n",
       "<table border=\"1\" class=\"dataframe\">\n",
       "  <thead>\n",
       "    <tr style=\"text-align: right;\">\n",
       "      <th></th>\n",
       "      <th>calling</th>\n",
       "      <th>receiving</th>\n",
       "      <th>timestamp</th>\n",
       "      <th>duration</th>\n",
       "    </tr>\n",
       "  </thead>\n",
       "  <tbody>\n",
       "    <tr>\n",
       "      <th>0</th>\n",
       "      <td>78130 00821</td>\n",
       "      <td>98453 94494</td>\n",
       "      <td>2016-01-09 06:01:12</td>\n",
       "      <td>186</td>\n",
       "    </tr>\n",
       "    <tr>\n",
       "      <th>1</th>\n",
       "      <td>78298 91466</td>\n",
       "      <td>(022)28952819</td>\n",
       "      <td>2016-01-09 06:01:59</td>\n",
       "      <td>2093</td>\n",
       "    </tr>\n",
       "    <tr>\n",
       "      <th>2</th>\n",
       "      <td>97424 22395</td>\n",
       "      <td>(022)47410783</td>\n",
       "      <td>2016-01-09 06:03:51</td>\n",
       "      <td>1975</td>\n",
       "    </tr>\n",
       "    <tr>\n",
       "      <th>3</th>\n",
       "      <td>93427 40118</td>\n",
       "      <td>(080)33118033</td>\n",
       "      <td>2016-01-09 06:11:23</td>\n",
       "      <td>1156</td>\n",
       "    </tr>\n",
       "    <tr>\n",
       "      <th>4</th>\n",
       "      <td>90087 42537</td>\n",
       "      <td>(080)35121497</td>\n",
       "      <td>2016-01-09 06:17:26</td>\n",
       "      <td>573</td>\n",
       "    </tr>\n",
       "  </tbody>\n",
       "</table>\n",
       "</div>"
      ],
      "text/plain": [
       "       calling      receiving           timestamp  duration\n",
       "0  78130 00821    98453 94494 2016-01-09 06:01:12       186\n",
       "1  78298 91466  (022)28952819 2016-01-09 06:01:59      2093\n",
       "2  97424 22395  (022)47410783 2016-01-09 06:03:51      1975\n",
       "3  93427 40118  (080)33118033 2016-01-09 06:11:23      1156\n",
       "4  90087 42537  (080)35121497 2016-01-09 06:17:26       573"
      ]
     },
     "execution_count": 11,
     "metadata": {},
     "output_type": "execute_result"
    }
   ],
   "source": [
    "calls_df.head()"
   ]
  },
  {
   "cell_type": "code",
   "execution_count": 12,
   "metadata": {},
   "outputs": [
    {
     "data": {
      "text/plain": [
       "(5213, 4)"
      ]
     },
     "execution_count": 12,
     "metadata": {},
     "output_type": "execute_result"
    }
   ],
   "source": [
    "calls_df.shape"
   ]
  },
  {
   "cell_type": "code",
   "execution_count": 13,
   "metadata": {},
   "outputs": [
    {
     "data": {
      "text/html": [
       "<div>\n",
       "<style scoped>\n",
       "    .dataframe tbody tr th:only-of-type {\n",
       "        vertical-align: middle;\n",
       "    }\n",
       "\n",
       "    .dataframe tbody tr th {\n",
       "        vertical-align: top;\n",
       "    }\n",
       "\n",
       "    .dataframe thead th {\n",
       "        text-align: right;\n",
       "    }\n",
       "</style>\n",
       "<table border=\"1\" class=\"dataframe\">\n",
       "  <thead>\n",
       "    <tr style=\"text-align: right;\">\n",
       "      <th></th>\n",
       "      <th>duration</th>\n",
       "    </tr>\n",
       "  </thead>\n",
       "  <tbody>\n",
       "    <tr>\n",
       "      <th>count</th>\n",
       "      <td>5213.000000</td>\n",
       "    </tr>\n",
       "    <tr>\n",
       "      <th>mean</th>\n",
       "      <td>935.796087</td>\n",
       "    </tr>\n",
       "    <tr>\n",
       "      <th>std</th>\n",
       "      <td>1005.931370</td>\n",
       "    </tr>\n",
       "    <tr>\n",
       "      <th>min</th>\n",
       "      <td>9.000000</td>\n",
       "    </tr>\n",
       "    <tr>\n",
       "      <th>25%</th>\n",
       "      <td>151.000000</td>\n",
       "    </tr>\n",
       "    <tr>\n",
       "      <th>50%</th>\n",
       "      <td>584.000000</td>\n",
       "    </tr>\n",
       "    <tr>\n",
       "      <th>75%</th>\n",
       "      <td>1323.000000</td>\n",
       "    </tr>\n",
       "    <tr>\n",
       "      <th>max</th>\n",
       "      <td>4617.000000</td>\n",
       "    </tr>\n",
       "  </tbody>\n",
       "</table>\n",
       "</div>"
      ],
      "text/plain": [
       "          duration\n",
       "count  5213.000000\n",
       "mean    935.796087\n",
       "std    1005.931370\n",
       "min       9.000000\n",
       "25%     151.000000\n",
       "50%     584.000000\n",
       "75%    1323.000000\n",
       "max    4617.000000"
      ]
     },
     "execution_count": 13,
     "metadata": {},
     "output_type": "execute_result"
    }
   ],
   "source": [
    "calls_df.describe()"
   ]
  },
  {
   "cell_type": "code",
   "execution_count": 14,
   "metadata": {},
   "outputs": [],
   "source": [
    "call_nums = set(calls_df.calling.unique()).union(set(calls_df.receiving.unique()))"
   ]
  },
  {
   "cell_type": "code",
   "execution_count": 15,
   "metadata": {},
   "outputs": [],
   "source": [
    "text_nums = set(texts_df.calling.unique()).union(set(texts_df.receiving.unique()))"
   ]
  },
  {
   "cell_type": "code",
   "execution_count": 16,
   "metadata": {},
   "outputs": [
    {
     "data": {
      "text/plain": [
       "570"
      ]
     },
     "execution_count": 16,
     "metadata": {},
     "output_type": "execute_result"
    }
   ],
   "source": [
    "len(call_nums.union(text_nums))"
   ]
  },
  {
   "cell_type": "markdown",
   "metadata": {},
   "source": [
    "# Task 2"
   ]
  },
  {
   "cell_type": "code",
   "execution_count": 23,
   "metadata": {},
   "outputs": [],
   "source": [
    "calling_totals = calls_df.groupby(\"calling\").sum().sort_values(\"duration\", ascending=False)"
   ]
  },
  {
   "cell_type": "code",
   "execution_count": 24,
   "metadata": {},
   "outputs": [],
   "source": [
    "receiving_totals = calls_df.groupby(\"receiving\").sum().sort_values(\"duration\", ascending=False)"
   ]
  },
  {
   "cell_type": "code",
   "execution_count": 27,
   "metadata": {},
   "outputs": [
    {
     "data": {
      "text/html": [
       "<div>\n",
       "<style scoped>\n",
       "    .dataframe tbody tr th:only-of-type {\n",
       "        vertical-align: middle;\n",
       "    }\n",
       "\n",
       "    .dataframe tbody tr th {\n",
       "        vertical-align: top;\n",
       "    }\n",
       "\n",
       "    .dataframe thead th {\n",
       "        text-align: right;\n",
       "    }\n",
       "</style>\n",
       "<table border=\"1\" class=\"dataframe\">\n",
       "  <thead>\n",
       "    <tr style=\"text-align: right;\">\n",
       "      <th></th>\n",
       "      <th>total_duration</th>\n",
       "    </tr>\n",
       "    <tr>\n",
       "      <th>calling</th>\n",
       "      <th></th>\n",
       "    </tr>\n",
       "  </thead>\n",
       "  <tbody>\n",
       "    <tr>\n",
       "      <th>(080)33251027</th>\n",
       "      <td>90456.0</td>\n",
       "    </tr>\n",
       "  </tbody>\n",
       "</table>\n",
       "</div>"
      ],
      "text/plain": [
       "               total_duration\n",
       "calling                      \n",
       "(080)33251027         90456.0"
      ]
     },
     "execution_count": 27,
     "metadata": {},
     "output_type": "execute_result"
    }
   ],
   "source": [
    "(calling_totals.join(receiving_totals, rsuffix=\"_rcvng\", lsuffix=\"_calling\")\n",
    " .fillna(0)\n",
    " .assign(total_duration=lambda x: x[\"duration_calling\"] + x[\"duration_rcvng\"])\n",
    " .sort_values(\"total_duration\", ascending=False)\n",
    " .head(1)\n",
    " .filter([\"total_duration\"])\n",
    ")\n"
   ]
  },
  {
   "cell_type": "markdown",
   "metadata": {},
   "source": [
    "# Task 3A"
   ]
  },
  {
   "cell_type": "code",
   "execution_count": 28,
   "metadata": {},
   "outputs": [],
   "source": [
    "def find_prefix(num):\n",
    "    if \" \" in num:\n",
    "        if num[0] in {\"7\", \"8\", \"9\"}:\n",
    "            prefix = num[:4]\n",
    "    elif num[:3] == \"140\":\n",
    "        prefix = 140\n",
    "    elif num[0] == \"(\":\n",
    "        prefix = num.split(\")\")[0].strip(\"(\")\n",
    "    return prefix"
   ]
  },
  {
   "cell_type": "code",
   "execution_count": 29,
   "metadata": {},
   "outputs": [
    {
     "data": {
      "text/html": [
       "<div>\n",
       "<style scoped>\n",
       "    .dataframe tbody tr th:only-of-type {\n",
       "        vertical-align: middle;\n",
       "    }\n",
       "\n",
       "    .dataframe tbody tr th {\n",
       "        vertical-align: top;\n",
       "    }\n",
       "\n",
       "    .dataframe thead th {\n",
       "        text-align: right;\n",
       "    }\n",
       "</style>\n",
       "<table border=\"1\" class=\"dataframe\">\n",
       "  <thead>\n",
       "    <tr style=\"text-align: right;\">\n",
       "      <th></th>\n",
       "      <th>calling</th>\n",
       "      <th>receiving</th>\n",
       "      <th>timestamp</th>\n",
       "      <th>duration</th>\n",
       "    </tr>\n",
       "  </thead>\n",
       "  <tbody>\n",
       "    <tr>\n",
       "      <th>0</th>\n",
       "      <td>78130 00821</td>\n",
       "      <td>98453 94494</td>\n",
       "      <td>2016-01-09 06:01:12</td>\n",
       "      <td>186</td>\n",
       "    </tr>\n",
       "    <tr>\n",
       "      <th>1</th>\n",
       "      <td>78298 91466</td>\n",
       "      <td>(022)28952819</td>\n",
       "      <td>2016-01-09 06:01:59</td>\n",
       "      <td>2093</td>\n",
       "    </tr>\n",
       "    <tr>\n",
       "      <th>2</th>\n",
       "      <td>97424 22395</td>\n",
       "      <td>(022)47410783</td>\n",
       "      <td>2016-01-09 06:03:51</td>\n",
       "      <td>1975</td>\n",
       "    </tr>\n",
       "    <tr>\n",
       "      <th>3</th>\n",
       "      <td>93427 40118</td>\n",
       "      <td>(080)33118033</td>\n",
       "      <td>2016-01-09 06:11:23</td>\n",
       "      <td>1156</td>\n",
       "    </tr>\n",
       "    <tr>\n",
       "      <th>4</th>\n",
       "      <td>90087 42537</td>\n",
       "      <td>(080)35121497</td>\n",
       "      <td>2016-01-09 06:17:26</td>\n",
       "      <td>573</td>\n",
       "    </tr>\n",
       "  </tbody>\n",
       "</table>\n",
       "</div>"
      ],
      "text/plain": [
       "       calling      receiving           timestamp  duration\n",
       "0  78130 00821    98453 94494 2016-01-09 06:01:12       186\n",
       "1  78298 91466  (022)28952819 2016-01-09 06:01:59      2093\n",
       "2  97424 22395  (022)47410783 2016-01-09 06:03:51      1975\n",
       "3  93427 40118  (080)33118033 2016-01-09 06:11:23      1156\n",
       "4  90087 42537  (080)35121497 2016-01-09 06:17:26       573"
      ]
     },
     "execution_count": 29,
     "metadata": {},
     "output_type": "execute_result"
    }
   ],
   "source": [
    "calls_df.head()"
   ]
  },
  {
   "cell_type": "code",
   "execution_count": 31,
   "metadata": {},
   "outputs": [],
   "source": [
    "prefixes = calls_df.calling.apply(find_prefix).tolist()"
   ]
  },
  {
   "cell_type": "code",
   "execution_count": 32,
   "metadata": {},
   "outputs": [],
   "source": [
    "calls_df[\"calling_prefix\"] = calls_df.calling.apply(find_prefix)"
   ]
  },
  {
   "cell_type": "code",
   "execution_count": 34,
   "metadata": {},
   "outputs": [],
   "source": [
    "calls_df[\"receiving_prefix\"] = calls_df.receiving.apply(find_prefix)"
   ]
  },
  {
   "cell_type": "code",
   "execution_count": 35,
   "metadata": {},
   "outputs": [
    {
     "data": {
      "text/html": [
       "<div>\n",
       "<style scoped>\n",
       "    .dataframe tbody tr th:only-of-type {\n",
       "        vertical-align: middle;\n",
       "    }\n",
       "\n",
       "    .dataframe tbody tr th {\n",
       "        vertical-align: top;\n",
       "    }\n",
       "\n",
       "    .dataframe thead th {\n",
       "        text-align: right;\n",
       "    }\n",
       "</style>\n",
       "<table border=\"1\" class=\"dataframe\">\n",
       "  <thead>\n",
       "    <tr style=\"text-align: right;\">\n",
       "      <th></th>\n",
       "      <th>calling</th>\n",
       "      <th>receiving</th>\n",
       "      <th>timestamp</th>\n",
       "      <th>duration</th>\n",
       "      <th>calling_prefix</th>\n",
       "      <th>receiving_prefix</th>\n",
       "    </tr>\n",
       "  </thead>\n",
       "  <tbody>\n",
       "    <tr>\n",
       "      <th>0</th>\n",
       "      <td>78130 00821</td>\n",
       "      <td>98453 94494</td>\n",
       "      <td>2016-01-09 06:01:12</td>\n",
       "      <td>186</td>\n",
       "      <td>7813</td>\n",
       "      <td>9845</td>\n",
       "    </tr>\n",
       "    <tr>\n",
       "      <th>1</th>\n",
       "      <td>78298 91466</td>\n",
       "      <td>(022)28952819</td>\n",
       "      <td>2016-01-09 06:01:59</td>\n",
       "      <td>2093</td>\n",
       "      <td>7829</td>\n",
       "      <td>022</td>\n",
       "    </tr>\n",
       "    <tr>\n",
       "      <th>2</th>\n",
       "      <td>97424 22395</td>\n",
       "      <td>(022)47410783</td>\n",
       "      <td>2016-01-09 06:03:51</td>\n",
       "      <td>1975</td>\n",
       "      <td>9742</td>\n",
       "      <td>022</td>\n",
       "    </tr>\n",
       "    <tr>\n",
       "      <th>3</th>\n",
       "      <td>93427 40118</td>\n",
       "      <td>(080)33118033</td>\n",
       "      <td>2016-01-09 06:11:23</td>\n",
       "      <td>1156</td>\n",
       "      <td>9342</td>\n",
       "      <td>080</td>\n",
       "    </tr>\n",
       "    <tr>\n",
       "      <th>4</th>\n",
       "      <td>90087 42537</td>\n",
       "      <td>(080)35121497</td>\n",
       "      <td>2016-01-09 06:17:26</td>\n",
       "      <td>573</td>\n",
       "      <td>9008</td>\n",
       "      <td>080</td>\n",
       "    </tr>\n",
       "  </tbody>\n",
       "</table>\n",
       "</div>"
      ],
      "text/plain": [
       "       calling      receiving           timestamp  duration calling_prefix  \\\n",
       "0  78130 00821    98453 94494 2016-01-09 06:01:12       186           7813   \n",
       "1  78298 91466  (022)28952819 2016-01-09 06:01:59      2093           7829   \n",
       "2  97424 22395  (022)47410783 2016-01-09 06:03:51      1975           9742   \n",
       "3  93427 40118  (080)33118033 2016-01-09 06:11:23      1156           9342   \n",
       "4  90087 42537  (080)35121497 2016-01-09 06:17:26       573           9008   \n",
       "\n",
       "  receiving_prefix  \n",
       "0             9845  \n",
       "1              022  \n",
       "2              022  \n",
       "3              080  \n",
       "4              080  "
      ]
     },
     "execution_count": 35,
     "metadata": {},
     "output_type": "execute_result"
    }
   ],
   "source": [
    "calls_df.head()"
   ]
  },
  {
   "cell_type": "code",
   "execution_count": 52,
   "metadata": {},
   "outputs": [],
   "source": [
    "part_a = calls_df.query(\"calling_prefix == '080'\").filter([\"receiving_prefix\"]).sort_values(\"receiving_prefix\").squeeze().unique().tolist()"
   ]
  },
  {
   "cell_type": "code",
   "execution_count": 54,
   "metadata": {},
   "outputs": [],
   "source": [
    "part_a_check = '''\n",
    "022\n",
    "040\n",
    "04344\n",
    "044\n",
    "04546\n",
    "0471\n",
    "080\n",
    "0821\n",
    "7406\n",
    "7795\n",
    "7813\n",
    "7829\n",
    "8151\n",
    "8152\n",
    "8301\n",
    "8431\n",
    "8714\n",
    "9008\n",
    "9019\n",
    "9035\n",
    "9036\n",
    "9241\n",
    "9242\n",
    "9341\n",
    "9342\n",
    "9343\n",
    "9400\n",
    "9448\n",
    "9449\n",
    "9526\n",
    "9656\n",
    "9738\n",
    "9740\n",
    "9741\n",
    "9742\n",
    "9844\n",
    "9845\n",
    "9900\n",
    "9961\n",
    "'''"
   ]
  },
  {
   "cell_type": "code",
   "execution_count": 59,
   "metadata": {},
   "outputs": [],
   "source": [
    "part_a_check = part_a_check.split(\"\\n\")[1:-1]"
   ]
  },
  {
   "cell_type": "code",
   "execution_count": 60,
   "metadata": {},
   "outputs": [
    {
     "data": {
      "text/plain": [
       "True"
      ]
     },
     "execution_count": 60,
     "metadata": {},
     "output_type": "execute_result"
    }
   ],
   "source": [
    "part_a == part_a_check"
   ]
  },
  {
   "cell_type": "markdown",
   "metadata": {},
   "source": [
    "# Task 3B"
   ]
  },
  {
   "cell_type": "code",
   "execution_count": 63,
   "metadata": {},
   "outputs": [],
   "source": [
    "total_bang_calls = calls_df.query(\"calling_prefix == '080'\")"
   ]
  },
  {
   "cell_type": "code",
   "execution_count": 65,
   "metadata": {},
   "outputs": [
    {
     "data": {
      "text/plain": [
       "(1080, 6)"
      ]
     },
     "execution_count": 65,
     "metadata": {},
     "output_type": "execute_result"
    }
   ],
   "source": [
    "total_bang_calls.shape"
   ]
  },
  {
   "cell_type": "code",
   "execution_count": 66,
   "metadata": {},
   "outputs": [
    {
     "data": {
      "text/html": [
       "<div>\n",
       "<style scoped>\n",
       "    .dataframe tbody tr th:only-of-type {\n",
       "        vertical-align: middle;\n",
       "    }\n",
       "\n",
       "    .dataframe tbody tr th {\n",
       "        vertical-align: top;\n",
       "    }\n",
       "\n",
       "    .dataframe thead th {\n",
       "        text-align: right;\n",
       "    }\n",
       "</style>\n",
       "<table border=\"1\" class=\"dataframe\">\n",
       "  <thead>\n",
       "    <tr style=\"text-align: right;\">\n",
       "      <th></th>\n",
       "      <th>calling</th>\n",
       "      <th>receiving</th>\n",
       "      <th>timestamp</th>\n",
       "      <th>duration</th>\n",
       "      <th>calling_prefix</th>\n",
       "      <th>receiving_prefix</th>\n",
       "    </tr>\n",
       "  </thead>\n",
       "  <tbody>\n",
       "    <tr>\n",
       "      <th>6</th>\n",
       "      <td>(080)45291968</td>\n",
       "      <td>90365 06212</td>\n",
       "      <td>2016-01-09 06:30:36</td>\n",
       "      <td>9</td>\n",
       "      <td>080</td>\n",
       "      <td>9036</td>\n",
       "    </tr>\n",
       "    <tr>\n",
       "      <th>11</th>\n",
       "      <td>(080)62164823</td>\n",
       "      <td>74066 93594</td>\n",
       "      <td>2016-01-09 06:52:07</td>\n",
       "      <td>300</td>\n",
       "      <td>080</td>\n",
       "      <td>7406</td>\n",
       "    </tr>\n",
       "    <tr>\n",
       "      <th>17</th>\n",
       "      <td>(080)67362492</td>\n",
       "      <td>(04344)316423</td>\n",
       "      <td>2016-01-09 07:24:45</td>\n",
       "      <td>2258</td>\n",
       "      <td>080</td>\n",
       "      <td>04344</td>\n",
       "    </tr>\n",
       "    <tr>\n",
       "      <th>21</th>\n",
       "      <td>(080)69245029</td>\n",
       "      <td>(044)49481100</td>\n",
       "      <td>2016-01-09 07:34:19</td>\n",
       "      <td>9</td>\n",
       "      <td>080</td>\n",
       "      <td>044</td>\n",
       "    </tr>\n",
       "    <tr>\n",
       "      <th>26</th>\n",
       "      <td>(080)47459867</td>\n",
       "      <td>98440 65896</td>\n",
       "      <td>2016-01-09 08:08:59</td>\n",
       "      <td>2147</td>\n",
       "      <td>080</td>\n",
       "      <td>9844</td>\n",
       "    </tr>\n",
       "  </tbody>\n",
       "</table>\n",
       "</div>"
      ],
      "text/plain": [
       "          calling      receiving           timestamp  duration calling_prefix  \\\n",
       "6   (080)45291968    90365 06212 2016-01-09 06:30:36         9            080   \n",
       "11  (080)62164823    74066 93594 2016-01-09 06:52:07       300            080   \n",
       "17  (080)67362492  (04344)316423 2016-01-09 07:24:45      2258            080   \n",
       "21  (080)69245029  (044)49481100 2016-01-09 07:34:19         9            080   \n",
       "26  (080)47459867    98440 65896 2016-01-09 08:08:59      2147            080   \n",
       "\n",
       "   receiving_prefix  \n",
       "6              9036  \n",
       "11             7406  \n",
       "17            04344  \n",
       "21              044  \n",
       "26             9844  "
      ]
     },
     "execution_count": 66,
     "metadata": {},
     "output_type": "execute_result"
    }
   ],
   "source": [
    "total_bang_calls.head()"
   ]
  },
  {
   "cell_type": "code",
   "execution_count": 69,
   "metadata": {},
   "outputs": [
    {
     "data": {
      "text/plain": [
       "(268, 6)"
      ]
     },
     "execution_count": 69,
     "metadata": {},
     "output_type": "execute_result"
    }
   ],
   "source": [
    "total_bang_calls.query(\"receiving_prefix == '080'\").shape"
   ]
  },
  {
   "cell_type": "code",
   "execution_count": 72,
   "metadata": {},
   "outputs": [
    {
     "data": {
      "text/plain": [
       "24.81"
      ]
     },
     "execution_count": 72,
     "metadata": {},
     "output_type": "execute_result"
    }
   ],
   "source": [
    "round((total_bang_calls.query(\"receiving_prefix == '080'\").shape[0] / total_bang_calls.shape[0]) * 100, 2)"
   ]
  },
  {
   "cell_type": "markdown",
   "metadata": {},
   "source": [
    "# Task 4"
   ]
  },
  {
   "cell_type": "code",
   "execution_count": 73,
   "metadata": {},
   "outputs": [],
   "source": [
    "whitelist = set()"
   ]
  },
  {
   "cell_type": "code",
   "execution_count": 83,
   "metadata": {},
   "outputs": [],
   "source": [
    "whitelist = set(texts_df[\"calling\"].unique()).union(set(texts_df[\"receiving\"].unique())).union(set(calls_df[\"receiving\"].unique()))"
   ]
  },
  {
   "cell_type": "code",
   "execution_count": 89,
   "metadata": {},
   "outputs": [],
   "source": [
    "task_4_result = sorted(list(set(calls_df[\"calling\"].unique()) - whitelist))"
   ]
  },
  {
   "cell_type": "code",
   "execution_count": 90,
   "metadata": {},
   "outputs": [
    {
     "data": {
      "text/plain": [
       "['(022)37572285',\n",
       " '(022)65548497',\n",
       " '(022)68535788',\n",
       " '(022)69042431',\n",
       " '(040)30429041',\n",
       " '(044)22020822',\n",
       " '(0471)2171438',\n",
       " '(0471)6579079',\n",
       " '(080)20383942',\n",
       " '(080)25820765',\n",
       " '(080)31606520',\n",
       " '(080)40362016',\n",
       " '(080)60463379',\n",
       " '(080)60998034',\n",
       " '(080)62963633',\n",
       " '(080)64015211',\n",
       " '(080)69887826',\n",
       " '(0821)3257740',\n",
       " '1400481538',\n",
       " '1401747654',\n",
       " '1402316533',\n",
       " '1403072432',\n",
       " '1403579926',\n",
       " '1404073047',\n",
       " '1404368883',\n",
       " '1404787681',\n",
       " '1407539117',\n",
       " '1408371942',\n",
       " '1408409918',\n",
       " '1408672243',\n",
       " '1409421631',\n",
       " '1409668775',\n",
       " '1409994233',\n",
       " '74064 66270',\n",
       " '78291 94593',\n",
       " '87144 55014',\n",
       " '90351 90193',\n",
       " '92414 69419',\n",
       " '94495 03761',\n",
       " '97404 30456',\n",
       " '97407 84573',\n",
       " '97442 45192',\n",
       " '99617 25274']"
      ]
     },
     "execution_count": 90,
     "metadata": {},
     "output_type": "execute_result"
    }
   ],
   "source": [
    "task_4_result"
   ]
  },
  {
   "cell_type": "code",
   "execution_count": 91,
   "metadata": {},
   "outputs": [],
   "source": [
    "task_4_check = '''(022)37572285\n",
    "(022)65548497\n",
    "(022)68535788\n",
    "(022)69042431\n",
    "(040)30429041\n",
    "(044)22020822\n",
    "(0471)2171438\n",
    "(0471)6579079\n",
    "(080)20383942\n",
    "(080)25820765\n",
    "(080)31606520\n",
    "(080)40362016\n",
    "(080)60463379\n",
    "(080)60998034\n",
    "(080)62963633\n",
    "(080)64015211\n",
    "(080)69887826\n",
    "(0821)3257740\n",
    "1400481538\n",
    "1401747654\n",
    "1402316533\n",
    "1403072432\n",
    "1403579926\n",
    "1404073047\n",
    "1404368883\n",
    "1404787681\n",
    "1407539117\n",
    "1408371942\n",
    "1408409918\n",
    "1408672243\n",
    "1409421631\n",
    "1409668775\n",
    "1409994233\n",
    "74064 66270\n",
    "78291 94593\n",
    "87144 55014\n",
    "90351 90193\n",
    "92414 69419\n",
    "94495 03761\n",
    "97404 30456\n",
    "97407 84573\n",
    "97442 45192\n",
    "99617 25274'''"
   ]
  },
  {
   "cell_type": "code",
   "execution_count": 94,
   "metadata": {},
   "outputs": [],
   "source": [
    "task_4_check = task_4_check.split(\"\\n\")"
   ]
  },
  {
   "cell_type": "code",
   "execution_count": 95,
   "metadata": {},
   "outputs": [
    {
     "data": {
      "text/plain": [
       "True"
      ]
     },
     "execution_count": 95,
     "metadata": {},
     "output_type": "execute_result"
    }
   ],
   "source": [
    "task_4_result == task_4_check"
   ]
  },
  {
   "cell_type": "code",
   "execution_count": null,
   "metadata": {},
   "outputs": [],
   "source": []
  }
 ],
 "metadata": {
  "kernelspec": {
   "display_name": "Python 3",
   "language": "python",
   "name": "python3"
  },
  "language_info": {
   "codemirror_mode": {
    "name": "ipython",
    "version": 3
   },
   "file_extension": ".py",
   "mimetype": "text/x-python",
   "name": "python",
   "nbconvert_exporter": "python",
   "pygments_lexer": "ipython3",
   "version": "3.7.2"
  }
 },
 "nbformat": 4,
 "nbformat_minor": 2
}
