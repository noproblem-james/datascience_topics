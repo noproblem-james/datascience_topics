{
 "cells": [
  {
   "cell_type": "markdown",
   "metadata": {},
   "source": [
    "# Max and Min in a Unsorted Array\n",
    "In this problem, we will look for smallest and largest integer from a list of unsorted integers. The code should run in O(n) time. Do not use Python's inbuilt functions to find min and max.\n",
    "\n",
    "Bonus Challenge: Is it possible to find the max and min in a single traversal?"
   ]
  },
  {
   "cell_type": "code",
   "execution_count": 2,
   "metadata": {},
   "outputs": [],
   "source": [
    "def get_min_max(ints):\n",
    "    \"\"\"\n",
    "    Return a tuple(min, max) out of list of unsorted integers.\n",
    "\n",
    "    Args:\n",
    "       ints(list): list of integers containing one or more integers\n",
    "    \"\"\"\n",
    "    if not ints:\n",
    "        return (None, None)\n",
    "    \n",
    "    if len(ints)  == 1:\n",
    "        return (ints[0], ints[0])\n",
    "    \n",
    "    curr_min = 0\n",
    "    curr_max = 0\n",
    "    \n",
    "    for el in ints:\n",
    "        if el < curr_min:\n",
    "            curr_min = el\n",
    "        if el > curr_max:\n",
    "            curr_max = el\n",
    "            \n",
    "    return curr_min, curr_max"
   ]
  },
  {
   "cell_type": "markdown",
   "metadata": {},
   "source": [
    "## Test"
   ]
  },
  {
   "cell_type": "code",
   "execution_count": 4,
   "metadata": {},
   "outputs": [
    {
     "name": "stdout",
     "output_type": "stream",
     "text": [
      "Pass\n",
      "Expected: (0, 0)\n",
      "Actual:  (0, 0)\n",
      "\n",
      "\n",
      "Pass\n",
      "Expected: (0, 1)\n",
      "Actual:  (0, 1)\n",
      "\n",
      "\n",
      "Pass\n",
      "Expected: (0, 9)\n",
      "Actual:  (0, 9)\n",
      "\n",
      "\n"
     ]
    }
   ],
   "source": [
    "import random\n",
    "l = [i for i in range(0, 10)]  # a list containing 0 - 9\n",
    "random.shuffle(l)\n",
    "\n",
    "test_cases = [\n",
    "    ([0], (0, 0)),\n",
    "    ([1, 0], (0, 1)),\n",
    "    (random.sample(list(range(0, 10)), 9), (0, 9))\n",
    "]\n",
    "\n",
    "for test_case in test_cases:\n",
    "    test_input = test_case[0]\n",
    "    expected_result = test_case[1]\n",
    "    actual_result = get_min_max(test_input)\n",
    "    \n",
    "    if expected_result == actual_result:\n",
    "        print(\"Pass\")\n",
    "    else:\n",
    "        print(\"Fail\")\n",
    "    print(f\"Expected: {expected_result}\\nActual:  {actual_result}\\n\\n\")"
   ]
  },
  {
   "cell_type": "markdown",
   "metadata": {},
   "source": [
    "## Writeup\n",
    "\n",
    "Perhaps I missed something here, but all we need to do is traverse the array, store the current min and current max, and make comparisons and updates as we go.\n",
    "\n",
    "Time complexity is `O(n)`, because we are only traversing the array once and not doing anything fancy.\n",
    "Space complexity is `O(1)` because we aren't making any copies of the array, just storing the min and max.\n",
    "\n"
   ]
  },
  {
   "cell_type": "code",
   "execution_count": null,
   "metadata": {},
   "outputs": [],
   "source": []
  }
 ],
 "metadata": {
  "kernelspec": {
   "display_name": "Python 3",
   "language": "python",
   "name": "python3"
  },
  "language_info": {
   "codemirror_mode": {
    "name": "ipython",
    "version": 3
   },
   "file_extension": ".py",
   "mimetype": "text/x-python",
   "name": "python",
   "nbconvert_exporter": "python",
   "pygments_lexer": "ipython3",
   "version": "3.7.2"
  }
 },
 "nbformat": 4,
 "nbformat_minor": 2
}
