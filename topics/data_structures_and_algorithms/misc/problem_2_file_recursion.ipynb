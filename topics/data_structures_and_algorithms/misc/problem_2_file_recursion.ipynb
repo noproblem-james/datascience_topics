{
 "cells": [
  {
   "cell_type": "markdown",
   "metadata": {},
   "source": [
    "## Finding Files\n",
    "\n",
    "For this problem, the goal is to write code for finding all files under a directory (and all directories beneath it) that end with \".c\"\n",
    "\n",
    "Here is an example of a test directory listing, which can be downloaded [here](https://www.google.com)\n",
    ":\n",
    "\n",
    "```\n",
    "./testdir\n",
    "./testdir/subdir1\n",
    "./testdir/subdir1/a.c\n",
    "./testdir/subdir1/a.h\n",
    "./testdir/subdir2\n",
    "./testdir/subdir2/.gitkeep\n",
    "./testdir/subdir3\n",
    "./testdir/subdir3/subsubdir1\n",
    "./testdir/subdir3/subsubdir1/b.c\n",
    "./testdir/subdir3/subsubdir1/b.h\n",
    "./testdir/subdir4\n",
    "./testdir/subdir4/.gitkeep\n",
    "./testdir/subdir5\n",
    "./testdir/subdir5/a.c\n",
    "./testdir/subdir5/a.h\n",
    "./testdir/t1.c\n",
    "./testdir/t1.h\n",
    "```\n",
    "[Link to docs](https://docs.python.org/3.7/library/os.path.html#module-os.path)\n",
    "\n",
    "`os.path.isdir(path)`\n",
    "Return `True` if path is an existing directory. This follows symbolic links, so both `islink()` and `isdir()` can be true for the same path.\n",
    "\n",
    "`os.path.isfile(path)`\n",
    "Return `True` if path is an existing regular file. This follows symbolic links, so both islink() and isfile() can be true for the same path.\n",
    "\n",
    "`os.listdir(path='.')`\n",
    "\n",
    "Return a list containing the names of the entries in the directory given by path. The list is in arbitrary order, and does not include the special entries '.' and '..' even if they are present in the directory.\n",
    "\n",
    "path may be a path-like object. If path is of type bytes (directly or indirectly through the PathLike interface), the filenames returned will also be of type bytes; in all other circumstances, they will be of type str.\n",
    "\n",
    "This function can also support specifying a file descriptor; the file descriptor must refer to a directory.\n",
    "\n",
    "`s.path.join(path, *paths)`\n",
    "Join one or more path components intelligently. The return value is the concatenation of path and any members of *paths with exactly one directory separator (os.sep) following each non-empty part except the last, meaning that the result will only end in a separator if the last part is empty. If a component is an absolute path, all previous components are thrown away and joining continues from the absolute path component.\n",
    "\n",
    "On Windows, the drive letter is not reset when an absolute path component (e.g., r'\\foo') is encountered. If a component contains a drive letter, all previous components are thrown away and the drive letter is reset. Note that since there is a current directory for each drive, os.path.join(\"c:\", \"foo\") represents a path relative to the current directory on drive C: (c:foo), not c:\\foo.\n",
    "\n",
    "### Note:\n",
    "os.walk() is a handy Python method which can achieve this task very easily. However, for this problem you are not allowed to use os.walk().\n",
    "\n",
    "Here is some code for the function to get you started:"
   ]
  },
  {
   "cell_type": "code",
   "execution_count": 13,
   "metadata": {},
   "outputs": [
    {
     "name": "stdout",
     "output_type": "stream",
     "text": [
      "['problem_5_blockchain.py', '1_LRU_cache', 'testdir.zip', 'problem_3_huffman_coding.py', 'problem_1_LRU_cache.py', 'problem_2_file_recursion.py', 'problem_4_active directory.py', 'problem_6_union_intersection.py', 'testdir', 'ex.py', '.ipynb_checkpoints', 'problem_2_file_recursion.ipynb', 'notebooks', '.idea']\n",
      "True\n",
      "True\n"
     ]
    }
   ],
   "source": [
    "# OS Module Exploration Code\n",
    "## Locally save and call this file ex.py ##\n",
    "\n",
    "# Code to demonstrate the use of some of the OS modules in python\n",
    "import os\n",
    "\n",
    "# Let us print the files in the directory in which you are running this script\n",
    "print (os.listdir(\".\"))\n",
    "\n",
    "# Let us check if this file is indeed a file!\n",
    "print (os.path.isfile(\"./ex.py\"))\n",
    "\n",
    "# Does the file end with .py?\n",
    "print (\"./ex.py\".endswith(\".py\"))"
   ]
  },
  {
   "cell_type": "code",
   "execution_count": 17,
   "metadata": {},
   "outputs": [],
   "source": [
    "def find_files(suffix, path):\n",
    "    \"\"\"\n",
    "    Find all files beneath path with file name suffix.\n",
    "\n",
    "    Note that a path may contain further subdirectories\n",
    "    and those subdirectories may also contain further subdirectories.\n",
    "\n",
    "    There are no limit to the depth of the subdirectories can be.\n",
    "\n",
    "    Args:\n",
    "      suffix(str): suffix if the file name to be found\n",
    "      path(str): path of the file system\n",
    "\n",
    "    Returns:\n",
    "       a list of paths\n",
    "    \"\"\"\n",
    "    result = []\n",
    "    if os.path.isfile(path) and path.endswith(suffix):\n",
    "            result.append(path)\n",
    "    elif os.path.isdir(path):\n",
    "        for new_path in os.listdir(path):\n",
    "            sub_dir = \"/\".join([path, new_path])\n",
    "            subdir_output = find_files(suffix=suffix, path=sub_dir)\n",
    "            for subpath in subdir_output:\n",
    "                result.append(subpath)\n",
    "    return result"
   ]
  },
  {
   "cell_type": "code",
   "execution_count": 15,
   "metadata": {},
   "outputs": [],
   "source": [
    "test_dir_path = './testdir'"
   ]
  },
  {
   "cell_type": "code",
   "execution_count": 16,
   "metadata": {},
   "outputs": [
    {
     "data": {
      "text/plain": [
       "['./testdir/subdir3/subsubdir1/b.c',\n",
       " './testdir/t1.c',\n",
       " './testdir/subdir5/a.c',\n",
       " './testdir/subdir1/a.c']"
      ]
     },
     "execution_count": 16,
     "metadata": {},
     "output_type": "execute_result"
    }
   ],
   "source": [
    "find_files(suffix=\"c\", path=test_dir_path)"
   ]
  },
  {
   "cell_type": "code",
   "execution_count": null,
   "metadata": {},
   "outputs": [],
   "source": []
  }
 ],
 "metadata": {
  "kernelspec": {
   "display_name": "Python 3",
   "language": "python",
   "name": "python3"
  },
  "language_info": {
   "codemirror_mode": {
    "name": "ipython",
    "version": 3
   },
   "file_extension": ".py",
   "mimetype": "text/x-python",
   "name": "python",
   "nbconvert_exporter": "python",
   "pygments_lexer": "ipython3",
   "version": "3.7.2"
  }
 },
 "nbformat": 4,
 "nbformat_minor": 2
}
