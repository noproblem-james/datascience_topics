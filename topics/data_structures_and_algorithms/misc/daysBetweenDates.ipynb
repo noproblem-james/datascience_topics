{
 "cells": [
  {
   "cell_type": "markdown",
   "metadata": {},
   "source": [
    "# Days Between Dates\n",
    "\n",
    "This lesson will focus on one problem: calculating the number of days between two dates. \n",
    "\n",
    "This workspace is yours to use in whatever way is helpful. You might want to keep it open in a second tab as you go through the videos. \n",
    "\n"
   ]
  },
  {
   "cell_type": "code",
   "execution_count": 1,
   "metadata": {},
   "outputs": [],
   "source": [
    "def dayIsBefore(year1, month1, day1, year2, month2, day2):\n",
    "    if year1 < year2:\n",
    "        return True\n",
    "    elif month1 < month2:\n",
    "            return True\n",
    "    elif day1 < day2:\n",
    "        return True\n",
    "    else:\n",
    "        return False"
   ]
  },
  {
   "cell_type": "code",
   "execution_count": 2,
   "metadata": {},
   "outputs": [],
   "source": [
    "def isLeapYear(year):\n",
    "    if year % 4 == 0:\n",
    "        return True\n",
    "    else:\n",
    "        return False"
   ]
  },
  {
   "cell_type": "code",
   "execution_count": 4,
   "metadata": {},
   "outputs": [],
   "source": [
    "def isLeapYear(year):\n",
    "    if year % 4 != 0:\n",
    "        return False\n",
    "    elif year % 100 != 0:\n",
    "        return True\n",
    "    elif year % 400 != 0:\n",
    "        return False\n",
    "    else:\n",
    "        return True"
   ]
  },
  {
   "cell_type": "code",
   "execution_count": 5,
   "metadata": {},
   "outputs": [],
   "source": [
    "def testIsLeapYear():\n",
    "    leap_years = [1600, 2000, 2400]\n",
    "    non_leap_years = [1700, 1800, 1900, 2100, 2200, 2300, 2001]\n",
    "    for year in leap_years:\n",
    "        assert isLeapYear(year) == True\n",
    "    for year in non_leap_years:\n",
    "        assert isLeapYear(year) == False\n",
    "\n",
    "testIsLeapYear()"
   ]
  },
  {
   "cell_type": "code",
   "execution_count": 6,
   "metadata": {},
   "outputs": [],
   "source": [
    "def daysInMonth(year, month):\n",
    "    if isLeapYear(year) is True and month == 2:\n",
    "        return 29\n",
    "    else:\n",
    "        monthDays = [31, 28, 31, 30, 31, 30, 31, 31, 30, 31, 30, 31]\n",
    "        numDays = monthDays[month - 1]\n",
    "    return numDays"
   ]
  },
  {
   "cell_type": "code",
   "execution_count": 7,
   "metadata": {},
   "outputs": [],
   "source": [
    "def testDayIsBefore():\n",
    "    assert dayIsBefore(2017, 12, 29, 2017, 12, 30)\n",
    "    assert dayIsBefore(2017, 11, 30, 2017, 12, 30)\n",
    "    assert dayIsBefore(2016, 12, 30, 2017, 12, 30)\n",
    "    assert not dayIsBefore(2017, 12, 30, 2017, 12, 30)\n",
    "    assert dayIsBefore(2016, 12, 30, 2017, 11, 30)\n",
    "\n",
    "testDayIsBefore()"
   ]
  },
  {
   "cell_type": "code",
   "execution_count": 8,
   "metadata": {},
   "outputs": [],
   "source": [
    "def testDaysInMonth():\n",
    "    assert daysInMonth(2001, 1) == 31\n",
    "    assert daysInMonth(2001, 2) == 28\n",
    "    assert daysInMonth(2001, 11) == 30\n",
    "    assert daysInMonth(2001, 9) == 30\n",
    "    assert daysInMonth(2001, 4) == 30\n",
    "    assert daysInMonth(2000, 2) == 29\n",
    "testDaysInMonth()"
   ]
  },
  {
   "cell_type": "code",
   "execution_count": 9,
   "metadata": {},
   "outputs": [],
   "source": [
    "def nextDay(year, month, day):\n",
    "    monthDays = daysInMonth(year, month)\n",
    "    if day < monthDays:\n",
    "        day += 1\n",
    "    else:\n",
    "        if month < 12:\n",
    "            day =1\n",
    "            month += 1\n",
    "        else:\n",
    "            day = 1\n",
    "            month = 1\n",
    "            year += 1\n",
    "    return year, month, day"
   ]
  },
  {
   "cell_type": "code",
   "execution_count": 10,
   "metadata": {},
   "outputs": [],
   "source": [
    "def testNextDay():\n",
    "    assert nextDay(2012, 12, 1) == (2012, 12, 2)\n",
    "    assert nextDay(2012, 12, 31) == (2013, 1, 1)\n",
    "    assert nextDay(2012, 4, 30) == (2012, 5, 1)\n",
    "\n",
    "testNextDay()"
   ]
  },
  {
   "cell_type": "code",
   "execution_count": 11,
   "metadata": {},
   "outputs": [],
   "source": [
    "def daysBetweenDates(year1, month1, day1, year2, month2, day2):\n",
    "    \"\"\"\n",
    "    Calculates the number of days between two dates.\n",
    "    \"\"\"\n",
    "    day_count = 0\n",
    "    while dayIsBefore(year1, month1, day1, year2, month2, day2) == True:\n",
    "        year1, month1, day1 = nextDay(year1, month1, day1)\n",
    "        day_count +=1\n",
    "    return day_count"
   ]
  },
  {
   "cell_type": "code",
   "execution_count": 18,
   "metadata": {
    "scrolled": true
   },
   "outputs": [
    {
     "name": "stdout",
     "output_type": "stream",
     "text": [
      "Congratulations! Your daysBetweenDates\n",
      "function is working correctly!\n"
     ]
    }
   ],
   "source": [
    "def testDaysBetweenDates():\n",
    "    \n",
    "    # test same day\n",
    "    assert(daysBetweenDates(2017, 12, 30,\n",
    "                              2017, 12, 30) == 0)\n",
    "    # test adjacent days\n",
    "    assert(daysBetweenDates(2017, 12, 30, \n",
    "                              2017, 12, 31) == 1)\n",
    "    # test new year\n",
    "    assert(daysBetweenDates(2017, 12, 30, \n",
    "                              2018, 1,  1)  == 2)\n",
    "    # test full year difference\n",
    "    assert(daysBetweenDates(2012, 6, 29,\n",
    "                              2013, 6, 29)  == 365)\n",
    "    \n",
    "    assert(daysBetweenDates(2012, 1, 29, 2013, 1, 29) == 366)\n",
    "    \n",
    "    assert(daysBetweenDates(1900,1,1,1999,12,31) == 36523)\n",
    "    \n",
    "    print(\"Congratulations! Your daysBetweenDates\")\n",
    "    print(\"function is working correctly!\")\n",
    "    \n",
    "testDaysBetweenDates()"
   ]
  }
 ],
 "metadata": {
  "kernelspec": {
   "display_name": "Python 3",
   "language": "python",
   "name": "python3"
  },
  "language_info": {
   "codemirror_mode": {
    "name": "ipython",
    "version": 3
   },
   "file_extension": ".py",
   "mimetype": "text/x-python",
   "name": "python",
   "nbconvert_exporter": "python",
   "pygments_lexer": "ipython3",
   "version": "3.7.2"
  }
 },
 "nbformat": 4,
 "nbformat_minor": 2
}
