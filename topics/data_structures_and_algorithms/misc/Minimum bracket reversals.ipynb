{
 "cells": [
  {
   "cell_type": "markdown",
   "metadata": {
    "graffitiCellId": "id_vxtrcg7"
   },
   "source": [
    "### Problem Statement\n",
    "\n",
    "Given an input string consisting of only `{` and `}`, figure out the minimum number of reversals required to make the brackets balanced.\n",
    "\n",
    "For example:\n",
    "* For `input_string = \"}}}}`, the number of reversals required is `2`.\n",
    "\n",
    "\n",
    "* For `input_string = \"}{}}`, the number of reversals required is `1`.\n",
    "\n",
    "\n",
    "If the brackets cannot be balanced, return `-1` to indicate that it is not possible to balance them."
   ]
  },
  {
   "cell_type": "code",
   "execution_count": 167,
   "metadata": {
    "graffitiCellId": "id_jlfcw5k"
   },
   "outputs": [],
   "source": [
    "class LinkedListNode:\n",
    "\n",
    "    def __init__(self, data):\n",
    "        self.data = data\n",
    "        self.next = None\n",
    "\n",
    "class Stack:\n",
    "\n",
    "    def __init__(self):\n",
    "        self.num_elements = 0\n",
    "        self.head = None\n",
    "\n",
    "    def push(self, data):\n",
    "        new_node = LinkedListNode(data)\n",
    "        if self.head is None:\n",
    "            self.head = new_node\n",
    "        else:\n",
    "            new_node.next = self.head\n",
    "            self.head = new_node\n",
    "        self.num_elements += 1\n",
    "\n",
    "    def pop(self):\n",
    "        if self.is_empty():\n",
    "            return None\n",
    "        temp = self.head.data\n",
    "        self.head = self.head.next\n",
    "        self.num_elements -= 1\n",
    "        return temp\n",
    "\n",
    "    def top(self):\n",
    "        if self.head is None:\n",
    "            return None\n",
    "        return self.head.data\n",
    "\n",
    "    def size(self):\n",
    "        return self.num_elements\n",
    "\n",
    "    def is_empty(self):\n",
    "        return self.num_elements == 0\n"
   ]
  },
  {
   "cell_type": "code",
   "execution_count": 168,
   "metadata": {
    "graffitiCellId": "id_8y5l66z"
   },
   "outputs": [],
   "source": [
    "# def minimum_bracket_reversals(input_string):\n",
    "#     \"\"\"\n",
    "#     Calculate the number of reversals to fix the brackets\n",
    "\n",
    "#     Args:\n",
    "#        input_string(string): Strings to be used for bracket reversal calculation\n",
    "#     Returns:\n",
    "#        int: Number of breacket reversals needed\n",
    "#     \"\"\"\n",
    "    \n",
    "#     brack_stack = Stack()\n",
    "#     for i, char in enumerate(input_string):\n",
    "#         print(i, char)\n",
    "#         if \n",
    "#         if brack_stack.num_elements == 0:\n",
    "            \n",
    "#             brack_stack.push(char)\n",
    "#             print(\"first el\", char)\n",
    "#         else:\n",
    "#             if char == brack_stack.head.data:\n",
    "#                 brack_stack.push(char)\n",
    "#                 print(\"pushed el\", char)\n",
    "#             else:\n",
    "#                 popped_el = brack_stack.pop()\n",
    "#                 print(\"popped_el\", popped_el)\n",
    "#     unmatched_els = brack_stack.num_elements\n",
    "#     if unmatched_els % 2 == 1:\n",
    "#         return -1\n",
    "#     else:\n",
    "#         return int(unmatched_els / 2)"
   ]
  },
  {
   "cell_type": "code",
   "execution_count": 261,
   "metadata": {
    "graffitiCellId": "id_8y5l66z"
   },
   "outputs": [],
   "source": [
    "def minimum_bracket_reversals(input_string):\n",
    "    \"\"\"\n",
    "    Calculate the number of reversals to fix the brackets\n",
    "\n",
    "    Args:\n",
    "       input_string(string): Strings to be used for bracket reversal calculation\n",
    "    Returns:\n",
    "       int: Number of breacket reversals needed\n",
    "    \"\"\"\n",
    "    if len(input_string) % 2 != 0:\n",
    "        return -1\n",
    "    stack = Stack()\n",
    "    unpaired_closed = 0\n",
    "    for char in input_string:\n",
    "        if stack.num_elements == 0:\n",
    "            if char == \"}\":\n",
    "                unpaired_closed += 1\n",
    "        if char == \"{\":\n",
    "            stack.push(char)\n",
    "        elif char == \"}\":\n",
    "            stack.pop()\n",
    "        else:\n",
    "            raise ValueError\n",
    "    unpaired_open = stack.num_elements\n",
    "    num_flips = int((unpaired_open + unpaired_closed) / 2)\n",
    "    if unpaired_closed == 1:\n",
    "        if stack.top() == \"{\":\n",
    "            num_flips += 1\n",
    "    return num_flips"
   ]
  },
  {
   "cell_type": "code",
   "execution_count": 230,
   "metadata": {
    "graffitiCellId": "id_z5q6m05"
   },
   "outputs": [],
   "source": [
    "def test_function(test_case):\n",
    "    input_string = test_case[0]\n",
    "    expected_output = test_case[1]\n",
    "    output = minimum_bracket_reversals(input_string)\n",
    "    print(output)\n",
    "    \n",
    "    if output == expected_output:\n",
    "        print(\"Pass\")\n",
    "    else:\n",
    "        print(\"Fail\")\n"
   ]
  },
  {
   "cell_type": "code",
   "execution_count": 246,
   "metadata": {},
   "outputs": [],
   "source": [
    "def count_changes(str1, str2):\n",
    "    count = 0 \n",
    "    assert len(str1) == len(str2)\n",
    "    for v1, v2 in zip(str1, str2):\n",
    "        if v1 != v2:\n",
    "            count += 1\n",
    "    return count"
   ]
  },
  {
   "cell_type": "code",
   "execution_count": 247,
   "metadata": {
    "scrolled": true
   },
   "outputs": [
    {
     "data": {
      "text/plain": [
       "3"
      ]
     },
     "execution_count": 247,
     "metadata": {},
     "output_type": "execute_result"
    }
   ],
   "source": [
    "count_changes(\"}{{{}{\", \"{}{{}}\")"
   ]
  },
  {
   "cell_type": "code",
   "execution_count": 248,
   "metadata": {},
   "outputs": [
    {
     "data": {
      "text/plain": [
       "3"
      ]
     },
     "execution_count": 248,
     "metadata": {},
     "output_type": "execute_result"
    }
   ],
   "source": [
    "minimum_bracket_reversals(\"}{{{}{\")"
   ]
  },
  {
   "cell_type": "code",
   "execution_count": 249,
   "metadata": {
    "graffitiCellId": "id_y67zaj9"
   },
   "outputs": [
    {
     "name": "stdout",
     "output_type": "stream",
     "text": [
      "2\n",
      "Pass\n"
     ]
    }
   ],
   "source": [
    "test_case_1 = [\"}}}}\", 2]\n",
    "test_function(test_case_1)"
   ]
  },
  {
   "cell_type": "code",
   "execution_count": 250,
   "metadata": {
    "graffitiCellId": "id_yt04y7c",
    "scrolled": true
   },
   "outputs": [
    {
     "name": "stdout",
     "output_type": "stream",
     "text": [
      "2\n",
      "Pass\n"
     ]
    }
   ],
   "source": [
    "test_case_2 = [\"}}{{\", 2]          \n",
    "test_function(test_case_2)"
   ]
  },
  {
   "cell_type": "code",
   "execution_count": 251,
   "metadata": {
    "graffitiCellId": "id_m8kpqt1"
   },
   "outputs": [
    {
     "name": "stdout",
     "output_type": "stream",
     "text": [
      "13\n",
      "Pass\n"
     ]
    }
   ],
   "source": [
    "test_case_3 = [\"{{{{{{{{{{{{{{{{{{{{{{{{{{{{{{{}}}}}\", 13]\n",
    "\n",
    "test_function(test_case_3)"
   ]
  },
  {
   "cell_type": "code",
   "execution_count": 252,
   "metadata": {
    "graffitiCellId": "id_mp0csx6"
   },
   "outputs": [
    {
     "name": "stdout",
     "output_type": "stream",
     "text": [
      "2\n",
      "Pass\n"
     ]
    }
   ],
   "source": [
    "test_case_4= [\"}{}{}{}{}{}{}{}{}{}{}{}{}{}{}{\", 2]\n",
    "test_function(test_case_4)"
   ]
  },
  {
   "cell_type": "code",
   "execution_count": 253,
   "metadata": {
    "graffitiCellId": "id_1732mey"
   },
   "outputs": [
    {
     "name": "stdout",
     "output_type": "stream",
     "text": [
      "1\n",
      "Pass\n"
     ]
    }
   ],
   "source": [
    "test_case_5 = [\"}}{}{}{}{}{}{}{}{}{}{}{}{}{}{}\", 1]\n",
    "\n",
    "test_function(test_case_5)"
   ]
  },
  {
   "cell_type": "markdown",
   "metadata": {
    "graffitiCellId": "id_nswj6h2"
   },
   "source": [
    "<span class=\"graffiti-highlight graffiti-id_nswj6h2-id_mclvpey\"><i></i><button>Hide Solution</button></span>"
   ]
  },
  {
   "cell_type": "code",
   "execution_count": 259,
   "metadata": {
    "graffitiCellId": "id_mclvpey"
   },
   "outputs": [],
   "source": [
    "def minimum_bracket_reversals_sol(input_string):\n",
    "    \"\"\"\n",
    "    Calculate the number of reversals to fix the brackets\n",
    "\n",
    "    Args:\n",
    "       input_string(string): Strings to be used for bracket reversal calculation\n",
    "    Returns:\n",
    "       int: Number of breacket reversals needed\n",
    "    \"\"\"\n",
    "    if len(input_string) % 2 == 1:\n",
    "        return -1\n",
    "\n",
    "    stack = Stack()\n",
    "    count = 0\n",
    "    for bracket in input_string:\n",
    "        if stack.is_empty():\n",
    "            stack.push(bracket)\n",
    "        else:\n",
    "            top = stack.top()\n",
    "            if top != bracket:\n",
    "                if top == '{':\n",
    "                    stack.pop()\n",
    "                    continue\n",
    "            stack.push(bracket)\n",
    "\n",
    "    ls = list()\n",
    "    while not stack.is_empty():\n",
    "        first = stack.pop()\n",
    "        second = stack.pop()\n",
    "        ls.append(first)\n",
    "        ls.append(second)\n",
    "        if first == '}' and second == '}':\n",
    "            count += 1\n",
    "        elif first == '{' and second == '}':\n",
    "            count += 2\n",
    "        elif first == '{' and second == '{':\n",
    "            count += 1\n",
    "    return count"
   ]
  },
  {
   "cell_type": "code",
   "execution_count": 269,
   "metadata": {},
   "outputs": [
    {
     "name": "stdout",
     "output_type": "stream",
     "text": [
      "49.3 µs ± 779 ns per loop (mean ± std. dev. of 7 runs, 10000 loops each)\n"
     ]
    }
   ],
   "source": [
    "%%timeit\n",
    "minimum_bracket_reversals(\"{{{{{{{{{{{{{{{{{{{{{{{{{{{{{{{}}}}}\")"
   ]
  },
  {
   "cell_type": "code",
   "execution_count": 270,
   "metadata": {},
   "outputs": [
    {
     "name": "stdout",
     "output_type": "stream",
     "text": [
      "104 µs ± 1.44 µs per loop (mean ± std. dev. of 7 runs, 10000 loops each)\n"
     ]
    }
   ],
   "source": [
    "%%timeit\n",
    "minimum_bracket_reversals_sol(\"{{{{{{{{{{{{{{{{{{{{{{{{{{{{{{{}}}}}\")"
   ]
  },
  {
   "cell_type": "code",
   "execution_count": null,
   "metadata": {},
   "outputs": [],
   "source": []
  }
 ],
 "metadata": {
  "graffiti": {
   "firstAuthorId": "10694620118",
   "id": "id_m05og16",
   "language": "EN"
  },
  "kernelspec": {
   "display_name": "Python 3",
   "language": "python",
   "name": "python3"
  },
  "language_info": {
   "codemirror_mode": {
    "name": "ipython",
    "version": 3
   },
   "file_extension": ".py",
   "mimetype": "text/x-python",
   "name": "python",
   "nbconvert_exporter": "python",
   "pygments_lexer": "ipython3",
   "version": "3.6.3"
  }
 },
 "nbformat": 4,
 "nbformat_minor": 2
}
