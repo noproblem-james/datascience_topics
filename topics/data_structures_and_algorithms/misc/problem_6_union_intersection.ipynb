{
 "cells": [
  {
   "cell_type": "code",
   "execution_count": 1,
   "metadata": {},
   "outputs": [
    {
     "data": {
      "text/html": [
       "<style>.container { width:95% !important; }</style>"
      ],
      "text/plain": [
       "<IPython.core.display.HTML object>"
      ]
     },
     "metadata": {},
     "output_type": "display_data"
    }
   ],
   "source": [
    "from IPython.core.display import display, HTML\n",
    "display(HTML(\"<style>.container { width:95% !important; }</style>\"))"
   ]
  },
  {
   "cell_type": "markdown",
   "metadata": {},
   "source": [
    "## Union and Intersection of Two Linked Lists\n",
    "Your task for this problem is to fill out the union and intersection functions. The union of two sets A and B is the set of elements which are in A, in B, or in both A and B. The intersection of two sets A and B, denoted by A ∩ B, is the set of all objects that are members of both the sets A and B.\n",
    "\n",
    "You will take in two linked lists and return a linked list that is composed of either the union or intersection, respectively. Once you have completed the problem you will create your own test cases and perform your own run time analysis on the code.\n",
    "\n",
    "We have provided a code template below, you are not required to use it:"
   ]
  },
  {
   "cell_type": "code",
   "execution_count": 25,
   "metadata": {
    "scrolled": true
   },
   "outputs": [],
   "source": [
    "class Node:\n",
    "    def __init__(self, value):\n",
    "        self.value = value\n",
    "        self.next = None\n",
    "\n",
    "    def __repr__(self):\n",
    "        return str(self.value)\n",
    "    \n",
    "\n",
    "class LinkedList:\n",
    "    def __init__(self):\n",
    "        self.head = None\n",
    "\n",
    "    def __repr__(self):\n",
    "        cur_head = self.head\n",
    "        out_lst = []\n",
    "        while cur_head:\n",
    "            out_lst.append(cur_head.value)\n",
    "            cur_head = cur_head.next\n",
    "        out_str = str(out_lst)\n",
    "        return out_str\n",
    "    \n",
    "\n",
    "\n",
    "    def append(self, value):\n",
    "        if self.head is None:\n",
    "            self.head = Node(value)\n",
    "            return\n",
    "\n",
    "        node = self.head\n",
    "        while node.next:\n",
    "            node = node.next\n",
    "\n",
    "        node.next = Node(value)\n",
    "\n",
    "    def size(self):\n",
    "        size = 0\n",
    "        node = self.head\n",
    "        while node:\n",
    "            size += 1\n",
    "            node = node.next\n",
    "\n",
    "        return size\n",
    "    \n",
    "    def to_list(self):\n",
    "        result_lst = []\n",
    "        curr_node = self.head\n",
    "        while curr_node:\n",
    "            result_lst.append(curr_node.value)\n",
    "            curr_node = curr_node.next\n",
    "        return result_lst"
   ]
  },
  {
   "cell_type": "code",
   "execution_count": 26,
   "metadata": {},
   "outputs": [],
   "source": [
    "elements = [3,2,4,35,6,65,6,4,3,21]"
   ]
  },
  {
   "cell_type": "code",
   "execution_count": 41,
   "metadata": {},
   "outputs": [],
   "source": [
    "my_ll = LinkedList()\n",
    "for el in elements:\n",
    "    my_ll.append(el)"
   ]
  },
  {
   "cell_type": "code",
   "execution_count": 42,
   "metadata": {},
   "outputs": [
    {
     "data": {
      "text/plain": [
       "[3, 2, 4, 35, 6, 65, 6, 4, 3, 21]"
      ]
     },
     "execution_count": 42,
     "metadata": {},
     "output_type": "execute_result"
    }
   ],
   "source": [
    "my_ll.to_list()"
   ]
  },
  {
   "cell_type": "code",
   "execution_count": 43,
   "metadata": {},
   "outputs": [],
   "source": [
    "def union(llist_1, llist_2):\n",
    "    result_llist = LinkedList()\n",
    "    result_set = set()\n",
    "    \n",
    "    # Linked List 1\n",
    "    current_node = llist_1.head\n",
    "    while current_node is not None:\n",
    "        value = current_node.value\n",
    "        if value not in result_set:\n",
    "            result_set.add(value)\n",
    "            result_llist.append(value)\n",
    "        current_node = current_node.next\n",
    "    \n",
    "    # Linked List 2\n",
    "    current_node = llist_2.head\n",
    "    while current_node is not None:\n",
    "        value = current_node.value\n",
    "        if value in result_set:\n",
    "            pass\n",
    "        else:\n",
    "            result_set.add(value)\n",
    "            result_llist.append(value)\n",
    "        current_node = current_node.next\n",
    "        \n",
    "    return result_llist"
   ]
  },
  {
   "cell_type": "code",
   "execution_count": 44,
   "metadata": {},
   "outputs": [],
   "source": [
    "def intersection(llist_1, llist_2):\n",
    "    result_llist = LinkedList()\n",
    "    check_set = set() # have we seen it at least once?\n",
    "    \n",
    "    result_set = set() # have we seen it at least twice?\n",
    "    current_node = llist_1.head\n",
    "    while current_node is not None:\n",
    "        value = current_node.value\n",
    "        check_set.add(value)\n",
    "        current_node = current_node.next\n",
    "    \n",
    "    current_node = llist_2.head\n",
    "    while current_node is not None:\n",
    "        value = current_node.value\n",
    "        if value in check_set and value not in result_set:\n",
    "            result_set.add(value)\n",
    "            result_llist.append(value)\n",
    "        current_node = current_node.next\n",
    "        \n",
    "    return result_llist"
   ]
  },
  {
   "cell_type": "code",
   "execution_count": 45,
   "metadata": {},
   "outputs": [
    {
     "name": "stdout",
     "output_type": "stream",
     "text": [
      "[3, 2, 4, 35, 6, 65, 21, 32, 9, 1, 11]\n",
      "[6, 4, 21]\n"
     ]
    }
   ],
   "source": [
    "# Test case 1\n",
    "\n",
    "linked_list_1 = LinkedList()\n",
    "linked_list_2 = LinkedList()\n",
    "\n",
    "element_1 = [3,2,4,35,6,65,6,4,3,21]\n",
    "element_2 = [6,32,4,9,6,1,11,21,1]\n",
    "\n",
    "for i in element_1:\n",
    "    linked_list_1.append(i)\n",
    "\n",
    "for i in element_2:\n",
    "    linked_list_2.append(i)\n",
    "\n",
    "print (union(linked_list_1,linked_list_2))\n",
    "print (intersection(linked_list_1,linked_list_2))\n"
   ]
  },
  {
   "cell_type": "code",
   "execution_count": 46,
   "metadata": {
    "scrolled": true
   },
   "outputs": [],
   "source": [
    "assert set(union(linked_list_1,linked_list_2).to_list()) == \\\n",
    "set(element_1).union(set(element_2))\n",
    "\n",
    "assert set(intersection(linked_list_1,linked_list_2).to_list()) == \\\n",
    "set(element_1).intersection(set(element_2))"
   ]
  },
  {
   "cell_type": "code",
   "execution_count": 47,
   "metadata": {},
   "outputs": [
    {
     "name": "stdout",
     "output_type": "stream",
     "text": [
      "[3, 2, 4, 35, 6, 65, 23, 1, 7, 8, 9, 11, 21]\n",
      "[]\n"
     ]
    }
   ],
   "source": [
    "# Test case 2\n",
    "\n",
    "linked_list_3 = LinkedList()\n",
    "linked_list_4 = LinkedList()\n",
    "\n",
    "element_3 = [3,2,4,35,6,65,6,4,3,23]\n",
    "element_4 = [1,7,8,9,11,21,1]\n",
    "\n",
    "for i in element_3:\n",
    "    linked_list_3.append(i)\n",
    "\n",
    "for i in element_4:\n",
    "    linked_list_4.append(i)\n",
    "\n",
    "print (union(linked_list_3,linked_list_4))\n",
    "print (intersection(linked_list_3,linked_list_4))"
   ]
  },
  {
   "cell_type": "code",
   "execution_count": 48,
   "metadata": {
    "scrolled": true
   },
   "outputs": [],
   "source": [
    "assert set(union(linked_list_3, linked_list_4).to_list()) == \\\n",
    "set(element_3).union(set(element_4))\n",
    "\n",
    "assert set(intersection(linked_list_3, linked_list_4).to_list()) == \\\n",
    "set(element_3).intersection(set(element_4))"
   ]
  },
  {
   "cell_type": "code",
   "execution_count": 49,
   "metadata": {},
   "outputs": [
    {
     "data": {
      "text/plain": [
       "b'hello world'"
      ]
     },
     "execution_count": 49,
     "metadata": {},
     "output_type": "execute_result"
    }
   ],
   "source": [
    "b\"hello world\""
   ]
  },
  {
   "cell_type": "code",
   "execution_count": 50,
   "metadata": {},
   "outputs": [],
   "source": [
    "import sys"
   ]
  },
  {
   "cell_type": "code",
   "execution_count": 51,
   "metadata": {
    "scrolled": false
   },
   "outputs": [
    {
     "data": {
      "text/plain": [
       "60"
      ]
     },
     "execution_count": 51,
     "metadata": {},
     "output_type": "execute_result"
    }
   ],
   "source": []
  },
  {
   "cell_type": "code",
   "execution_count": null,
   "metadata": {},
   "outputs": [],
   "source": []
  },
  {
   "cell_type": "code",
   "execution_count": 54,
   "metadata": {
    "scrolled": false
   },
   "outputs": [
    {
     "data": {
      "text/plain": [
       "43"
      ]
     },
     "execution_count": 54,
     "metadata": {},
     "output_type": "execute_result"
    }
   ],
   "source": [
    "sys.getsizeof(b\"0111010010\")"
   ]
  },
  {
   "cell_type": "code",
   "execution_count": null,
   "metadata": {},
   "outputs": [],
   "source": []
  }
 ],
 "metadata": {
  "kernelspec": {
   "display_name": "Python 3",
   "language": "python",
   "name": "python3"
  },
  "language_info": {
   "codemirror_mode": {
    "name": "ipython",
    "version": 3
   },
   "file_extension": ".py",
   "mimetype": "text/x-python",
   "name": "python",
   "nbconvert_exporter": "python",
   "pygments_lexer": "ipython3",
   "version": "3.7.2"
  }
 },
 "nbformat": 4,
 "nbformat_minor": 2
}
