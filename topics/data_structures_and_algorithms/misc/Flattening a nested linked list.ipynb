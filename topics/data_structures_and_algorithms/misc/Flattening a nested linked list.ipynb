{
 "cells": [
  {
   "cell_type": "markdown",
   "metadata": {},
   "source": [
    "## Flattening a nested linked list\n",
    "\n",
    "Suppose you have a linked list where the value of each node is a sorted linked list (i.e., it is a _nested_ list). Your task is to _flatten_ this nested list—that is, to combine all nested lists into a single (sorted) linked list.\n",
    "\n",
    "First, we'll need some code for generating nodes and a linked list:"
   ]
  },
  {
   "cell_type": "code",
   "execution_count": 1,
   "metadata": {},
   "outputs": [],
   "source": [
    "# Use this class as the nodes in your linked list\n",
    "class Node:\n",
    "    def __init__(self, value):\n",
    "        self.value = value\n",
    "        self.next = None\n",
    "    \n",
    "    def __repr__(self):\n",
    "        return str(self.value)\n",
    "    \n",
    "class LinkedList:\n",
    "    def __init__(self, head):\n",
    "        self.head = head\n",
    "        \n",
    "    def append(self, value):\n",
    "        if self.head is None:\n",
    "            self.head = Node(value)\n",
    "            return\n",
    "        node = self.head\n",
    "        while node.next is not None:\n",
    "            node = node.next\n",
    "        node.next = Node(value)"
   ]
  },
  {
   "cell_type": "markdown",
   "metadata": {},
   "source": [
    "Now, in the cell below, see if you can solve the problem by implementing the `flatten` method.\n",
    "\n",
    ">Hint: If you first create a `merge` method that merges two linked lists into a sorted linked list, then there is an elegant recursive solution."
   ]
  },
  {
   "cell_type": "code",
   "execution_count": 84,
   "metadata": {},
   "outputs": [],
   "source": [
    "def merge(list1, list2):\n",
    "    merged_list = LinkedList(None)\n",
    "    if list1 == None:\n",
    "        return list2\n",
    "    elif list2 == None:\n",
    "        return list1\n",
    "    list1_node = list1.head\n",
    "    list2_node = list2.head\n",
    "    while list1_node is not None or list2_node is not None:\n",
    "        if list1_node is None:\n",
    "            merged_list.append(list2_node)\n",
    "            print(\"appending list2 node: \", list2_node.value)\n",
    "            list2_node = list2_node.next\n",
    "        elif list2_node is None:\n",
    "            merged_list.append(list1_node)\n",
    "            print(\"appending list1 node: \", list1_node.value)\n",
    "            list1_node = list1_node.next\n",
    "        elif list1_node.value <= list2_node.value:\n",
    "            print(\"appending list1 node: \", list1_node.value)\n",
    "            merged_list.append(list1_node)\n",
    "            list1_node = list1_node.next\n",
    "        else:\n",
    "            merged_list.append(list2_node)\n",
    "            print(\"appending list2 node: \", list2_node.value)\n",
    "            list2_node = list2_node.next\n",
    "    return merged_list"
   ]
  },
  {
   "cell_type": "markdown",
   "metadata": {},
   "source": [
    "Here's some code that will generate a nested linked list that we can use to test the solution:"
   ]
  },
  {
   "cell_type": "code",
   "execution_count": 88,
   "metadata": {},
   "outputs": [
    {
     "name": "stdout",
     "output_type": "stream",
     "text": [
      "appending list1 node:  1\n",
      "appending list1 node:  3\n",
      "appending list1 node:  5\n",
      "appending list2 node:  6\n",
      "appending list2 node:  4\n",
      "appending list2 node:  2\n"
     ]
    }
   ],
   "source": [
    "linked_list = LinkedList(Node(1))\n",
    "linked_list.append(3)\n",
    "linked_list.append(5)\n",
    "\n",
    "second_linked_list = LinkedList(Node(6))\n",
    "second_linked_list.append(4)\n",
    "second_linked_list.append(2)\n",
    "\n",
    "merged = merge(linked_list, second_linked_list)"
   ]
  },
  {
   "cell_type": "code",
   "execution_count": 52,
   "metadata": {},
   "outputs": [],
   "source": [
    "# First Test scenario\n",
    "linked_list = LinkedList(Node(1))\n",
    "linked_list.append(Node(3))\n",
    "linked_list.append(Node(5))\n",
    "\n",
    "nested_linked_list = NestedLinkedList(Node(linked_list))\n",
    "\n",
    "second_linked_list = LinkedList(Node(2))\n",
    "second_linked_list.append(4)\n",
    "\n",
    "nested_linked_list.append(Node(second_linked_list))"
   ]
  },
  {
   "cell_type": "code",
   "execution_count": 11,
   "metadata": {},
   "outputs": [],
   "source": [
    "class NestedLinkedList(LinkedList):\n",
    "    def flatten(self):\n",
    "        \n",
    "        pass"
   ]
  },
  {
   "cell_type": "code",
   "execution_count": null,
   "metadata": {},
   "outputs": [],
   "source": []
  },
  {
   "cell_type": "markdown",
   "metadata": {},
   "source": [
    "### Structure\n",
    "`nested_linked_list` should now have 2 nodes.  The head node is a linked list containing `1, 3, 5`.  The second node is a linked list containing `2, 4`.\n",
    "\n",
    "Calling `flatten` should return a linked list containing `1, 2, 3, 4, 5`."
   ]
  },
  {
   "cell_type": "code",
   "execution_count": 4,
   "metadata": {
    "scrolled": false
   },
   "outputs": [
    {
     "ename": "AssertionError",
     "evalue": "",
     "output_type": "error",
     "traceback": [
      "\u001b[0;31m---------------------------------------------------------------------------\u001b[0m",
      "\u001b[0;31mAssertionError\u001b[0m                            Traceback (most recent call last)",
      "\u001b[0;32m<ipython-input-4-321f9e4e9ab6>\u001b[0m in \u001b[0;36m<module>\u001b[0;34m()\u001b[0m\n\u001b[1;32m      1\u001b[0m \u001b[0msolution\u001b[0m \u001b[0;34m=\u001b[0m \u001b[0mnested_linked_list\u001b[0m\u001b[0;34m.\u001b[0m\u001b[0mflatten\u001b[0m\u001b[0;34m(\u001b[0m\u001b[0;34m)\u001b[0m\u001b[0;34m\u001b[0m\u001b[0m\n\u001b[0;32m----> 2\u001b[0;31m \u001b[0;32massert\u001b[0m \u001b[0msolution\u001b[0m \u001b[0;34m==\u001b[0m \u001b[0;34m[\u001b[0m\u001b[0;36m1\u001b[0m\u001b[0;34m,\u001b[0m\u001b[0;36m2\u001b[0m\u001b[0;34m,\u001b[0m\u001b[0;36m3\u001b[0m\u001b[0;34m,\u001b[0m\u001b[0;36m4\u001b[0m\u001b[0;34m,\u001b[0m\u001b[0;36m5\u001b[0m\u001b[0;34m]\u001b[0m\u001b[0;34m\u001b[0m\u001b[0m\n\u001b[0m",
      "\u001b[0;31mAssertionError\u001b[0m: "
     ]
    }
   ],
   "source": [
    "solution = nested_linked_list.flatten()\n",
    "assert solution == [1,2,3,4,5]"
   ]
  },
  {
   "cell_type": "markdown",
   "metadata": {},
   "source": [
    "### Solution"
   ]
  },
  {
   "cell_type": "markdown",
   "metadata": {},
   "source": [
    "First, let's implement a `merge` function that takes in two linked lists and returns one sorted linked list.  Note, this implementation expects both linked lists to be sorted."
   ]
  },
  {
   "cell_type": "code",
   "execution_count": 93,
   "metadata": {},
   "outputs": [],
   "source": [
    "def merge(list1, list2):\n",
    "    merged = LinkedList(None)\n",
    "    if list1 is None:\n",
    "        return list2\n",
    "    if list2 is None:\n",
    "        return list1\n",
    "    list1_elt = list1.head\n",
    "    list2_elt = list2.head\n",
    "    while list1_elt is not None or list2_elt is not None:\n",
    "        if list1_elt is None:\n",
    "            merged.append(list2_elt)\n",
    "            list2_elt = list2_elt.next\n",
    "        elif list2_elt is None:\n",
    "            merged.append(list1_elt)\n",
    "            list1_elt = list1_elt.next\n",
    "        elif list1_elt.value <= list2_elt.value:\n",
    "            merged.append(list1_elt)\n",
    "            list1_elt = list1_elt.next\n",
    "        else:\n",
    "            merged.append(list2_elt)\n",
    "            list2_elt = list2_elt.next\n",
    "    return merged"
   ]
  },
  {
   "cell_type": "markdown",
   "metadata": {},
   "source": [
    "Let's make sure merge works how we expect:"
   ]
  },
  {
   "cell_type": "code",
   "execution_count": 94,
   "metadata": {},
   "outputs": [
    {
     "name": "stdout",
     "output_type": "stream",
     "text": [
      "1\n",
      "2\n",
      "3\n",
      "4\n",
      "5\n",
      "1\n",
      "3\n",
      "5\n"
     ]
    }
   ],
   "source": [
    "linked_list = LinkedList(Node(1))\n",
    "linked_list.append(3)\n",
    "linked_list.append(5)\n",
    "\n",
    "second_linked_list = LinkedList(Node(2))\n",
    "second_linked_list.append(4)\n",
    "\n",
    "merged = merge(linked_list, second_linked_list)\n",
    "node = merged.head\n",
    "while node is not None:\n",
    "    #This will print 1 2 3 4 5\n",
    "    print(node.value)\n",
    "    node = node.next\n",
    "    \n",
    "# Lets make sure it works with a None list\n",
    "merged = merge(None, linked_list)\n",
    "node = merged.head\n",
    "while node is not None:\n",
    "    #This will print 1 2 3 4 5\n",
    "    print(node.value)\n",
    "    node = node.next"
   ]
  },
  {
   "cell_type": "markdown",
   "metadata": {},
   "source": [
    "Now let's implement `flatten` recursively using merge."
   ]
  },
  {
   "cell_type": "code",
   "execution_count": 95,
   "metadata": {},
   "outputs": [],
   "source": [
    "class NestedLinkedList(LinkedList):\n",
    "    def flatten(self):\n",
    "        return self._flatten(self.head)\n",
    "\n",
    "    def _flatten(self, node):\n",
    "        if node.next is None:\n",
    "            return merge(node.value, None)\n",
    "        return merge(node.value, self._flatten(node.next))"
   ]
  },
  {
   "cell_type": "code",
   "execution_count": 1,
   "metadata": {},
   "outputs": [],
   "source": [
    "def flatten(nested_linked_list):\n",
    "    node = nested_linked_list.head\n",
    "    if node.next is None:\n",
    "        return merge(node.value, None)\n",
    "    return merge(node.value, flatten(node.next))\n",
    "        "
   ]
  },
  {
   "cell_type": "code",
   "execution_count": null,
   "metadata": {},
   "outputs": [],
   "source": [
    "nested_linked_list = LinkedList(Node(linked_list))"
   ]
  },
  {
   "cell_type": "code",
   "execution_count": null,
   "metadata": {},
   "outputs": [],
   "source": []
  },
  {
   "cell_type": "code",
   "execution_count": 97,
   "metadata": {},
   "outputs": [
    {
     "name": "stdout",
     "output_type": "stream",
     "text": [
      "1\n",
      "2\n",
      "3\n",
      "4\n",
      "5\n"
     ]
    }
   ],
   "source": [
    "nested_linked_list = NestedLinkedList(Node(linked_list))\n",
    "nested_linked_list.append(second_linked_list)\n",
    "flattened = nested_linked_list.flatten()\n",
    "\n",
    "node = flattened.head\n",
    "while node is not None:\n",
    "    #This will print 1 2 3 4 5\n",
    "    print(node.value)\n",
    "    node = node.next"
   ]
  },
  {
   "cell_type": "markdown",
   "metadata": {},
   "source": [
    "### Computational Complexity\n",
    "Lets start with the computational complexity of `merge`.  Merge takes in two lists.  Let's say the lengths of the lists are $N_{1}$ and $N_{2}$. Because we assume the inputs are sorted, `merge` is very efficient. It looks at the first element of each list and adds the smaller one to the returned list.  Every time through the loop we are appending one element to the list, so it will take $N_{1} + N_{2}$ iterations until we have the whole list.\n",
    "\n",
    "The complexity of `flatten` is a little more complicated to calculate.  Suppose our `NestedLinkedList` has $N$ linked lists and each list's length is represented by $M_{1}, M_{2}, ..., M_{N}$.\n",
    "\n",
    "We can represent this recursion as:\n",
    "\n",
    "$merge(M_{1}, merge(M_{2}, merge(..., merge(M_{N-1}, merge(M_{N}, None)))))$\n",
    "\n",
    "Let's start from the inside.  The inner most merge returns the $nth$ linked list.  The next merge does $M_{N-1} + M_{N}$ comparisons.  The next merge does $M_{N-2} + M_{N-1} + M_{N}$ comparisons.\n",
    "\n",
    "Eventually we will do $N$ comparisons on all of the $M_{N}$ elements. We will do $N-1$ comparisons on $M_{N-1}$ elements.\n",
    "\n",
    "This can be generalized as:\n",
    "\n",
    "$$\n",
    "\\sum_n^N n*M_{n}\n",
    "$$"
   ]
  }
 ],
 "metadata": {
  "kernelspec": {
   "display_name": "Python 3",
   "language": "python",
   "name": "python3"
  },
  "language_info": {
   "codemirror_mode": {
    "name": "ipython",
    "version": 3
   },
   "file_extension": ".py",
   "mimetype": "text/x-python",
   "name": "python",
   "nbconvert_exporter": "python",
   "pygments_lexer": "ipython3",
   "version": "3.7.2"
  }
 },
 "nbformat": 4,
 "nbformat_minor": 2
}
