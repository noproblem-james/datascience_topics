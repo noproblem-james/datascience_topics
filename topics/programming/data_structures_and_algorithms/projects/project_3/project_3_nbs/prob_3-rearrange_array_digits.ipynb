{
 "cells": [
  {
   "cell_type": "markdown",
   "metadata": {},
   "source": [
    "## Rearrange Array Elements\n",
    "Rearrange Array Elements so as to form two number such that their sum is maximum. Return these two numbers. You can assume that all array elements are in the range [0, 9]. The number of digits in both the numbers cannot differ by more than 1. You're not allowed to use any sorting function that Python provides and the expected time complexity is O(nlog(n)).\n",
    "\n",
    "for e.g. [1, 2, 3, 4, 5]\n",
    "\n",
    "The expected answer would be [531, 42]. Another expected answer can be [542, 31]. In scenarios such as these when there are more than one possible answers, return any one.\n",
    "\n",
    "Here is some boilerplate code and test cases to start with:"
   ]
  },
  {
   "cell_type": "code",
   "execution_count": 57,
   "metadata": {},
   "outputs": [],
   "source": [
    "def rearrange_digits(arr):\n",
    "    \"\"\"\n",
    "    Rearrange Array Elements so as to form two number such that their sum is maximum.\n",
    "\n",
    "    Args:\n",
    "       input_list(list): Input List\n",
    "    Returns:\n",
    "       (int),(int): Two maximum sums\n",
    "    \"\"\"\n",
    "    if not arr:\n",
    "        return []\n",
    "    heapsort(arr)\n",
    "    return make_two_nums(arr)"
   ]
  },
  {
   "cell_type": "code",
   "execution_count": 58,
   "metadata": {},
   "outputs": [],
   "source": [
    "def make_two_nums(arr):\n",
    "    num_1 = \"\"\n",
    "    num_2 = \"\"\n",
    "    for ranking, digit in enumerate(arr):\n",
    "        if ranking % 2: \n",
    "            num_1 = str(digit) + num_1\n",
    "        else:\n",
    "            num_2 = str(digit) + num_2\n",
    "    return [int(num_1), int(num_2)]"
   ]
  },
  {
   "cell_type": "code",
   "execution_count": 59,
   "metadata": {},
   "outputs": [],
   "source": [
    "def heapify(arr, n, i):\n",
    "    largest_index = i\n",
    "    left_node = 2 * i + 1     \n",
    "    right_node = 2 * i + 2\n",
    "    \n",
    "    if left_node < n and arr[i] < arr[left_node]: \n",
    "        largest_index = left_node\n",
    "        \n",
    "    if right_node < n and arr[largest_index] < arr[right_node]: \n",
    "        largest_index = right_node\n",
    "    \n",
    "    if largest_index != i: \n",
    "        arr[i], arr[largest_index] = arr[largest_index], arr[i]  #swap parent node and child node\n",
    "        heapify(arr, n, largest_index) \n",
    "        \n",
    "def heapsort(arr):\n",
    "    n = len(arr) \n",
    "\n",
    "    for i in range(n, -1, -1):\n",
    "        heapify(arr, n, i) \n",
    "\n",
    "    for i in range(n-1, 0, -1): \n",
    "        arr[i], arr[0] = arr[0], arr[i] #swap root node and current node\n",
    "        heapify(arr, i, 0) "
   ]
  },
  {
   "cell_type": "markdown",
   "metadata": {},
   "source": [
    "## Test"
   ]
  },
  {
   "cell_type": "code",
   "execution_count": 66,
   "metadata": {},
   "outputs": [
    {
     "name": "stdout",
     "output_type": "stream",
     "text": [
      "Pass\n",
      "Pass\n",
      "Pass\n",
      "Pass\n"
     ]
    }
   ],
   "source": [
    "def test_function(test_case):\n",
    "    output = rearrange_digits(test_case[0])\n",
    "    solution = test_case[1]\n",
    "    if sum(output) == sum(solution):\n",
    "        print(\"Pass\")\n",
    "    else:\n",
    "        print(\"Fail\")\n",
    "\n",
    "test_cases = [\n",
    "    [[4, 6, 2, 5, 9, 8], [964, 852]], \n",
    "    [[1, 2, 3, 4, 5], [542, 31]],\n",
    "    [[],[]],\n",
    "    [[1, 2, 2, 0], [21, 20]]\n",
    "]\n",
    "for test_case in test_cases:\n",
    "    test_function(test_case)"
   ]
  },
  {
   "cell_type": "markdown",
   "metadata": {},
   "source": [
    "## Write up"
   ]
  },
  {
   "cell_type": "markdown",
   "metadata": {},
   "source": [
    "Once we have a sorted array, we can simply iterate over it, convert every digit to a string, append the even-indexed elements to one string and the odd-indexed elements to another string, and, once we've exhaused the elements in the array, convert the two resultant strings to integers.\n",
    "\n",
    "Because the most efficient sorting algorithms like mergesort and heapsort all operate with a time efficiency of `O(n*log(n))`, we don't introduce substantially more time complexity by iterating through the (sorted) array a second time. The complexity of two \"adjacent\" loops is O(n) + O(n) --> O(n + n) --> O(2n). Because constants drop out of complexity calculations, `O(2n)` reduces to `O(n)`. \n",
    "\n",
    "Converting the data type from `int` to `str` and back operates in constant time.\n",
    "\n",
    "The space complexity is `O(n)`, because we need to create two separate arrays (strings) from the input before returning them."
   ]
  },
  {
   "cell_type": "code",
   "execution_count": null,
   "metadata": {},
   "outputs": [],
   "source": []
  },
  {
   "cell_type": "markdown",
   "metadata": {},
   "source": [
    "# Explore"
   ]
  },
  {
   "cell_type": "code",
   "execution_count": null,
   "metadata": {},
   "outputs": [],
   "source": [
    "def heapsort(arr):\n",
    "    # First convert the array into a maxheap by calling heapify on each node, \n",
    "    # starting from the end now that you have a maxheap, \n",
    "    # you can swap the first element (largest) to the end (final position)\n",
    "    # and make the array minus the last element into maxheap again.  Continue to do this until the whole\n",
    "    # array is sorted\n",
    "    n = len(arr) \n",
    "    \n",
    "    # Build a maxheap.\n",
    "    print(\"BUILD A MAXHEAP\")\n",
    "    for i in range(n, -1, -1):\n",
    "        print(\"counting backward: \", i)\n",
    "        heapify(arr, n, i) \n",
    "\n",
    "    # One by one extract elements \n",
    "    print(\"\\n\\nEXTRACT ELEMENTS\\n\")\n",
    "    for i in range(n-1, 0, -1): \n",
    "        arr[i], arr[0] = arr[0], arr[i] # swap \n",
    "        heapify(arr, i, 0) "
   ]
  },
  {
   "cell_type": "code",
   "execution_count": 15,
   "metadata": {},
   "outputs": [],
   "source": [
    "def heapify(arr, n, i):\n",
    "    # Using i as the index of the current node, find the 2 child nodes \n",
    "    # (if the array were a binary tree)\n",
    "    # and find the largest value.   \n",
    "#     If one of the children is larger swap the values and recurse into that subtree\n",
    "        \n",
    "    print(\"index: \", i)\n",
    "    print(\"array: \", arr)\n",
    "    largest_index = i # consider current index as largest\n",
    "    left_node = 2 * i + 1     \n",
    "    right_node = 2 * i + 2\n",
    "#     print(f\" index: {i}: {arr[i]}\\n left_node: {left_node}: {arr[left_node]}\\n right node: {right_node}: {arr[right_node]}\")\n",
    "    \n",
    "    # compare with left child\n",
    "    if left_node < n and arr[i] < arr[left_node]: \n",
    "        largest_index = left_node\n",
    "    \n",
    "    # compare with right child\n",
    "    if right_node < n and arr[largest_index] < arr[right_node]: \n",
    "        largest_index = right_node\n",
    "    \n",
    "    # if either of left / right child is the largest node\n",
    "    if largest_index != i: \n",
    "        print(f\"SWAPPED. New largest index = {largest_index}\")\n",
    "        arr[i], arr[largest_index] = arr[largest_index], arr[i] #swap places\n",
    "\n",
    "        heapify(arr, n, largest_index)\n"
   ]
  },
  {
   "cell_type": "code",
   "execution_count": 30,
   "metadata": {},
   "outputs": [],
   "source": [
    "arr = [6,5,3,1,8,7,2,4]\n",
    "\n",
    "n = len(arr)"
   ]
  },
  {
   "cell_type": "code",
   "execution_count": 32,
   "metadata": {},
   "outputs": [
    {
     "name": "stdout",
     "output_type": "stream",
     "text": [
      "BUILD A MAXHEAP\n",
      "\n",
      "counting backward:  8\n",
      "index:  8\n",
      "array:  [6, 5, 3, 1, 8, 7, 2, 4]\n",
      "\n",
      "\n",
      "counting backward:  7\n",
      "index:  7\n",
      "array:  [6, 5, 3, 1, 8, 7, 2, 4]\n",
      "\n",
      "\n",
      "counting backward:  6\n",
      "index:  6\n",
      "array:  [6, 5, 3, 1, 8, 7, 2, 4]\n",
      "\n",
      "\n",
      "counting backward:  5\n",
      "index:  5\n",
      "array:  [6, 5, 3, 1, 8, 7, 2, 4]\n",
      "\n",
      "\n",
      "counting backward:  4\n",
      "index:  4\n",
      "array:  [6, 5, 3, 1, 8, 7, 2, 4]\n",
      "\n",
      "\n",
      "counting backward:  3\n",
      "index:  3\n",
      "array:  [6, 5, 3, 1, 8, 7, 2, 4]\n",
      "SWAPPED. New largest index = 7\n",
      "index:  7\n",
      "array:  [6, 5, 3, 4, 8, 7, 2, 1]\n",
      "\n",
      "\n",
      "counting backward:  2\n",
      "index:  2\n",
      "array:  [6, 5, 3, 4, 8, 7, 2, 1]\n",
      "SWAPPED. New largest index = 5\n",
      "index:  5\n",
      "array:  [6, 5, 7, 4, 8, 3, 2, 1]\n",
      "\n",
      "\n",
      "counting backward:  1\n",
      "index:  1\n",
      "array:  [6, 5, 7, 4, 8, 3, 2, 1]\n",
      "SWAPPED. New largest index = 4\n",
      "index:  4\n",
      "array:  [6, 8, 7, 4, 5, 3, 2, 1]\n",
      "\n",
      "\n",
      "counting backward:  0\n",
      "index:  0\n",
      "array:  [6, 8, 7, 4, 5, 3, 2, 1]\n",
      "SWAPPED. New largest index = 1\n",
      "index:  1\n",
      "array:  [8, 6, 7, 4, 5, 3, 2, 1]\n",
      "\n",
      "\n"
     ]
    }
   ],
   "source": [
    "print(\"BUILD A MAXHEAP\\n\")\n",
    "for i in range(n, -1, -1):\n",
    "    print(\"counting backward: \", i)\n",
    "    heapify(arr, n, i) \n",
    "    print(\"\\n\")"
   ]
  },
  {
   "cell_type": "code",
   "execution_count": 50,
   "metadata": {},
   "outputs": [
    {
     "name": "stdout",
     "output_type": "stream",
     "text": [
      "\n",
      "\n",
      "EXTRACT ELEMENTS\n",
      "\n",
      "7\n",
      "6\n",
      "5\n",
      "4\n",
      "3\n",
      "2\n",
      "1\n"
     ]
    }
   ],
   "source": [
    "print(\"\\n\\nEXTRACT ELEMENTS\\n\")\n",
    "for i in range(n-1, 0, -1): \n",
    "    print(i)\n",
    "    arr[i], arr[0] = arr[0], arr[i] # swap \n",
    "    heapify(arr, i, 0) "
   ]
  }
 ],
 "metadata": {
  "kernelspec": {
   "display_name": "Python 3",
   "language": "python",
   "name": "python3"
  },
  "language_info": {
   "codemirror_mode": {
    "name": "ipython",
    "version": 3
   },
   "file_extension": ".py",
   "mimetype": "text/x-python",
   "name": "python",
   "nbconvert_exporter": "python",
   "pygments_lexer": "ipython3",
   "version": "3.7.2"
  }
 },
 "nbformat": 4,
 "nbformat_minor": 2
}
