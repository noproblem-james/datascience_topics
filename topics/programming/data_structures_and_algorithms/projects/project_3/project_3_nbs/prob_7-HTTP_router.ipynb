{
 "cells": [
  {
   "cell_type": "markdown",
   "metadata": {},
   "source": [
    "## HTTP Router using a Trie\n",
    "For this exercise we are going to implement an HTTPRouter like you would find in a typical web server using the Trie data structure we learned previously.\n",
    "\n",
    "There are many different implementations of HTTP Routers such as regular expressions or simple string matching, but the Trie is an excellent and very efficient data structure for this purpose.\n",
    "\n",
    "The purpose of an HTTP Router is to take a URL path like \"/\", \"/about\", or \"/blog/2019-01-15/my-awesome-blog-post\" and figure out what content to return. In a dynamic web server, the content will often come from a block of code called a handler.\n",
    "\n",
    "![title](https://s3.amazonaws.com/video.udacity-data.com/topher/2017/August/598b5e9b_2-5-managing-app-location-with-react-router-2x/2-5-managing-app-location-with-react-router-2x.jpg)"
   ]
  },
  {
   "cell_type": "markdown",
   "metadata": {},
   "source": [
    "First we need to implement a slightly different Trie than the one we used for autocomplete. Instead of simple words the Trie will contain a part of the http path at each node, building from the root node /\n",
    "\n",
    "In addition to a path though, we need to know which function will handle the http request. In a real router we would probably pass an instance of a class like Python's [SimpleHTTPRequestHandler](https://docs.python.org/3/library/http.server.html#http.server.SimpleHTTPRequestHandler) which would be responsible for handling requests to that path. For the sake of simplicity we will just use a string that we can print out to ensure we got the right handler\n",
    "\n",
    "We could split the path into letters similar to how we did the autocomplete Trie, but this would result in a Trie with a very large number of nodes and lengthy traversals if we have a lot of pages on our site. A more sensible way to split things would be on the parts of the path that are separated by slashes (\"/\"). A Trie with a single path entry of: \"/about/me\" would look like:\n",
    "\n",
    "(root, None) -> (\"about\", None) -> (\"me\", \"About Me handler\")\n",
    "\n",
    "We can also simplify our RouteTrie a bit by excluding the suffixes method and the endOfWord property on RouteTrieNodes. We really just need to insert and find nodes, and if a RouteTrieNode is not a leaf node, it won't have a handler which is fine."
   ]
  },
  {
   "cell_type": "markdown",
   "metadata": {},
   "source": [
    "Next we need to implement the actual Router. The router will initialize itself with a RouteTrie for holding routes and associated handlers. It should also support adding a handler by path and looking up a handler by path. All of these operations will be delegated to the RouteTrie.\n",
    "\n",
    "Hint: the RouteTrie stores handlers under path parts, so remember to split your path around the '/' character\n",
    "\n",
    "Bonus Points: Add a not found handler to your Router which is returned whenever a path is not found in the Trie.\n",
    "\n",
    "More Bonus Points: Handle trailing slashes! A request for '/about' or '/about/' are probably looking for the same page. Requests for '' or '/' are probably looking for the root handler. Handle these edge cases in your Router."
   ]
  },
  {
   "cell_type": "code",
   "execution_count": 338,
   "metadata": {},
   "outputs": [],
   "source": [
    "# A RouteTrieNode will be similar to our autocomplete TrieNode... \n",
    "# with one additional element, a handler.\n",
    "class RouteTrieNode:\n",
    "    def __init__(self, handler=None):\n",
    "        # Initialize the node with children as before, plus a handler\n",
    "        self.handler = handler\n",
    "        self.children = {}\n",
    "    def __repr__(self):\n",
    "        return f\"{self.__class__.__name__}(handler={self.handler}, children= {self.children})\""
   ]
  },
  {
   "cell_type": "code",
   "execution_count": 312,
   "metadata": {},
   "outputs": [],
   "source": [
    "class RouteTrie:\n",
    "    def __init__(self, root_handler=None):\n",
    "        self.root = RouteTrieNode(handler=root_handler)\n",
    "        \n",
    "    def insert(self, path_parts, handler):\n",
    "        current_node = self.root\n",
    "        for part in path_parts:\n",
    "            if part not in current_node.children:\n",
    "                current_node.children[part] = RouteTrieNode()\n",
    "            current_node = current_node.children[part]\n",
    "            \n",
    "        current_node.handler = handler\n",
    "\n",
    "    def find(self, path_parts):\n",
    "        current_node = self.root\n",
    "        for part in path_parts:\n",
    "            if part not in current_node.children:\n",
    "                return None\n",
    "            else:\n",
    "                current_node = current_node.children[part]\n",
    "        handler = current_node.handler\n",
    "        return handler\n",
    "        "
   ]
  },
  {
   "cell_type": "code",
   "execution_count": 319,
   "metadata": {},
   "outputs": [],
   "source": [
    "class Router:\n",
    "    def __init__(self, root_handler, not_found_handler):\n",
    "        self.rt = RouteTrie(root_handler=root_handler)\n",
    "        self.not_found_handler = not_found_handler\n",
    "        # Create a new RouteTrie for holding our routes\n",
    "        # You could also add a handler for 404 page not found responses as well!\n",
    "\n",
    "    def add_handler(self, path, handler):\n",
    "        path_parts = self.split_path(path)\n",
    "        self.rt.insert(path_parts, handler)\n",
    "\n",
    "    def lookup(self, path):\n",
    "        if path == \"/\":\n",
    "            return root_handler\n",
    "        path_parts = self.split_path(path)\n",
    "        handler = self.rt.find(path_parts)\n",
    "        if handler is None:\n",
    "            return self.not_found_handler\n",
    "        else:\n",
    "            return handler\n",
    "    def split_path(self, path):\n",
    "        return path.strip(\"/\").split(\"/\")\n"
   ]
  },
  {
   "cell_type": "markdown",
   "metadata": {},
   "source": [
    "### Test Cases\n"
   ]
  },
  {
   "cell_type": "code",
   "execution_count": 333,
   "metadata": {},
   "outputs": [
    {
     "name": "stdout",
     "output_type": "stream",
     "text": [
      "you've found home\n",
      "404. Thats an error.\n",
      "about handler\n",
      "about handler\n",
      "404. Thats an error.\n"
     ]
    }
   ],
   "source": [
    "\n",
    "# create the router and add a route\n",
    "router = Router(\"root handler\", \"404. Thats an error.\")\n",
    "router.add_handler(\"/home/about\", \"about handler\")  # add a route\n",
    "# some lookups with the expected output\n",
    "print(router.lookup(\"/\")) # should print 'root handler'\n",
    "print(router.lookup(\"/home\")) # should print 'not found handler' or None if you did not implement one\n",
    "print(router.lookup(\"/home/about\")) # should print 'about handler'\n",
    "print(router.lookup(\"/home/about/\")) # should print 'about handler' or None if you did not handle trailing slashes\n",
    "print(router.lookup(\"/home/about/me\")) # should print 'not found handler' or None if you did not implement one"
   ]
  },
  {
   "cell_type": "markdown",
   "metadata": {},
   "source": [
    "## Write up\n",
    "`.lookup()` executes in `O(n)` time in the worst case, where n is the number of path-parts in the path we're looking up. This is because we still need to look through every single part of the path until we get to ensure that it exists. I figure that the best case (from a time efficiency standpoint) is when the first part of the path doesn't exist in the children of the root of the trie and we return `None` (or our '404 error not found' message) after just one attempt to traverse down th trie.\n",
    "\n",
    "`.add_handler()` has a time efficiency of of `O(n)` in the worst case scenario. We first need to iterate through the path to split it into chunks at the slash marks, and then we also need to use `insert()`, which operates in `O(n)` time for a trie.\n",
    "\n",
    "Similar to the answer for problem 5, I believe that in the worst-case scenario, the space efficiency is `O(n)`, because no path would be a prefix to any other path and thus each part of each path would have a separate node. This is unlikely in practice, however. The whole point of using a trie is to take advantage of a situation where many keys share the same prefix. "
   ]
  },
  {
   "cell_type": "code",
   "execution_count": null,
   "metadata": {},
   "outputs": [],
   "source": [
    "a"
   ]
  }
 ],
 "metadata": {
  "kernelspec": {
   "display_name": "Python 3",
   "language": "python",
   "name": "python3"
  },
  "language_info": {
   "codemirror_mode": {
    "name": "ipython",
    "version": 3
   },
   "file_extension": ".py",
   "mimetype": "text/x-python",
   "name": "python",
   "nbconvert_exporter": "python",
   "pygments_lexer": "ipython3",
   "version": "3.7.2"
  }
 },
 "nbformat": 4,
 "nbformat_minor": 2
}
