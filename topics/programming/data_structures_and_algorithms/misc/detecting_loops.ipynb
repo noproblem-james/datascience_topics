{
 "cells": [
  {
   "cell_type": "markdown",
   "metadata": {
    "graffitiCellId": "id_0d6ntqj"
   },
   "source": [
    "# Detecting Loops in Linked Lists\n",
    "\n",
    "In this notebook, you'll implement a function that detects if a loop exists in a linked list. The way we'll do this is by having two pointers, called \"runners\", moving through the list at different rates. Typically we have a \"slow\" runner which moves at one node per step and a \"fast\" runner that moves at two nodes per step.\n",
    "\n",
    "If a loop exists in the list, the fast runner will eventually move behind the slow runner as it moves to the beginning of the loop. Eventually it will catch up to the slow runner and both runners will be pointing to the same node at the same time. If this happens then you know there is a loop in the linked list. Below is an example where we have a slow runner (the green arrow) and a fast runner (the red arrow).\n",
    "\n",
    "<center><img src='assets/two_runners_circular.png' width=300px></center>"
   ]
  },
  {
   "cell_type": "code",
   "execution_count": 1,
   "metadata": {
    "graffitiCellId": "id_kqi6rp6"
   },
   "outputs": [],
   "source": [
    "class Node:\n",
    "    def __init__(self, value):\n",
    "        self.value = value\n",
    "        self.next = None\n",
    "        \n",
    "class LinkedList:\n",
    "    def __init__(self, init_list=None):\n",
    "        self.head = None\n",
    "        if init_list:\n",
    "            for value in init_list:\n",
    "                self.append(value)\n",
    "        \n",
    "    def append(self, value):\n",
    "        if self.head is None:\n",
    "            self.head = Node(value)\n",
    "            return\n",
    "        \n",
    "        # Move to the tail (the last node)\n",
    "        node = self.head\n",
    "        while node.next:\n",
    "            node = node.next\n",
    "        \n",
    "        node.next = Node(value)\n",
    "        return"
   ]
  },
  {
   "cell_type": "code",
   "execution_count": 2,
   "metadata": {
    "graffitiCellId": "id_17pg09d"
   },
   "outputs": [],
   "source": [
    "list_with_loop = LinkedList([2, -1, 3, 0, 5])\n",
    "\n",
    "# Creating a loop where the last node points back to the second node\n",
    "loop_start = list_with_loop.head.next\n",
    "\n",
    "node = list_with_loop.head\n",
    "while node.next: \n",
    "    node = node.next   \n",
    "node.next = loop_start"
   ]
  },
  {
   "cell_type": "markdown",
   "metadata": {
    "graffitiCellId": "id_kwwwkfx"
   },
   "source": [
    ">**Exercise:** Given a linked list, implement a function `iscircular` that returns `True` if a loop exists in the list and `False` otherwise."
   ]
  },
  {
   "cell_type": "code",
   "execution_count": null,
   "metadata": {},
   "outputs": [],
   "source": []
  },
  {
   "cell_type": "code",
   "execution_count": 92,
   "metadata": {
    "graffitiCellId": "id_bgz20kt"
   },
   "outputs": [],
   "source": [
    "def iscircular(linked_list):\n",
    "    \"\"\"\n",
    "    Determine wether the Linked List is circular or not\n",
    "\n",
    "    Args:\n",
    "       linked_list(obj): Linked List to be checked\n",
    "    Returns:\n",
    "       bool: Return True if the linked list is circular, return False otherwise\n",
    "    \"\"\"\n",
    "    if linked_list.head.next == None: # there is only one node and it doesnt link to itself\n",
    "        return False\n",
    "    elif linked_list.head.next == linked_list.head: # there is only one node and it does link to itself\n",
    "        return True\n",
    "    else: slow_node = linked_list.head.next\n",
    "        \n",
    "    \n",
    "    if linked_list.head.next.next == None: # There are only two nodes\n",
    "        if linked_list.head.next == linked_list.head: # second node links to first node\n",
    "            return True\n",
    "        else:\n",
    "            return False # The second node does not link to first node\n",
    "    else: fast_node = linked_list.head.next.next # can assign a fast node\n",
    "        \n",
    "    while slow_node != fast_node:\n",
    "        if slow_node.next:\n",
    "            slow_node = slow_node.next\n",
    "        else:\n",
    "            slow_node = slow_node\n",
    "        if fast_node.next:\n",
    "            if fast_node.next.next:\n",
    "                fast_node = fast_node.next.next\n",
    "            else:\n",
    "                fast_node = fast_node.next\n",
    "        else:\n",
    "            return False\n",
    "    else:\n",
    "        return True\n",
    "    return False"
   ]
  },
  {
   "cell_type": "code",
   "execution_count": 93,
   "metadata": {
    "graffitiCellId": "id_fob6797",
    "scrolled": false
   },
   "outputs": [
    {
     "name": "stdout",
     "output_type": "stream",
     "text": [
      "Pass\n",
      "Pass\n",
      "Pass\n"
     ]
    }
   ],
   "source": [
    "# Test Cases\n",
    "print(\"Pass\" if (iscircular(list_with_loop) == True) else \"Fail\")\n",
    "print(\"Pass\" if  (iscircular(LinkedList([-4, 7, 2, 5, -1])) == False) else \"Fail\")\n",
    "print(\"Pass\" if  (iscircular(LinkedList([1])) == False) else \"Fail\")"
   ]
  },
  {
   "cell_type": "code",
   "execution_count": 94,
   "metadata": {},
   "outputs": [
    {
     "name": "stdout",
     "output_type": "stream",
     "text": [
      "Pass\n",
      "Pass\n",
      "Pass\n"
     ]
    }
   ],
   "source": [
    "one_el_loop = LinkedList([2])\n",
    "one_el_loop.head.next = one_el_loop.head\n",
    "\n",
    "two_el_loop = LinkedList([1, 2])\n",
    "two_el_loop.head.next.next = two_el_loop.head\n",
    "\n",
    "print(\"Pass\" if (iscircular(one_el_loop)) else \"Fail\")\n",
    "print(\"Pass\" if (iscircular(two_el_loop)) else \"Fail\")\n",
    "print(\"Pass\" if (iscircular(LinkedList([1, 2])) == False) else \"Fail\")\n"
   ]
  },
  {
   "cell_type": "markdown",
   "metadata": {
    "graffitiCellId": "id_eri3f3v"
   },
   "source": [
    "<span class=\"graffiti-highlight graffiti-id_eri3f3v-id_dtrlqlr\"><i></i><button>Show Solution</button></span>"
   ]
  },
  {
   "cell_type": "code",
   "execution_count": null,
   "metadata": {},
   "outputs": [],
   "source": []
  }
 ],
 "metadata": {
  "graffiti": {
   "firstAuthorId": "10694620118",
   "id": "id_ao3gp0i",
   "language": "EN"
  },
  "kernelspec": {
   "display_name": "Python 3",
   "language": "python",
   "name": "python3"
  },
  "language_info": {
   "codemirror_mode": {
    "name": "ipython",
    "version": 3
   },
   "file_extension": ".py",
   "mimetype": "text/x-python",
   "name": "python",
   "nbconvert_exporter": "python",
   "pygments_lexer": "ipython3",
   "version": "3.9.1"
  }
 },
 "nbformat": 4,
 "nbformat_minor": 2
}
