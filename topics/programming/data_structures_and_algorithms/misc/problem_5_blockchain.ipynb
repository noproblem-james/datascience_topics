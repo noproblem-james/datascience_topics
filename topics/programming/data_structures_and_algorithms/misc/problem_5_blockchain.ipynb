{
 "cells": [
  {
   "cell_type": "markdown",
   "metadata": {},
   "source": [
    "### Blockchain\n",
    "A Blockchain is a sequential chain of records, similar to a linked list. Each block contains some information and how it is connected related to the other blocks in the chain. Each block contains a cryptographic hash of the previous block, a timestamp, and transaction data. For our blockchain we will be using a SHA-256 hash, the Greenwich Mean Time when the block was created, and text strings as the data.\n",
    "\n",
    "Use your knowledge of linked lists and hashing to create a blockchain implementation.\n",
    "\n",
    "\n",
    "We can break the blockchain down into three main parts.\n",
    "\n",
    "First is the information hash:\n",
    "\n",
    "```python\n",
    "import hashlib\n",
    "def calc_hash(self):\n",
    "      sha = hashlib.sha256()\n",
    "      hash_str = \"We are going to encode this string of data!\".encode('utf-8')\n",
    "      sha.update(hash_str)\n",
    "      return sha.hexdigest()\n",
    "```\n",
    "We do this for the information we want to store in the block chain such as transaction time, data, and information like the previous chain.\n",
    "\n",
    "The next main component is the block on the blockchain:\n",
    "\n",
    "```python\n",
    "class Block:\n",
    "\n",
    "    def __init__(self, timestamp, data, previous_hash):\n",
    "      self.timestamp = timestamp\n",
    "      self.data = data\n",
    "      self.previous_hash = previous_hash\n",
    "      self.hash = self.calc_hash()\n",
    "```\n",
    "Above is an example of attributes you could find in a Block class.\n",
    "\n",
    "Finally you need to link all of this together in a block chain, which you will be doing by implementing it in a linked list. All of this will help you build up to a simple but full blockchain implementation!"
   ]
  },
  {
   "cell_type": "code",
   "execution_count": 1,
   "metadata": {},
   "outputs": [],
   "source": [
    "import hashlib\n",
    "import json\n",
    "from datetime import datetime"
   ]
  },
  {
   "cell_type": "code",
   "execution_count": 23,
   "metadata": {},
   "outputs": [],
   "source": [
    "class Block:\n",
    "\n",
    "    def __init__(self, data, prev_hash):\n",
    "        self.data = data\n",
    "        self.prev_hash = prev_hash\n",
    "        self.serialized = self.serialize()\n",
    "        self.hash = self.calc_hash()\n",
    "        self.timestamp = datetime.timestamp(datetime.utcnow())\n",
    "        \n",
    "    def serialize(self):\n",
    "        jsonified = json.dumps(self, \n",
    "                               default=lambda o: o.__dict__, \n",
    "                               sort_keys=True).encode('utf-8')\n",
    "        return jsonified\n",
    "    \n",
    "    def calc_hash(self):\n",
    "        sha = hashlib.sha256()\n",
    "        sha.update(self.serialized)\n",
    "        return sha.hexdigest()"
   ]
  },
  {
   "cell_type": "code",
   "execution_count": 24,
   "metadata": {},
   "outputs": [],
   "source": [
    "class Blockchain:\n",
    "    \n",
    "    def __init__(self):\n",
    "        self.head = None\n",
    "        self.tail = None\n",
    "        self.num_blocks = 0\n",
    "\n",
    "    def put(self, data):\n",
    "        if self.head is None:\n",
    "            new_block = Block(data=data, prev_hash=None)\n",
    "            self.head = new_block\n",
    "            self.tail = new_block\n",
    "        else:\n",
    "            current_tail = self.tail\n",
    "            current_hash = current_tail.hash\n",
    "            new_block = Block(data=data, prev_hash=current_hash)\n",
    "            self.tail = new_block"
   ]
  },
  {
   "cell_type": "code",
   "execution_count": 25,
   "metadata": {},
   "outputs": [],
   "source": [
    "first_block = Block(data=\"bird is the word\", prev_hash=None)"
   ]
  },
  {
   "cell_type": "code",
   "execution_count": 26,
   "metadata": {},
   "outputs": [
    {
     "name": "stdout",
     "output_type": "stream",
     "text": [
      "b'{\"data\": \"bird is the word\", \"prev_hash\": null}' 060553cecb50dbc3c9ee8b5f3fad6860059ff6da5a5da7a45c71ce5061de8d58\n"
     ]
    }
   ],
   "source": [
    "print(\n",
    "    first_block.serialized,\n",
    "    first_block.hash\n",
    ")"
   ]
  },
  {
   "cell_type": "code",
   "execution_count": 27,
   "metadata": {},
   "outputs": [],
   "source": [
    "second_block = Block(data=\"John Wayne, is that you?\", prev_hash=first_block.hash)"
   ]
  },
  {
   "cell_type": "code",
   "execution_count": 28,
   "metadata": {},
   "outputs": [
    {
     "name": "stdout",
     "output_type": "stream",
     "text": [
      "b'{\"data\": \"John Wayne, is that you?\", \"prev_hash\": \"060553cecb50dbc3c9ee8b5f3fad6860059ff6da5a5da7a45c71ce5061de8d58\"}' dec75b61c3bc5f32bd5bd9e6720759082477e7d3a598b9382a268e04e35c2656\n"
     ]
    }
   ],
   "source": [
    "print(\n",
    "    second_block.serialized,\n",
    "    second_block.hash\n",
    ")"
   ]
  },
  {
   "cell_type": "code",
   "execution_count": 29,
   "metadata": {
    "scrolled": true
   },
   "outputs": [],
   "source": [
    "#TEST\n",
    "\n",
    "test_chain_1 = Blockchain()\n",
    "for n in range(4):\n",
    "    test_chain_1.put(n)\n",
    "\n",
    "\n",
    "test_chain_2 = Blockchain()\n",
    "for n in range(4):\n",
    "    test_chain_2.put(n)\n",
    "    \n",
    "# test_chain_1.verify() == test_chain_2.verify()"
   ]
  },
  {
   "cell_type": "code",
   "execution_count": 30,
   "metadata": {
    "scrolled": false
   },
   "outputs": [
    {
     "data": {
      "text/plain": [
       "True"
      ]
     },
     "execution_count": 30,
     "metadata": {},
     "output_type": "execute_result"
    }
   ],
   "source": []
  },
  {
   "cell_type": "code",
   "execution_count": 31,
   "metadata": {
    "scrolled": true
   },
   "outputs": [
    {
     "data": {
      "text/plain": [
       "True"
      ]
     },
     "execution_count": 31,
     "metadata": {},
     "output_type": "execute_result"
    }
   ],
   "source": [
    "#TEST\n",
    "\n",
    "test_chain_1 = Blockchain()\n",
    "for n in range(4):\n",
    "    test_chain_1.put(n)\n",
    "\n",
    "\n",
    "test_chain_2 = Blockchain()\n",
    "for n in range(4):\n",
    "    test_chain_2.put(n)\n",
    "    \n",
    "test_chain_1.tail.hash == test_chain_2.tail.hash"
   ]
  },
  {
   "cell_type": "code",
   "execution_count": 218,
   "metadata": {},
   "outputs": [],
   "source": [
    "test_chain_2.head.data = 100"
   ]
  },
  {
   "cell_type": "code",
   "execution_count": 219,
   "metadata": {},
   "outputs": [
    {
     "data": {
      "text/plain": [
       "True"
      ]
     },
     "execution_count": 219,
     "metadata": {},
     "output_type": "execute_result"
    }
   ],
   "source": [
    "test_chain_1.verify() == test_chain_2.verify()"
   ]
  },
  {
   "cell_type": "code",
   "execution_count": 137,
   "metadata": {},
   "outputs": [],
   "source": [
    "my_chain.head.data = \"red rover let jimmy come over\""
   ]
  },
  {
   "cell_type": "code",
   "execution_count": 138,
   "metadata": {
    "scrolled": true
   },
   "outputs": [
    {
     "data": {
      "text/plain": [
       "'d010c25da47dceed718254685bddcfaa42fb356a0af52f5e2fec110aaa900532'"
      ]
     },
     "execution_count": 138,
     "metadata": {},
     "output_type": "execute_result"
    }
   ],
   "source": [
    "my_chain.verify()"
   ]
  },
  {
   "cell_type": "code",
   "execution_count": null,
   "metadata": {},
   "outputs": [],
   "source": []
  }
 ],
 "metadata": {
  "kernelspec": {
   "display_name": "Python 3",
   "language": "python",
   "name": "python3"
  },
  "language_info": {
   "codemirror_mode": {
    "name": "ipython",
    "version": 3
   },
   "file_extension": ".py",
   "mimetype": "text/x-python",
   "name": "python",
   "nbconvert_exporter": "python",
   "pygments_lexer": "ipython3",
   "version": "3.7.2"
  }
 },
 "nbformat": 4,
 "nbformat_minor": 2
}
