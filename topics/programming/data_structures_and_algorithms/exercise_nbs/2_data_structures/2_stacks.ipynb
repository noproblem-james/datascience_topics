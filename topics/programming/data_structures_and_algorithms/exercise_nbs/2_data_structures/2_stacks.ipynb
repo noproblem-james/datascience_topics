{
 "cells": [
  {
   "cell_type": "code",
   "execution_count": 1,
   "id": "injured-spouse",
   "metadata": {},
   "outputs": [],
   "source": [
    "class Node():\n",
    "    def __init__(self, value):\n",
    "        self.value = value\n",
    "        self.next = None\n",
    "\n",
    "class Stack():\n",
    "    '''\n",
    "    LIFO\n",
    "    '''\n",
    "    def __init__(self):\n",
    "        self.head = None\n",
    "        self.size = 0\n",
    "        \n",
    "    def __repr__(self):\n",
    "        if self.head is None:\n",
    "            return \"Empty Stack\"\n",
    "        out_list = []\n",
    "        node = self.head\n",
    "        while node:\n",
    "            out_list.append(node.value)\n",
    "            node = node.next\n",
    "        out_string = \"-->\".join([str(x) for x in out_list])\n",
    "        return out_string\n",
    "            \n",
    "    def size(self):\n",
    "        return self.size\n",
    "        \n",
    "    def top(self):\n",
    "        if self.head is None:\n",
    "            return None\n",
    "        print(self.head.value)\n",
    "        \n",
    "    def push(self, value):\n",
    "        new_node = Node(value)\n",
    "        if self.head is not None:\n",
    "            new_node.next = self.head\n",
    "        self.head = new_node\n",
    "        self.size += 1\n",
    "        \n",
    "    def pop(self):\n",
    "        if self.head is None:\n",
    "            return None\n",
    "        node = self.head\n",
    "        self.head = node.next\n",
    "        return node.value"
   ]
  },
  {
   "cell_type": "code",
   "execution_count": 2,
   "id": "blind-lafayette",
   "metadata": {},
   "outputs": [],
   "source": [
    "my_stack = Stack()"
   ]
  },
  {
   "cell_type": "code",
   "execution_count": 3,
   "id": "disturbed-tourism",
   "metadata": {},
   "outputs": [
    {
     "data": {
      "text/plain": [
       "Empty Stack"
      ]
     },
     "execution_count": 3,
     "metadata": {},
     "output_type": "execute_result"
    }
   ],
   "source": [
    "my_stack"
   ]
  },
  {
   "cell_type": "code",
   "execution_count": 4,
   "id": "amateur-spouse",
   "metadata": {},
   "outputs": [],
   "source": [
    "my_stack.push(\"hello\")\n",
    "\n",
    "my_stack.push(\"I'm\")\n",
    "\n",
    "my_stack.push(\"Stack\")"
   ]
  },
  {
   "cell_type": "code",
   "execution_count": 7,
   "id": "asian-nature",
   "metadata": {},
   "outputs": [
    {
     "data": {
      "text/plain": [
       "Stack-->I'm-->hello"
      ]
     },
     "execution_count": 7,
     "metadata": {},
     "output_type": "execute_result"
    }
   ],
   "source": [
    "my_stack"
   ]
  },
  {
   "cell_type": "code",
   "execution_count": 8,
   "id": "referenced-interview",
   "metadata": {},
   "outputs": [
    {
     "data": {
      "text/plain": [
       "'Stack'"
      ]
     },
     "execution_count": 8,
     "metadata": {},
     "output_type": "execute_result"
    }
   ],
   "source": [
    "my_stack.head.value"
   ]
  },
  {
   "cell_type": "code",
   "execution_count": 9,
   "id": "nervous-rebecca",
   "metadata": {},
   "outputs": [
    {
     "name": "stdout",
     "output_type": "stream",
     "text": [
      "Stack\n"
     ]
    }
   ],
   "source": [
    "my_stack.top()"
   ]
  },
  {
   "cell_type": "code",
   "execution_count": 10,
   "id": "delayed-sunrise",
   "metadata": {},
   "outputs": [
    {
     "data": {
      "text/plain": [
       "3"
      ]
     },
     "execution_count": 10,
     "metadata": {},
     "output_type": "execute_result"
    }
   ],
   "source": [
    "my_stack.size"
   ]
  },
  {
   "cell_type": "code",
   "execution_count": 11,
   "id": "false-crash",
   "metadata": {},
   "outputs": [
    {
     "data": {
      "text/plain": [
       "'Stack'"
      ]
     },
     "execution_count": 11,
     "metadata": {},
     "output_type": "execute_result"
    }
   ],
   "source": [
    "my_stack.pop()"
   ]
  },
  {
   "cell_type": "code",
   "execution_count": 12,
   "id": "directed-mystery",
   "metadata": {},
   "outputs": [
    {
     "data": {
      "text/plain": [
       "I'm-->hello"
      ]
     },
     "execution_count": 12,
     "metadata": {},
     "output_type": "execute_result"
    }
   ],
   "source": [
    "my_stack"
   ]
  },
  {
   "cell_type": "code",
   "execution_count": null,
   "id": "rocky-brook",
   "metadata": {},
   "outputs": [],
   "source": []
  }
 ],
 "metadata": {
  "kernelspec": {
   "display_name": "Python 3",
   "language": "python",
   "name": "python3"
  },
  "language_info": {
   "codemirror_mode": {
    "name": "ipython",
    "version": 3
   },
   "file_extension": ".py",
   "mimetype": "text/x-python",
   "name": "python",
   "nbconvert_exporter": "python",
   "pygments_lexer": "ipython3",
   "version": "3.9.1"
  }
 },
 "nbformat": 4,
 "nbformat_minor": 5
}
