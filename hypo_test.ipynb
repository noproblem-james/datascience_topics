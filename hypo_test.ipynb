{
 "cells": [
  {
   "cell_type": "code",
   "execution_count": 1,
   "metadata": {},
   "outputs": [
    {
     "data": {
      "text/html": [
       "<style>.container { width:100% !important; }</style>"
      ],
      "text/plain": [
       "<IPython.core.display.HTML object>"
      ]
     },
     "metadata": {},
     "output_type": "display_data"
    }
   ],
   "source": [
    "from IPython.core.display import display, HTML\n",
    "display(HTML(\"<style>.container { width:100% !important; }</style>\"))\n"
   ]
  },
  {
   "cell_type": "markdown",
   "metadata": {},
   "source": [
    "# Hypothesis Testing"
   ]
  },
  {
   "cell_type": "markdown",
   "metadata": {},
   "source": [
    "## Motivation:\n",
    "\n",
    "#### In social science, business, and many other domains, we often want to compare two groups of things, but we cannot observe the entire populations and must rely on samples.\n",
    "\n",
    "####  Because samples vary, it's not immediately obvious whether an observed difference is due to chance alone (sampling variation) or due to an underlying difference between populations. \n",
    "\n",
    "#### However, we can exploit the fact that samples vary in a predictable way (due to the Central Limit Theoreom) in order to make comparisons and quantify the uncertainty of thsoe comparisons."
   ]
  },
  {
   "cell_type": "markdown",
   "metadata": {},
   "source": [
    "## Infomal Steps of a Hypothesis Test\n",
    "\n",
    "1. We make some hypothesis about the world (often in the form \"Group A is different from Group B.\")\n",
    "\n",
    "2. Then we make another hypothesis  (the null hypothesis) that is the opposite of our original hypothesis. (Often in the form: \"There is no significant difference between Group A and Group B.\")\n",
    "\n",
    "3. Then we ask the question: Assuming the Null Hypothesis is true, what is the probability that we drew the sample(s)? (Or... Given that there is no significant difference Group A and Group B, what is the chance that we observed the difference that we observed between the samples of the groups?)"
   ]
  },
  {
   "cell_type": "markdown",
   "metadata": {},
   "source": [
    "## Formal Steps of a Hypothesis Test\n",
    "\n",
    "1. State Null Hypothesis\n",
    "2. State Alternative Hypothesis\n",
    "3. Set Alpha\n",
    "4. Collect Data\n",
    "5. Calculate Test Statistic\n",
    "6. Construct Rejection Regions\n",
    "7. Draw conclusion"
   ]
  },
  {
   "cell_type": "markdown",
   "metadata": {},
   "source": [
    "## Questions to Answer about which statistical test to use:\n",
    "- One-sample or two-sample test?\n",
    "- If it's a two-sample test, are the samples paired or independent?\n",
    "- A two-tailed or one-tailed test?\n",
    "- A z-test or a t-test?"
   ]
  },
  {
   "cell_type": "markdown",
   "metadata": {},
   "source": [
    "## Pop quiz: What is alpha?"
   ]
  },
  {
   "cell_type": "markdown",
   "metadata": {},
   "source": [
    "<span style=\"color:white\"> \n",
    "With respect to hypothesis tests, alpha refers to significance level, the probability of making a Type I error, i.e., rejecting the null hypothesis when it is true.  \n",
    "</span>"
   ]
  },
  {
   "cell_type": "markdown",
   "metadata": {},
   "source": [
    "## Pop quiz: What is p?"
   ]
  },
  {
   "cell_type": "markdown",
   "metadata": {},
   "source": [
    "<span style=\"color:white\"> \n",
    "p is the probability of drawing the sample(s) you drew, or one(s) more extreme, by chance alone, given that the null hypothesis is true.\n",
    "</span>"
   ]
  },
  {
   "cell_type": "markdown",
   "metadata": {},
   "source": [
    "# Demo"
   ]
  },
  {
   "cell_type": "markdown",
   "metadata": {
    "collapsed": true
   },
   "source": [
    "## Independent sample T-tests with plots"
   ]
  },
  {
   "cell_type": "code",
   "execution_count": 2,
   "metadata": {},
   "outputs": [],
   "source": [
    "import numpy as np\n",
    "import pandas as pd\n",
    "import scipy.stats as stats\n",
    "\n",
    "import matplotlib.pyplot as plt\n",
    "%matplotlib inline\n",
    "\n",
    "import plotly.plotly as py\n",
    "import plotly.graph_objs as go\n",
    "from plotly import figure_factory as ff"
   ]
  },
  {
   "cell_type": "markdown",
   "metadata": {},
   "source": [
    "#### Generate Data\n",
    "Let us generate some random data from the `Normal Distriubtion`. We will sample 50 points from a normal distribution with mean $\\mu = 0$ and variance $\\sigma^2 = 1$ and from another with mean $\\mu = 2$ and variance $\\sigma^2 = 1$."
   ]
  },
  {
   "cell_type": "code",
   "execution_count": 3,
   "metadata": {},
   "outputs": [],
   "source": [
    "data1 = np.random.normal(0, 1, size=50)\n",
    "data2 = np.random.normal(2, 1, size=50)"
   ]
  },
  {
   "cell_type": "markdown",
   "metadata": {},
   "source": [
    "#### Plot the distributions from which samples were drawn"
   ]
  },
  {
   "cell_type": "code",
   "execution_count": 4,
   "metadata": {},
   "outputs": [
    {
     "name": "stderr",
     "output_type": "stream",
     "text": [
      "/Users/jameshelfrich/miniconda3/envs/my_env/lib/python3.7/site-packages/IPython/core/display.py:689: UserWarning:\n",
      "\n",
      "Consider using IPython.display.IFrame instead\n",
      "\n"
     ]
    },
    {
     "data": {
      "text/html": [
       "<iframe id=\"igraph\" scrolling=\"no\" style=\"border:none;\" seamless=\"seamless\" src=\"https://plot.ly/~noproblem-james/2.embed\" height=\"525px\" width=\"100%\"></iframe>"
      ],
      "text/plain": [
       "<chart_studio.tools.PlotlyDisplay object>"
      ]
     },
     "execution_count": 4,
     "metadata": {},
     "output_type": "execute_result"
    }
   ],
   "source": [
    "x = np.linspace(-4, 6, 160)\n",
    "y1 = stats.norm.pdf(x)\n",
    "y2 = stats.norm.pdf(x, loc=2)\n",
    "\n",
    "trace1 = go.Scatter(\n",
    "    x = x,\n",
    "    y = y1,\n",
    "    mode = 'lines+markers',\n",
    "    name='Mean of 0'\n",
    ")\n",
    "\n",
    "trace2 = go.Scatter(\n",
    "    x = x,\n",
    "    y = y2,\n",
    "    mode = 'lines+markers',\n",
    "    name='Mean of 2'\n",
    ")\n",
    "\n",
    "data = [trace1, trace2]\n",
    "\n",
    "py.iplot(data, filename='normal-dists-plot')"
   ]
  },
  {
   "cell_type": "markdown",
   "metadata": {},
   "source": [
    "#### Plot Sample Histograms"
   ]
  },
  {
   "cell_type": "code",
   "execution_count": 5,
   "metadata": {
    "scrolled": true
   },
   "outputs": [
    {
     "data": {
      "text/html": [
       "<iframe id=\"igraph\" scrolling=\"no\" style=\"border:none;\" seamless=\"seamless\" src=\"https://plot.ly/~noproblem-james/11.embed\" height=\"525px\" width=\"100%\"></iframe>"
      ],
      "text/plain": [
       "<chart_studio.tools.PlotlyDisplay object>"
      ]
     },
     "execution_count": 5,
     "metadata": {},
     "output_type": "execute_result"
    }
   ],
   "source": [
    "trace1 = go.Histogram(\n",
    "    x=data1,\n",
    "    opacity=0.75\n",
    ")\n",
    "trace2 = go.Histogram(\n",
    "    x=data2,\n",
    "    opacity=0.75\n",
    ")\n",
    "\n",
    "data = [trace1, trace2]\n",
    "layout = go.Layout(barmode='overlay')\n",
    "fig = go.Figure(data=data, layout=layout)\n",
    "\n",
    "py.iplot(fig, filename='overlaid histogram')"
   ]
  },
  {
   "cell_type": "markdown",
   "metadata": {},
   "source": [
    "#### Plot sample histograms using matplotlib, with mean and kde curve shown"
   ]
  },
  {
   "cell_type": "code",
   "execution_count": 6,
   "metadata": {},
   "outputs": [
    {
     "name": "stderr",
     "output_type": "stream",
     "text": [
      "/Users/jameshelfrich/miniconda3/envs/my_env/lib/python3.7/site-packages/ipykernel_launcher.py:4: MatplotlibDeprecationWarning:\n",
      "\n",
      "\n",
      "The 'normed' kwarg was deprecated in Matplotlib 2.1 and will be removed in 3.1. Use 'density' instead.\n",
      "\n",
      "/Users/jameshelfrich/miniconda3/envs/my_env/lib/python3.7/site-packages/ipykernel_launcher.py:7: MatplotlibDeprecationWarning:\n",
      "\n",
      "\n",
      "The 'normed' kwarg was deprecated in Matplotlib 2.1 and will be removed in 3.1. Use 'density' instead.\n",
      "\n"
     ]
    },
    {
     "data": {
      "image/png": "[encoded data removed]",
      "text/plain": [
       "<Figure size 1152x576 with 1 Axes>"
      ]
     },
     "metadata": {
      "needs_background": "light"
     },
     "output_type": "display_data"
    }
   ],
   "source": [
    "kde_data1 = stats.gaussian_kde(data1)\n",
    "kde_data2 = stats.gaussian_kde(data2)\n",
    "plt.figure(figsize=(16,8))\n",
    "l = plt.hist(data1, bins=10, normed=True, facecolor='blue', alpha=0.75)\n",
    "l_mean = plt.axvline(data1.mean(), color=\"red\")\n",
    "l_dist = plt.plot(np.linspace(-3,4, 100), kde_data1(np.linspace(-3,4, 100)))\n",
    "m = plt.hist(data2, bins=10, normed=True, facecolor='orange', alpha=0.75)\n",
    "m_mean = plt.axvline(data2.mean(), color=\"purple\")\n",
    "m_dist = plt.plot(np.linspace(-3,5, 100), kde_data2(np.linspace(-3,5, 100)), color=\"purple\")"
   ]
  },
  {
   "cell_type": "markdown",
   "metadata": {},
   "source": [
    "### Perform Hypothesis Test"
   ]
  },
  {
   "cell_type": "markdown",
   "metadata": {},
   "source": [
    "A `One Sample T-Test` is a statistical test used to evaluate the null hypothesis that the mean $m$ of a 1D sample dataset of independant observations is equal to the true mean $\\mu$ of the population from which the data is sampled. In other words, our null hypothesis is that\n",
    "\n",
    "$$\n",
    "\\begin{align*}\n",
    "m = \\mu\n",
    "\\end{align*}\n",
    "$$\n",
    "\n",
    "For our T-test, we will be using a significance level of `0.05`. On the matter of doing ethical science, it is good practice to always state the chosen significance level for a given test _before_ actually conducting the test. This is meant to ensure that the analyst does not modify the significance level for the purpose of achieving a desired outcome."
   ]
  },
  {
   "cell_type": "code",
   "execution_count": 7,
   "metadata": {},
   "outputs": [
    {
     "data": {
      "text/plain": [
       "Ttest_1sampResult(statistic=-0.3997792877480531, pvalue=0.6910564948580504)"
      ]
     },
     "execution_count": 7,
     "metadata": {},
     "output_type": "execute_result"
    }
   ],
   "source": [
    "true_mu = 0\n",
    "data1_results = stats.ttest_1samp(data1, true_mu)\n",
    "data1_results"
   ]
  },
  {
   "cell_type": "markdown",
   "metadata": {},
   "source": [
    "Since our p-value is larger than our pre-specified significance level, we must fail to reject the null-hypothesis. This is our expected result because the data was collected from a normal distribution with the same population mean for which we performed the test."
   ]
  },
  {
   "cell_type": "code",
   "execution_count": 8,
   "metadata": {},
   "outputs": [
    {
     "data": {
      "text/plain": [
       "Ttest_1sampResult(statistic=17.15766392859348, pvalue=2.34315429878689e-22)"
      ]
     },
     "execution_count": 8,
     "metadata": {},
     "output_type": "execute_result"
    }
   ],
   "source": [
    "true_mu = 0\n",
    "data2_results = stats.ttest_1samp(data2, true_mu)\n",
    "data2_results"
   ]
  },
  {
   "cell_type": "markdown",
   "metadata": {},
   "source": [
    "Since our p-value is infinitesimally small (i.e., much smaller than alpha = 0.05), we have good evidence to reject the null-hypothesis. This is our expected result because the data was collected from a normal distribution with a different population mean."
   ]
  },
  {
   "cell_type": "markdown",
   "metadata": {},
   "source": [
    "### Reimplimenting one-sample t-test"
   ]
  },
  {
   "cell_type": "code",
   "execution_count": 9,
   "metadata": {},
   "outputs": [],
   "source": [
    "sample_1 = [4.15848606,  3.86146363,  4.31545726,  3.3748772,\n",
    "            4.67023082, 4.45950272,  3.85894915,  4.41089417,\n",
    "            3.82360986,  3.79889443, 4.75884172,  3.27100914,\n",
    "            4.08939402,  4.08904694,  5.62589842, 3.71445656,\n",
    "            3.58463792,  4.42426443,  3.9671448 ,  4.39339124]\n",
    "\n",
    "sample_2 = [10.81261135, 9.68035252, 9.87293556,  10.06308861,\n",
    "            9.57381722, 10.00922156, 10.90522431, 9.70843104,\n",
    "            10.16614481, 10.09447189, 10.51260742, 10.17503686,\n",
    "            10.38718472, 10.52334431, 9.55808306, 10.24290938,\n",
    "            10.6048062 , 10.27535938, 9.6329808 ,  9.67338239]"
   ]
  },
  {
   "cell_type": "code",
   "execution_count": 10,
   "metadata": {},
   "outputs": [],
   "source": [
    " def one_sample_ttest(sample, mu):\n",
    "    \"\"\"INPUT:\n",
    "    - sample(LIST) [Values in the sample]\n",
    "    - mu(FLOAT) [The hypothesized mean value of the population]\n",
    "\n",
    "    OUTPUT:\n",
    "    - results(TUPLE) [Tuple containing t-statistic(FLOAT) and p-value(FLOAT)]\n",
    "    \"\"\"\n",
    "    t_score = (np.mean(sample) - mu) /(np.std(sample, ddof = 1)/len(sample)**.5)\n",
    "    p_val = stats.t.sf(np.abs(t_score), len(sample) - 1) *2\n",
    "    return (t_score, p_val)"
   ]
  },
  {
   "cell_type": "markdown",
   "metadata": {},
   "source": [
    "scipy.stats.t = <scipy.stats._continuous_distns.t_gen object at 0x2b45d30112d0>\n",
    "A Student’s T continuous random variable.\n",
    "\n",
    "Method: \n",
    ".sf(x, df, loc=0, scale=1)\t\n",
    "Survival function (1-cdf — sometimes more accurate than doing it manually with .cdf() method). "
   ]
  },
  {
   "cell_type": "code",
   "execution_count": 11,
   "metadata": {},
   "outputs": [
    {
     "data": {
      "text/plain": [
       "4.1325225245"
      ]
     },
     "execution_count": 11,
     "metadata": {},
     "output_type": "execute_result"
    }
   ],
   "source": [
    "np.mean(sample_1)"
   ]
  },
  {
   "cell_type": "code",
   "execution_count": 12,
   "metadata": {},
   "outputs": [
    {
     "data": {
      "text/plain": [
       "(1.1055037201766031, 0.28274392706212076)"
      ]
     },
     "execution_count": 12,
     "metadata": {},
     "output_type": "execute_result"
    }
   ],
   "source": [
    "one_sample_ttest(sample_1, 4)"
   ]
  },
  {
   "cell_type": "code",
   "execution_count": 13,
   "metadata": {},
   "outputs": [
    {
     "data": {
      "text/plain": [
       "Ttest_1sampResult(statistic=1.105503720176603, pvalue=0.2827439270621211)"
      ]
     },
     "execution_count": 13,
     "metadata": {},
     "output_type": "execute_result"
    }
   ],
   "source": [
    "stats.ttest_1samp(sample_1, 4)"
   ]
  },
  {
   "cell_type": "markdown",
   "metadata": {},
   "source": [
    "### Two-sample t-test"
   ]
  },
  {
   "cell_type": "code",
   "execution_count": 14,
   "metadata": {},
   "outputs": [
    {
     "data": {
      "text/plain": [
       "Ttest_indResult(statistic=-11.044867640820254, pvalue=6.641357709410412e-19)"
      ]
     },
     "execution_count": 14,
     "metadata": {},
     "output_type": "execute_result"
    }
   ],
   "source": [
    "twosample_results = stats.ttest_ind(data1, data2)\n",
    "twosample_results"
   ]
  },
  {
   "cell_type": "markdown",
   "metadata": {},
   "source": [
    "Since our p-value is much less than our significance level, then we can confidently reject our null hypothesis of identical means. This is in alignment with our setup, since we sampled from two different normal pdfs with different means."
   ]
  },
  {
   "cell_type": "markdown",
   "metadata": {
    "collapsed": true
   },
   "source": [
    "## Still to do:\n",
    "* Add examples for different types of t-tests\n",
    "* experiment more with plotly"
   ]
  },
  {
   "cell_type": "code",
   "execution_count": null,
   "metadata": {
    "collapsed": true
   },
   "outputs": [],
   "source": []
  }
 ],
 "metadata": {
  "kernelspec": {
   "display_name": "Python 3",
   "language": "python",
   "name": "python3"
  },
  "language_info": {
   "codemirror_mode": {
    "name": "ipython",
    "version": 3
   },
   "file_extension": ".py",
   "mimetype": "text/x-python",
   "name": "python",
   "nbconvert_exporter": "python",
   "pygments_lexer": "ipython3",
   "version": "3.7.2"
  }
 },
 "nbformat": 4,
 "nbformat_minor": 2
}
