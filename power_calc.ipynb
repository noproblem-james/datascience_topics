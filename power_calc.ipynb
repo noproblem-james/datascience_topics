{
 "cells": [
  {
   "cell_type": "markdown",
   "metadata": {},
   "source": [
    "## Finding the Power of a Hypothesis Test\n",
    "    \n",
    "    \n",
    "    "
   ]
  },
  {
   "cell_type": "markdown",
   "metadata": {},
   "source": [
    "> #### Definition of Statistical power:\n",
    "\n",
    "> The power of a binary hypothesis test is the probability that the test correctly rejects the null hypothesis (H0) when the alternative hypothesis (H1) is true."
   ]
  },
  {
   "cell_type": "markdown",
   "metadata": {},
   "source": [
    "The statistical power of a study (sometimes called sensitivity) is how likely the study is to distinguish an actual effect from one of chance. It’s the likelihood that the test is correctly rejecting the null hypothesis (i.e. “proving” your hypothesis). For example, a study that has an 80% power means that the study has an 80% chance of the test having significant results. "
   ]
  },
  {
   "cell_type": "markdown",
   "metadata": {},
   "source": [
    "## Example 1\n",
    "\n",
    "Suppose a child psychologist says that the average time that working mothers spend talking to their children is 11 minutes per day. You want to test\n",
    "\n",
    "\\begin{equation*}\n",
    "H_0: \\mu\\ = 11\n",
    "\\end{equation*}\n",
    "\\begin{equation*}\n",
    "H_a: \\mu\\ > 11\n",
    "\\end{equation*}"
   ]
  },
  {
   "cell_type": "markdown",
   "metadata": {},
   "source": [
    "You conduct a random sample of 100 working mothers and find they spend an average of 11.5 minutes per day talking with their children. Assume prior research suggests the population standard deviation is 2.3 minutes.\n",
    "\n",
    "When conducting this hypothesis test for a population mean, you find that the p-value = 0.015, and with a level of significance of \\begin{equation*}\n",
    "\\alpha = 0.05\n",
    "\\end{equation*}"
   ]
  },
  {
   "cell_type": "markdown",
   "metadata": {},
   "source": [
    "you reject the null hypothesis. But there are a lot of different values of \\begin{equation*} \\overline{X}\\end{equation*}\n",
    "(not just 11.5) that would lead you to reject H0. So how strong is this specific test? Find the power."
   ]
  },
  {
   "cell_type": "markdown",
   "metadata": {},
   "source": [
    "## Four Steps"
   ]
  },
  {
   "cell_type": "markdown",
   "metadata": {},
   "source": [
    "<img src=\"https://s3-us-west-2.amazonaws.com/margaretgalvanize/Screen+Shot+2017-09-10+at+10.17.27+PM.png\" alt=\"Alt text that describes the graphic\">"
   ]
  },
  {
   "cell_type": "markdown",
   "metadata": {},
   "source": [
    "Hopefully, you were already feeling good about your decision to reject the null hypothesis since the p-value of 0.015 was significant at an Alpha-level of 0.05. Further, you found that Power = 0.6985, meaning that there was nearly a 70 percent chance of correctly rejecting a false null hypothesis."
   ]
  },
  {
   "cell_type": "markdown",
   "metadata": {},
   "source": [
    "<img src=\"http://d2r5da613aq50s.cloudfront.net/wp-content/uploads/481583.image27.jpg\" alt=\"Alt text that describes the graphic\">\n"
   ]
  },
  {
   "cell_type": "markdown",
   "metadata": {},
   "source": [
    "This is just one power calculation based on a single sample generating a mean of 11.5. Statisticians often calculate a “power curve” based on many likely alternative values. Also, there are some unique considerations to take into account if \n",
    "\n",
    "\n",
    "\\begin{equation*}\n",
    "H_\\delta: \\mu\\ \\neq \\mu_0\n",
    "\\end{equation*}\n"
   ]
  },
  {
   "cell_type": "markdown",
   "metadata": {},
   "source": [
    "but this gives you the gist of things."
   ]
  },
  {
   "cell_type": "markdown",
   "metadata": {},
   "source": [
    "> The 5% critical value from the standard normal distribution is 1.645. Equating the critical Z-value tothe calculated Z gives the corresponding(hypothetical) sample mean value: "
   ]
  },
  {
   "cell_type": "markdown",
   "metadata": {},
   "source": [
    "## Example 2\n",
    "\n",
    "Consider testing whether the average time per week spent watching TV is 4 hours versus the \n",
    "alternative that it is greater than 4 hours. \n",
    "\n",
    "We will calculate the power of the test for a specific value under the alternative hypothesis, say, 6 hours: \n",
    "\n",
    "\n",
    "<img src=\"https://s3-us-west-2.amazonaws.com/margaretgalvanize/Screen+Shot+2017-09-10+at+10.41.26+PM.png\" alt=\"Alt text that describes the graphic\">"
   ]
  },
  {
   "cell_type": "markdown",
   "metadata": {},
   "source": [
    "> The 5% critical value from the standard normal distri\n",
    "bution is 1.645. Equating the critical Z-value to \n",
    "the calculated Z gives the corresponding\n",
    "(hypothetical) sample mean value:  "
   ]
  },
  {
   "cell_type": "markdown",
   "metadata": {},
   "source": [
    "\n",
    "<img src=\"https://s3-us-west-2.amazonaws.com/margaretgalvanize/Screen+Shot+2017-09-10+at+10.42.22+PM.png\" alt=\"Alt text that describes the graphic\">"
   ]
  },
  {
   "cell_type": "markdown",
   "metadata": {},
   "source": [
    "> Calculate the Z-statistic assuming the alternative hypothesis is true, i.e.,  μ1= 6: "
   ]
  },
  {
   "cell_type": "markdown",
   "metadata": {},
   "source": [
    "\n",
    "<img src=\"https://s3-us-west-2.amazonaws.com/margaretgalvanize/Screen+Shot+2017-09-10+at+10.42.42+PM.png\" alt=\"Alt text that describes the graphic\">"
   ]
  },
  {
   "cell_type": "markdown",
   "metadata": {},
   "source": [
    "> P(Z > -0.355) = 0.6387. The power of the test \n",
    "is approximately 64%. In general, tests with 80% \n",
    "power and higher are considered to be statistically powerful. "
   ]
  },
  {
   "cell_type": "code",
   "execution_count": null,
   "metadata": {
    "collapsed": true
   },
   "outputs": [],
   "source": []
  }
 ],
 "metadata": {
  "kernelspec": {
   "display_name": "Python 2",
   "language": "python",
   "name": "python2"
  },
  "language_info": {
   "codemirror_mode": {
    "name": "ipython",
    "version": 2
   },
   "file_extension": ".py",
   "mimetype": "text/x-python",
   "name": "python",
   "nbconvert_exporter": "python",
   "pygments_lexer": "ipython2",
   "version": "2.7.13"
  }
 },
 "nbformat": 4,
 "nbformat_minor": 2
}
