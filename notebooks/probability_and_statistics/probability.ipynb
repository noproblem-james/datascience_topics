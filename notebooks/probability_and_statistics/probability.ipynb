{
 "cells": [
  {
   "cell_type": "markdown",
   "metadata": {},
   "source": [
    "# Probability Problems\n",
    "# Contents\n",
    "## I. Counting\n",
    "- Permutations\n",
    "- Combinations\n",
    "\n",
    "## II. Conditional Probability\n",
    "- Conditional Probability\n",
    "- Bayes formula\n",
    "\n",
    "## III. Probability Distributions\n",
    "\n",
    "- Probability distribution functions for discrete random variables (binomial, geometric, Poisson)\n",
    "- Probability distribution for continuous random variables (uniform, normal, exponential)\n",
    "- Generating simulations in python"
   ]
  },
  {
   "cell_type": "code",
   "execution_count": 1,
   "metadata": {},
   "outputs": [],
   "source": [
    "import numpy as np\n",
    "import pandas as pd\n",
    "\n",
    "import seaborn as sns\n",
    "import matplotlib.pyplot as plt\n",
    "\n",
    "import itertools\n",
    "from collections import Counter\n",
    "from math import e, factorial"
   ]
  },
  {
   "cell_type": "markdown",
   "metadata": {},
   "source": [
    "# I. Counting "
   ]
  },
  {
   "cell_type": "markdown",
   "metadata": {},
   "source": [
    "## QUESTION (Permutations) \n",
    "How many different strings can you make with 'name'? with 'data'? with 'better'?\n",
    "\n",
    "#### ANSWER: \n",
    "You can make 24 different strings with 'name', 12 with 'data', and 180 with 'better'.\n",
    "\n",
    "#### EXPLANATION: \n",
    "The factorial of the length of the word will yield all possible permutations of the letters. In order to count *distinct* permutations, we need to account for repeated letters in the input. To do this, we divide the number of all possible permutations by the number of permutations of repeated letters. We can do this straightforwardly in code by de-duplicating a list of all possible permutations."
   ]
  },
  {
   "cell_type": "code",
   "execution_count": 2,
   "metadata": {},
   "outputs": [],
   "source": [
    "def count_perms(seq):\n",
    "    '''\n",
    "    return the number of distinct strings that can be made from the characters\n",
    "    inside the argument string\n",
    "    '''\n",
    "    return len(set(list(itertools.permutations(seq))))"
   ]
  },
  {
   "cell_type": "code",
   "execution_count": 3,
   "metadata": {
    "scrolled": true
   },
   "outputs": [
    {
     "name": "stdout",
     "output_type": "stream",
     "text": [
      "24 12 180\n"
     ]
    }
   ],
   "source": [
    "print(count_perms('name'), count_perms(\"data\"), count_perms('better'))\n",
    "# count_perms('mississippi') # takes a long time to execute"
   ]
  },
  {
   "cell_type": "markdown",
   "metadata": {},
   "source": [
    "#### BONUS\n",
    "Can we count the number of permutations without actually building the permutations and without using `itertools` library?"
   ]
  },
  {
   "cell_type": "markdown",
   "metadata": {},
   "source": [
    "Multinomial Theorem says in order to count the number of distinct ways a set of elements with duplicate items can be ordered, divide the total number of permutations by the factorial of the quantity of each duplicate.\n",
    "So since MISSISSIPPI has 11 total letters with 2 P’s, 4 I’s, and 4 S’s our calculation is: 11!/(2!4!4!)."
   ]
  },
  {
   "cell_type": "code",
   "execution_count": 4,
   "metadata": {},
   "outputs": [],
   "source": [
    "def count_perms_2(seq):\n",
    "    n = len(seq)\n",
    "    num = factorial(n)\n",
    "    reps = []\n",
    "    denom = 1\n",
    "    c = Counter(seq)\n",
    "    for tup in c.most_common():\n",
    "        char = tup[0]\n",
    "        count = tup[1]\n",
    "        if count > 1:\n",
    "            denom *= factorial(count)\n",
    "    \n",
    "    return num // denom"
   ]
  },
  {
   "cell_type": "code",
   "execution_count": 5,
   "metadata": {
    "scrolled": true
   },
   "outputs": [
    {
     "name": "stdout",
     "output_type": "stream",
     "text": [
      "24 12 180 34650\n"
     ]
    }
   ],
   "source": [
    "print(count_perms_2('name'), count_perms_2(\"data\"), count_perms_2('better'), count_perms_2('mississippi'))"
   ]
  },
  {
   "cell_type": "markdown",
   "metadata": {},
   "source": [
    "#### BONUS\n",
    "Can we build unique permutations without using `itertools`?\n",
    "\n",
    "\n",
    "[Here is a link](http://stackoverflow.com/a/12837695/429982) to the source of the code appearing below, with additional links to more resources."
   ]
  },
  {
   "cell_type": "code",
   "execution_count": 6,
   "metadata": {},
   "outputs": [],
   "source": [
    "def unique_permutations(seq):\n",
    "    \"\"\"\n",
    "    Yield only unique permutations of seq in an efficient way.\n",
    "\n",
    "    A python implementation of Knuth's \"Algorithm L\", also known from the \n",
    "    std::next_permutation function of C++, and as the permutation algorithm \n",
    "    of Narayana Pandita.\n",
    "    \"\"\"\n",
    "\n",
    "    # Precalculate the indices we'll be iterating over for speed\n",
    "    i_indices = range(len(seq) - 1, -1, -1)\n",
    "    k_indices = i_indices[1:]\n",
    "\n",
    "    # The algorithm specifies to start with a sorted version\n",
    "    seq = sorted(seq)\n",
    "\n",
    "    while True:\n",
    "        yield seq\n",
    "\n",
    "        # Working backwards from the last-but-one index,           k\n",
    "        # we find the index of the first decrease in value.  0 0 1 0 1 1 1 0\n",
    "        for k in k_indices:\n",
    "            if seq[k] < seq[k + 1]:\n",
    "                break\n",
    "        else:\n",
    "            # Introducing the slightly unknown python for-else syntax:\n",
    "            # else is executed only if the break statement was never reached.\n",
    "            # If this is the case, seq is weakly decreasing, and we're done.\n",
    "            return\n",
    "\n",
    "        # Get item from sequence only once, for speed\n",
    "        k_val = seq[k]\n",
    "\n",
    "        # Working backwards starting with the last item,           k     i\n",
    "        # find the first one greater than the one at k       0 0 1 0 1 1 1 0\n",
    "        for i in i_indices:\n",
    "            if k_val < seq[i]:\n",
    "                break\n",
    "\n",
    "        # Swap them in the most efficient way\n",
    "        (seq[k], seq[i]) = (seq[i], seq[k])                #       k     i\n",
    "                                                           # 0 0 1 1 1 1 0 0\n",
    "\n",
    "        # Reverse the part after but not                           k\n",
    "        # including k, also efficiently.                     0 0 1 1 0 0 1 1\n",
    "        seq[k + 1:] = seq[-1:k:-1]"
   ]
  },
  {
   "cell_type": "code",
   "execution_count": 7,
   "metadata": {},
   "outputs": [
    {
     "name": "stdout",
     "output_type": "stream",
     "text": [
      "24 12 180\n"
     ]
    }
   ],
   "source": [
    "print(len(list(unique_permutations('name'))), len(list(unique_permutations(\"data\"))), len(list(unique_permutations('better'))))"
   ]
  },
  {
   "cell_type": "markdown",
   "metadata": {},
   "source": [
    "#### TIMING COMPARISION"
   ]
  },
  {
   "cell_type": "code",
   "execution_count": 8,
   "metadata": {
    "scrolled": true
   },
   "outputs": [
    {
     "name": "stdout",
     "output_type": "stream",
     "text": [
      "220 µs ± 2.77 µs per loop (mean ± std. dev. of 7 runs, 1000 loops each)\n"
     ]
    }
   ],
   "source": [
    "%%timeit\n",
    "len(list(unique_permutations('better')))"
   ]
  },
  {
   "cell_type": "code",
   "execution_count": 9,
   "metadata": {},
   "outputs": [
    {
     "name": "stdout",
     "output_type": "stream",
     "text": [
      "104 µs ± 1.05 µs per loop (mean ± std. dev. of 7 runs, 10000 loops each)\n"
     ]
    }
   ],
   "source": [
    "%%timeit\n",
    "count_perms(\"better\")"
   ]
  },
  {
   "cell_type": "code",
   "execution_count": 10,
   "metadata": {},
   "outputs": [
    {
     "name": "stdout",
     "output_type": "stream",
     "text": [
      "7.99 µs ± 114 ns per loop (mean ± std. dev. of 7 runs, 100000 loops each)\n"
     ]
    }
   ],
   "source": [
    "%%timeit\n",
    "count_perms_2(\"better\")"
   ]
  },
  {
   "cell_type": "markdown",
   "metadata": {},
   "source": [
    "## QUESTION (Combinations)\n",
    "Given a fruit bowl with 6 fruits (say for instance a pear, a banana, an apple, a pineapple, a kiwi and a mango), how many different fruit salad can you make, such that each salad contains 3 different fruits? Can you list them?\n",
    "\n",
    "#### ANSWER: \n",
    "20\n",
    "```\n",
    "[('pear', 'banana', 'apple'),\n",
    " ('pear', 'banana', 'pineapple'),\n",
    " ('pear', 'banana', 'kiwi'),\n",
    " ('pear', 'banana', 'mango'),\n",
    " ('pear', 'apple', 'pineapple'),\n",
    " ('pear', 'apple', 'kiwi'),\n",
    " ('pear', 'apple', 'mango'),\n",
    " ('pear', 'pineapple', 'kiwi'),\n",
    " ('pear', 'pineapple', 'mango'),\n",
    " ('pear', 'kiwi', 'mango'),\n",
    " ('banana', 'apple', 'pineapple'),\n",
    " ('banana', 'apple', 'kiwi'),\n",
    " ('banana', 'apple', 'mango'),\n",
    " ('banana', 'pineapple', 'kiwi'),\n",
    " ('banana', 'pineapple', 'mango'),\n",
    " ('banana', 'kiwi', 'mango'),\n",
    " ('apple', 'pineapple', 'kiwi'),\n",
    " ('apple', 'pineapple', 'mango'),\n",
    " ('apple', 'kiwi', 'mango'),\n",
    " ('pineapple', 'kiwi', 'mango')]\n",
    " ```\n",
    "\n",
    "#### EXPLANATION: \n",
    "To calculate the number of combinations of r\n",
    "                    items that can be selected from a set of n items, divide\n",
    "                    n-factorial by r-factorial multiplied by n-minus-r factorial\n",
    "                    (binomial coefficient).\n",
    "                    n-choose-r = n! / r! * (n - r)!\n",
    "\n",
    "\n",
    "To find combinations of three fruits from a group of 6,\n",
    "                    divide 6 factorial by 3 factorial multiplied by 3-factorial.\n",
    "\n",
    "    6! / (3! * (6 - 3)!)\n",
    "    = 720 / (6 * 6)\n",
    "    = 20\n",
    "\n",
    "   "
   ]
  },
  {
   "cell_type": "code",
   "execution_count": 362,
   "metadata": {},
   "outputs": [],
   "source": [
    " def make_fruit_salad(lst, k):\n",
    "    '''\n",
    "      return the list of possible combinations by taking k elements from lst\n",
    "\n",
    "      use itertools.combinations\n",
    "\n",
    "      >>> my_fruits = ['pear', 'banana', 'apple']\n",
    "      >>> make_fruit_salad(my_fruits, 2)\n",
    "      [('pear', 'banana'), ('pear', 'apple'), ('banana', 'apple')]\n",
    "    '''\n",
    "    combos = list(itertools.combinations(lst, k))\n",
    "    return len(combos), combos"
   ]
  },
  {
   "cell_type": "code",
   "execution_count": 365,
   "metadata": {},
   "outputs": [],
   "source": [
    "fruits = [\"pear\", \"banana\", \"apple\", \"pineapple\", \"kiwi\", \"mango\"]"
   ]
  },
  {
   "cell_type": "code",
   "execution_count": 366,
   "metadata": {},
   "outputs": [
    {
     "data": {
      "text/plain": [
       "(20,\n",
       " [('pear', 'banana', 'apple'),\n",
       "  ('pear', 'banana', 'pineapple'),\n",
       "  ('pear', 'banana', 'kiwi'),\n",
       "  ('pear', 'banana', 'mango'),\n",
       "  ('pear', 'apple', 'pineapple'),\n",
       "  ('pear', 'apple', 'kiwi'),\n",
       "  ('pear', 'apple', 'mango'),\n",
       "  ('pear', 'pineapple', 'kiwi'),\n",
       "  ('pear', 'pineapple', 'mango'),\n",
       "  ('pear', 'kiwi', 'mango'),\n",
       "  ('banana', 'apple', 'pineapple'),\n",
       "  ('banana', 'apple', 'kiwi'),\n",
       "  ('banana', 'apple', 'mango'),\n",
       "  ('banana', 'pineapple', 'kiwi'),\n",
       "  ('banana', 'pineapple', 'mango'),\n",
       "  ('banana', 'kiwi', 'mango'),\n",
       "  ('apple', 'pineapple', 'kiwi'),\n",
       "  ('apple', 'pineapple', 'mango'),\n",
       "  ('apple', 'kiwi', 'mango'),\n",
       "  ('pineapple', 'kiwi', 'mango')])"
      ]
     },
     "execution_count": 366,
     "metadata": {},
     "output_type": "execute_result"
    }
   ],
   "source": [
    "make_fruit_salad(fruits, 3)"
   ]
  },
  {
   "cell_type": "markdown",
   "metadata": {},
   "source": [
    "## QUESTION (Combinations)\n",
    "You call 2 Ubers and 3 Lyfts. If the time that each takes to reach you are independent and identical distributions, what is the probability that all the Lyfts arrive first? What is the probability that all the Ubers arrive first?  \n",
    "\n",
    "\n",
    "#### ANSWER: \n",
    ".01\n",
    "\n",
    " \n",
    "#### EXPLANATION: \n",
    "3/5 * 2/4 * 1/3 = 1/10.\n",
    "\n",
    "If the probability distributions are all independent and identical, then the chances that the first car to arrive is a Lyft is 3/5, the chances that the second car to arrive is a Lyft is 2/4, and the chances that the third car to arrive is a Lyft is 1/3. Multiply these together to find the joint probability.\n"
   ]
  },
  {
   "cell_type": "markdown",
   "metadata": {},
   "source": [
    "# II. Conditional Probability and Bayes Theorem"
   ]
  },
  {
   "cell_type": "markdown",
   "metadata": {},
   "source": [
    "## QUESTION (Conditional Probability)\n",
    "\n",
    "A simplified model for the movement of the price of a stock supposes that on each day the stock’s price either moves up 1 unit with probability `p` or moves down 1 unit with probability `1 − p`. The changes on different days are assumed to be independent.\n",
    "\n",
    "(a) What is the probability that after 2 days the stock will be at its original price?\n",
    "\n",
    "(b) What is the probability that after 3 days the stock’s price will have increased by 1 unit?\n",
    "\n",
    "(c) Given that after 3 days the stock’s price has increased by 1 unit, what is the probability that it went up on the first day?\n",
    "\n",
    "#### ANSWER: \n",
    "    (a) p * (1 - p)\n",
    "    (b) 2p * (1 - p)\n",
    "    (c) 2/3\n",
    "#### EXPLANATION:\n",
    "    (a) union of two events\n",
    "    (b) union of three events\n",
    "    (c) the price went up twice and down once, and that could have happened on any of the three days"
   ]
  },
  {
   "cell_type": "markdown",
   "metadata": {},
   "source": [
    "## QUESTION (Bayes)\n",
    "\n",
    "A worker has asked her supervisor for a letter of recommendation for a new job. She estimates that there is an 80 percent chance that she will get the job if she receives a strong recommendation, a 40 percent chance if she receives a moderately good recommendation, and a 10 percent chance if she receives a weak recommendation. She further estimates that the probabilities that the recommendation will be strong, moderate, and weak are .7, .2, and .1, respectively.  \n",
    "\n",
    "(a) How certain is she that she will receive the new job offer?  \n",
    "\n",
    "(b) Given that she does receives the offer, how likely should she feel that she received a strong recommendation? a moderate recommendation? a weak recommendation?  \n",
    "\n",
    "(c) Given that she does not receive the job offer, how likely should she feel that she received a strong recommendation? a moderate recommendation? a weak recommendation?\n",
    "\n",
    "#### ANSWER: \n",
    "    (a) 0.65\n",
    "    (b) .862, .123, .015\n",
    "    (c) .4, .343, .257\n",
    "\n",
    "\n",
    "#### EXPLANATION: \n",
    "    (a) .7 * .8 + .2 * .4 + .1 * .1\n",
    "        = .56 + .08 + .01\n",
    "        = .65\n",
    "    (b) Using Bayes' Theorem...\n",
    "        p(A|B) = p(B|A) * p(A) / p(B)\n",
    "        p(strongrec | job)\n",
    "        = p(job | strongrec) * p(strongrec) / p(job)\n",
    "        = .8 * .7 / .65\n",
    "        = .862\n",
    "\n",
    "        = p(job | moderaterec) * p(moderaterec) / p(job)\n",
    "        = .4 * .2 / .65\n",
    "        = .123\n",
    "\n",
    "        = p(job | weakrec) * p(weakrec) / p(job)\n",
    "        = .1 * .1 / .65\n",
    "        = .015\n",
    "\n",
    "    (c) = p(nojob | strongrec) * p(strongrec) / p(nojob)\n",
    "        = .2 * .6/ .35\n",
    "        = .4\n",
    "\n",
    "        = p(nojob | moderaterec) * p(moderaterec) / p(nojob)\n",
    "        = .4 * .2/ .35\n",
    "        = .343\n",
    "\n",
    "        = p(nojob | weakrec) * p(weakrec) / p(nojob)\n",
    "        = .9* .1/ .35\n",
    "        = .257\n",
    "\n",
    "\n",
    "## QUESTION (Bayes)\n",
    "\n",
    "A medical study is looking at a test to detect disease that impacts 1 individual in 10. The data collected has shown that\n",
    "- when a patient has the disease, the test is positive in 90% of the cases\n",
    "- when a patient does not have the disease, the test is positive in 1% of the cases.\n",
    "\n",
    "(a) If the test is positive, what is the probability that the patient as that disease?\n",
    "\n",
    "(b) What if it is a rare disease, that impacts 1 in 10 000 individuals?\n",
    "\n",
    "(c) How about if the test is negative?\n",
    "\n",
    "#### ANSWER: \n",
    "    (a) .909\n",
    "    (b) .009\n",
    "    (c) .011\n",
    "\n",
    "#### EXPLANATION: Using Bayes' Theorem (expanded version):\n",
    "    p(A|B) = p(B|A) * p(A) / (p(B|A)* p(A) + p(B|!A) p(!A))\n",
    "\n",
    "    (a) where A = having disease, B = testing positive, p(A) = .1\n",
    "    .9 * .1 / (.9 * .1 + .01 * (1 - .1))\n",
    "    = .09 / .009\n",
    "    = .909\n",
    "\n",
    "    (b) where p(A) = 1/10000\n",
    "    .9 * .0001 / (.9 * .0001 + .01 * (1-.0001)\n",
    "    = .00892\n",
    "\n",
    "    (c) where B = testing negative\n",
    "    (1 - .9) * .1 / ((1 - .9) * .1 + (1 - .01)* (1 -.1))\n",
    "    .011\n"
   ]
  },
  {
   "cell_type": "code",
   "execution_count": 12,
   "metadata": {},
   "outputs": [],
   "source": [
    "def positive_test(TP, FP, perc_population):\n",
    "    '''\n",
    "    parameters\n",
    "    ----------\n",
    "    TP: true positive\n",
    "      percentage of tests that were positive\n",
    "      for the sample of subjects that had the disease\n",
    "    FP: false positive\n",
    "      percentage of tests that were positive\n",
    "      for the control population (disease-free subjects)\n",
    "\n",
    "    percent_population: percentage of the population that has the disease\n",
    "\n",
    "    returns\n",
    "    -------\n",
    "    probability of having the disease for a person with a positive test result\n",
    "    '''\n",
    "    return TP * perc_population / \\\n",
    "        (TP * perc_population + FP *(1-perc_population))"
   ]
  },
  {
   "cell_type": "markdown",
   "metadata": {},
   "source": [
    "# III. Probability Distributions\n",
    "Common problems relying on discrete (Binomial, Geometric, Poisson) or continuous (Uniform, Normal, Exponential) probability distributions.\n"
   ]
  },
  {
   "cell_type": "markdown",
   "metadata": {},
   "source": [
    "## QUESTION (Probability mass function)\n",
    " A salesman has scheduled two appointments to sell encyclopedias. His first appointment will lead to a sale with probability 0.3, and his second will lead independently to a sale with probability 0.6. Any sale made is equally likely to be either for the deluxe model, which costs \\\\$ 1000, or the standard model, which costs \\\\$500. Determine the probability mass function of X, the total dollar value of all sales.\n",
    "\n",
    "#### ANSWER:\n",
    "\n",
    "| x    | p(x)  |\n",
    "|------|-------|\n",
    "| 0    | 0.280 |\n",
    "| 500  | 0.270 |\n",
    "| 1000 | 0.315 |\n",
    "| 1500 | 0.090 |\n",
    "| 2000 | 0.045 |"
   ]
  },
  {
   "cell_type": "markdown",
   "metadata": {},
   "source": [
    "## QUESTION (Expected value)\n",
    "A gambling book recommends the following “winning strategy” for the game of roulette: Bet \\\\$1 on red. If red appears (which has probability 18/38), then take the $1 profit and quit. If red does not appear and you lose this bet (which has probability 20/38 of occurring), make additional \\\\$1 bets of red on each of the next two spins of the roulette wheel and then quit. Let X denote your winnings when you quit.\n",
    "\n",
    "(a) Find P(X > 0).\n",
    "\n",
    "(b) Find E[X].\n",
    "\n",
    "(c) Are you convinced that the strategy is indeed a “winning” strategy?\n",
    "\n",
    "#### ANSWER\n",
    "\n",
    "(a) p(X > 0) = 0.592\n",
    "\n",
    "(b) E[X] = -0.108\n",
    "\n",
    "(c) No, this is not a winning strategy over the long term. Although the probability of positive winnings is greater than 50% for a single game, the expected value of the winnings from all games is negative. (-0.108)\n",
    "\n",
    "#### EXPLANATION\n",
    "First, this problem is small enough that we can easily build a results table to help us conceptualize it. See code below for how to do that."
   ]
  },
  {
   "cell_type": "code",
   "execution_count": 13,
   "metadata": {},
   "outputs": [],
   "source": [
    "def calc_prob_roll(x):\n",
    "    if x == -1:\n",
    "        return 20/38\n",
    "    elif x == 1:\n",
    "        return 18/38\n",
    "    else:\n",
    "        return 1"
   ]
  },
  {
   "cell_type": "code",
   "execution_count": 14,
   "metadata": {},
   "outputs": [],
   "source": [
    "results_table = pd.DataFrame([[-1, combo[0], combo[1]] for combo in itertools.product([-1, 1], repeat=2)] + [[1, 0, 0]], \n",
    "                             columns=[\"roll_1\", \"roll_2\", \"roll_3\"]\n",
    "                            ).assign(p_roll_1=lambda x: x[\"roll_1\"].apply(calc_prob_roll),\n",
    "                                    p_roll_2=lambda x: x[\"roll_2\"].apply(calc_prob_roll),\n",
    "                                    p_roll_3=lambda x: x[\"roll_3\"].apply(calc_prob_roll),\n",
    "                                    winnings=lambda x: x[\"roll_1\"] + x[\"roll_2\"] + x[\"roll_3\"],\n",
    "                                    total_prob=lambda x: x[\"p_roll_1\"] * x[\"p_roll_2\"] * x[\"p_roll_3\"],\n",
    "                                    ev=lambda x: x[\"winnings\"] * x[\"total_prob\"]\n",
    "                                    )"
   ]
  },
  {
   "cell_type": "code",
   "execution_count": 15,
   "metadata": {},
   "outputs": [
    {
     "data": {
      "text/html": [
       "<div>\n",
       "<style scoped>\n",
       "    .dataframe tbody tr th:only-of-type {\n",
       "        vertical-align: middle;\n",
       "    }\n",
       "\n",
       "    .dataframe tbody tr th {\n",
       "        vertical-align: top;\n",
       "    }\n",
       "\n",
       "    .dataframe thead th {\n",
       "        text-align: right;\n",
       "    }\n",
       "</style>\n",
       "<table border=\"1\" class=\"dataframe\">\n",
       "  <thead>\n",
       "    <tr style=\"text-align: right;\">\n",
       "      <th></th>\n",
       "      <th>roll_1</th>\n",
       "      <th>roll_2</th>\n",
       "      <th>roll_3</th>\n",
       "      <th>p_roll_1</th>\n",
       "      <th>p_roll_2</th>\n",
       "      <th>p_roll_3</th>\n",
       "      <th>winnings</th>\n",
       "      <th>total_prob</th>\n",
       "      <th>ev</th>\n",
       "    </tr>\n",
       "  </thead>\n",
       "  <tbody>\n",
       "    <tr>\n",
       "      <th>0</th>\n",
       "      <td>-1</td>\n",
       "      <td>-1</td>\n",
       "      <td>-1</td>\n",
       "      <td>0.526316</td>\n",
       "      <td>0.526316</td>\n",
       "      <td>0.526316</td>\n",
       "      <td>-3</td>\n",
       "      <td>0.145794</td>\n",
       "      <td>-0.437382</td>\n",
       "    </tr>\n",
       "    <tr>\n",
       "      <th>1</th>\n",
       "      <td>-1</td>\n",
       "      <td>-1</td>\n",
       "      <td>1</td>\n",
       "      <td>0.526316</td>\n",
       "      <td>0.526316</td>\n",
       "      <td>0.473684</td>\n",
       "      <td>-1</td>\n",
       "      <td>0.131214</td>\n",
       "      <td>-0.131214</td>\n",
       "    </tr>\n",
       "    <tr>\n",
       "      <th>2</th>\n",
       "      <td>-1</td>\n",
       "      <td>1</td>\n",
       "      <td>-1</td>\n",
       "      <td>0.526316</td>\n",
       "      <td>0.473684</td>\n",
       "      <td>0.526316</td>\n",
       "      <td>-1</td>\n",
       "      <td>0.131214</td>\n",
       "      <td>-0.131214</td>\n",
       "    </tr>\n",
       "    <tr>\n",
       "      <th>3</th>\n",
       "      <td>-1</td>\n",
       "      <td>1</td>\n",
       "      <td>1</td>\n",
       "      <td>0.526316</td>\n",
       "      <td>0.473684</td>\n",
       "      <td>0.473684</td>\n",
       "      <td>1</td>\n",
       "      <td>0.118093</td>\n",
       "      <td>0.118093</td>\n",
       "    </tr>\n",
       "    <tr>\n",
       "      <th>4</th>\n",
       "      <td>1</td>\n",
       "      <td>0</td>\n",
       "      <td>0</td>\n",
       "      <td>0.473684</td>\n",
       "      <td>1.000000</td>\n",
       "      <td>1.000000</td>\n",
       "      <td>1</td>\n",
       "      <td>0.473684</td>\n",
       "      <td>0.473684</td>\n",
       "    </tr>\n",
       "  </tbody>\n",
       "</table>\n",
       "</div>"
      ],
      "text/plain": [
       "   roll_1  roll_2  roll_3  p_roll_1  p_roll_2  p_roll_3  winnings  total_prob  \\\n",
       "0      -1      -1      -1  0.526316  0.526316  0.526316        -3    0.145794   \n",
       "1      -1      -1       1  0.526316  0.526316  0.473684        -1    0.131214   \n",
       "2      -1       1      -1  0.526316  0.473684  0.526316        -1    0.131214   \n",
       "3      -1       1       1  0.526316  0.473684  0.473684         1    0.118093   \n",
       "4       1       0       0  0.473684  1.000000  1.000000         1    0.473684   \n",
       "\n",
       "         ev  \n",
       "0 -0.437382  \n",
       "1 -0.131214  \n",
       "2 -0.131214  \n",
       "3  0.118093  \n",
       "4  0.473684  "
      ]
     },
     "execution_count": 15,
     "metadata": {},
     "output_type": "execute_result"
    }
   ],
   "source": [
    "results_table"
   ]
  },
  {
   "cell_type": "code",
   "execution_count": 16,
   "metadata": {},
   "outputs": [
    {
     "data": {
      "text/plain": [
       "0.592"
      ]
     },
     "execution_count": 16,
     "metadata": {},
     "output_type": "execute_result"
    }
   ],
   "source": [
    "#part a\n",
    "results_table.query(\"winnings > 0\")[\"total_prob\"].sum().round(3)"
   ]
  },
  {
   "cell_type": "code",
   "execution_count": 17,
   "metadata": {
    "scrolled": true
   },
   "outputs": [
    {
     "data": {
      "text/plain": [
       "-0.108"
      ]
     },
     "execution_count": 17,
     "metadata": {},
     "output_type": "execute_result"
    }
   ],
   "source": [
    "# part b\n",
    "results_table.ev.sum().round(3)"
   ]
  },
  {
   "cell_type": "markdown",
   "metadata": {},
   "source": [
    "#### SIMULATION"
   ]
  },
  {
   "cell_type": "code",
   "execution_count": 165,
   "metadata": {},
   "outputs": [],
   "source": [
    "from scipy.stats import binom\n",
    "\n",
    "import random\n",
    "choices = [-1] * 20 + [1] * 18"
   ]
  },
  {
   "cell_type": "code",
   "execution_count": 166,
   "metadata": {},
   "outputs": [],
   "source": [
    "def make_next_rolls(x):\n",
    "    if x == 0: # if black, bet again \n",
    "        return random.choice(choices)\n",
    "    if x == 1: #if red, return NaN, to be filled later\n",
    "        return 0"
   ]
  },
  {
   "cell_type": "code",
   "execution_count": 167,
   "metadata": {},
   "outputs": [],
   "source": [
    "sim_results = (pd.DataFrame({\"roll_1\": binom.rvs(n=1, p=(18 / 38), size=100000)})\n",
    "                       .assign(\n",
    "                           roll_2=lambda x: x[\"roll_1\"].apply(lambda x: make_next_rolls(x)),\n",
    "                           roll_3=lambda x: x[\"roll_1\"].apply(lambda x: make_next_rolls(x)),\n",
    "                           roll_1=lambda x: x[\"roll_1\"].replace(0, -1),\n",
    "                            )\n",
    "                       .assign(total_winnings=lambda x: x.sum(axis=1))\n",
    "              )"
   ]
  },
  {
   "cell_type": "code",
   "execution_count": 168,
   "metadata": {},
   "outputs": [
    {
     "data": {
      "text/plain": [
       "-0.1093"
      ]
     },
     "execution_count": 168,
     "metadata": {},
     "output_type": "execute_result"
    }
   ],
   "source": [
    "sim_results[\"total_winnings\"].sum() / sim_results.shape[0]"
   ]
  },
  {
   "cell_type": "markdown",
   "metadata": {},
   "source": [
    "## QUESTION (Binomial Distribution)\n",
    "The forecast says that in the next five days the chance of rain for each day is 25%. Suppose that the weather on each day does not depend on the weather on the other days. What is the probability that it will rain for at least two days in the next five days? For how many days on average will it rain in the next five days?  \n",
    "#### ANSWER:\n",
    "Where X = probability of rain in next five days:\n",
    "\n",
    "    P(X >= 2) = 0.1035\n",
    "    E[X] = 1.25\n",
    "\n",
    "#### EXPLANATION:\n",
    "    P(X >= 2) = 1 - P(X < 2)\n",
    "              = 1 - (P(X = 0) + P(X = 1))\n",
    "              = 1 - ((0.75^5)   + (5_choose_1 * 0.25^1 * (.75)^4)\n",
    "              = 1 - (0.2373046875 + (5 * 0.25 * 0.31640625))\n",
    "\n",
    "    E(X) = 5 * 0.25\n"
   ]
  },
  {
   "cell_type": "code",
   "execution_count": 345,
   "metadata": {},
   "outputs": [],
   "source": [
    "def num_combos(n, k):\n",
    "    return factorial(n) / (factorial(k) * factorial(n - k))"
   ]
  },
  {
   "cell_type": "code",
   "execution_count": 346,
   "metadata": {},
   "outputs": [],
   "source": [
    "def binom_pmf(n, x, p):\n",
    "    n_choose_x = num_combos(n, x)\n",
    "    pmf_bernoulli = p**x * (1 - p)**(n - x)\n",
    "    return n_choose_x * pmf_bernoulli"
   ]
  },
  {
   "cell_type": "code",
   "execution_count": 347,
   "metadata": {},
   "outputs": [
    {
     "data": {
      "text/plain": [
       "0.3671875"
      ]
     },
     "execution_count": 347,
     "metadata": {},
     "output_type": "execute_result"
    }
   ],
   "source": [
    "# pmf_2 = binom_pmf(n=5, x=2, p=.25)\n",
    "pmf_1 = binom_pmf(n=5, x=1, p=.25)\n",
    "pmf_0 = binom_pmf(n=5, x=0, p=.25)\n",
    "cdf = sum([pmf_0, pmf_1])\n",
    "answer = 1 - cdf\n",
    "answer"
   ]
  },
  {
   "cell_type": "code",
   "execution_count": 348,
   "metadata": {},
   "outputs": [
    {
     "data": {
      "text/plain": [
       "0.3671875"
      ]
     },
     "execution_count": 348,
     "metadata": {},
     "output_type": "execute_result"
    }
   ],
   "source": [
    "binom.sf(k=1, n=5, p=.25)"
   ]
  },
  {
   "cell_type": "markdown",
   "metadata": {},
   "source": [
    "#### SIMULATION\n",
    "- Experiment to implement: simulate the number of days of rain in the next five days, knowing the 25% forecast.\n",
    "- Generate a large number of experiments to obtain the ratio of experiments in which that number is at least 2 over the total number of experiments."
   ]
  },
  {
   "cell_type": "code",
   "execution_count": 349,
   "metadata": {},
   "outputs": [],
   "source": [
    "from scipy.stats import binom\n",
    "\n",
    "def probability_rain(simulation_size=1000):\n",
    "    '''\n",
    "    choose the simulation_size\n",
    "\n",
    "    returns\n",
    "    -------\n",
    "    probability that it will rain for at least two days in the next five days,\n",
    "    knowing that the forecast says that in the next five days the chance of rain\n",
    "    for each day is 25%\n",
    "    '''\n",
    "    chance_rain = binom.rvs(n=5, p=0.25, size=simulation_size)\n",
    "    return len(chance_rain[chance_rain > 1])/float(simulation_size)"
   ]
  },
  {
   "cell_type": "code",
   "execution_count": 350,
   "metadata": {},
   "outputs": [
    {
     "data": {
      "text/plain": [
       "array([0, 1, 0, 0, 0])"
      ]
     },
     "execution_count": 350,
     "metadata": {},
     "output_type": "execute_result"
    }
   ],
   "source": [
    "binom.rvs(n=1, p=0.25, size=5)"
   ]
  },
  {
   "cell_type": "code",
   "execution_count": 351,
   "metadata": {},
   "outputs": [],
   "source": [
    "result = []\n",
    "for num in range(100000):\n",
    "    result.append(binom.rvs(n=1, p=0.25, size=5))"
   ]
  },
  {
   "cell_type": "code",
   "execution_count": 352,
   "metadata": {},
   "outputs": [],
   "source": [
    "result_df = pd.DataFrame(result).assign(rainy_days = lambda x: x.sum(axis=1))"
   ]
  },
  {
   "cell_type": "code",
   "execution_count": 355,
   "metadata": {},
   "outputs": [
    {
     "data": {
      "image/png": "[encoded data removed]",
      "text/plain": [
       "<Figure size 432x288 with 1 Axes>"
      ]
     },
     "metadata": {
      "needs_background": "light"
     },
     "output_type": "display_data"
    }
   ],
   "source": [
    "plt.hist(result_df.rainy_days, density=True)\n",
    "plt.show()"
   ]
  },
  {
   "cell_type": "code",
   "execution_count": 356,
   "metadata": {
    "scrolled": false
   },
   "outputs": [
    {
     "data": {
      "text/plain": [
       "0.36546"
      ]
     },
     "execution_count": 356,
     "metadata": {},
     "output_type": "execute_result"
    }
   ],
   "source": [
    "result_df.query(\"rainy_days >= 2\").shape[0] / result_df.shape[0]"
   ]
  },
  {
   "cell_type": "code",
   "execution_count": 359,
   "metadata": {},
   "outputs": [
    {
     "data": {
      "text/plain": [
       "0.36546"
      ]
     },
     "execution_count": 359,
     "metadata": {},
     "output_type": "execute_result"
    }
   ],
   "source": [
    "(result_df[\"rainy_days\"] >= 2).sum() / result_df.shape[0]"
   ]
  },
  {
   "cell_type": "markdown",
   "metadata": {},
   "source": [
    "## QUESTION (Geometric distribution)\n",
    "Suppose you have an unfair coin, with an 80 % chance of getting tails. What is the probability that the first head will be on the 10th trial?\n",
    "\n",
    "#### ANSWER: \n",
    "0.02684\n",
    "\n",
    "#### EXPLANATION\n",
    "Using probability mass function for geometric distribution:\n",
    "\n",
    "We need to calculate the probability of 9 failures, multiplied by the probability\n",
    "of one success.\n",
    "\n",
    "```\n",
    "    (1-p)**(k-1)*p\n",
    "    (1-0.2)**(10-1)*0.2\n",
    "    = 0.0268\n",
    "```\n",
    "\n",
    "#### SIMULATION:\n",
    "  - Experiment to implement: simulate the number of trials until the first success.\n",
    "  - Generate a large number of experiments to obtain the ratio of experiments in which that number is at least 10 over the total number of experiments.\n",
    "\n",
    "  If the probability of success on each trial is p, then the probability that the kth trial (out of k trials) is the first success is `geom.pmf(k) = (1-p)**(k-1)*p`\n"
   ]
  },
  {
   "cell_type": "code",
   "execution_count": 16,
   "metadata": {},
   "outputs": [],
   "source": [
    "from scipy.stats import geom\n",
    "\n",
    "def probability_coin(p=0.8, simulation_size=1000):\n",
    "    '''\n",
    "    choose the simulation_size\n",
    "    p: probability of tails on a single flip of the coin\n",
    "\n",
    "    use geom.rvs\n",
    "\n",
    "    returns\n",
    "    -------\n",
    "    probability that the first head will be on the 10th trial, knowing\n",
    "    that you have an unfair coin, with an p chance of getting tails.\n",
    "    '''\n",
    "    chance_heads = geom.rvs(1-p, size=simulation_size)\n",
    "    return len(chance_heads[chance_heads == 10])/float(simulation_size)"
   ]
  },
  {
   "cell_type": "code",
   "execution_count": 17,
   "metadata": {
    "scrolled": false
   },
   "outputs": [
    {
     "data": {
      "text/plain": [
       "0.021"
      ]
     },
     "execution_count": 17,
     "metadata": {},
     "output_type": "execute_result"
    }
   ],
   "source": [
    "probability_coin() # 1000 draws"
   ]
  },
  {
   "cell_type": "code",
   "execution_count": 18,
   "metadata": {
    "scrolled": false
   },
   "outputs": [
    {
     "data": {
      "text/plain": [
       "0.04"
      ]
     },
     "execution_count": 18,
     "metadata": {},
     "output_type": "execute_result"
    }
   ],
   "source": [
    "probability_coin(simulation_size=100) # 100 draws"
   ]
  },
  {
   "cell_type": "code",
   "execution_count": 19,
   "metadata": {
    "scrolled": true
   },
   "outputs": [
    {
     "data": {
      "text/plain": [
       "0.02683311"
      ]
     },
     "execution_count": 19,
     "metadata": {},
     "output_type": "execute_result"
    }
   ],
   "source": [
    "probability_coin(simulation_size=100000000) # 100 million draws"
   ]
  },
  {
   "cell_type": "code",
   "execution_count": 47,
   "metadata": {},
   "outputs": [
    {
     "data": {
      "text/plain": [
       "[Text(0, 0.5, 'Frequency'), Text(0.5, 0, 'Geometric Distribution')]"
      ]
     },
     "execution_count": 47,
     "metadata": {},
     "output_type": "execute_result"
    },
    {
     "data": {
      "image/png": "[encoded data removed]",
      "text/plain": [
       "<Figure size 432x288 with 1 Axes>"
      ]
     },
     "metadata": {
      "needs_background": "light"
     },
     "output_type": "display_data"
    }
   ],
   "source": [
    "data_geom = geom.rvs(p=.2, size=10000) # 10 thousand draws\n",
    "\n",
    "ax = sns.distplot(data_geom,\n",
    "                  kde=True,\n",
    "                  hist_kws={\"linewidth\": 15,'alpha':.65},\n",
    "                    kde_kws={\"color\": \"k\"}\n",
    "                 )\n",
    "ax.set(xlabel='Geometric Distribution', ylabel='Frequency')"
   ]
  },
  {
   "cell_type": "markdown",
   "metadata": {},
   "source": [
    "### ASIDE: Empirical Demo of CLT"
   ]
  },
  {
   "cell_type": "code",
   "execution_count": 22,
   "metadata": {
    "scrolled": false
   },
   "outputs": [
    {
     "data": {
      "text/plain": [
       "0.026853600000000005"
      ]
     },
     "execution_count": 22,
     "metadata": {},
     "output_type": "execute_result"
    }
   ],
   "source": [
    "repeated_simulations = np.array([probability_coin() for x in range(10000)]) # one thousand draws, record observed ratio, repeat 10 thousand times\n",
    "repeated_simulations.mean()"
   ]
  },
  {
   "cell_type": "code",
   "execution_count": 27,
   "metadata": {
    "scrolled": true
   },
   "outputs": [
    {
     "data": {
      "text/plain": [
       "0.026843545600000015"
      ]
     },
     "execution_count": 27,
     "metadata": {},
     "output_type": "execute_result"
    }
   ],
   "source": [
    "# theoretical answer\n",
    "(1-0.2)**(10-1)*0.2"
   ]
  },
  {
   "cell_type": "code",
   "execution_count": 28,
   "metadata": {},
   "outputs": [
    {
     "data": {
      "text/plain": [
       "[Text(0, 0.5, 'Frequency'), Text(0.5, 0, 'Simulation')]"
      ]
     },
     "execution_count": 28,
     "metadata": {},
     "output_type": "execute_result"
    },
    {
     "data": {
      "image/png": "[encoded data removed]",
      "text/plain": [
       "<Figure size 432x288 with 1 Axes>"
      ]
     },
     "metadata": {
      "needs_background": "light"
     },
     "output_type": "display_data"
    }
   ],
   "source": [
    "ax = sns.distplot(repeated_simulations,\n",
    "                  kde=True,\n",
    "                  hist_kws={\"linewidth\": 15,'alpha': .65},\n",
    "                kde_kws={\"bw\":.002, \"color\": \"k\"}\n",
    "                 )\n",
    "ax.set(xlabel='Simulation', ylabel='Frequency')"
   ]
  },
  {
   "cell_type": "markdown",
   "metadata": {},
   "source": [
    "## QUESTION (Poisson distribution, with application of Bayes' Theorem)\n",
    "The number of times that a person contracts a cold in a given year is a Poisson random variable with parameter λ = 5. Suppose that a new wonder drug (based on large quantities of vitamin C) has just been marketed that reduces the Poisson parameter to λ = 3 for 75 percent of the population. For the other 25 percent of the population, the drug has no appreciable effect on colds. If an individual tries the drug for a year and has 2 colds in that time, how likely is it that the drug is beneficial for him or her?\n",
    "\n",
    "\n",
    "#### ANSWER\n",
    "The probability that the drug is beneficial is 88.9 percent.\n",
    "\n",
    "\n",
    "#### EXPLANATION\n",
    "Use Bayes Theorem to find the probability that the drug works, given that an individual has experienced two colds in the past year, i.e.,\n",
    "```\n",
    "  P(drug_works|two_colds)\n",
    "\n",
    "  P(A|B) = P(B|A) * P(A) / (P(B|A) * P(A) + P(B|notA) * P(notA)\n",
    "\n",
    "  P(A) = 0.75\n",
    "\n",
    "  P(notA) = 1 - prob_A = 0.25\n",
    "\n",
    "  P(B|A) = poisson probability mass function of two colds when drug working\n",
    "  P(x;λ)  = (e^−λ * λ^x) / x!\n",
    "\n",
    "         Where λ is the shape parameter which indicates the average number of\n",
    "         events in the given time interval.\n",
    "\n",
    "  P(2;3) = ((~2.718) ^ -3 * 3^2 )/ 2!\n",
    "         = 0.224\n",
    "\n",
    "\n",
    "  P(B|notA) = poisson pmf of two colds when drug not working\n",
    "  p(x;λ) = (e^−λ * λ^x) / x!\n",
    "  P(2;5) = (~2.718) ^ -5 * 5^2 / 2!\n",
    "         = 0.084\n",
    "         \n",
    "         \n",
    " P(A|B) = 0.224 * 0.75 / (0.224 * 0.75 + 0.084 * 0.25)\n",
    "        = 0.889\n",
    "```"
   ]
  },
  {
   "cell_type": "markdown",
   "metadata": {},
   "source": [
    "#### SOLUTION ...Using `scipy`"
   ]
  },
  {
   "cell_type": "code",
   "execution_count": 29,
   "metadata": {},
   "outputs": [],
   "source": [
    "from scipy.stats import poisson\n",
    "\n",
    "def is_drug_effective(num_colds, l_drug, l_prior):\n",
    "    '''\n",
    "    num_colds: number of colds the person had over the 1 year period\n",
    "    l_drug: parameter of a Poisson random variable that describes the number\n",
    "    of times that a person contracts a cold in a given year taking the drug.\n",
    "    l_prior: parameter of a Poisson random variable that describes the number\n",
    "    of times that a person contracts a cold in a given year.\n",
    "\n",
    "    use scipy.stats.poisson.pmf\n",
    "    '''\n",
    "    num = .75 * poisson.pmf(num_colds, l_drug)\n",
    "    denom = num + (1 - .75) * poisson.pmf(num_colds, l_prior)\n",
    "    return num / denom"
   ]
  },
  {
   "cell_type": "code",
   "execution_count": 30,
   "metadata": {
    "scrolled": false
   },
   "outputs": [
    {
     "data": {
      "text/plain": [
       "0.8886436647538157"
      ]
     },
     "execution_count": 30,
     "metadata": {},
     "output_type": "execute_result"
    }
   ],
   "source": [
    "is_drug_effective(num_colds=2, l_drug=3, l_prior=5)"
   ]
  },
  {
   "cell_type": "markdown",
   "metadata": {},
   "source": [
    "#### SOLUTION ...Without using `scipy`"
   ]
  },
  {
   "cell_type": "code",
   "execution_count": 31,
   "metadata": {},
   "outputs": [],
   "source": [
    "p_a = .75\n",
    "l_drug = 3\n",
    "l_prior = 5"
   ]
  },
  {
   "cell_type": "code",
   "execution_count": 32,
   "metadata": {},
   "outputs": [],
   "source": [
    "def pois_pmf(x, lamb):\n",
    "    num = e ** -lamb * lamb ** x\n",
    "    denom = factorial(x)\n",
    "    return num / denom"
   ]
  },
  {
   "cell_type": "code",
   "execution_count": 33,
   "metadata": {},
   "outputs": [
    {
     "name": "stdout",
     "output_type": "stream",
     "text": [
      "B | A :\t\t 0.224\n",
      "B | ~A :\t 0.084\n"
     ]
    }
   ],
   "source": [
    "b_given_a = pois_pmf(2, l_drug)\n",
    "b_given_not_a = pois_pmf(2, l_prior)\n",
    "print(\"B | A :\\t\\t\", round(b_given_a, 3))\n",
    "print(\"B | ~A :\\t\", round(b_given_not_a, 3))"
   ]
  },
  {
   "cell_type": "code",
   "execution_count": 34,
   "metadata": {},
   "outputs": [],
   "source": [
    "def bayes(p_a, b_given_a, b_given_not_a):\n",
    "    num = b_given_a * p_a\n",
    "    p_not_a = 1 - p_a\n",
    "    denom = num + (b_given_not_a * p_not_a)\n",
    "    return num / denom"
   ]
  },
  {
   "cell_type": "code",
   "execution_count": 35,
   "metadata": {
    "scrolled": false
   },
   "outputs": [
    {
     "name": "stdout",
     "output_type": "stream",
     "text": [
      "A | B :\t\t 0.889\n"
     ]
    }
   ],
   "source": [
    "print(\"A | B :\\t\\t\", round(bayes(p_a, b_given_a, b_given_not_a), 3))"
   ]
  },
  {
   "cell_type": "markdown",
   "metadata": {},
   "source": [
    "#### SIMULATION"
   ]
  },
  {
   "cell_type": "code",
   "execution_count": 36,
   "metadata": {},
   "outputs": [],
   "source": [
    "drug_works = binom.rvs(n=1, p=.75, size=10000)\n",
    "pois_df = pd.DataFrame({\"drug_works\": drug_works})"
   ]
  },
  {
   "cell_type": "code",
   "execution_count": 37,
   "metadata": {
    "scrolled": false
   },
   "outputs": [
    {
     "data": {
      "text/plain": [
       "<matplotlib.axes._subplots.AxesSubplot at 0x110b14ef0>"
      ]
     },
     "execution_count": 37,
     "metadata": {},
     "output_type": "execute_result"
    },
    {
     "data": {
      "image/png": "[encoded data removed]",
      "text/plain": [
       "<Figure size 432x288 with 1 Axes>"
      ]
     },
     "metadata": {
      "needs_background": "light"
     },
     "output_type": "display_data"
    }
   ],
   "source": [
    "# Should be about 3:1 ratio\n",
    "pois_df.drug_works.value_counts().plot.bar()"
   ]
  },
  {
   "cell_type": "code",
   "execution_count": 38,
   "metadata": {},
   "outputs": [],
   "source": [
    "#If drug works, average num colds is 3, if drug doesnt work, average num colds is 5\n",
    "def num_colds(x):\n",
    "    if x == 1:\n",
    "        return poisson.rvs(3)\n",
    "    elif x == 0:\n",
    "        return poisson.rvs(5)\n",
    "\n",
    "pois_df[\"num_colds\"] = pois_df.drug_works.apply(num_colds)"
   ]
  },
  {
   "cell_type": "code",
   "execution_count": 56,
   "metadata": {
    "scrolled": false
   },
   "outputs": [
    {
     "data": {
      "image/png": "[encoded data removed]",
      "text/plain": [
       "<Figure size 720x432 with 1 Axes>"
      ]
     },
     "metadata": {
      "needs_background": "light"
     },
     "output_type": "display_data"
    }
   ],
   "source": [
    "max_num = pois_df.num_colds.max() + 1\n",
    "bins = np.arange(max_num)\n",
    "\n",
    "drug_works_df = pois_df.query(\"drug_works == 1\")\n",
    "drug_no_works_df = pois_df.query(\"drug_works != 1\")\n",
    "\n",
    "fig, ax = plt.subplots(figsize=(10, 6))\n",
    "ax.hist(drug_works_df[\"num_colds\"], alpha=0.5, bins=bins, label=\"Drug Works\")\n",
    "ax.hist(drug_no_works_df[\"num_colds\"], alpha=0.5, bins=bins, label=\"Drug Doesn't Work\")\n",
    "ymax = ax.get_ylim()[1] * 1.01\n",
    "ax.vlines(x=drug_works_df[\"num_colds\"].mean() - .5, \n",
    "          ymin=0, ymax=ymax, \n",
    "          color=\"blue\", \n",
    "          label=\"Mean, When Drug Works\")\n",
    "ax.vlines(x=drug_no_works_df[\"num_colds\"].mean() - .5, \n",
    "          ymin=0, ymax=ymax, \n",
    "          color=\"red\", \n",
    "          label=\"Mean, When Drug Doesn't Work\")\n",
    "ax.set_xticks(bins + .5)\n",
    "ax.set_xticklabels(bins + 1)\n",
    "ax.set_xlabel(\"Number of Colds\")\n",
    "ax.set_ylabel(\"Frequency Count\")\n",
    "ax.legend()\n",
    "\n",
    "fig.suptitle(\"Poisson Distributions\")\n",
    "# fig.savefig(\"poisson.png\")\n",
    "plt.show()\n"
   ]
  },
  {
   "cell_type": "code",
   "execution_count": 40,
   "metadata": {},
   "outputs": [],
   "source": [
    "#   P(drug_works|two_colds)\n",
    "#   P(A|B) = P(B|A) * P(A) / (P(B|A) * P(A) + P(B|notA) * P(notA)\n",
    "\n",
    "count_a_and_b = pois_df.query(\"drug_works == 1 & num_colds == 2\").shape[0]\n",
    "count_a = pois_df.query(\"drug_works == 1\").shape[0]\n",
    "ratio_b_given_a = count_a_and_b / count_a\n",
    "\n",
    "count_not_a = pois_df.query(\"drug_works != 1\").shape[0]\n",
    "count_not_a_and_b = pois_df.query(\"drug_works != 1 & num_colds == 2\").shape[0]\n",
    "ratio_b_given_not_a = count_not_a_and_b / count_not_a\n",
    "\n",
    "# perform final calculation\n",
    "sim_solution = (ratio_b_given_a  * count_a) /(ratio_b_given_a  * count_a + ratio_b_given_not_a * count_not_a)"
   ]
  },
  {
   "cell_type": "code",
   "execution_count": 41,
   "metadata": {},
   "outputs": [
    {
     "name": "stdout",
     "output_type": "stream",
     "text": [
      "A | B:\t\t 0.882\n"
     ]
    }
   ],
   "source": [
    "print(\"A | B:\\t\\t\", round(sim_solution, 3))"
   ]
  },
  {
   "cell_type": "markdown",
   "metadata": {},
   "source": [
    "### QUESTION (Exponential distribution)\n",
    "\n",
    "The number of years a radio functions is exponentially distributed with parameter λ = 1 / 8 . If Jones buys a used radio, what is the probability that it will be working after an additional 8 years?\n",
    "\n",
    "#### ANSWER\n",
    "0.368\n",
    "\n",
    "#### EXPLANATION\n",
    "  Use probability density function for an exponential distribution to calculate radio lasting 8 years or less:\n",
    "```\n",
    "  f(x; λ)     = 1 − e^(−λx)\n",
    "  f(8; 0.125) = 1 - (~2.718)^(-0.125*8)\n",
    "              = 0.63212...\n",
    "```\n",
    "need to take inverse to get probability that radio lasts longer than 8 years:\n",
    "```\n",
    "  1 - 0.63212 = 0.368\n",
    "```"
   ]
  },
  {
   "cell_type": "markdown",
   "metadata": {},
   "source": [
    "#### SOLUTION ...Using `scipy`"
   ]
  },
  {
   "cell_type": "code",
   "execution_count": 42,
   "metadata": {
    "scrolled": true
   },
   "outputs": [
    {
     "data": {
      "text/plain": [
       "0.368"
      ]
     },
     "execution_count": 42,
     "metadata": {},
     "output_type": "execute_result"
    }
   ],
   "source": [
    "from scipy.stats import expon\n",
    "round(expon.sf(8, scale=8), 3)"
   ]
  },
  {
   "cell_type": "markdown",
   "metadata": {},
   "source": [
    "#### SIMULATION:\n",
    "- Generate a large number of experiments to obtain the ratio of experiments in which the used radio will be working after an additional 8 years over the total number of experiments."
   ]
  },
  {
   "cell_type": "code",
   "execution_count": 48,
   "metadata": {},
   "outputs": [],
   "source": [
    "def working_radio(num_years, simulation_size):\n",
    "    '''\n",
    "    choose the simulation_size\n",
    "\n",
    "    use scipy.stats.expon.rvs\n",
    "    returns\n",
    "    -------\n",
    "    probability that the radio will work after 'num_years' years, knowing that\n",
    "    the number of years a radio functions is exponentially distributed with\n",
    "    parameter λ = 1 / 8\n",
    "    '''\n",
    "    lam = 1/8.\n",
    "    lifespan = expon.rvs(size=simulation_size, scale = 1/float(lam))\n",
    "    return len(lifespan[lifespan>num_years])/float(simulation_size)"
   ]
  },
  {
   "cell_type": "code",
   "execution_count": 53,
   "metadata": {},
   "outputs": [
    {
     "data": {
      "text/plain": [
       "0.3667"
      ]
     },
     "execution_count": 53,
     "metadata": {},
     "output_type": "execute_result"
    }
   ],
   "source": [
    "working_radio(8, 10000)"
   ]
  },
  {
   "cell_type": "markdown",
   "metadata": {},
   "source": [
    "### QUESTION (Uniform distribution)\n",
    "\n",
    "Let X be the average number of donuts a data scientist eats per week. X is uniformly distributed from 1/2 to 10 donuts, inclusive.\n",
    "\n",
    "What is the probability that a randomly selected data scientist eats an average of more than 5 donuts.\n",
    "\n",
    "#### ANSWER\n",
    "0.526\n",
    "\n",
    "#### EXPLANATION\n",
    "Use cumulative density function for continuous distribution = (x-a)/(b-a)\n",
    "So, in this case the probability that a data scientist eats 5 donuts or fewer: (5-.5)/(10-.5) = .474\n",
    "\n",
    "But, we need the complement of this... so 1 - CDF = .526"
   ]
  },
  {
   "cell_type": "code",
   "execution_count": 44,
   "metadata": {},
   "outputs": [],
   "source": [
    "from scipy.stats import uniform\n",
    "\n",
    "def eating_donut_probability(number_donut, bottom_num, top_num):\n",
    "    '''\n",
    "    use uniform.sf (1-cdf)\n",
    "\n",
    "    return\n",
    "    ------\n",
    "    probability that a randomly selected data scientist eats an average of more than 'number_donut' donuts. \n",
    "    X, the average number of donut, is uniformly distributed from 'bottom_num' to 'top_num' donuts, inclusive.\n",
    "    '''\n",
    "    return uniform.sf(number_donut, loc=bottom_num, scale=top_num-bottom_num)"
   ]
  },
  {
   "cell_type": "code",
   "execution_count": 54,
   "metadata": {},
   "outputs": [
    {
     "data": {
      "text/plain": [
       "0.5263157894736843"
      ]
     },
     "execution_count": 54,
     "metadata": {},
     "output_type": "execute_result"
    }
   ],
   "source": [
    "eating_donut_probability(5, .5, 10)"
   ]
  },
  {
   "cell_type": "markdown",
   "metadata": {},
   "source": [
    "## QUESTION (Normal distribution)\n",
    "Suppose that X is a normal random variable with mean 5. If P(X > 9) = .2, approximately what is Var(X )?\n",
    "\n",
    "#### ANSWER:\n",
    "22.675\n",
    "\n",
    "#### EXPLANATION:\n",
    "```\n",
    "  If P(X > 9) = .2\n",
    "  then P(X < 9) = .8\n",
    "  reverse look up .8 on normal table (i.e., find z score by using a cumulative probability)\n",
    "  z score of a cumulative probability of .8 = .84\n",
    "  stddev = (x - mu) / z score\n",
    "         = (9 - 5)/.84\n",
    "         = 4.7619\n",
    "  variance = stddev ^2\n",
    "           = (4.7619)^2\n",
    "           = 22.675\n",
    "```"
   ]
  },
  {
   "cell_type": "code",
   "execution_count": 45,
   "metadata": {},
   "outputs": [],
   "source": [
    "from scipy.stats import norm\n",
    "\n",
    "def get_variance(mean, cutoff, proba_over_cutoff):\n",
    "    '''\n",
    "    use scipy.stats.norm.ppf, in inverse of cdf\n",
    "    returns\n",
    "    -------\n",
    "    the variance Var(X) knowing that X is a normal random variable with a\n",
    "    distribution\n",
    "      - centered at 'mean',\n",
    "      - such that P(x > 'cutoff') = 'proba_over_cutoff'\n",
    "    '''\n",
    "    return ((cutoff - mean) / norm.ppf(proba_over_cutoff)) ** 2"
   ]
  },
  {
   "cell_type": "code",
   "execution_count": 46,
   "metadata": {},
   "outputs": [
    {
     "data": {
      "text/plain": [
       "22.58845955869675"
      ]
     },
     "execution_count": 46,
     "metadata": {},
     "output_type": "execute_result"
    }
   ],
   "source": [
    "get_variance(5, 9, .2)"
   ]
  }
 ],
 "metadata": {
  "kernelspec": {
   "display_name": "Python 3",
   "language": "python",
   "name": "python3"
  },
  "language_info": {
   "codemirror_mode": {
    "name": "ipython",
    "version": 3
   },
   "file_extension": ".py",
   "mimetype": "text/x-python",
   "name": "python",
   "nbconvert_exporter": "python",
   "pygments_lexer": "ipython3",
   "version": "3.7.3"
  }
 },
 "nbformat": 4,
 "nbformat_minor": 2
}
