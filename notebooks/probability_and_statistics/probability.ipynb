{
 "cells": [
  {
   "cell_type": "markdown",
   "metadata": {},
   "source": [
    "# I. Counting\n",
    "- Permutations\n",
    "- Combinations\n",
    "\n",
    "# II. Probability distributions\n",
    "\n",
    "- Probability distribution functions for discrete random variables (binomial, geometric, Poisson)\n",
    "- Probability distribution for continuous random variables (uniform, normal, exponential)\n",
    "- Generating simulations in python\n",
    "\n",
    "# III. Conditional Probability\n",
    "- Conditional Probability\n",
    "- Bayes formula\n"
   ]
  },
  {
   "cell_type": "markdown",
   "metadata": {},
   "source": [
    "# I. Counting "
   ]
  },
  {
   "cell_type": "markdown",
   "metadata": {},
   "source": [
    "### QUESTION (Permutations) \n",
    "How many different strings can you make with 'name'? with 'data'? with 'better'?\n",
    "\n",
    "#### ANSWER: \n",
    "You can make 24 different strings with 'name', 12 with 'data', and 180 with 'better'\n",
    "\n",
    "#### EXPLANATION: \n",
    "The factorial of the length of the word will yield all possible permutations of the letters. In order to count distinct permutations, one needs to account for repeated letters in the input. To do this, divide the number of all possible permutations by the number of permutations of repeated letters. We can do this with code by de-duplicating a list of all possible permutations."
   ]
  },
  {
   "cell_type": "code",
   "execution_count": 108,
   "metadata": {},
   "outputs": [],
   "source": [
    "import itertools\n",
    "\n",
    "def make_strings(string):\n",
    "    '''\n",
    "    return the number of distinct strings that can be made from the characters\n",
    "    inside the argument string\n",
    "\n",
    "    use itertools.permutations\n",
    "\n",
    "    >>> my_string = 'test'\n",
    "    >>> make_strings(my_string)\n",
    "    '''\n",
    "    return len(set(list(itertools.permutations(string))))"
   ]
  },
  {
   "cell_type": "code",
   "execution_count": 109,
   "metadata": {
    "scrolled": true
   },
   "outputs": [
    {
     "name": "stdout",
     "output_type": "stream",
     "text": [
      "24 12 180\n"
     ]
    }
   ],
   "source": [
    "print(make_strings('name'), make_strings(\"data\"), make_strings('better'))"
   ]
  },
  {
   "cell_type": "code",
   "execution_count": 110,
   "metadata": {},
   "outputs": [],
   "source": [
    "def unique_permutations(seq):\n",
    "    \"\"\"\n",
    "    Yield only unique permutations of seq in an efficient way.\n",
    "\n",
    "    A python implementation of Knuth's \"Algorithm L\", also known from the \n",
    "    std::next_permutation function of C++, and as the permutation algorithm \n",
    "    of Narayana Pandita.\n",
    "    \"\"\"\n",
    "\n",
    "    # Precalculate the indices we'll be iterating over for speed\n",
    "    i_indices = range(len(seq) - 1, -1, -1)\n",
    "    k_indices = i_indices[1:]\n",
    "\n",
    "    # The algorithm specifies to start with a sorted version\n",
    "    seq = sorted(seq)\n",
    "\n",
    "    while True:\n",
    "        yield seq\n",
    "\n",
    "        # Working backwards from the last-but-one index,           k\n",
    "        # we find the index of the first decrease in value.  0 0 1 0 1 1 1 0\n",
    "        for k in k_indices:\n",
    "            if seq[k] < seq[k + 1]:\n",
    "                break\n",
    "        else:\n",
    "            # Introducing the slightly unknown python for-else syntax:\n",
    "            # else is executed only if the break statement was never reached.\n",
    "            # If this is the case, seq is weakly decreasing, and we're done.\n",
    "            return\n",
    "\n",
    "        # Get item from sequence only once, for speed\n",
    "        k_val = seq[k]\n",
    "\n",
    "        # Working backwards starting with the last item,           k     i\n",
    "        # find the first one greater than the one at k       0 0 1 0 1 1 1 0\n",
    "        for i in i_indices:\n",
    "            if k_val < seq[i]:\n",
    "                break\n",
    "\n",
    "        # Swap them in the most efficient way\n",
    "        (seq[k], seq[i]) = (seq[i], seq[k])                #       k     i\n",
    "                                                           # 0 0 1 1 1 1 0 0\n",
    "\n",
    "        # Reverse the part after but not                           k\n",
    "        # including k, also efficiently.                     0 0 1 1 0 0 1 1\n",
    "        seq[k + 1:] = seq[-1:k:-1]"
   ]
  },
  {
   "cell_type": "code",
   "execution_count": 111,
   "metadata": {
    "scrolled": true
   },
   "outputs": [
    {
     "name": "stdout",
     "output_type": "stream",
     "text": [
      "227 µs ± 10.1 µs per loop (mean ± std. dev. of 7 runs, 1000 loops each)\n"
     ]
    }
   ],
   "source": [
    "%%timeit\n",
    "len(list(unique_permutations('better')))"
   ]
  },
  {
   "cell_type": "code",
   "execution_count": 113,
   "metadata": {},
   "outputs": [
    {
     "name": "stdout",
     "output_type": "stream",
     "text": [
      "107 µs ± 4.7 µs per loop (mean ± std. dev. of 7 runs, 10000 loops each)\n"
     ]
    }
   ],
   "source": [
    "%%timeit\n",
    "make_strings(\"better\")"
   ]
  },
  {
   "cell_type": "markdown",
   "metadata": {},
   "source": [
    "### QUESTION (Combinations)\n",
    "Given a fruit bowl with 6 fruits (say for instance a pear, a banana, an apple, a pineapple, a kiwi and a mango), how many different fruit salad can you make, such that each salad contains 3 different fruits? Can you list them?\n",
    "\n",
    "#### ANSWER: \n",
    "20\n",
    "\n",
    "#### EXPLANATION: \n",
    "To calculate the number of combinations of r\n",
    "                    items that can be selected from a set of n items, divide\n",
    "                    n-factorial by r-factorial multiplied by n-minus-r factorial\n",
    "                    (binomial coefficient).\n",
    "                    n-choose-r = n! / r! * (n - r)!\n",
    "\n",
    "\n",
    "To find combinations of three fruits from a group of 6,\n",
    "                    divide 6 factorial by 3 factorial multiplied by 3-factorial.\n",
    "\n",
    "    6! / (3! * (6 - 3)!)\n",
    "    = 720 / (6 * 6)\n",
    "    = 20\n",
    "\n",
    "    ('pear', 'banana', 'apple'),\n",
    "     ('pear', 'banana', 'pineapple'),\n",
    "     ('pear', 'banana', 'kiwi'),\n",
    "     ('pear', 'banana', 'mango'),\n",
    "     ('pear', 'apple', 'pineapple'),\n",
    "     ('pear', 'apple', 'kiwi'),\n",
    "     ('pear', 'apple', 'mango'),\n",
    "     ('pear', 'pineapple', 'kiwi'),\n",
    "     ('pear', 'pineapple', 'mango'),\n",
    "     ('pear', 'kiwi', 'mango'),\n",
    "     ('banana', 'apple', 'pineapple'),\n",
    "     ('banana', 'apple', 'kiwi'),\n",
    "     ('banana', 'apple', 'mango'),\n",
    "     ('banana', 'pineapple', 'kiwi'),\n",
    "     ('banana', 'pineapple', 'mango'),\n",
    "     ('banana', 'kiwi', 'mango'),\n",
    "     ('apple', 'pineapple', 'kiwi'),\n",
    "     ('apple', 'pineapple', 'mango'),\n",
    "     ('apple', 'kiwi', 'mango'),\n",
    "     ('pineapple', 'kiwi', 'mango')"
   ]
  },
  {
   "cell_type": "code",
   "execution_count": 125,
   "metadata": {},
   "outputs": [],
   "source": [
    " def make_fruit_salad(lst, k):\n",
    "      '''\n",
    "      return the list of possible combinations by taking k elements from lst\n",
    "\n",
    "      use itertools.combinations\n",
    "\n",
    "      >>> my_fruits = ['pear', 'banana', 'apple']\n",
    "      >>> make_fruit_salad(my_fruits, 2)\n",
    "      [('pear', 'banana'), ('pear', 'apple'), ('banana', 'apple')]\n",
    "      '''\n",
    "      return len(list(itertools.combinations(lst, k)))"
   ]
  },
  {
   "cell_type": "markdown",
   "metadata": {},
   "source": [
    "## Probability Distributions\n",
    "Common problems relying on discrete (Binomial, Geometric, Poisson) or continuous (Uniform, Normal, Exponential) probability distributions.\n"
   ]
  },
  {
   "cell_type": "markdown",
   "metadata": {},
   "source": [
    "### QUESTION\n",
    "You call 2 Ubers and 3 Lyfts. If the time that each takes to reach you are independent and identical distributions, what is the probability that all the Lyfts arrive first? What is the probability that all the Ubers arrive first?  \n",
    "\n",
    "\n",
    "#### ANSWER: \n",
    ".01\n",
    "\n",
    " \n",
    "#### EXPLANATION: \n",
    "3/5 * 2/4 * 1/3 = 1/10.\n",
    "\n",
    "If the probability distributions are all independent and identical, then the chances that the first car to arrive is a Lyft is 3/5, the chances that the second car to arrive is a Lyft is 2/4, and the chances that the third car to arrive is a Lyft is 1/3. Multiply these together to find the joint probability.\n"
   ]
  },
  {
   "cell_type": "markdown",
   "metadata": {},
   "source": [
    "### QUESTION\n",
    "Consider a group of 20 people. If everyone shakes hands with everyone else, how many handshakes take place?\n",
    "\n",
    "#### ANSWER\n",
    "190 handshakes\n",
    "\n",
    "#### EXPLANATION\n",
    "This is asking how many combinations of two can be drawn\n",
    "from a group of 20 individuals. Based on the formula above,\n",
    "we can find the solution like so:\n",
    "    20! / (2! * (20 - 2)!)\n",
    "    19 * 20 / 2\n",
    "    = 190"
   ]
  },
  {
   "cell_type": "markdown",
   "metadata": {},
   "source": [
    "\n",
    "### QUESTION\n",
    " A salesman has scheduled two appointments to sell encyclopedias. His first appointment will lead to a sale with probability 0.3, and his second will lead independently to a sale with probability 0.6. Any sale made is equally likely to be either for the deluxe model, which costs $1000, or the standard model, which costs $500. Determine the probability mass function of X, the total dollar value of all sales.\n",
    "\n",
    "#### ANSWER:\n",
    "\n",
    "| x    | p(x)  |\n",
    "|------|-------|\n",
    "| 0    | 0.280 |\n",
    "| 500  | 0.270 |\n",
    "| 1000 | 0.315 |\n",
    "| 1500 | 0.090 |\n",
    "| 2000 | 0.045 |\n",
    "\n",
    "\n",
    "#### QUESTION\n",
    "A gambling book recommends the following “winning strategy” for the game of roulette: Bet $1 on red. If red appears (which has probability 18/38), then take the $1 profit and quit. If red does not appear and you lose this bet (which has probability 20/38 of occurring), make additional $1 bets of red on each of the next two spins of the roulette wheel and then quit. Let X denote your winnings when you quit.\n",
    "\n",
    "(a) Find P(X > 0).\n",
    "\n",
    "(b) Find E[X].\n",
    "\n",
    "(c) Are you convinced that the strategy is indeed a “winning” strategy?\n",
    "\n",
    "Answer:\n",
    "\n",
    "| roll_1 | roll_2 | roll_3 | p_roll_1 | p_roll_2 | p_roll_3 | winnings | total_prob | prod     |           |\n",
    "|--------|--------|--------|----------|----------|----------|----------|------------|----------|-----------|\n",
    "| 0      | -1     | -1     | -1       | 0.526316 | 0.526316 | 0.526316 | -3         | 0.145794 | -0.437382 |\n",
    "| 1      | -1     | -1     | 1        | 0.526316 | 0.526316 | 0.473684 | -1         | 0.131214 | -0.131214 |\n",
    "| 2      | -1     | 1      | -1       | 0.526316 | 0.473684 | 0.526316 | -1         | 0.131214 | -0.131214 |\n",
    "| 3      | -1     | 1      | 1        | 0.526316 | 0.473684 | 0.473684 | 1          | 0.118093 | 0.118093  |\n",
    "| 4      | 1      | 0      | 0        | 0.473684 | 1.000000 | 1.000000 | 1          | 0.473684 | 0.473684  |\n",
    "\n",
    "(a) p(X > 0) = 0.592 (sum of prod when winnings > 0)\n",
    "\n",
    "(b) E[X] = -0.108 (sum of all prod)\n",
    "\n",
    "(c) No, the expected value of winnings from each game is negative. The house\n",
    "    always wins, as they say."
   ]
  },
  {
   "cell_type": "markdown",
   "metadata": {},
   "source": [
    "### QUESTION (Binomial Distribution)\n",
    "The forecast says that in the next five days the chance of rain for each day is 25%. Suppose that the weather on each day does not depend on the weather on the other days. What is the probability that it will rain for at least two days in the next five days? For how many days on average will it rain in the next five days?\n",
    "\n",
    "#### ANSWER:\n",
    "Where X = probability of rain in next five days:\n",
    "\n",
    "    P(X >= 2) = 0.367\n",
    "    E[X] = 1.25\n",
    "\n",
    "#### EXPLANATION:\n",
    "    P(X >= 2) = 1 - P(X < 2)\n",
    "              = 1 - (P(X = 0) + P(X = 1))\n",
    "              = 1 - (0.75^5   + (5 * 0.25 * 0.75^4))\n",
    "\n",
    "E(X) = 5 * 0.25"
   ]
  },
  {
   "cell_type": "markdown",
   "metadata": {},
   "source": [
    "- Experiment to implement: simulate the number of days of rain in the next five days, knowing the 25% forecast.\n",
    "- Generate a large number of experiments to obtain the ratio of experiments in which that number is at least 2 over the total number of experiments.\n"
   ]
  },
  {
   "cell_type": "code",
   "execution_count": 117,
   "metadata": {},
   "outputs": [],
   "source": [
    "from scipy.stats import binom\n",
    "\n",
    "def probability_rain(simulation_size=2000):\n",
    "    '''\n",
    "    choose the simulation_size\n",
    "\n",
    "    returns\n",
    "    -------\n",
    "    probability that it will rain for at least two days in the next five days,\n",
    "    knowing that the forecast says that in the next five days the chance of rain\n",
    "    for each day is 25%\n",
    "    '''\n",
    "    chance_rain = binom.rvs(n=5, p=0.25, size=simulation_size)\n",
    "    return len(chance_rain[chance_rain > 1])/float(simulation_size)"
   ]
  },
  {
   "cell_type": "markdown",
   "metadata": {},
   "source": [
    "### QUESTION (Geometric distribution)\n",
    "Suppose you have an unfair coin, with an 80 % chance of getting tails. What is the probability that the first head will be on the 10th trial?\n",
    "\n",
    "#### ANSWER: 0.02684\n",
    "\n",
    "#### EXPLANATION\n",
    "Using probability mass function for geometric distribution:\n",
    "\n",
    "We need to calculate the probability of 9 failures, multiplied by the probability\n",
    "of one success.\n",
    "\n",
    "```\n",
    "    (1-p)**(k-1)*p\n",
    "    (1-0.2)**(10-1)*0.2\n",
    "    = 0.0268\n",
    "```"
   ]
  },
  {
   "cell_type": "markdown",
   "metadata": {},
   "source": [
    "#### CODE:\n",
    "  - Experiment to implement: simulate the number of trials until the first success.\n",
    "  - Generate a large number of experiments to obtain the ratio of experiments in which that number is at least 10 over the total number of experiments.\n",
    "\n",
    "  If the probability of success on each trial is p, then the probability that the kth trial (out of k trials) is the first success is `geom.pmf(k) = (1-p)**(k-1)*p`\n"
   ]
  },
  {
   "cell_type": "code",
   "execution_count": 118,
   "metadata": {},
   "outputs": [],
   "source": [
    "from scipy.stats import geom\n",
    "\n",
    "def probability_coin(p=0.8, simulation_size=2000):\n",
    "    '''\n",
    "    choose the simulation_size\n",
    "    p: probability of tails on a single flip of the coin\n",
    "\n",
    "    use geom.rvs\n",
    "\n",
    "    returns\n",
    "    -------\n",
    "    probability that the first head will be on the 10th trial, knowing\n",
    "    that you have an unfair coin, with an p chance of getting tails.\n",
    "    '''\n",
    "    chance_heads = geom.rvs(1-p, size=simulation_size)\n",
    "    return len(chance_heads[chance_heads == 10])/float(simulation_size)"
   ]
  },
  {
   "cell_type": "markdown",
   "metadata": {},
   "source": [
    "### QUESTION (Poisson distribution)\n",
    "The number of times that a person contracts a cold in a given year is a Poisson random variable with parameter λ = 5. Suppose that a new wonder drug (based on large quantities of vitamin C) has just been marketed that reduces the Poisson parameter to λ = 3 for 75 percent of the population. For the other 25 percent of the population, the drug has no appreciable effect on colds. If an individual tries the drug for a year and has 2 colds in that time, how likely is it that the drug is beneficial for him or her?\n",
    "\n",
    "#### ANSWER\n",
    "Use Bayes Theorem to find the probability that the drug works, given that an individual has experienced two colds in the past year, i.e.,\n",
    "```\n",
    "  P(drug_works|two_colds)\n",
    "\n",
    "  P(A|B) = P(B|A) * P(A) / (P(B|A) * P(A) + P(B|notA) * P(notA)\n",
    "\n",
    "  P(A) = .75\n",
    "\n",
    "  P(notA) = 1 - prob_A = .25\n",
    "\n",
    "  P(B|A) = poisson probability mass function of two colds when drug working\n",
    "  P(x;λ)  = (e^−λ * λ^x) / x!\n",
    "\n",
    "         Where λ is the shape parameter which indicates the average number of\n",
    "         events in the given time interval.\n",
    "\n",
    "  P(2;3) = ((~2.718) ^ -3 * 3^2 )/ 2!\n",
    "         = 0.22\n",
    "\n",
    "\n",
    "  P(B|notA) = poisson pmf of two colds when drug not working\n",
    "  P(2;5)    = p(x;λ)= (e^−λ * λ^x) / x!\n",
    "            = (~2.718) ^ -5 * 5^2 / 2!\n",
    "            = 0.084\n",
    "```"
   ]
  },
  {
   "cell_type": "code",
   "execution_count": 119,
   "metadata": {},
   "outputs": [],
   "source": [
    "from scipy.stats import poisson\n",
    "\n",
    "def is_drug_effective(num_colds, l_drug, l_prior):\n",
    "    '''\n",
    "    num_colds: number of colds the person had over the 1 year period\n",
    "    l_drug: parameter of a Poisson random variable that describes the number\n",
    "    of times that a person contracts a cold in a given year taking the drug.\n",
    "    l_prior: parameter of a Poisson random variable that describes the number\n",
    "    of times that a person contracts a cold in a given year.\n",
    "\n",
    "    use scipy.stats.poisson.pmf\n",
    "    '''\n",
    "    return .75 * poisson.pmf(num_colds, one_drug) / \\\n",
    "            (.75 * poisson.pmf(num_colds, one_drug) + \\\n",
    "            (1 - .75) * poisson.pmf(num_colds, one_prior))\n"
   ]
  },
  {
   "cell_type": "markdown",
   "metadata": {},
   "source": [
    "### QUESTION (Exponential distribution)\n",
    "\n",
    "The number of years a radio functions is exponentially distributed with parameter λ = 1 / 8 . If Jones buys a used radio, what is the probability that it will be working after an additional 8 years?\n",
    "\n",
    "#### ANSWER\n",
    ".0459\n",
    "\n",
    "#### EXPLANATION:\n",
    "  Use probability density function for an exponential distribution to calculate radio lasting 8 years or less:\n",
    "```\n",
    "  f(x; λ)     = 1 − e^(−λx)\n",
    "  f(8; 0.125) = 1 - (~2.718)^(-0.125*8)\n",
    "              = 0.63212...\n",
    "```\n",
    "need to take inverse to get probability that radio lasts longer than 8 years:\n",
    "```\n",
    "  1 - 0.63212 = 0.368\n",
    "```\n",
    "\n",
    "in Python:\n",
    "```python\n",
    "  from scipy.stats import expon\n",
    "  expon.sf(8, scale=8)\n",
    "```\n",
    "\n",
    "#### CODE:\n",
    "- Experiment to implement: simulate the number of years the used radio will work, given the exponential distribution.\n",
    "- Generate a large number of experiments to obtain the ratio of experiments in which the used radio will be working after an additional 8 years over the total number of experiments.\n"
   ]
  },
  {
   "cell_type": "code",
   "execution_count": 106,
   "metadata": {},
   "outputs": [],
   "source": [
    "from scipy.stats import expon\n",
    "\n",
    "def working_radio(num_years, simulation_size):\n",
    "    '''\n",
    "    choose the simulation_size\n",
    "\n",
    "    use scipy.stats.expon.rvs\n",
    "    returns\n",
    "    -------\n",
    "    probability that the radio will work after 'num_years' years, knowing that\n",
    "    the number of years a radio functions is exponentially distributed with\n",
    "    parameter λ = 1 / 8\n",
    "    '''\n",
    "    lam = 1/8.\n",
    "    lifespan = expon.rvs(size=simulation_size, scale = 1/float(lam))\n",
    "    return len(lifespan[lifespan>num_years])/float(simulation_size)"
   ]
  },
  {
   "cell_type": "markdown",
   "metadata": {},
   "source": [
    "### QUESTION (Uniform distribution)\n",
    "\n",
    "Let X be the average number of donuts a data scientist eats per week. X is uniformly distributed from 1/2 to 10 donuts, inclusive.\n",
    "\n",
    "What is the probability that a randomly selected data scientist eats an average of more than 5 donuts.\n",
    "\n",
    "#### ANSWER\n",
    "0.526\n",
    "\n",
    "#### EXPLANATION\n",
    "Use cumulative density function for continuous distribution = (x-a)/(b-a)\n",
    "So, in this case the probability that a data scientist eats 5 donuts or fewer: (5-.5)/(10-.5) = .474\n",
    "\n",
    "But, we need the complement of this... so 1 - CDF = .526"
   ]
  },
  {
   "cell_type": "code",
   "execution_count": null,
   "metadata": {},
   "outputs": [],
   "source": [
    "  from scipy.stats import uniform\n",
    "\n",
    "def eating_donut_probability(number_donut, bottom_num, top_num):\n",
    "    '''\n",
    "    use uniform.sf (1-cdf)\n",
    "\n",
    "    return\n",
    "    ------\n",
    "    probability that a randomly selected data scientist eats an average of more than 'number_donut' donuts. X, the average number of donut, is uniformly distributed from 'bottom_num' to 'top_num' donuts, inclusive.\n",
    "    '''\n",
    "    return uniform.sf(number_donut, loc=bottom_num, scale=top_num-bottom_num)"
   ]
  },
  {
   "cell_type": "markdown",
   "metadata": {},
   "source": [
    "### QUESTION (Normal distribution)\n",
    "Suppose that X is a normal random variable with mean 5. If P(X > 9) = .2, approximately what is Var(X )?\n",
    "\n",
    "#### ANSWER:\n",
    "22.675\n",
    "\n",
    "#### EXPLANATION:\n",
    "```\n",
    "  If P(X > 9) = .2\n",
    "  then P(X < 9) = .8\n",
    "  reverse look up .8 on normal table (i.e., find z score by using a cumulative probability)\n",
    "  z score of a cumulative probability of .8 = .84\n",
    "  stddev = (x - mu) / z score\n",
    "         = (9 - 5)/.84\n",
    "         = 4.7619\n",
    "  variance = stddev ^2\n",
    "           = (4.7619)^2\n",
    "           = 22.675\n",
    "```"
   ]
  },
  {
   "cell_type": "code",
   "execution_count": 120,
   "metadata": {},
   "outputs": [],
   "source": [
    "  from scipy.stats import norm\n",
    "\n",
    "def get_variance(mean, cutoff, proba_over_cutoff):\n",
    "    '''\n",
    "    use scipy.stats.norm.ppf, in inverse of cdf\n",
    "    returns\n",
    "    -------\n",
    "    the variance Var(X) knowing that X is a normal random variable with a\n",
    "    distribution\n",
    "      - centered at 'mean',\n",
    "      - such that P(x > 'cutoff') = 'proba_over_cutoff'\n",
    "    '''\n",
    "    return ((cutoff - mean) / norm.ppf(proba_over_cutoff)) ** 2"
   ]
  },
  {
   "cell_type": "markdown",
   "metadata": {},
   "source": []
  },
  {
   "cell_type": "markdown",
   "metadata": {},
   "source": [
    "# Conditional Probability and Bayes Theorem"
   ]
  },
  {
   "cell_type": "markdown",
   "metadata": {},
   "source": [
    "### 1. Stock prices\n",
    "\n",
    "A simplified model for the movement of the price of a stock supposes that on each day the stock’s price either moves up 1 unit with probability `p` or moves down 1 unit with probability `1 − p`. The changes on different days are assumed to be independent.\n",
    "\n",
    "(a) What is the probability that after 2 days the stock will be at its original price?\n",
    "\n",
    "(b) What is the probability that after 3 days the stock’s price will have increased by 1 unit?\n",
    "\n",
    "(c) Given that after 3 days the stock’s price has increased by 1 unit, what is the probability that it went up on the first day?\n",
    "\n",
    "  ### ANSWER: \n",
    "                (a) p * (1 - p)\n",
    "                (b) 2p * (1 - p)\n",
    "                (c) 2/3\n",
    "\n",
    "  #### EXPLANATION:\n",
    "                    (a) union of two events\n",
    "                    (b) union of three events\n",
    "                    (c) the price went up twice and down once, and that could\n",
    "                        have happened on any of the three days"
   ]
  },
  {
   "cell_type": "markdown",
   "metadata": {},
   "source": [
    "\n",
    "\n",
    "### 2. Getting a new job\n",
    "\n",
    "A worker has asked her supervisor for a letter of recommendation for a new job. She estimates that there is an 80 percent chance that she will get the job if she receives a strong recommendation, a 40 percent chance if she receives a moderately good recommendation, and a 10 percent chance if she receives a weak recommendation. She further estimates that the probabilities that the recommendation will be strong, moderate, and weak are .7, .2, and .1, respectively.\n",
    "\n",
    "(a) How certain is she that she will receive the new job offer?\n",
    "\n",
    "(b) Given that she does receives the offer, how likely should she feel that she received a strong recommendation? a moderate recommendation? a weak recommendation?\n",
    "\n",
    "(c) Given that she does not receive the job offer, how likely should she feel that she received a strong recommendation? a moderate recommendation? a weak recommendation?\n",
    "\n",
    "#### ANSWER: \n",
    "(a) 0.65\n",
    "(b) .862, .123, .015\n",
    "(c) .4, .343, .257\n",
    "\n",
    "\n",
    "#### EXPLANATION: \n",
    "                    (a) .7 * .8 + .2 * .4 + .1 * .1\n",
    "                        = .56 + .08 + .01\n",
    "                        = .65\n",
    "                    (b) Using Bayes' Theorem...\n",
    "                        p(A|B) = p(B|A) * p(A) / p(B)\n",
    "                        p(strongrec | job)\n",
    "                        = p(job | strongrec) * p(strongrec) / p(job)\n",
    "                        = .8 * .7 / .65\n",
    "                        = .862\n",
    "\n",
    "                        = p(job | moderaterec) * p(moderaterec) / p(job)\n",
    "                        = .4 * .2 / .65\n",
    "                        = .123\n",
    "\n",
    "                        = p(job | weakrec) * p(weakrec) / p(job)\n",
    "                        = .1 * .1 / .65\n",
    "                        = .015\n",
    "\n",
    "                    (c) = p(nojob | strongrec) * p(strongrec) / p(nojob)\n",
    "                        = .2 * .6/ .35\n",
    "                        = .4\n",
    "\n",
    "                        = p(nojob | moderaterec) * p(moderaterec) / p(nojob)\n",
    "                        = .4 * .2/ .35\n",
    "                        = .343\n",
    "\n",
    "                        = p(nojob | weakrec) * p(weakrec) / p(nojob)\n",
    "                        = .9* .1/ .35\n",
    "                        = .257\n",
    "\n",
    "\n",
    "### 3. Medical study and some code\n",
    "\n",
    "A medical study is looking at a test to detect disease that impacts 1 individual in 10. The data collected has shown that\n",
    "- when a patient has the disease, the test is positive in 90% of the cases\n",
    "- when a patient does not have the disease, the test is positive in 1% of the cases.\n",
    "\n",
    "(a) If the test is positive, what is the probability that the patient as that disease?\n",
    "\n",
    "(b) What if it is a rare disease, that impacts 1 in 10 000 individuals?\n",
    "\n",
    "(c) How about if the test is negative?\n",
    "\n",
    "   #### ANSWER: \n",
    "               (a) .909\n",
    "               (b) .009\n",
    "               (c) .011\n",
    "\n",
    "  #### EXPLANATION: Using Bayes' Theorem (expanded version):\n",
    "                    p(A|B) = p(B|A) * p(A) / (p(B|A)* p(A) + p(B|!A) p(!A))\n",
    "\n",
    "                (a) where A = having disease, B = testing positive, p(A) = .1\n",
    "                    .9 * .1 / (.9 * .1 + .01 * (1 - .1))\n",
    "                  = .09 / .009\n",
    "                  = .909\n",
    "\n",
    "                (b) where p(A) = 1/10000\n",
    "                    .9 * .0001 / (.9 * .0001 + .01 * (1-.0001)\n",
    "                    = .00892\n",
    "\n",
    "                (c) where B = testing negative\n",
    "                    (1 - .9) * .1 / ((1 - .9) * .1 + (1 - .01)* (1 -.1))\n",
    "                    .011\n"
   ]
  },
  {
   "cell_type": "code",
   "execution_count": 123,
   "metadata": {},
   "outputs": [],
   "source": [
    "def positive_test(TP, FP, perc_population):\n",
    "    '''\n",
    "    parameters\n",
    "    ----------\n",
    "    TP: true positive\n",
    "      percentage of tests that were positive\n",
    "      for the sample of subjects that had the disease\n",
    "    FP: false positive\n",
    "      percentage of tests that were positive\n",
    "      for the control population (disease-free subjects)\n",
    "\n",
    "    percent_population: percentage of the population that has the disease\n",
    "\n",
    "    returns\n",
    "    -------\n",
    "    probability of having the disease for a person with a positive test result\n",
    "    '''\n",
    "    return TP * perc_population / \\\n",
    "        (TP * perc_population + FP *(1-perc_population))"
   ]
  }
 ],
 "metadata": {
  "kernelspec": {
   "display_name": "Python 3",
   "language": "python",
   "name": "python3"
  },
  "language_info": {
   "codemirror_mode": {
    "name": "ipython",
    "version": 3
   },
   "file_extension": ".py",
   "mimetype": "text/x-python",
   "name": "python",
   "nbconvert_exporter": "python",
   "pygments_lexer": "ipython3",
   "version": "3.7.3"
  }
 },
 "nbformat": 4,
 "nbformat_minor": 2
}
