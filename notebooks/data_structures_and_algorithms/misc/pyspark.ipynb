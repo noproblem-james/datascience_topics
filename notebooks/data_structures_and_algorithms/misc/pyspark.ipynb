{
 "cells": [
  {
   "cell_type": "code",
   "execution_count": null,
   "metadata": {},
   "outputs": [],
   "source": [
    "import pyspark as ps\n",
    "\n",
    "\n",
    "\n",
    "Cast the values for DEP_DELAY and ARR_DELAY as floats. These values correspond with delay lengths in minutes.  \n",
    "Subtract DEP_DELAY from ARR_DELAY to get the actual ARR_DELAY.  \n",
    "If a flight is CANCELLED, add 5 hours, 300 minutes, to DEP_DELAY.  \n",
    "There are missing values in DEP_DELAY and ARR_DELAY (i.e. '') and you would want to replace those with `0.0`.\n",
    "\n",
    "def make_row_dict(row_values, col_names, keep_keys_set):\n",
    "    \"\"\"Extract specific columns from a row (string) and operates some specific transformations on the values.\n",
    "\n",
    "    Parameters\n",
    "    ----------\n",
    "    row_values (list): a list of the values of a given row\n",
    "    col_names (list): a list of all the columns in row_string ordered as in row_string\n",
    "    keep_keys_dict (set): the set of the columns we keep (anything else is discarded)\n",
    "\n",
    "    Returns\n",
    "    -------\n",
    "    dict : a dictionary containing the key,value pairs we chose to keep\n",
    "\n",
    "    Example\n",
    "    -------\n",
    "    >>> make_row_dict(['2012', '4', 'AA', '12478', '12892', '-4.00', '0.00', '-21.00', '0.00', '0.00', ''],\\\n",
    "    ['YEAR', 'MONTH', 'UNIQUE_CARRIER', 'ORIGIN_AIRPORT_ID', 'DEST_AIRPORT_ID', 'DEP_DELAY', 'DEP_DELAY_NEW', 'ARR_DELAY', 'ARR_DELAY_NEW', 'CANCELLED', ''],\\\n",
    "    {'DEST_AIRPORT_ID', 'ORIGIN_AIRPORT_ID', 'DEP_DELAY', 'ARR_DELAY'}\n",
    "    {'ARR_DELAY': -17.0, 'DEST_AIRPORT_ID': '12892', 'DEP_DELAY': -4.0, 'ORIGIN_AIRPORT_ID': '12478'}\n",
    "    \"\"\"\n",
    "    data = {k: v for k, v in zip(col_names, row_values)}\n",
    "    for k, v in data.items():\n",
    "        if \"DELAY\" in k:\n",
    "            data[k] = float(v)\n",
    "        if k == \"ARR_DELAY\":\n",
    "            data[k] = float(data[\"ARR_DELAY\"]) - float(data[\"DEP_DELAY\"])\n",
    "        if k == \"CANCELLED\" and v == \"1.00\":\n",
    "            data[\"DEP_DELAY\"] += 300\n",
    "            \n",
    "    return {k: v for k, v in data.items() if k in keep_keys_set}\n",
    "\n",
    "row_dict = \\\n",
    "make_row_dict(\n",
    "    ['2012', '4', 'AA', '12478', '12892', '-4.00', '0.00', '-21.00', '0.00', '0.00', ''],\n",
    "    ['YEAR', 'MONTH', 'UNIQUE_CARRIER', 'ORIGIN_AIRPORT_ID', 'DEST_AIRPORT_ID', 'DEP_DELAY', 'DEP_DELAY_NEW', 'ARR_DELAY', 'ARR_DELAY_NEW', 'CANCELLED', ''],\n",
    "    {'DEST_AIRPORT_ID', 'ORIGIN_AIRPORT_ID', 'DEP_DELAY', 'ARR_DELAY'}\n",
    ")\n",
    "\n",
    "\n",
    "\n",
    "row_dict"
   ]
  }
 ],
 "metadata": {
  "kernelspec": {
   "display_name": "Python 3",
   "language": "python",
   "name": "python3"
  },
  "language_info": {
   "codemirror_mode": {
    "name": "ipython",
    "version": 3
   },
   "file_extension": ".py",
   "mimetype": "text/x-python",
   "name": "python",
   "nbconvert_exporter": "python",
   "pygments_lexer": "ipython3",
   "version": "3.7.3"
  }
 },
 "nbformat": 4,
 "nbformat_minor": 2
}
