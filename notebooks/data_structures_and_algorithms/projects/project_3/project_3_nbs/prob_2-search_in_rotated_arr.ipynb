{
 "cells": [
  {
   "cell_type": "markdown",
   "metadata": {},
   "source": [
    "## Search in a Rotated Sorted Array\n",
    "You are given a sorted array which is rotated at some random pivot point.\n",
    "\n",
    "Example: [0,1,2,4,5,6,7] might become [4,5,6,7,0,1,2]\n",
    "\n",
    "You are given a target value to search. If found in the array return its index, otherwise return -1.\n",
    "\n",
    "You can assume there are no duplicates in the array and your algorithm's runtime complexity must be in the order of `O(log n)`.\n",
    "\n",
    "Example:\n",
    "\n",
    "Input: `nums = [4,5,6,7,0,1,2], target = 0, Output: 4`\n",
    "\n",
    "Here is some boilerplate code and test cases to start with:"
   ]
  },
  {
   "cell_type": "markdown",
   "metadata": {},
   "source": [
    "## Write up\n",
    "Since binary search operates in `O(log(n))` time, we just need to figure out a way to apply it here. The additional wrinkle is that binary search assumes a pre-sorted array, and we have a pivoted array. Most sorting algorithms operate in at least `O(nlogn)` time in the best case, so resorting the array is too expensive. Thankfully, the pivoted array is just one step away from being sorted. We can think of it as two sorted binary arrays whose ranges do not overlap and are concatenated together. We just need to pick the one on which to perform binary search in either `O(n)` or `O(log(n))` time.\n",
    "\n",
    "Picking one side of the pivot or another requires finding the pivot. We can think of this as a variation on binary search, except instead of comparing our midpoint value to pre-specified target value, we are comparing the midpoint to its two neighbors. If it is larger than its right neighbor, it is the pivot. If it's smaller than its left neighbor, then its left neighbor is the pivot. Since binary search requires us to discard one partition of the array, how can we on which side of the midpoint we need to look? If the first value of the array is larger than the midpoint, we know that the pivot point lies somewhere before the midpoint. If the first value of the array is smaller than the midpoint, then we know the pivot happens after the midpoint. \n",
    "\n",
    "Even though the problem specifies that the input is a pivoted, presorted array, the function will enter an infinite recursion looking for the pivot if the array isn't actually pivoted, so I wrote a base case that returns `-1` if no pivot exists. There are alternative ways to handle that, of course.\n",
    "\n",
    "The overall time complexity should be `O(log(n))`, because we are essentially conducting two sequential binary searches, which each take `O(log(n))` time. The worst case scenario is that the pivot is the last element (i.e., it's not really pivoted, but already presortored, although we still are checking to find the pivot).  So, that yields a time complexity of`O(log(n)) + O(log(n))`, which simplifies to `O(2*log(n))`. Since we are only focused on the highest-order term, we are still operating at `O(log(n))`."
   ]
  },
  {
   "cell_type": "code",
   "execution_count": 430,
   "metadata": {},
   "outputs": [],
   "source": [
    "def rotated_array_search(arr, target):\n",
    "    \"\"\"\n",
    "    Find the index by searching in a rotated sorted array\n",
    "\n",
    "    Args:\n",
    "       input_list(array), number(int): Input array to search and the target\n",
    "    Returns:\n",
    "       int: Index or -1\n",
    "    \"\"\"\n",
    "    if not arr:\n",
    "        print(\"You have not provided an array with values.\") \n",
    "        return -1\n",
    "    \n",
    "    end_idx = len(arr) - 1\n",
    "    pivot_idx = find_pivot(arr, start_idx=0, end_idx=end_idx)\n",
    "    \n",
    "    if pivot_idx == -1:\n",
    "        return binary_search(arr, target, 0, end_idx)\n",
    "    \n",
    "    pivot_val = arr[pivot_idx]\n",
    "    first_val = arr[0]\n",
    "    \n",
    "    if target == pivot_val:\n",
    "        return pivot_idx\n",
    "    \n",
    "    elif target == first_val:\n",
    "        return 0\n",
    "\n",
    "    elif target < first_val: # upper partition of indices, lower half of sorted vals\n",
    "        return binary_search(arr, target, pivot_idx + 1, end_idx)\n",
    "    \n",
    "    else: # lower partition of indices, upper partition of sorted values\n",
    "        return binary_search(arr, target, 0, pivot_idx + 1)\n",
    "    \n",
    "    print(result)\n",
    "\n",
    "    return result"
   ]
  },
  {
   "cell_type": "code",
   "execution_count": 431,
   "metadata": {},
   "outputs": [],
   "source": [
    "def find_pivot(arr, start_idx, end_idx): \n",
    "    if start_idx >= end_idx: # base case\n",
    "        return -1\n",
    "    mid_idx = (start_idx + end_idx) // 2\n",
    "      \n",
    "    if arr[mid_idx] > arr[mid_idx + 1]:\n",
    "        return mid_idx \n",
    "    \n",
    "    elif arr[mid_idx] < arr[mid_idx - 1]:\n",
    "        return (mid_idx - 1) \n",
    "    \n",
    "    elif arr[start_idx] >= arr[mid_idx]: \n",
    "        return find_pivot(arr, start_idx=start_idx, end_idx=mid_idx - 1) # look from start up until the midpoint\n",
    "    \n",
    "    else:\n",
    "        return find_pivot(arr, start_idx=mid_idx + 1, end_idx=end_idx) # look from midpoint til the end"
   ]
  },
  {
   "cell_type": "code",
   "execution_count": 432,
   "metadata": {},
   "outputs": [],
   "source": [
    "def binary_search(array, target, start_idx, end_idx):\n",
    "    if start_idx > end_idx:\n",
    "        return -1 # element not found\n",
    "    mid_idx = (start_idx + end_idx) // 2    \n",
    "    mid_element = array[mid_idx]\n",
    "    \n",
    "    if mid_element == target:\n",
    "        return mid_idx\n",
    "    elif target < mid_element:\n",
    "        return binary_search(array, target, start_idx, mid_idx - 1)\n",
    "    else:\n",
    "        return binary_search(array, target, mid_idx + 1, end_idx)"
   ]
  },
  {
   "cell_type": "code",
   "execution_count": 400,
   "metadata": {},
   "outputs": [
    {
     "name": "stdout",
     "output_type": "stream",
     "text": [
      "Pass\n",
      "Pass\n",
      "Pass\n",
      "Pass\n",
      "Pass\n",
      "You have not provided an array with values.\n",
      "Pass\n"
     ]
    }
   ],
   "source": [
    "def linear_search(input_list, number):\n",
    "    for index, element in enumerate(input_list):\n",
    "        if element == number:\n",
    "            return index\n",
    "    return -1\n",
    "\n",
    "def test_function(test_case):\n",
    "    input_list = test_case[0]\n",
    "    number = test_case[1]\n",
    "    if linear_search(input_list, number) == rotated_array_search(input_list, number):\n",
    "        print(\"Pass\")\n",
    "    else:\n",
    "        print(\"Fail\")\n",
    "\n",
    "test_function([[6, 7, 8, 9, 10, 1, 2, 3, 4], 6])\n",
    "test_function([[6, 7, 8, 9, 10, 1, 2, 3, 4], 1])\n",
    "test_function([[6, 7, 8, 1, 2, 3, 4], 8])\n",
    "test_function([[6, 7, 8, 1, 2, 3, 4], 1])\n",
    "test_function([[6, 7, 8, 1, 2, 3, 4], 10])\n",
    "test_function([[], 10])"
   ]
  },
  {
   "cell_type": "code",
   "execution_count": 220,
   "metadata": {
    "scrolled": false
   },
   "outputs": [
    {
     "data": {
      "text/plain": [
       "8"
      ]
     },
     "execution_count": 220,
     "metadata": {},
     "output_type": "execute_result"
    }
   ],
   "source": [
    "rotated_array_search(arr1, 10)"
   ]
  },
  {
   "cell_type": "code",
   "execution_count": 446,
   "metadata": {},
   "outputs": [],
   "source": [
    "test_cases = [\n",
    "    [[1, 2, 3, 4, 6, 7, 8, 9, 10, 11], -1], # no pivot\n",
    "    [[6, 7, 7, 1, 2, 2, 4], 2], # pivot on duplicate\n",
    "    [[9, 10, 11, 1, 2, 3, 4, 6, 7, 8], 2], #pivoted in bottom part\n",
    "    [[3, 4, 6, 7, 8, 9, 10, 11, 1, 2], 7], # pivoted in top part\n",
    "    [[9, 10, 11, 1, 2, 3, 4, 6, 7,], 2], #pivoted in bottom part, even count of elements\n",
    "    [[3, 4, 6, 7, 8, 9, 10, 11, 1], 7], # pivoted in top part, even count of elements\n",
    "    [[11, 12, 10],  1],\n",
    "    [[11, 10], 0],\n",
    "    [[10, 11], -1],\n",
    "    [[], -1]\n",
    "]"
   ]
  },
  {
   "cell_type": "code",
   "execution_count": 447,
   "metadata": {},
   "outputs": [],
   "source": [
    "def test_find_pivot(test_cases):\n",
    "    for num, test_case in enumerate(test_cases):\n",
    "        test_arr = test_case[0]\n",
    "        print(f\"TEST CASE {num + 1}\", test_arr)\n",
    "        actual_result = find_pivot(test_arr, 0, len(test_arr) - 1)\n",
    "        expected_result = test_case[1]\n",
    "        print(f\"actual result:   {actual_result}\")\n",
    "        print(f\"expected result: {expected_result}\\n\")\n",
    "        assert actual_result == expected_result"
   ]
  },
  {
   "cell_type": "code",
   "execution_count": 445,
   "metadata": {
    "scrolled": false
   },
   "outputs": [
    {
     "name": "stdout",
     "output_type": "stream",
     "text": [
      "TEST CASE 1 [1, 2, 3, 4, 6, 7, 8, 9, 10, 11]\n",
      "actual result:   -1\n",
      "expected result: -1\n",
      "\n",
      "TEST CASE 2 [6, 7, 7, 1, 2, 2, 4]\n",
      "actual result:   2\n",
      "expected result: 2\n",
      "\n",
      "TEST CASE 3 [9, 10, 11, 1, 2, 3, 4, 6, 7, 8]\n",
      "actual result:   2\n",
      "expected result: 2\n",
      "\n",
      "TEST CASE 4 [3, 4, 6, 7, 8, 9, 10, 11, 1, 2]\n",
      "actual result:   7\n",
      "expected result: 7\n",
      "\n",
      "TEST CASE 5 [9, 10, 11, 1, 2, 3, 4, 6, 7]\n",
      "actual result:   2\n",
      "expected result: 2\n",
      "\n",
      "TEST CASE 6 [3, 4, 6, 7, 8, 9, 10, 11, 1]\n",
      "actual result:   7\n",
      "expected result: 7\n",
      "\n",
      "TEST CASE 7 [11, 12, 10]\n",
      "actual result:   1\n",
      "expected result: 1\n",
      "\n",
      "TEST CASE 8 [11, 10]\n",
      "actual result:   0\n",
      "expected result: 0\n",
      "\n",
      "TEST CASE 9 [10, 11]\n",
      "actual result:   -1\n",
      "expected result: -1\n",
      "\n",
      "TEST CASE 10 []\n",
      "actual result:   -1\n",
      "expected result: -1\n",
      "\n"
     ]
    }
   ],
   "source": [
    "test_find_pivot(test_cases)"
   ]
  },
  {
   "cell_type": "markdown",
   "metadata": {},
   "source": [
    "### Explore "
   ]
  },
  {
   "cell_type": "code",
   "execution_count": 402,
   "metadata": {},
   "outputs": [
    {
     "data": {
      "text/plain": [
       "True"
      ]
     },
     "execution_count": 402,
     "metadata": {},
     "output_type": "execute_result"
    }
   ],
   "source": [
    "l = []\n",
    "not l"
   ]
  },
  {
   "cell_type": "code",
   "execution_count": 426,
   "metadata": {},
   "outputs": [],
   "source": [
    "# Verbose\n",
    "def find_pivot(arr, start_idx, end_idx, counter=0): \n",
    "    counter += 1\n",
    "    print(\"iteration: \", counter)\n",
    "    # base cases \n",
    "    if start_idx >= end_idx: \n",
    "        return -1\n",
    "      \n",
    "    mid_idx = (start_idx + end_idx) // 2\n",
    "    print(f\"start index: {start_idx}, end index: {end_idx}, mid index: {mid_idx}\")\n",
    "      \n",
    "    if arr[mid_idx] > arr[mid_idx + 1]: \n",
    "        print(\"pivot found at mid index\")\n",
    "        return mid_idx \n",
    "    \n",
    "    elif arr[mid_idx] < arr[mid_idx - 1]:\n",
    "        print(\"pivot found at mid index minus one\")\n",
    "        return (mid_idx - 1) \n",
    "    \n",
    "    elif arr[start_idx] >= arr[mid_idx]: \n",
    "        print(\n",
    "        f\"value at start index ({start_idx} : {arr[start_idx]}) greater than value at mid index ({mid_idx} : {arr[mid_idx]})\\\n",
    "        ...applying recursively to bottom part of array\"\n",
    "        )\n",
    "        return find_pivot(arr, start_idx, mid_idx - 1, counter=counter) # look from start up until the midpoint\n",
    "    else:\n",
    "        print(\"applying recursively to top half of array\")\n",
    "        return find_pivot(arr, mid_idx + 1, end_idx, counter=counter) # look from midpoint til the end"
   ]
  },
  {
   "cell_type": "code",
   "execution_count": 413,
   "metadata": {},
   "outputs": [
    {
     "data": {
      "text/plain": [
       "1"
      ]
     },
     "execution_count": 413,
     "metadata": {},
     "output_type": "execute_result"
    }
   ],
   "source": [
    "binary_search([6, 7, 7], 7, 0, 2)"
   ]
  },
  {
   "cell_type": "code",
   "execution_count": 445,
   "metadata": {
    "scrolled": false
   },
   "outputs": [
    {
     "name": "stdout",
     "output_type": "stream",
     "text": [
      "TEST CASE 1 [1, 2, 3, 4, 6, 7, 8, 9, 10, 11]\n",
      "actual result:   -1\n",
      "expected result: -1\n",
      "\n",
      "TEST CASE 2 [6, 7, 7, 1, 2, 2, 4]\n",
      "actual result:   2\n",
      "expected result: 2\n",
      "\n",
      "TEST CASE 3 [9, 10, 11, 1, 2, 3, 4, 6, 7, 8]\n",
      "actual result:   2\n",
      "expected result: 2\n",
      "\n",
      "TEST CASE 4 [3, 4, 6, 7, 8, 9, 10, 11, 1, 2]\n",
      "actual result:   7\n",
      "expected result: 7\n",
      "\n",
      "TEST CASE 5 [9, 10, 11, 1, 2, 3, 4, 6, 7]\n",
      "actual result:   2\n",
      "expected result: 2\n",
      "\n",
      "TEST CASE 6 [3, 4, 6, 7, 8, 9, 10, 11, 1]\n",
      "actual result:   7\n",
      "expected result: 7\n",
      "\n",
      "TEST CASE 7 [11, 12, 10]\n",
      "actual result:   1\n",
      "expected result: 1\n",
      "\n",
      "TEST CASE 8 [11, 10]\n",
      "actual result:   0\n",
      "expected result: 0\n",
      "\n",
      "TEST CASE 9 [10, 11]\n",
      "actual result:   -1\n",
      "expected result: -1\n",
      "\n",
      "TEST CASE 10 []\n",
      "actual result:   -1\n",
      "expected result: -1\n",
      "\n"
     ]
    }
   ],
   "source": [
    "test_find_pivot(test_cases)"
   ]
  },
  {
   "cell_type": "code",
   "execution_count": null,
   "metadata": {},
   "outputs": [],
   "source": []
  }
 ],
 "metadata": {
  "kernelspec": {
   "display_name": "Python 3",
   "language": "python",
   "name": "python3"
  },
  "language_info": {
   "codemirror_mode": {
    "name": "ipython",
    "version": 3
   },
   "file_extension": ".py",
   "mimetype": "text/x-python",
   "name": "python",
   "nbconvert_exporter": "python",
   "pygments_lexer": "ipython3",
   "version": "3.7.2"
  }
 },
 "nbformat": 4,
 "nbformat_minor": 2
}
