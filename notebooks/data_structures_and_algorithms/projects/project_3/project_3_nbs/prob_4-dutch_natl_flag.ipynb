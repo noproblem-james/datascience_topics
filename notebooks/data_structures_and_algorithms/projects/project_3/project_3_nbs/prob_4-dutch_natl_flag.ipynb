{
 "cells": [
  {
   "cell_type": "markdown",
   "metadata": {},
   "source": [
    "# Dutch National Flag Problem\n",
    "Given an input array consisting on only 0, 1, and 2, sort the array in a single traversal. You're not allowed to use any sorting function that Python provides.\n",
    "\n",
    "Note: O(n) does not necessarily mean single-traversal. For e.g. if you traverse the array twice, that would still be an O(n) solution but it will not count as single traversal.\n",
    "\n",
    "Here is some boilerplate code and test cases to start with:"
   ]
  },
  {
   "cell_type": "code",
   "execution_count": 9,
   "metadata": {},
   "outputs": [],
   "source": [
    "def sort012(arr):\n",
    "    n = len(arr)\n",
    "    lo = 0\n",
    "    hi = n - 1\n",
    "    mid = 0\n",
    "    while mid <= hi:\n",
    "        if arr[mid] == 0: \n",
    "            arr[lo], arr[mid] = arr[mid], arr[lo] \n",
    "            lo = lo + 1\n",
    "            mid = mid + 1\n",
    "        elif arr[mid] == 1:\n",
    "            mid += 1\n",
    "        else:\n",
    "            arr[mid], arr[hi] = arr[hi], arr[mid]  \n",
    "            hi -= 1\n",
    "    return arr"
   ]
  },
  {
   "cell_type": "code",
   "execution_count": 10,
   "metadata": {},
   "outputs": [
    {
     "name": "stdout",
     "output_type": "stream",
     "text": [
      "[0, 0, 0, 1, 1, 1, 2, 2, 2, 2, 2]\n",
      "Pass\n",
      "[0, 0, 0, 0, 0, 0, 0, 0, 0, 0, 0, 1, 1, 1, 1, 1, 1, 2, 2, 2, 2, 2, 2, 2, 2, 2]\n",
      "Pass\n",
      "[0, 0, 0, 0, 0, 0, 1, 1, 1, 1, 1, 1, 2, 2, 2, 2, 2, 2, 2]\n",
      "Pass\n"
     ]
    }
   ],
   "source": [
    "def test_function(test_case):\n",
    "    sorted_array = sort012(test_case)\n",
    "    print(sorted_array)\n",
    "    if sorted_array == sorted(test_case):\n",
    "        print(\"Pass\")\n",
    "    else:\n",
    "        print(\"Fail\")\n",
    "\n",
    "test_function([0, 0, 2, 2, 2, 1, 1, 1, 2, 0, 2])\n",
    "test_function([2, 1, 2, 0, 0, 2, 1, 0, 1, 0, 0, 2, 2, 2, 1, 2, 0, 0, 0, 2, 1, 0, 2, 0, 0, 1])\n",
    "test_function([0, 0, 0, 0, 0, 0, 1, 1, 1, 1, 1, 1, 2, 2, 2, 2, 2, 2, 2])"
   ]
  },
  {
   "cell_type": "markdown",
   "metadata": {},
   "source": [
    "## Write up\n",
    "At first, I wrote this function to place elements in three separate lists and then concat them together using `lst.extend()`, because this *seemed* to satisfy the criterion of a single traversal. However, assuming that we are extending the list of zeros using the list of ones, and then the list of twos, we are actually traversing the lists of ones and twos twice to copy their values into the resulting array. Additionally, this creates a copy of the initial array, so would have space complexity of O(n), when there is probably a way to do it in-place for a space complexity of O(1).\n",
    "\n",
    "I instead went for a different approach that follows the logic of partitioning the array a la quicksort.\n",
    "\n",
    "Partition the array (of length `n`)into four sections using three cutpoints:\n",
    "1. `arr[0: low]` -> zeros\n",
    "2. `arr[low: mid]` -> ones\n",
    "3. `arr[mid: (hi - 1)]` -> unknown\n",
    "4. `arr[hi : (n - 1)]` -> twos\n",
    "\n",
    "We advance the mid marker, and make swaps based on the value at the midmarker's index. This shrinks the unknown region until everything is in its right place.\n",
    "\n",
    "Time complexity is `O(n)`, because we are traversing the array and swapping out values, and the swaps operate in constant time.\n",
    "Space complexity is `O(1)` because we are performing the sort in-place without creating additional objects that vary with the size of the input."
   ]
  },
  {
   "cell_type": "markdown",
   "metadata": {},
   "source": [
    "## Explore"
   ]
  },
  {
   "cell_type": "code",
   "execution_count": 61,
   "metadata": {},
   "outputs": [],
   "source": [
    "def sort012(arr):\n",
    "    n = len(arr)\n",
    "    lo = 0\n",
    "    hi = n - 1\n",
    "    mid = 0\n",
    "    while mid <= hi:\n",
    "        print(f\"low: {(lo, arr[lo])}, mid: {(mid, arr[mid])}, high: {hi, arr[hi]}\")\n",
    "        if arr[mid] == 0: \n",
    "            print(\"switching mid and low; increasing low and mid\")\n",
    "            arr[lo], arr[mid] = arr[mid], arr[lo] \n",
    "            lo = lo + 1\n",
    "            mid = mid + 1\n",
    "        elif arr[mid] == 1:\n",
    "            print(\"increasing mid\")\n",
    "            mid += 1\n",
    "        else:\n",
    "            print(\"swapping mid and high; reducing hi\")\n",
    "            arr[mid], arr[hi] = arr[hi], arr[mid]  \n",
    "            hi -= 1\n",
    "        print(arr)\n",
    "    return arr"
   ]
  },
  {
   "cell_type": "code",
   "execution_count": 62,
   "metadata": {},
   "outputs": [],
   "source": [
    "test_case = [2, 0, 1, 1, 2]"
   ]
  },
  {
   "cell_type": "code",
   "execution_count": 55,
   "metadata": {},
   "outputs": [],
   "source": [
    "test_case = [1, 1, 1, 1]"
   ]
  },
  {
   "cell_type": "code",
   "execution_count": 57,
   "metadata": {},
   "outputs": [],
   "source": [
    "test_case = [2, 2, 2, 2]"
   ]
  },
  {
   "cell_type": "code",
   "execution_count": 59,
   "metadata": {},
   "outputs": [],
   "source": [
    "test_case = [2, 0, 1]"
   ]
  },
  {
   "cell_type": "code",
   "execution_count": 60,
   "metadata": {
    "scrolled": false
   },
   "outputs": [
    {
     "name": "stdout",
     "output_type": "stream",
     "text": [
      "low: (0, 2), mid: (0, 2), high: (2, 1)\n",
      "swapping mid and high; reducing hi\n",
      "[1, 0, 2]\n",
      "low: (0, 1), mid: (0, 1), high: (1, 0)\n",
      "increasing mid\n",
      "[1, 0, 2]\n",
      "low: (0, 1), mid: (1, 0), high: (1, 0)\n",
      "switching mid and low; increasing low and mid\n",
      "[0, 1, 2]\n"
     ]
    },
    {
     "data": {
      "text/plain": [
       "[0, 1, 2]"
      ]
     },
     "execution_count": 60,
     "metadata": {},
     "output_type": "execute_result"
    }
   ],
   "source": [
    "sort012(test_case)"
   ]
  },
  {
   "cell_type": "code",
   "execution_count": 44,
   "metadata": {},
   "outputs": [],
   "source": [
    "def sort_012(arr):\n",
    "    \"\"\"\n",
    "    Given an input array consisting on only 0, 1, and 2, sort the array in a single traversal.\n",
    "\n",
    "    Args:\n",
    "       input_list(list): List to be sorted\n",
    "    \"\"\"\n",
    "    zeros, ones, twos = [], [], []\n",
    "    for x in arr:\n",
    "        if x == 0:\n",
    "            zeros.append(x)\n",
    "        if x == 1:\n",
    "            ones.append(x)\n",
    "        if x == 2:\n",
    "            twos.append(x)\n",
    "    "
   ]
  },
  {
   "cell_type": "code",
   "execution_count": null,
   "metadata": {},
   "outputs": [],
   "source": []
  }
 ],
 "metadata": {
  "kernelspec": {
   "display_name": "Python 3",
   "language": "python",
   "name": "python3"
  },
  "language_info": {
   "codemirror_mode": {
    "name": "ipython",
    "version": 3
   },
   "file_extension": ".py",
   "mimetype": "text/x-python",
   "name": "python",
   "nbconvert_exporter": "python",
   "pygments_lexer": "ipython3",
   "version": "3.7.2"
  }
 },
 "nbformat": 4,
 "nbformat_minor": 2
}
