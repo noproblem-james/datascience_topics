{
 "cells": [
  {
   "cell_type": "markdown",
   "metadata": {},
   "source": [
    "# Iteration"
   ]
  },
  {
   "cell_type": "markdown",
   "metadata": {},
   "source": [
    "## Binary Gap\n",
    "Find longest sequence of zeros in binary representation of an integer.\n"
   ]
  },
  {
   "cell_type": "code",
   "execution_count": 3,
   "metadata": {},
   "outputs": [],
   "source": [
    "def binary_gap(N):\n",
    "    N = bin(N)[2:]\n",
    "    print(N)\n",
    "    longest_gap = 0\n",
    "    i = 0\n",
    "    current_gap = 0\n",
    "    while i < len(N):\n",
    "        if N[i] == '1':\n",
    "            if current_gap > longest_gap:\n",
    "                longest_gap = current_gap\n",
    "            current_gap = 0\n",
    "        else:\n",
    "            current_gap += 1\n",
    "        i += 1\n",
    "    return longest_gap\n",
    "        "
   ]
  },
  {
   "cell_type": "code",
   "execution_count": 4,
   "metadata": {},
   "outputs": [
    {
     "name": "stdout",
     "output_type": "stream",
     "text": [
      "10000010001\n"
     ]
    },
    {
     "data": {
      "text/plain": [
       "5"
      ]
     },
     "execution_count": 4,
     "metadata": {},
     "output_type": "execute_result"
    }
   ],
   "source": [
    "binary_gap(1041)"
   ]
  },
  {
   "cell_type": "markdown",
   "metadata": {},
   "source": [
    "## MissingInteger\n",
    "Find the smallest positive integer that does not occur in a given sequence."
   ]
  },
  {
   "cell_type": "code",
   "execution_count": 6,
   "metadata": {},
   "outputs": [],
   "source": [
    "def missing_int(A):\n",
    "    uniques = set(A)\n",
    "    largest_seen = sorted(list(uniques), reverse=True)[0]\n",
    "    smallest_not_seen = 1\n",
    "    while smallest_not_seen <= largest_seen:\n",
    "        if smallest_not_seen not in uniques:\n",
    "            return smallest_not_seen\n",
    "        else:\n",
    "            smallest_not_seen += 1\n",
    "    return smallest_not_seen"
   ]
  },
  {
   "cell_type": "code",
   "execution_count": 7,
   "metadata": {},
   "outputs": [
    {
     "data": {
      "text/plain": [
       "5"
      ]
     },
     "execution_count": 7,
     "metadata": {},
     "output_type": "execute_result"
    }
   ],
   "source": [
    "missing_int([1, 3, 6, 4, 1, 2])"
   ]
  },
  {
   "cell_type": "code",
   "execution_count": 6,
   "metadata": {},
   "outputs": [
    {
     "data": {
      "text/plain": [
       "4"
      ]
     },
     "execution_count": 6,
     "metadata": {},
     "output_type": "execute_result"
    }
   ],
   "source": [
    "missing_int([1, 2, 3])"
   ]
  },
  {
   "cell_type": "markdown",
   "metadata": {},
   "source": [
    "## L and R"
   ]
  },
  {
   "cell_type": "markdown",
   "metadata": {},
   "source": [
    "You are given two integers, `L` and `R`. Their values are initially set to `L = 0` and `R = 1`.\n",
    "You can change their values by performing one of two commands:\n",
    " - 'L' changes the value of `L` to `2 * L - R`\n",
    " - 'R' changes the value of `R` to `2 * R - L`\n",
    "\n",
    "You are given an integer N. The goal is to find the shortest sequence of commands after which L = N or R = N.\n",
    "For example, consider N = -11. The shortest sequence of commands required to set either L or R to -11 is L, L, R, L. After each command, the values of L and R are as follows:\n",
    " - Initial values: L = 0, R =1\n",
    " - Command L: L = -1, R = 1;\n",
    " - Command L: L = -3, R = 1;\n",
    " - Command R: L = -3, R = 5;\n",
    " - Command L: L = -11 , R = 5;\n",
    "\n",
    "Write a function that, given an integer N, returns a string describing the shortest sequence of commands required in order to set L = N or R = N. the string should comprise the names of the commands (i.e., characters 'L' and 'R') in the order of their execution. if there is more than one correct answer, the function may return any of them.\n",
    "The function shluld return the string \"impossible\" if the conditions L = N and R= N cannot arise.\n",
    "FOr example, given N = -11, the function should return \"LLRL\".\n",
    "Write an efficient algorithim for the following assumption:\n",
    " - N is an ingetger within the range (-2,147,483,648..2,147,483,647)\n"
   ]
  },
  {
   "cell_type": "code",
   "execution_count": 84,
   "metadata": {},
   "outputs": [],
   "source": [
    "from collections import deque\n",
    "\n",
    "class Node():\n",
    "    def __init__(self, l_val=0, r_val=1, l_child=None, r_child=None, path=\"\"):\n",
    "        self.l_val = l_val\n",
    "        self.r_val = r_val\n",
    "        self.path = path\n",
    "        \n",
    "    def make_l_child(self):\n",
    "        l_child = Node(l_val =2 * self.l_val - self.r_val,\n",
    "                       r_val=self.r_val,\n",
    "                       path=self.path + \"L\")\n",
    "        return l_child\n",
    "            \n",
    "    def make_r_child(self):\n",
    "        r_child = Node(r_val = 2 * self.r_val - self.l_val,\n",
    "                       l_val = self.l_val,\n",
    "                       path=self.path + \"R\")\n",
    "        return r_child\n",
    "\n",
    "def find_shortest_path(N):\n",
    "    N_max = 2147483647\n",
    "    if N < -1 * N_max or N > N_max:\n",
    "        return \"impossible\" # Not sure this is what they're \n",
    "    root_node = Node()\n",
    "    dq = deque([root_node])\n",
    "    while True:\n",
    "        current_node = dq.popleft()\n",
    "        if current_node.l_val == N or current_node.r_val == N:\n",
    "            return current_node.path\n",
    "        else:\n",
    "            dq.append(current_node.make_l_child())\n",
    "            dq.append(current_node.make_r_child())"
   ]
  },
  {
   "cell_type": "code",
   "execution_count": 75,
   "metadata": {},
   "outputs": [],
   "source": [
    "N = -11"
   ]
  },
  {
   "cell_type": "code",
   "execution_count": 44,
   "metadata": {},
   "outputs": [],
   "source": [
    "from random import randint"
   ]
  },
  {
   "cell_type": "code",
   "execution_count": 65,
   "metadata": {},
   "outputs": [],
   "source": [
    "N = randint(-21474834, 21474834)"
   ]
  },
  {
   "cell_type": "code",
   "execution_count": 94,
   "metadata": {},
   "outputs": [],
   "source": [
    "def test_sorthest_path(search_boundary=5):\n",
    "    results = {}\n",
    "    for n in range(-search_boundary, search_boundary):\n",
    "#         print(n)\n",
    "        path = find_shortest_path(n)\n",
    "        results[n] = {\"shortest_path\": path, \"len_path\": len(path)}\n",
    "    return results"
   ]
  },
  {
   "cell_type": "code",
   "execution_count": null,
   "metadata": {},
   "outputs": [],
   "source": [
    "result = test_sorthest_path(10000)"
   ]
  },
  {
   "cell_type": "code",
   "execution_count": null,
   "metadata": {},
   "outputs": [],
   "source": [
    "import pandas as pd"
   ]
  },
  {
   "cell_type": "code",
   "execution_count": null,
   "metadata": {},
   "outputs": [],
   "source": [
    "result_df = pd.DataFrame(result).T"
   ]
  },
  {
   "cell_type": "code",
   "execution_count": null,
   "metadata": {},
   "outputs": [],
   "source": [
    "result_df.sort_values(\"len_path\", ascending=False).head(20)"
   ]
  },
  {
   "cell_type": "code",
   "execution_count": null,
   "metadata": {},
   "outputs": [],
   "source": []
  }
 ],
 "metadata": {
  "kernelspec": {
   "display_name": "Python 3",
   "language": "python",
   "name": "python3"
  },
  "language_info": {
   "codemirror_mode": {
    "name": "ipython",
    "version": 3
   },
   "file_extension": ".py",
   "mimetype": "text/x-python",
   "name": "python",
   "nbconvert_exporter": "python",
   "pygments_lexer": "ipython3",
   "version": "3.7.3"
  }
 },
 "nbformat": 4,
 "nbformat_minor": 2
}
