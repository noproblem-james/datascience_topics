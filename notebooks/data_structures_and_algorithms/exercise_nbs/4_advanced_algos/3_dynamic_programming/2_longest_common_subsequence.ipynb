{
 "cells": [
  {
   "cell_type": "markdown",
   "metadata": {
    "graffitiCellId": "id_8xyfjdj"
   },
   "source": [
    "# Longest Common Subsequence\n",
    "\n",
    "In text analysis,  it is often useful to compare the similarity of two texts (imagine if you were trying to determine plagiarism between a source and answer text). In this notebook, we'll explore one measure of text similarity, the **Longest Common Subsequence** or LCS.\n",
    "\n",
    "> The Longest Common Subsequence is the longest string of letters that are *the same* between to strings.\n",
    "\n",
    "A short example:\n",
    "* For two input strings, A and B\n",
    "    * A = 'ABCD'\n",
    "    * B = 'BD'\n",
    "* The LCS is 'BD', which has a length of **2** characters\n",
    "---\n"
   ]
  },
  {
   "cell_type": "markdown",
   "metadata": {
    "graffitiCellId": "id_cvzqzkq"
   },
   "source": [
    "## Storing pre-computed values\n",
    "\n",
    "The LCS algorithm depends on looking at two strings and comparing them letter by letter. You can solve this problem in multiple ways. You can iterate through each letter in the strings and compare them, adding to your value for LCS as you go. \n",
    "\n",
    "The method I recommend for implementing an efficient LCS algorithm is: using a matrix and dynamic programming. Recall that **dynamic programming** is all about breaking a larger problem into a smaller set of subproblems, and building up a complete result without having to repeat any subproblems. \n",
    "\n",
    "This approach assumes that you can split up a large LCS task into a combination of smaller LCS tasks. Let's look at the short example in more detail:\n",
    "\n",
    "* A = 'ABCD'\n",
    "* B = 'BD'\n",
    "\n",
    "We can see right away that the longest subsequence of _letters_ here is 2 (B and D are in sequence in both strings). And we can calculate this by looking at relationships between each letter in the two strings, A and B.\n",
    "\n",
    "Here, I have a matrix with the letters of A on top and the letters of B on the left side:\n",
    "\n",
    "<img src='notebook_ims/initial_matrix.png' width=40% />\n",
    "\n",
    "This starts out as a matrix that has as many columns and rows as letters in the strings S and O **+1** additional row and column, filled with zeros on the top and left sides. So, in this case, instead of a 2x4 matrix it is a 3x5.\n",
    "\n",
    "Now, we can fill this matrix up by breaking it into smaller LCS problems. For example, let's first look at the shortest substrings: the starting letter of A and B. We'll first ask, what is the Longest Common Subsequence between these two letters \"A\" and \"B\"? \n",
    "\n",
    "**Here, the answer is zero and we fill in the corresponding grid cell with that value.**\n",
    "\n",
    "<img src='notebook_ims/matrix_2.png' width=35% />\n",
    "\n",
    "Then, we ask the next question, what is the LCS between \"AB\" and \"B\"?\n",
    "\n",
    "**Here, we have a match, and can fill in the appropriate value 1**.\n",
    "\n",
    "<img src='notebook_ims/matrix_3_match.png' width=30% />\n",
    "\n",
    "If we continue along this row, we can actually see that B only matches this one time, and any further questions, such as — What is the LCS between \"ABCD\" and \"B\"? — will have that same value, 1, due to the initial B-B match.\n",
    "\n",
    "<img src='notebook_ims/matrix_4.png' width=35% />\n",
    "\n",
    "Then, we move on to the second row. \"A\" and \"BD\" have 0 matches.\n",
    "\n",
    "<img src='notebook_ims/matrix_5.png' width=25% />\n",
    "\n",
    "But \"AB\" and \"BD\" have a B-B match, which we've already noted in the cell above. Finally, we have a match at the end D-D. Where we can add one to our current highest match (1) to get a final LCS of 2.\n",
    "\n",
    "<img src='notebook_ims/matrix_6_complete.png' width=25% />\n",
    "\n",
    "> The final LCS will be that value **2**.\n",
    "\n",
    "### The matrix rules\n",
    "\n",
    "One thing to notice here is that, you can efficiently fill up this matrix one cell at a time. Each grid cell only depends on the values in the grid cells that are directly on top and to the left of it, or on the diagonal/top-left. The rules are as follows:\n",
    "* Start with a matrix that has one extra row and column of zeros.\n",
    "* As you traverse your string:\n",
    "    * If there is a match, fill that grid cell with the value to the top-left of that cell *plus* one. So, in our case, when we found a matching B-B, we added +1 to the value in the top-left of the matching cell, 0.\n",
    "    * If there is not a match, take the *maximum* value from either directly to the left or the top cell, and carry that value over to the non-match cell.\n",
    "\n",
    "<img src='notebook_ims/matrix_rules.png' width=40% />\n",
    "\n",
    "* After completely filling the matrix, **the bottom-right cell will hold the non-normalized LCS value**."
   ]
  },
  {
   "cell_type": "markdown",
   "metadata": {
    "graffitiCellId": "id_jy58x05"
   },
   "source": [
    "## Calculate the longest common subsequence\n",
    "\n",
    "Implement the function `lcs`; this should calculate the *longest common subsequence* of characters between two strings. "
   ]
  },
  {
   "cell_type": "code",
   "execution_count": null,
   "metadata": {
    "graffitiCellId": "id_75ixet4"
   },
   "outputs": [],
   "source": [
    "def lcs(string_a, string_b):\n",
    "    pass"
   ]
  },
  {
   "cell_type": "markdown",
   "metadata": {
    "graffitiCellId": "id_y0t2nv1"
   },
   "source": [
    "<span class=\"graffiti-highlight graffiti-id_y0t2nv1-id_u8bn9wq\"><i></i><button>Show Solution</button></span>"
   ]
  },
  {
   "cell_type": "markdown",
   "metadata": {
    "graffitiCellId": "id_06z3b24"
   },
   "source": [
    "Test your function on a few test strings by running the cell, below."
   ]
  },
  {
   "cell_type": "code",
   "execution_count": null,
   "metadata": {
    "graffitiCellId": "id_lnwt8zg"
   },
   "outputs": [],
   "source": [
    "## Test cell\n",
    "\n",
    "# Run this cell to see how your function is working\n",
    "test_A1 = \"WHOWEEKLY\"\n",
    "test_B1 = \"HOWONLY\"\n",
    "\n",
    "lcs_val1 = lcs(test_A1, test_B1)\n",
    "\n",
    "test_A2 = \"CATSINSPACETWO\"\n",
    "test_B2 = \"DOGSPACEWHO\"\n",
    "\n",
    "lcs_val2 = lcs(test_A2, test_B2)\n",
    "\n",
    "print('LCS val 1 = ', lcs_val1)\n",
    "assert lcs_val1==5, \"Incorrect LCS value.\"\n",
    "print('LCS val 2 = ', lcs_val2)\n",
    "assert lcs_val2==7, \"Incorrect LCS value.\"\n",
    "print('Tests passed!')"
   ]
  },
  {
   "cell_type": "markdown",
   "metadata": {
    "collapsed": true,
    "graffitiCellId": "id_u99tux1"
   },
   "source": [
    "## Complexity\n",
    "\n",
    "What is the complexity?"
   ]
  },
  {
   "cell_type": "markdown",
   "metadata": {
    "graffitiCellId": "id_g3jsc1o"
   },
   "source": [
    "<span class=\"graffiti-highlight graffiti-id_g3jsc1o-id_kxwtio3\"><i></i><button>Show Solution</button></span>"
   ]
  }
 ],
 "metadata": {
  "graffiti": {
   "firstAuthorId": "dev",
   "id": "id_gm2dsgo",
   "language": "EN"
  },
  "kernelspec": {
   "display_name": "Python 3",
   "language": "python",
   "name": "python3"
  },
  "language_info": {
   "codemirror_mode": {
    "name": "ipython",
    "version": 3
   },
   "file_extension": ".py",
   "mimetype": "text/x-python",
   "name": "python",
   "nbconvert_exporter": "python",
   "pygments_lexer": "ipython3",
   "version": "3.6.3"
  }
 },
 "nbformat": 4,
 "nbformat_minor": 2
}
